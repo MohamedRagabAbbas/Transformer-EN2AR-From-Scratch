{
  "cells": [
    {
      "cell_type": "code",
      "source": [
        "# from google.colab import drive\n",
        "# drive.mount('/content/gdrive')"
      ],
      "metadata": {
        "id": "hwpMGWtPXz9h"
      },
      "id": "hwpMGWtPXz9h",
      "execution_count": 1,
      "outputs": []
    },
    {
      "cell_type": "code",
      "execution_count": 2,
      "id": "298035d4-5673-4977-8393-262f92cc7265",
      "metadata": {
        "id": "298035d4-5673-4977-8393-262f92cc7265"
      },
      "outputs": [],
      "source": [
        "import torch\n",
        "import torch.nn as nn\n",
        "import numpy as np\n",
        "import math\n",
        "import torch.nn.functional as F\n",
        "import pandas as pd\n",
        "from torch.utils.data import Dataset, DataLoader"
      ]
    },
    {
      "cell_type": "markdown",
      "id": "53f236de",
      "metadata": {
        "id": "53f236de"
      },
      "source": [
        "## Setting the Hyperparameters"
      ]
    },
    {
      "cell_type": "code",
      "execution_count": 45,
      "id": "ff3c8dc0",
      "metadata": {
        "id": "ff3c8dc0"
      },
      "outputs": [],
      "source": [
        "batch_size = 400\n",
        "max_seq_len = 45\n",
        "input_dim = 512\n",
        "d_model = 512\n",
        "num_heads = 8\n",
        "ffn_hidden = 2048\n",
        "num_layers = 6\n",
        "dropout_rate = 0.1\n",
        "learning_rate = 0.0001\n",
        "num_epochs = 10\n",
        "top = 1000000"
      ]
    },
    {
      "cell_type": "code",
      "execution_count": 4,
      "id": "7b704ec8",
      "metadata": {
        "id": "7b704ec8"
      },
      "outputs": [],
      "source": [
        "def get_device():\n",
        "    return torch.device('cuda') if torch.cuda.is_available() else torch.device('cpu')"
      ]
    },
    {
      "cell_type": "markdown",
      "id": "33b2d3ac",
      "metadata": {
        "id": "33b2d3ac"
      },
      "source": [
        "## Multihead Self Attention"
      ]
    },
    {
      "cell_type": "code",
      "execution_count": 5,
      "id": "deac3059",
      "metadata": {
        "id": "deac3059"
      },
      "outputs": [],
      "source": [
        "def scaled_dot_product_attention(q,k,v,mask=None):\n",
        "    d_k = q.size(-1)\n",
        "    qk = torch.matmul(q, k.transpose(-2, -1)) /  math.sqrt(d_k)\n",
        "    if mask is not None:\n",
        "        qk = qk.permute(1, 0, 2, 3) + mask\n",
        "        qk = qk.permute(1, 0, 2, 3)\n",
        "    qk = F.softmax(qk, dim=-1)\n",
        "    new_qkv = torch.matmul(qk, v)\n",
        "    return new_qkv\n",
        "\n",
        "class Multihead_Self_Attention(nn.Module):\n",
        "    def __init__(self,input_dim, d_model, num_heads):\n",
        "        super(Multihead_Self_Attention, self).__init__()\n",
        "        self.input_dim = input_dim\n",
        "        self.model_dim = d_model\n",
        "        self.num_heads = num_heads\n",
        "        self.head_dim = self.model_dim // self.num_heads\n",
        "        self.qkv_layer = nn.Linear(input_dim, 3 * self.model_dim)\n",
        "        self.concat_layer = nn.Linear(self.model_dim, self.model_dim)\n",
        "        self.softmax = nn.Softmax(dim=-1)\n",
        "\n",
        "    def forward(self,x,mask=None):\n",
        "        qkv = self.qkv_layer(x)\n",
        "        a,b,c = qkv.size()\n",
        "        qkv = qkv.view(batch_size,max_seq_len,self.num_heads,3*self.head_dim)\n",
        "        qkv = qkv.permute(0,2,1,3)\n",
        "        q,k,v = qkv.chunk(3,dim=-1)\n",
        "        new_qkv = scaled_dot_product_attention(q,k,v,mask)\n",
        "        new_qkv = new_qkv.permute(0,2,1,3)\n",
        "        new_qkv = new_qkv.reshape(batch_size,max_seq_len,self.model_dim)\n",
        "        out = self.concat_layer(new_qkv)\n",
        "        return out"
      ]
    },
    {
      "cell_type": "markdown",
      "id": "0a55ca48",
      "metadata": {
        "id": "0a55ca48"
      },
      "source": [
        "## Multihead Cross Attention"
      ]
    },
    {
      "cell_type": "code",
      "execution_count": 6,
      "id": "7ee818ea",
      "metadata": {
        "id": "7ee818ea"
      },
      "outputs": [],
      "source": [
        "class Multihead_Cross_Attention(nn.Module):\n",
        "    def __init__(self,input_dim, model_dim, num_heads):\n",
        "        super(Multihead_Cross_Attention, self).__init__()\n",
        "        self.input_dim = input_dim\n",
        "        self.model_dim = model_dim\n",
        "        self.num_heads = num_heads\n",
        "        self.head_dim = model_dim // num_heads\n",
        "        self.qk_layer = nn.Linear(input_dim, 2 * model_dim)\n",
        "        self.v_layer = nn.Linear(input_dim, model_dim)\n",
        "        self.concat_layer = nn.Linear(model_dim, model_dim)\n",
        "        self.softmax = nn.Softmax(dim=-1)\n",
        "\n",
        "    def forward(self,x,y,mask=None):\n",
        "        qk = self.qk_layer(x)\n",
        "        v = self.v_layer(y)\n",
        "        qk = qk.view(batch_size,max_seq_len,num_heads,2*self.head_dim)\n",
        "        v = v.view(batch_size,max_seq_len,num_heads,self.head_dim)\n",
        "        qk = qk.permute(0,2,1,3)\n",
        "        v = v.permute(0,2,1,3)\n",
        "        q,k = qk.chunk(2,dim=-1)\n",
        "        new_qkv = scaled_dot_product_attention(q,k,v,mask)\n",
        "        new_qkv = new_qkv.permute(0,2,1,3)\n",
        "        new_qkv = new_qkv.reshape(batch_size,max_seq_len,self.model_dim)\n",
        "        out = self.concat_layer(new_qkv)\n",
        "        return out"
      ]
    },
    {
      "cell_type": "markdown",
      "id": "f160b031",
      "metadata": {
        "id": "f160b031"
      },
      "source": [
        "## Positional Encoding"
      ]
    },
    {
      "cell_type": "code",
      "execution_count": 7,
      "id": "5f0c6c28",
      "metadata": {
        "id": "5f0c6c28"
      },
      "outputs": [],
      "source": [
        "class PostionalEncoding(nn.Module):\n",
        "    def __init__(self,max_seq_len,d_model):\n",
        "        super(PostionalEncoding,self).__init__()\n",
        "        self.max_seq_len = max_seq_len\n",
        "        self.d_model = d_model\n",
        "        self.encoding = torch.zeros(self.max_seq_len,self.d_model)\n",
        "\n",
        "    def forward(self,x):\n",
        "        even_index = torch.arange(0,self.d_model,2).float()\n",
        "        domenator = torch.pow(10000,even_index/self.d_model)\n",
        "        position = torch.arange(0,self.max_seq_len).unsqueeze(1)\n",
        "        PE_even = torch.sin(position/domenator)\n",
        "        PE_odd = torch.cos(position/domenator)\n",
        "        stacked = torch.stack([PE_even,PE_odd],dim=2)\n",
        "        PE_flatten = torch.flatten(stacked,start_dim=1,end_dim=2)\n",
        "        return PE_flatten"
      ]
    },
    {
      "cell_type": "markdown",
      "id": "cdfde7de",
      "metadata": {
        "id": "cdfde7de"
      },
      "source": [
        "## Normalization Layer"
      ]
    },
    {
      "cell_type": "code",
      "execution_count": 8,
      "id": "9ed90324",
      "metadata": {
        "id": "9ed90324"
      },
      "outputs": [],
      "source": [
        "class NormalizationLayer(nn.Module):\n",
        "    def __init__(self, parameter_dim):\n",
        "        super(NormalizationLayer, self).__init__()\n",
        "        self.parameters_shape = parameter_dim\n",
        "        self.gamma = nn.Parameter(torch.ones(parameter_dim))\n",
        "        self.beta = nn.Parameter(torch.zeros(parameter_dim))\n",
        "        self.eps = 1e-6\n",
        "\n",
        "    def forward(self, x):\n",
        "        dims = [-(i + 1) for i in range(len(self.parameters_shape))]\n",
        "        mean = x.mean(dims, keepdim=True)\n",
        "        std = x.std(dims, keepdim=True)\n",
        "        out = self.gamma * (x - mean) / (std + self.eps) + self.beta\n",
        "        return out"
      ]
    },
    {
      "cell_type": "markdown",
      "id": "47adc7b1",
      "metadata": {
        "id": "47adc7b1"
      },
      "source": [
        "## Position-wise Feed-Forward"
      ]
    },
    {
      "cell_type": "code",
      "execution_count": 9,
      "id": "31a2a97c",
      "metadata": {
        "id": "31a2a97c"
      },
      "outputs": [],
      "source": [
        "class FeedForward(nn.Module):\n",
        "    def __init__(self,d_model,ffn_hidden):\n",
        "        super(FeedForward,self).__init__()\n",
        "        self.d_model = d_model\n",
        "        self.ffn_hidden = ffn_hidden\n",
        "        self.layer1 = nn.Linear(self.d_model,self.ffn_hidden)\n",
        "        self.layer2 = nn.Linear(self.ffn_hidden,self.d_model)\n",
        "        self.dropout = nn.Dropout(p=dropout_rate)\n",
        "\n",
        "    def forward(self,x):\n",
        "        x = self.layer1(x)\n",
        "        x = F.relu(x)\n",
        "        x = self.dropout(x)\n",
        "        x = self.layer2(x)\n",
        "        return x"
      ]
    },
    {
      "cell_type": "markdown",
      "id": "fb1bf3a1",
      "metadata": {
        "id": "fb1bf3a1"
      },
      "source": [
        "## Encoder"
      ]
    },
    {
      "cell_type": "code",
      "execution_count": 10,
      "id": "04876c6d",
      "metadata": {
        "id": "04876c6d"
      },
      "outputs": [],
      "source": [
        "class Encoder_Layer(nn.Module):\n",
        "    def __init__(self,num_heads, d_model, ffn_hidden, max_seq_len, dropout_rate):\n",
        "        super(Encoder_Layer,self).__init__()\n",
        "        self.multihead_attention = Multihead_Self_Attention(input_dim,d_model,num_heads)\n",
        "        self.pos_encoding = PostionalEncoding(max_seq_len,d_model)\n",
        "        self.feedforward = FeedForward(d_model,ffn_hidden)\n",
        "        self.norm1 = NormalizationLayer([d_model])\n",
        "        self.norm2 = NormalizationLayer([d_model])\n",
        "        self.dropout1 = nn.Dropout(dropout_rate)\n",
        "        self.dropout2 = nn.Dropout(dropout_rate)\n",
        "\n",
        "    def forward(self,x,mask=None):\n",
        "        reseduial_x = x\n",
        "        x = self.multihead_attention(x,mask)\n",
        "        x = self.dropout1(x)\n",
        "        x = x + reseduial_x\n",
        "        x = self.norm1(x)\n",
        "        reseduial_x = x\n",
        "        x = self.feedforward(x)\n",
        "        x = self.dropout2(x)\n",
        "        x = x + reseduial_x\n",
        "        x = self.norm2(x)\n",
        "        return x"
      ]
    },
    {
      "cell_type": "code",
      "execution_count": 11,
      "id": "1f758d6e",
      "metadata": {
        "id": "1f758d6e"
      },
      "outputs": [],
      "source": [
        "class SequentialEncoder(nn.Sequential):\n",
        "    def forward(self, *inputs):\n",
        "        x, self_attention_mask  = inputs\n",
        "        for module in self._modules.values():\n",
        "            x = module(x, self_attention_mask)\n",
        "        return x"
      ]
    },
    {
      "cell_type": "code",
      "execution_count": 12,
      "id": "5ac0aa5b",
      "metadata": {
        "id": "5ac0aa5b"
      },
      "outputs": [],
      "source": [
        "\n",
        "class Encoder(nn.Module):\n",
        "    def __init__(self, d_model, ffn_hidden, num_heads, dropout_rate, num_layers,max_seq_len):\n",
        "        super().__init__()\n",
        "        self.layers = SequentialEncoder(*[Encoder_Layer(num_heads, d_model, ffn_hidden, max_seq_len, dropout_rate)\n",
        "                                     for _ in range(num_layers)])\n",
        "    def forward(self, x, mask=None):\n",
        "        x = self.layers(x, mask)\n",
        "        return x"
      ]
    },
    {
      "cell_type": "markdown",
      "id": "3c241c7b",
      "metadata": {
        "id": "3c241c7b"
      },
      "source": [
        "## Decoder"
      ]
    },
    {
      "cell_type": "code",
      "execution_count": 13,
      "id": "8d18f409",
      "metadata": {
        "id": "8d18f409"
      },
      "outputs": [],
      "source": [
        "class Decoder_Layer(nn.Module):\n",
        "    def __init__(self,num_heads, d_model, ffn_hidden, max_seq_len, dropout_rate):\n",
        "        super(Decoder_Layer,self).__init__()\n",
        "        self.multihead_self_attention = Multihead_Self_Attention(input_dim,d_model,num_heads)\n",
        "        self.multihead_cross_attention = Multihead_Cross_Attention(input_dim,d_model,num_heads)\n",
        "        self.feedforward = FeedForward(d_model,ffn_hidden)\n",
        "        self.norm1 = NormalizationLayer([d_model])\n",
        "        self.norm2 = NormalizationLayer([d_model])\n",
        "        self.norm3 = NormalizationLayer([d_model])\n",
        "        self.dropout1 = nn.Dropout(dropout_rate)\n",
        "        self.dropout2 = nn.Dropout(dropout_rate)\n",
        "        self.dropout3 = nn.Dropout(dropout_rate)\n",
        "\n",
        "    def forward(self, x, y, self_attention_mask=None, cross_attention_mask=None):\n",
        "        reseduial_y = y\n",
        "        y = self.multihead_self_attention(y,mask = self_attention_mask)\n",
        "        y = self.dropout1(y)\n",
        "        y = y + reseduial_y\n",
        "        y = self.norm1(y)\n",
        "\n",
        "        reseduial_y = y\n",
        "        y = self.multihead_cross_attention(x,y,mask = cross_attention_mask)\n",
        "        y = self.dropout2(y)\n",
        "        y = y + reseduial_y\n",
        "        y = self.norm2(y)\n",
        "\n",
        "        reseduial_y = y\n",
        "        y = self.feedforward(y)\n",
        "        y = self.dropout3(y)\n",
        "        y = y + reseduial_y\n",
        "        y = self.norm3(y)\n",
        "\n",
        "        return y"
      ]
    },
    {
      "cell_type": "code",
      "execution_count": 14,
      "id": "dfafde66",
      "metadata": {
        "id": "dfafde66"
      },
      "outputs": [],
      "source": [
        "class Sequential_Decoder(nn.Sequential):\n",
        "    def forward(self,*input):\n",
        "        x, y, self_attention_mask, cross_attention_mask = input\n",
        "        for module in self._modules.values():\n",
        "            y = module(x, y, self_attention_mask, cross_attention_mask)\n",
        "        return y"
      ]
    },
    {
      "cell_type": "code",
      "execution_count": 15,
      "id": "8612abe6",
      "metadata": {
        "id": "8612abe6"
      },
      "outputs": [],
      "source": [
        "class Decoder(nn.Module):\n",
        "    def __init__(self, d_model, ffn_hidden, num_heads, dropout_rate, num_layers,max_seq_len):\n",
        "        super().__init__()\n",
        "        self.layers = Sequential_Decoder(*[Decoder_Layer(num_heads, d_model, ffn_hidden, max_seq_len, dropout_rate)\n",
        "                                     for _ in range(num_layers)])\n",
        "    def forward(self, x, y,self_attention_mask=None, cross_attention_mask=None):\n",
        "        y = self.layers(x, y,self_attention_mask, cross_attention_mask)\n",
        "        return y"
      ]
    },
    {
      "cell_type": "markdown",
      "id": "a46fd7d3",
      "metadata": {
        "id": "a46fd7d3"
      },
      "source": [
        "## Tokenization"
      ]
    },
    {
      "cell_type": "code",
      "execution_count": 16,
      "id": "fad23c87",
      "metadata": {
        "id": "fad23c87"
      },
      "outputs": [],
      "source": [
        "START_TOKEN = '<START>'\n",
        "PADDING_TOKEN = '<PADDING>'\n",
        "END_TOKEN = '<END>'\n",
        "\n",
        "## all characters in the arabic language + symbols\n",
        "arabic_voc = [START_TOKEN,'ا','ب','ت','ث','ج','ح','خ','د','ذ','ر','ز','س','ش','ص','ض','ط','ظ','ع','غ','ف','ق','ك','ل','م','ن','ه','و','ي','ء','آ','أ','ؤ','إ','ئ','ئ','ة','ـ','،','؛','؟','٠','١','٢','٣','٤','٥','٦','٧','٨','٩','٪','٫','٬','٭','ٮ','ٯ','ٰ','ٱ','ٲ','ٳ','ٴ','ٵ','ٶ','ٷ','ٸ','ٹ','ٺ','ٻ','ټ','ٽ','پ','ٿ','ڀ','ځ','ڂ','ڃ','ڄ','څ','چ','ڇ','ڈ','ډ','ڊ','ڋ','ڌ','ڍ','ڎ','ڏ','ڐ','ڑ','ڒ','ړ','ڔ','ڕ','ږ','ڗ','ژ','ڙ','ښ','ڛ','ڜ','ڝ','ڞ','ڟ','ڠ','ڡ','ڢ','ڣ','ڤ','ڥ','ڦ','ڧ','ڨ','ک','ڪ','ګ','ڬ','ڭ','ڮ','گ','ڰ','ڱ','ڲ','ڳ','ڴ','ڵ','ڶ','ڷ','ڸ','ڹ','ں','ڻ','ڼ','ڽ','ھ','ڿ','ۀ','ہ','ۂ','ۃ','ۄ','ۅ','ۆ','ۇ','ۈ','ۉ','ۊ','ۋ','ی','ۍ','ێ','ۏ','ې','ۑ','ے','ۓ','۔','ە','!','\"','#','$','%','&',\"'\",'(',')','*','+',',','-','.','/',':',';','<','=','>','?','@','[','\\\\',']','^','_','`','{','|','}','~',' ','\\t','\\n','\\r','\\x0b','\\x0c',PADDING_TOKEN,END_TOKEN]\n",
        "## all characters in the english language + symbols\n",
        "english_voc = [START_TOKEN, 'A','B','C','D','E','F','G','H','I','J','K','L','M','N','O','P','Q','R','S','T','U','V','W','X','Y','Z','a','b','c','d','e','f','g','h','i','j','k','l','m','n','o','p','q','r','s','t','u','v','w','x','y','z','0','1','2','3','4','5','6','7','8','9','!','\"','#','$','%','&',\"'\",'(',')','*','+',',','-','.','/',':',';','<','=','>','?','@','[','\\\\',']','^','_','`','{','|','}','~',' ','\\t','\\n','\\r','\\x0b','\\x0c',PADDING_TOKEN,END_TOKEN]"
      ]
    },
    {
      "cell_type": "code",
      "execution_count": 17,
      "id": "2f4124da",
      "metadata": {
        "colab": {
          "base_uri": "https://localhost:8080/"
        },
        "id": "2f4124da",
        "outputId": "6eaefdc5-e8a6-4113-89e1-c71852027f49"
      },
      "outputs": [
        {
          "output_type": "execute_result",
          "data": {
            "text/plain": [
              "(199, 103)"
            ]
          },
          "metadata": {},
          "execution_count": 17
        }
      ],
      "source": [
        "len(arabic_voc), len(english_voc)"
      ]
    },
    {
      "cell_type": "code",
      "execution_count": 18,
      "id": "fd30dfb3",
      "metadata": {
        "colab": {
          "base_uri": "https://localhost:8080/"
        },
        "id": "fd30dfb3",
        "outputId": "962d5869-29a0-4262-f59a-79f614bb5199"
      },
      "outputs": [
        {
          "output_type": "execute_result",
          "data": {
            "text/plain": [
              "(198, 103)"
            ]
          },
          "metadata": {},
          "execution_count": 18
        }
      ],
      "source": [
        "len(list(set(arabic_voc))), len(list(set(english_voc)))"
      ]
    },
    {
      "cell_type": "code",
      "execution_count": 19,
      "id": "87794803",
      "metadata": {
        "id": "87794803"
      },
      "outputs": [],
      "source": [
        "arabic_voc = list(set(arabic_voc))\n",
        "english_voc = list(set(english_voc))"
      ]
    },
    {
      "cell_type": "code",
      "execution_count": 20,
      "id": "c46f378b",
      "metadata": {
        "id": "c46f378b"
      },
      "outputs": [],
      "source": [
        "index_to_english = {k:v for k,v in enumerate(english_voc)}\n",
        "english_to_index = {v:k for k,v in enumerate(english_voc)}\n",
        "index_to_arabic = {k:v for k,v in enumerate(arabic_voc)}\n",
        "arabic_to_index = {v:k for k,v in enumerate(arabic_voc)}"
      ]
    },
    {
      "cell_type": "code",
      "execution_count": 21,
      "id": "1f48f723",
      "metadata": {
        "colab": {
          "base_uri": "https://localhost:8080/"
        },
        "id": "1f48f723",
        "outputId": "54b55c70-d77b-4e29-90e6-64373a205626"
      },
      "outputs": [
        {
          "output_type": "execute_result",
          "data": {
            "text/plain": [
              "(103, 103, 198, 198)"
            ]
          },
          "metadata": {},
          "execution_count": 21
        }
      ],
      "source": [
        "len(index_to_english), len(english_to_index), len(index_to_arabic), len(arabic_to_index)"
      ]
    },
    {
      "cell_type": "code",
      "execution_count": 22,
      "id": "218bbe8d",
      "metadata": {
        "id": "218bbe8d"
      },
      "outputs": [],
      "source": [
        "class SentenceEmbedding(nn.Module):\n",
        "    def __init__(self, language_to_index, max_seq_len, d_model,START_TOKEN, END_TOKEN, PADDING_TOKEN):\n",
        "        super(SentenceEmbedding,self).__init__()\n",
        "        self.vocab_size = len(language_to_index)\n",
        "        self.max_seq_len = max_seq_len\n",
        "        self.embedding = nn.Embedding(self.vocab_size, d_model)\n",
        "        self.language_to_index = language_to_index\n",
        "        self.position_encoder = PostionalEncoding(max_seq_len,d_model)\n",
        "        self.dropout = nn.Dropout(p=dropout_rate)\n",
        "        self.START_TOKEN = START_TOKEN\n",
        "        self.END_TOKEN = END_TOKEN\n",
        "        self.PADDING_TOKEN = PADDING_TOKEN\n",
        "\n",
        "    def batch_tokenize(self, batch, start_token=True, end_token=True):\n",
        "\n",
        "        def tokenize(sentence, start_token=True, end_token=True):\n",
        "            sentence_word_indicies = [self.language_to_index[token] for token in list(sentence)]\n",
        "            if start_token:\n",
        "                sentence_word_indicies.insert(0, self.language_to_index[self.START_TOKEN])\n",
        "            if end_token:\n",
        "                sentence_word_indicies.append(self.language_to_index[self.END_TOKEN])\n",
        "            for _ in range(len(sentence_word_indicies), self.max_seq_len):\n",
        "                sentence_word_indicies.append(self.language_to_index[self.PADDING_TOKEN])\n",
        "            return torch.tensor(sentence_word_indicies)\n",
        "\n",
        "        tokenized = []\n",
        "        for sentence_num in range(len(batch)):\n",
        "           tokenized.append( tokenize(batch[sentence_num], start_token, end_token) )\n",
        "\n",
        "        tokenized = torch.stack(tokenized)\n",
        "        return tokenized.to(get_device())\n",
        "\n",
        "    def forward(self, x, start_token= True, end_token=True):\n",
        "        x = self.batch_tokenize(x ,start_token=start_token, end_token=end_token)\n",
        "        x = self.embedding(x)\n",
        "        pos = self.position_encoder(x).to(get_device())\n",
        "        x = self.dropout(x + pos)\n",
        "        return x"
      ]
    },
    {
      "cell_type": "code",
      "execution_count": 23,
      "id": "de915ee3",
      "metadata": {
        "id": "de915ee3"
      },
      "outputs": [],
      "source": [
        "NEG_INFTY = -1e9\n",
        "\n",
        "def create_masks(eng_batch, ar_batch):\n",
        "    num_sentences = len(eng_batch)\n",
        "    look_ahead_mask = torch.full([max_seq_len, max_seq_len] , True)\n",
        "    look_ahead_mask = torch.triu(look_ahead_mask, diagonal=1)\n",
        "    encoder_padding_mask = torch.full([num_sentences, max_seq_len, max_seq_len] , False)\n",
        "    decoder_padding_mask_self_attention = torch.full([num_sentences, max_seq_len, max_seq_len] , False)\n",
        "    decoder_padding_mask_cross_attention = torch.full([num_sentences, max_seq_len, max_seq_len] , False)\n",
        "\n",
        "    for idx in range(num_sentences):\n",
        "      eng_sentence_length, ar_sentence_length = len(eng_batch[idx]), len(ar_batch[idx])\n",
        "      eng_chars_to_padding_mask = np.arange(eng_sentence_length + 1, max_seq_len)\n",
        "      ar_chars_to_padding_mask = np.arange(ar_sentence_length + 1, max_seq_len)\n",
        "      encoder_padding_mask[idx, :, eng_chars_to_padding_mask] = True\n",
        "      encoder_padding_mask[idx, eng_chars_to_padding_mask, :] = True\n",
        "      decoder_padding_mask_self_attention[idx, :, ar_chars_to_padding_mask] = True\n",
        "      decoder_padding_mask_self_attention[idx, ar_chars_to_padding_mask, :] = True\n",
        "      decoder_padding_mask_cross_attention[idx, :, eng_chars_to_padding_mask] = True\n",
        "      decoder_padding_mask_cross_attention[idx, ar_chars_to_padding_mask, :] = True\n",
        "\n",
        "    encoder_self_attention_mask = torch.where(encoder_padding_mask, NEG_INFTY, 0)\n",
        "    decoder_self_attention_mask =  torch.where(look_ahead_mask + decoder_padding_mask_self_attention, NEG_INFTY, 0)\n",
        "    decoder_cross_attention_mask = torch.where(decoder_padding_mask_cross_attention, NEG_INFTY, 0)\n",
        "\n",
        "    return encoder_self_attention_mask, decoder_self_attention_mask, decoder_cross_attention_mask"
      ]
    },
    {
      "cell_type": "markdown",
      "id": "d7b70522",
      "metadata": {
        "id": "d7b70522"
      },
      "source": [
        "## Loading The Dataset"
      ]
    },
    {
      "cell_type": "code",
      "execution_count": 24,
      "id": "0de81964",
      "metadata": {
        "id": "0de81964"
      },
      "outputs": [],
      "source": [
        "df = pd.read_csv('en_ar_final.tsv', sep='\\t', header=0)"
      ]
    },
    {
      "cell_type": "code",
      "execution_count": 25,
      "id": "ff99355c",
      "metadata": {
        "colab": {
          "base_uri": "https://localhost:8080/",
          "height": 224
        },
        "id": "ff99355c",
        "outputId": "b3151afd-2ff0-4100-8215-843e2c45a8fc"
      },
      "outputs": [
        {
          "output_type": "stream",
          "name": "stdout",
          "text": [
            "(1325899, 2)\n"
          ]
        },
        {
          "output_type": "execute_result",
          "data": {
            "text/plain": [
              "                       en                   ar\n",
              "0                and this               و هذه؟\n",
              "1               it was um           ...لقد كان\n",
              "2  what is she doing here  ما الذي تفعله هناك؟\n",
              "3          i dont like it           لا أحب ذلك\n",
              "4    did you get the part    هل حصلت على جزء ?"
            ],
            "text/html": [
              "\n",
              "  <div id=\"df-957c1cf2-fd3c-49e0-8862-64f8d60fac39\" class=\"colab-df-container\">\n",
              "    <div>\n",
              "<style scoped>\n",
              "    .dataframe tbody tr th:only-of-type {\n",
              "        vertical-align: middle;\n",
              "    }\n",
              "\n",
              "    .dataframe tbody tr th {\n",
              "        vertical-align: top;\n",
              "    }\n",
              "\n",
              "    .dataframe thead th {\n",
              "        text-align: right;\n",
              "    }\n",
              "</style>\n",
              "<table border=\"1\" class=\"dataframe\">\n",
              "  <thead>\n",
              "    <tr style=\"text-align: right;\">\n",
              "      <th></th>\n",
              "      <th>en</th>\n",
              "      <th>ar</th>\n",
              "    </tr>\n",
              "  </thead>\n",
              "  <tbody>\n",
              "    <tr>\n",
              "      <th>0</th>\n",
              "      <td>and this</td>\n",
              "      <td>و هذه؟</td>\n",
              "    </tr>\n",
              "    <tr>\n",
              "      <th>1</th>\n",
              "      <td>it was um</td>\n",
              "      <td>...لقد كان</td>\n",
              "    </tr>\n",
              "    <tr>\n",
              "      <th>2</th>\n",
              "      <td>what is she doing here</td>\n",
              "      <td>ما الذي تفعله هناك؟</td>\n",
              "    </tr>\n",
              "    <tr>\n",
              "      <th>3</th>\n",
              "      <td>i dont like it</td>\n",
              "      <td>لا أحب ذلك</td>\n",
              "    </tr>\n",
              "    <tr>\n",
              "      <th>4</th>\n",
              "      <td>did you get the part</td>\n",
              "      <td>هل حصلت على جزء ?</td>\n",
              "    </tr>\n",
              "  </tbody>\n",
              "</table>\n",
              "</div>\n",
              "    <div class=\"colab-df-buttons\">\n",
              "\n",
              "  <div class=\"colab-df-container\">\n",
              "    <button class=\"colab-df-convert\" onclick=\"convertToInteractive('df-957c1cf2-fd3c-49e0-8862-64f8d60fac39')\"\n",
              "            title=\"Convert this dataframe to an interactive table.\"\n",
              "            style=\"display:none;\">\n",
              "\n",
              "  <svg xmlns=\"http://www.w3.org/2000/svg\" height=\"24px\" viewBox=\"0 -960 960 960\">\n",
              "    <path d=\"M120-120v-720h720v720H120Zm60-500h600v-160H180v160Zm220 220h160v-160H400v160Zm0 220h160v-160H400v160ZM180-400h160v-160H180v160Zm440 0h160v-160H620v160ZM180-180h160v-160H180v160Zm440 0h160v-160H620v160Z\"/>\n",
              "  </svg>\n",
              "    </button>\n",
              "\n",
              "  <style>\n",
              "    .colab-df-container {\n",
              "      display:flex;\n",
              "      gap: 12px;\n",
              "    }\n",
              "\n",
              "    .colab-df-convert {\n",
              "      background-color: #E8F0FE;\n",
              "      border: none;\n",
              "      border-radius: 50%;\n",
              "      cursor: pointer;\n",
              "      display: none;\n",
              "      fill: #1967D2;\n",
              "      height: 32px;\n",
              "      padding: 0 0 0 0;\n",
              "      width: 32px;\n",
              "    }\n",
              "\n",
              "    .colab-df-convert:hover {\n",
              "      background-color: #E2EBFA;\n",
              "      box-shadow: 0px 1px 2px rgba(60, 64, 67, 0.3), 0px 1px 3px 1px rgba(60, 64, 67, 0.15);\n",
              "      fill: #174EA6;\n",
              "    }\n",
              "\n",
              "    .colab-df-buttons div {\n",
              "      margin-bottom: 4px;\n",
              "    }\n",
              "\n",
              "    [theme=dark] .colab-df-convert {\n",
              "      background-color: #3B4455;\n",
              "      fill: #D2E3FC;\n",
              "    }\n",
              "\n",
              "    [theme=dark] .colab-df-convert:hover {\n",
              "      background-color: #434B5C;\n",
              "      box-shadow: 0px 1px 3px 1px rgba(0, 0, 0, 0.15);\n",
              "      filter: drop-shadow(0px 1px 2px rgba(0, 0, 0, 0.3));\n",
              "      fill: #FFFFFF;\n",
              "    }\n",
              "  </style>\n",
              "\n",
              "    <script>\n",
              "      const buttonEl =\n",
              "        document.querySelector('#df-957c1cf2-fd3c-49e0-8862-64f8d60fac39 button.colab-df-convert');\n",
              "      buttonEl.style.display =\n",
              "        google.colab.kernel.accessAllowed ? 'block' : 'none';\n",
              "\n",
              "      async function convertToInteractive(key) {\n",
              "        const element = document.querySelector('#df-957c1cf2-fd3c-49e0-8862-64f8d60fac39');\n",
              "        const dataTable =\n",
              "          await google.colab.kernel.invokeFunction('convertToInteractive',\n",
              "                                                    [key], {});\n",
              "        if (!dataTable) return;\n",
              "\n",
              "        const docLinkHtml = 'Like what you see? Visit the ' +\n",
              "          '<a target=\"_blank\" href=https://colab.research.google.com/notebooks/data_table.ipynb>data table notebook</a>'\n",
              "          + ' to learn more about interactive tables.';\n",
              "        element.innerHTML = '';\n",
              "        dataTable['output_type'] = 'display_data';\n",
              "        await google.colab.output.renderOutput(dataTable, element);\n",
              "        const docLink = document.createElement('div');\n",
              "        docLink.innerHTML = docLinkHtml;\n",
              "        element.appendChild(docLink);\n",
              "      }\n",
              "    </script>\n",
              "  </div>\n",
              "\n",
              "\n",
              "<div id=\"df-bca31b44-83d5-43e6-9f9a-a1c9e015d39a\">\n",
              "  <button class=\"colab-df-quickchart\" onclick=\"quickchart('df-bca31b44-83d5-43e6-9f9a-a1c9e015d39a')\"\n",
              "            title=\"Suggest charts\"\n",
              "            style=\"display:none;\">\n",
              "\n",
              "<svg xmlns=\"http://www.w3.org/2000/svg\" height=\"24px\"viewBox=\"0 0 24 24\"\n",
              "     width=\"24px\">\n",
              "    <g>\n",
              "        <path d=\"M19 3H5c-1.1 0-2 .9-2 2v14c0 1.1.9 2 2 2h14c1.1 0 2-.9 2-2V5c0-1.1-.9-2-2-2zM9 17H7v-7h2v7zm4 0h-2V7h2v10zm4 0h-2v-4h2v4z\"/>\n",
              "    </g>\n",
              "</svg>\n",
              "  </button>\n",
              "\n",
              "<style>\n",
              "  .colab-df-quickchart {\n",
              "      --bg-color: #E8F0FE;\n",
              "      --fill-color: #1967D2;\n",
              "      --hover-bg-color: #E2EBFA;\n",
              "      --hover-fill-color: #174EA6;\n",
              "      --disabled-fill-color: #AAA;\n",
              "      --disabled-bg-color: #DDD;\n",
              "  }\n",
              "\n",
              "  [theme=dark] .colab-df-quickchart {\n",
              "      --bg-color: #3B4455;\n",
              "      --fill-color: #D2E3FC;\n",
              "      --hover-bg-color: #434B5C;\n",
              "      --hover-fill-color: #FFFFFF;\n",
              "      --disabled-bg-color: #3B4455;\n",
              "      --disabled-fill-color: #666;\n",
              "  }\n",
              "\n",
              "  .colab-df-quickchart {\n",
              "    background-color: var(--bg-color);\n",
              "    border: none;\n",
              "    border-radius: 50%;\n",
              "    cursor: pointer;\n",
              "    display: none;\n",
              "    fill: var(--fill-color);\n",
              "    height: 32px;\n",
              "    padding: 0;\n",
              "    width: 32px;\n",
              "  }\n",
              "\n",
              "  .colab-df-quickchart:hover {\n",
              "    background-color: var(--hover-bg-color);\n",
              "    box-shadow: 0 1px 2px rgba(60, 64, 67, 0.3), 0 1px 3px 1px rgba(60, 64, 67, 0.15);\n",
              "    fill: var(--button-hover-fill-color);\n",
              "  }\n",
              "\n",
              "  .colab-df-quickchart-complete:disabled,\n",
              "  .colab-df-quickchart-complete:disabled:hover {\n",
              "    background-color: var(--disabled-bg-color);\n",
              "    fill: var(--disabled-fill-color);\n",
              "    box-shadow: none;\n",
              "  }\n",
              "\n",
              "  .colab-df-spinner {\n",
              "    border: 2px solid var(--fill-color);\n",
              "    border-color: transparent;\n",
              "    border-bottom-color: var(--fill-color);\n",
              "    animation:\n",
              "      spin 1s steps(1) infinite;\n",
              "  }\n",
              "\n",
              "  @keyframes spin {\n",
              "    0% {\n",
              "      border-color: transparent;\n",
              "      border-bottom-color: var(--fill-color);\n",
              "      border-left-color: var(--fill-color);\n",
              "    }\n",
              "    20% {\n",
              "      border-color: transparent;\n",
              "      border-left-color: var(--fill-color);\n",
              "      border-top-color: var(--fill-color);\n",
              "    }\n",
              "    30% {\n",
              "      border-color: transparent;\n",
              "      border-left-color: var(--fill-color);\n",
              "      border-top-color: var(--fill-color);\n",
              "      border-right-color: var(--fill-color);\n",
              "    }\n",
              "    40% {\n",
              "      border-color: transparent;\n",
              "      border-right-color: var(--fill-color);\n",
              "      border-top-color: var(--fill-color);\n",
              "    }\n",
              "    60% {\n",
              "      border-color: transparent;\n",
              "      border-right-color: var(--fill-color);\n",
              "    }\n",
              "    80% {\n",
              "      border-color: transparent;\n",
              "      border-right-color: var(--fill-color);\n",
              "      border-bottom-color: var(--fill-color);\n",
              "    }\n",
              "    90% {\n",
              "      border-color: transparent;\n",
              "      border-bottom-color: var(--fill-color);\n",
              "    }\n",
              "  }\n",
              "</style>\n",
              "\n",
              "  <script>\n",
              "    async function quickchart(key) {\n",
              "      const quickchartButtonEl =\n",
              "        document.querySelector('#' + key + ' button');\n",
              "      quickchartButtonEl.disabled = true;  // To prevent multiple clicks.\n",
              "      quickchartButtonEl.classList.add('colab-df-spinner');\n",
              "      try {\n",
              "        const charts = await google.colab.kernel.invokeFunction(\n",
              "            'suggestCharts', [key], {});\n",
              "      } catch (error) {\n",
              "        console.error('Error during call to suggestCharts:', error);\n",
              "      }\n",
              "      quickchartButtonEl.classList.remove('colab-df-spinner');\n",
              "      quickchartButtonEl.classList.add('colab-df-quickchart-complete');\n",
              "    }\n",
              "    (() => {\n",
              "      let quickchartButtonEl =\n",
              "        document.querySelector('#df-bca31b44-83d5-43e6-9f9a-a1c9e015d39a button');\n",
              "      quickchartButtonEl.style.display =\n",
              "        google.colab.kernel.accessAllowed ? 'block' : 'none';\n",
              "    })();\n",
              "  </script>\n",
              "</div>\n",
              "    </div>\n",
              "  </div>\n"
            ],
            "application/vnd.google.colaboratory.intrinsic+json": {
              "type": "dataframe",
              "variable_name": "df"
            }
          },
          "metadata": {},
          "execution_count": 25
        }
      ],
      "source": [
        "print(df.shape)\n",
        "df.head()"
      ]
    },
    {
      "cell_type": "code",
      "execution_count": 26,
      "id": "bd8c1794",
      "metadata": {
        "id": "bd8c1794"
      },
      "outputs": [],
      "source": [
        "class TextDataset(Dataset):\n",
        "    def __init__(self, english_sentences, arabic_sentences):\n",
        "        self.english_sentences = english_sentences\n",
        "        self.arabic_sentences = arabic_sentences\n",
        "\n",
        "    def __len__(self):\n",
        "        return len(self.english_sentences)\n",
        "\n",
        "    def __getitem__(self, idx):\n",
        "        return self.english_sentences[idx], self.arabic_sentences[idx]"
      ]
    },
    {
      "cell_type": "markdown",
      "id": "a02a901b",
      "metadata": {
        "id": "a02a901b"
      },
      "source": [
        "## Data Processing"
      ]
    },
    {
      "cell_type": "code",
      "execution_count": 27,
      "id": "83054e7d",
      "metadata": {
        "id": "83054e7d"
      },
      "outputs": [],
      "source": [
        "df = df.dropna()\n",
        "# drop duplicates\n",
        "df = df.drop_duplicates()\n",
        "# drop rows with empty strings\n",
        "df = df[(df['en'] != '') & (df['ar'] != '')]"
      ]
    },
    {
      "cell_type": "code",
      "execution_count": 28,
      "id": "7ddf9a45",
      "metadata": {
        "id": "7ddf9a45"
      },
      "outputs": [],
      "source": [
        "english_sentences = df['en'].values\n",
        "arabic_sentences = df['ar'].values"
      ]
    },
    {
      "cell_type": "code",
      "execution_count": 29,
      "id": "273b79e1",
      "metadata": {
        "colab": {
          "base_uri": "https://localhost:8080/"
        },
        "id": "273b79e1",
        "outputId": "d52c0f1f-716b-401a-849c-da21e1a77b37"
      },
      "outputs": [
        {
          "output_type": "execute_result",
          "data": {
            "text/plain": [
              "array(['and this', 'it was um', 'what is she doing here', ...,\n",
              "       'chinas quest for value', 'zimbabweu0027s last chance',\n",
              "       'zuma rising'], dtype=object)"
            ]
          },
          "metadata": {},
          "execution_count": 29
        }
      ],
      "source": [
        "english_sentences"
      ]
    },
    {
      "cell_type": "code",
      "execution_count": 30,
      "id": "3e6b9943",
      "metadata": {
        "colab": {
          "base_uri": "https://localhost:8080/"
        },
        "id": "3e6b9943",
        "outputId": "5986ce88-8d67-4976-9407-e329ad6e6f39"
      },
      "outputs": [
        {
          "output_type": "execute_result",
          "data": {
            "text/plain": [
              "array(['و هذه؟', '...لقد كان', 'ما الذي تفعله هناك؟', ...,\n",
              "       'الصين تفتش عن القيمة', 'زيمبابوي والفرصة الأخيرة',\n",
              "       'صعود نجم زوما'], dtype=object)"
            ]
          },
          "metadata": {},
          "execution_count": 30
        }
      ],
      "source": [
        "arabic_sentences"
      ]
    },
    {
      "cell_type": "code",
      "execution_count": 31,
      "id": "f02111e3",
      "metadata": {
        "colab": {
          "base_uri": "https://localhost:8080/"
        },
        "id": "f02111e3",
        "outputId": "0177a45b-8a64-4b4b-f7e9-8001b5d2e934"
      },
      "outputs": [
        {
          "output_type": "stream",
          "name": "stdout",
          "text": [
            "and this و هذه؟\n"
          ]
        }
      ],
      "source": [
        "print(english_sentences[0],arabic_sentences[0])"
      ]
    },
    {
      "cell_type": "code",
      "execution_count": 32,
      "id": "f2181bf9",
      "metadata": {
        "colab": {
          "base_uri": "https://localhost:8080/"
        },
        "id": "f2181bf9",
        "outputId": "cd265d77-1174-4b4e-e3f5-4cc3edb22f44"
      },
      "outputs": [
        {
          "output_type": "execute_result",
          "data": {
            "text/plain": [
              "(32, 242)"
            ]
          },
          "metadata": {},
          "execution_count": 32
        }
      ],
      "source": [
        "max(len(x) for x in arabic_sentences), max(len(x) for x in english_sentences)"
      ]
    },
    {
      "cell_type": "code",
      "execution_count": 33,
      "id": "1338f846",
      "metadata": {
        "colab": {
          "base_uri": "https://localhost:8080/"
        },
        "id": "1338f846",
        "outputId": "2e01f45e-07d8-4c13-95dc-f2eca0347b3c"
      },
      "outputs": [
        {
          "output_type": "stream",
          "name": "stdout",
          "text": [
            "91th percentile length Arabic: 28.0\n",
            "91th percentile length English: 44.0\n"
          ]
        }
      ],
      "source": [
        "PERCENTILE = 91\n",
        "print( f\"{PERCENTILE}th percentile length Arabic: {np.percentile([len(x) for x in arabic_sentences], PERCENTILE)}\" )\n",
        "print( f\"{PERCENTILE}th percentile length English: {np.percentile([len(x) for x in english_sentences], PERCENTILE)}\" )"
      ]
    },
    {
      "cell_type": "code",
      "execution_count": 34,
      "id": "60f8bfc7",
      "metadata": {
        "id": "60f8bfc7"
      },
      "outputs": [],
      "source": [
        "if top > (len(english_sentences) - 1) :\n",
        "  top = len(english_sentences) - 1\n",
        "english_sentences = english_sentences[:top]\n",
        "arabic_sentences = arabic_sentences[:top]"
      ]
    },
    {
      "cell_type": "code",
      "execution_count": 35,
      "id": "ccaf0232",
      "metadata": {
        "colab": {
          "base_uri": "https://localhost:8080/"
        },
        "id": "ccaf0232",
        "outputId": "613cd190-33af-47c5-d6d9-c49b7b106ec5"
      },
      "outputs": [
        {
          "output_type": "stream",
          "name": "stdout",
          "text": [
            "Number of sentences: 831788\n",
            "Number of valid sentences: 547388\n"
          ]
        }
      ],
      "source": [
        "def is_valid_tokens(sentence, vocab):\n",
        "    for token in list(set(sentence)):\n",
        "        if token not in vocab:\n",
        "            return False\n",
        "    return True\n",
        "\n",
        "def is_valid_length(sentence, max_seq_len):\n",
        "    return len(list(sentence)) < (max_seq_len - 1)\n",
        "\n",
        "valid_sentence_indicies = []\n",
        "for index in range(len(arabic_sentences)):\n",
        "    arabic_sentence, english_sentence = arabic_sentences[index], english_sentences[index]\n",
        "    if is_valid_length(arabic_sentence, max_seq_len) \\\n",
        "        and is_valid_length(english_sentence, max_seq_len) \\\n",
        "        and is_valid_tokens(arabic_sentence, arabic_voc) \\\n",
        "        and is_valid_tokens(english_sentence, english_voc) :\n",
        "        valid_sentence_indicies.append(index)\n",
        "\n",
        "print(f\"Number of sentences: {len(arabic_sentences)}\")\n",
        "print(f\"Number of valid sentences: {len(valid_sentence_indicies)}\")"
      ]
    },
    {
      "cell_type": "code",
      "execution_count": 36,
      "id": "b698571c",
      "metadata": {
        "id": "b698571c"
      },
      "outputs": [],
      "source": [
        "arabic_sentences = [arabic_sentences[i] for i in valid_sentence_indicies]\n",
        "english_sentences = [english_sentences[i] for i in valid_sentence_indicies]"
      ]
    },
    {
      "cell_type": "code",
      "execution_count": 37,
      "id": "f1e15bb9",
      "metadata": {
        "id": "f1e15bb9"
      },
      "outputs": [],
      "source": [
        "dataset = TextDataset(english_sentences, arabic_sentences)"
      ]
    },
    {
      "cell_type": "code",
      "execution_count": 38,
      "id": "32a0ffc7",
      "metadata": {
        "colab": {
          "base_uri": "https://localhost:8080/"
        },
        "id": "32a0ffc7",
        "outputId": "61d7278b-9164-41fd-be82-e8dd1f2a5ea2"
      },
      "outputs": [
        {
          "output_type": "execute_result",
          "data": {
            "text/plain": [
              "('and this', 'و هذه؟')"
            ]
          },
          "metadata": {},
          "execution_count": 38
        }
      ],
      "source": [
        "len(dataset)\n",
        "dataset[0]"
      ]
    },
    {
      "cell_type": "markdown",
      "id": "b64e0d20",
      "metadata": {
        "id": "b64e0d20"
      },
      "source": [
        "## Transformer"
      ]
    },
    {
      "cell_type": "markdown",
      "id": "3493683d",
      "metadata": {
        "id": "3493683d"
      },
      "source": [
        "![image.png](attachment:image.png)"
      ]
    },
    {
      "cell_type": "code",
      "execution_count": 39,
      "id": "aff4d4c1",
      "metadata": {
        "id": "aff4d4c1"
      },
      "outputs": [],
      "source": [
        "class Transformer(nn.Module):\n",
        "    def __init__(self, d_model, ffn_hidden, num_heads, dropout_rate, num_layers,\n",
        "                max_seq_len, ar_vocab_size, english_to_index, arabic_to_index,\n",
        "                START_TOKEN, END_TOKEN, PADDING_TOKEN\n",
        "                ):\n",
        "        super().__init__()\n",
        "        self.enc_sentence_embedding = SentenceEmbedding(english_to_index, max_seq_len, d_model,START_TOKEN, END_TOKEN, PADDING_TOKEN)\n",
        "        self.encoder = Encoder(d_model, ffn_hidden, num_heads, dropout_rate, num_layers, max_seq_len)\n",
        "\n",
        "        self.dec_sentence_embedding = SentenceEmbedding(arabic_to_index, max_seq_len, d_model,START_TOKEN, END_TOKEN, PADDING_TOKEN)\n",
        "        self.decoder = Decoder(d_model, ffn_hidden, num_heads, dropout_rate, num_layers, max_seq_len)\n",
        "\n",
        "        self.linear = nn.Linear(d_model, ar_vocab_size)\n",
        "        self.device = torch.device('cuda') if torch.cuda.is_available() else torch.device('cpu')\n",
        "\n",
        "    def forward(self, x, y, enc_start_token=False, enc_end_token=False, dec_start_token=True, dec_end_token=True):\n",
        "\n",
        "        encoder_self_attention_mask, decoder_self_attention_mask, decoder_cross_attention_mask = create_masks(x, y)\n",
        "        encoder_self_attention_mask = encoder_self_attention_mask.to(self.device)\n",
        "        decoder_self_attention_mask = decoder_self_attention_mask.to(self.device)\n",
        "        decoder_cross_attention_mask = decoder_cross_attention_mask.to(self.device)\n",
        "\n",
        "        x = self.enc_sentence_embedding(x, start_token=enc_start_token, end_token=enc_end_token)\n",
        "        x = self.encoder(x, encoder_self_attention_mask)\n",
        "\n",
        "        y = self.dec_sentence_embedding(y, start_token=dec_start_token, end_token=dec_end_token)\n",
        "        out = self.decoder(x, y, decoder_self_attention_mask, decoder_cross_attention_mask)\n",
        "        out = self.linear(out)\n",
        "        return out"
      ]
    },
    {
      "cell_type": "code",
      "execution_count": 40,
      "id": "1003fd8f",
      "metadata": {
        "id": "1003fd8f"
      },
      "outputs": [],
      "source": [
        "train_loader = DataLoader(dataset, batch_size)\n",
        "iterator = iter(train_loader)"
      ]
    },
    {
      "cell_type": "code",
      "execution_count": 41,
      "id": "4cdda111",
      "metadata": {
        "colab": {
          "base_uri": "https://localhost:8080/"
        },
        "id": "4cdda111",
        "outputId": "00ca7d94-db0e-463e-c2d6-be2e276a45ed"
      },
      "outputs": [
        {
          "output_type": "stream",
          "name": "stdout",
          "text": [
            "[('and this', 'it was um', 'what is she doing here', 'i dont like it', ' its none of your business', ' uhhuh', ' others', 'im much your majesty', 'do i make myself clear', 'thank you', 'i bet you do', 'thats enough', 'yeah of course', 'im him', 'you okay', 'no no', 'shes all yours', 'you want the truth', 'how about you', ' goodbye', ' thats okay', 'im sorry', 'i must go', 'maybe we have something in common', 'right alright alright relax', ' have a seat', 'hows it goin', ' are you all right', 'whats up', ' what did you do', 'what happened', 'is this all youve got', ' that right', 'as in mother id like to fuck', ' ooh ooh ooh honey', 'what is your name', 'what was that', 'smells good', 'from what', 'it wasnt easy', 'and you', 'i dont think so', 'just take your time', ' over here', 'hell no', 'excuse me', 'what are you waiting for', 'like you', ' thats sad', 'what are you doing here', ' all right', 'how about everyone out here', 'i agree', 'number three', 'what was that you said', 'killian thank god', 'whoa zach', 'whats going on', 'all right gang', 'no no', 'why not', 'i can still do that', ' me neither', 'oh you know', 'i cant believe it', 'hes been here', ' suck it', 'can you control it', 'are you alone', 'its pathetic', 'thats a good question', 'thats all right', 'how may i help you', 'screw you abed', 'what do you want', 'fiftyfourth session', 'look at that', 'i do not know', 'i think not', 'what is going on', ' where have you been', 'one two three', 'no not me', ' i cant', 'are you all right', 'you may call me sam out of love', 'thats it', 'how are you doing', 'how do you figure that', 'what happened', 'i see it', 'lou please dont do that', 'its been a while', 'she just left', 'i hope so', 'right master', 'theres more than that', 'here we go', 'im not sure i can', 'which reminds me', 'im here', 'thank you', 'you saw her', 'uh i gotta go', 'tagged as lassen', 'what happened out there', 'excuse me', 'youre mean', ' would you mind', 'i have no idea', 'get up', 'its important', 'ooh i just found something', 'were clear', ' im warning you', 'thats enough', ' no im not', 'its late', ' david', 'but you just keep talking sweetie', 'youre just wasting time', 'this is weird', 'im not sure', 'what now', 'what do we do now', 'im okay', ' really', ' michaelangelo', 'im the one with the grenade launcher', 'whats wrong with you', 'how did you find me', 'anybody home', 'you look gorgeous', 'are you spying on me', 'i didnt do anything', ' okay', 'wheres the money', 'thats it', 'yeah well theyve been buddies ever since so', 'ill let you be buried with the bitch', 'yeah right', 'there he is hi carol', ' five ten good you just volunteered', 'i am not your average trophy wife', 'what the fuck is that', 'like what', 'no i dont think so', ' i dont know', 'you son of a bitch hes in hell', 'shoot him', 'its cool big o', 'good luck', 'what do you think', 'why do you ask', 'thats it', 'im here', 'thats it', 'one two three', 'not anymore', 'about that guy that shot you', 'yeah hannah she wanted to steal something', 'with pleasure', 'i heard about you', 'whats happening', 'clears throat  yeah  um', 'copy that', 'seems that way', 'what are we doing here', 'im very pleased to meet you', 'get out of my way', 'walk away i got this', 'i won the coin toss', 'to die will be an awfully big adventure', ' they havent yet', 'you shouldnt have', ' unbelievable', 'all right now', ' not anymore', 'why are you here', 'im sorry', 'are those for me', 'here we go', 'am i', 'where were you', 'what are you saying', 'stop it', 'thats nice', 'welcome back', 'no worries', 'not yet', 'what a cute tshirt', 'stay with me', ' mmhmm', ' whats up', 'were so close', ' beth', 'yes sir', 'you see that', 'what do you expect of me', 'its your wife youre talking to', 'its all', 'what do you say', 'mr clare', 'how about you', 'come on guys', 'dont you get it', 'your friend with the truck isnt showing up', ' yes', 'i couldnt', ' mon dieu', 'where are you', ' hey', '  lets go', ' sit down', 'how did you find me', 'did you hear what i said', 'how do you mean', 'your mom', 'you would', 'this is a bad idea', 'nice to meet you', ' he died', 'this way', 'its fine its fine', 'is that clear', 'thank you', 'hes an idiot', 'i didnt ask', 'i have a plan', 'excuse me its been a long night', 'youre fired', 'how are you', 'who are you', 'you fool', 'i just', 'go on', ' whats your thinking', 'and fear', 'is it true', 'what else', 'oh my god', ' oh my god', 'whose was this', 'great idea', 'oh my god you two what do you want', 'are you okay', 'there you go', 'now what', 'i cant do it i cant', 'thats uh something umart does not do', 'i touched your breast', 'you can make dinner', 'you gotta be kidding me', 'its the only name keeps repeating', 'no its chicca', 'no justice', 'if they havent cleaned it out yet', 'whats going on with us', ' yeah excop', 'then dont go today', 'thank you', 'dan i just i want to tell', 'hey how you doing', 'you brought a date', 'jimmy why are you driving a ferrari', 'is that the reason he jumped', 'consideration of reports 23', 'you didnt tell her', 'shes coming', 'oh and you too wac', 'kellers a smart guy', 'ah no no this this is uh', 'a blend of idiocy and depravity ', ' no i wasnt home', 'yeah okay', 'dont tell me you didnt you hear it', 'i miss travis', 'please cut to the chase i', ' oh yeah ill get you guys some drinks', 'i promise you as soon as im back down', 'but that figure is pretty lame', 'you were a cheerleader', 'and how do you like being married', 'to give you fair warning', 'colemans got pictures', 'ruined my plan thats all', 'thats what im saying', 'am i right so right', 'time to pick up the tempo boys', 'you get the hell out of my face', 'but i cant deliver it', ' ah youre pretty freaked out huh', 'watch those kids', ' are your tires kosher', 'get on your knees', 'get out of here', 'hes gonna leave a big big tip yeah', 'what does he eat', 'somethings been unleashed', 'hricore1add31rev1 page 29', 'general juma', 'youre such an enigma', 'to tom and violet', 'come on', 'you sure youre ready for this', 'i heard the old familiar noises', 'i wont let it be like this', 'oh god it hurts', 'judging from the fractures', 'belavia you take us', 'what kind of monsters would do this', 'return of kuwaiti property', 'the company would send out another man', 'then hell get what he deserves', 'its me who didnt listen to him', 'hows belen', 'youre right youre right', 'last call for all that is good and holy', 'its really nice to see you', 'its all good girl damn', ' all i need is one more chance ', 'the comfort of death', 'how many times doihave to tell you', 'oh shit', 'car wash yeah', 'i built it with my own hands', ' whisky', 'yes he can', 'but its right', 'oh that dress looks pretty', 'hands down', 'my boss recycled it', 'wait a minute', 'hey i am not judging', 'are you insane', 'he kissed me and i kissed him back', 'drop the gun', 'v honoraria', 'i dont want to go at all', 'look look look look', ' they think were idiots  its unbelievable', 'i hate fucked up families', 'me asking is kind of a sign', ' i heard that too  yeah', 'this is a private establishment', 'oh my god that is such good news', 'hawk screeching', 'tell them about the divorce and move on', 'or watch tv', 'and then admitted to being guilty', 'it knows what you did', 'why not go down fighting', 'if youre suggesting that you screwed up', 'sweet jesus what are you doing', 'i wouldnt do this', 'well douh', ' what would john have to say', 'im still here right', 'youre here', ' having a tail', ' brother', 'yeah i sort of called that', 'i just cant do it', 'set down on this earth', 'well its mine', 'i dont need people skills', 'why do you keep looking over your shoulder', 'let her go father', 'im troubled', 'cell phone rings', ' just so you know youre not pregnant', 'hes not breathing', 'now what', ' you could tell house', 'i believe you bro', 'so thats it huh', 'what am i up against huh', 'yeshe did', 'come and dance', 'good luck with that', ' no just water', 'i am hugo', 'because you almost died back there', 'you know i can', ' hi uh nobody touch her', ' yes mary im fine', ' no i wont', 'its the fucking icecream van', ' so only call in case of emergency', ' one two three', 'i can prove it', 'this is nice', 'your cooperation with kira', 'well he does', 'you have five minutes', 'bad luck', 'okay how did this happen', 'i searched there and', 'you have no right to control it', 'do you have that kind of money'), ('و هذه؟', '...لقد كان', 'ما الذي تفعله هناك؟', 'لا أحب ذلك', '-هذا ليس من شأنك', '-نعم .', 'ـ الآخرون؟', 'أنا (ماتش)، فخامتك', 'هل كلامي واضح؟', 'شكرا لكم.', 'أشك في ذلك', 'هذا يكفي !', 'أجل، بالطبع.', 'أنا هو', '-أأنت بخير ؟', 'ـ لا .. لا ..', 'انها لك', 'تريدين الحقيقة ؟', 'ماذا عنك؟', '-وداعا .', '-لا بأس .', 'أنا آسفة', 'أنا يجب أن أذهب', 'ربما لدينا شيء مشترك.', 'حسنا،حسنا إهدأ', '-تفضلي بالجلوس', 'كيف الحال؟', '-هل أنت بخير؟', 'هنري مالذي يحدث', '-ماذا فعلت؟', 'ماذا حدث ؟', 'أهذا كل ما لديك؟', 'أهذا صحيح؟', 'اختصار لـ\" أم أود مضجعتها\" ؟', 'اوة اوة ،عسلي', 'ما هو اسمك؟', 'ماذا كان هذا؟', 'رائحة طيبة', 'من ماذا ؟', 'لم يكن الأمر سهلا.', 'و أنت؟', 'لا أظن ذلك', 'خذ وقتك', '-من هنا', 'طبعا لا', 'بعد اذنك', 'ماذا تنتظر؟', '-مثلك .', '-هذا مؤسف .', 'ـ ماذا تفعل هنا؟', '- حسنا', 'ماذا عنكم؟', '-أوافقك الرأي .', 'الكلمة الثالثة:', 'ماذا قلت ؟', '(كيليان) شكرا يا الله', 'عجباه، (زاك).', 'ما الذي يحدث؟', 'حسنا يا رفاق', 'لا .', '-لما لا ؟', 'مازلت أفعل ذلك', '-ولا أنا', 'كما تعلمون', 'انا مش مصدقة ..', 'لقد كان هنا.', '-تبا لك', 'هل يمكنك أن تتحكمين بها ؟', 'أأنت بمفردك؟', 'أنت مثير للشفقة', 'هذا سؤال جيد', 'هذا حسن', 'كيف أستطيع مساعدتك؟', 'تبا لك', '-ماذا تريدين؟', 'الدورة الرابعة والخمسون', 'انظري لهذا.', 'انا لا اعلم', 'لا اعتقد هذا', 'ماذا يحدث هنا', 'ـ أين كنت؟', 'واحد، إثنان، ثلاثة.', 'لا ، ليس معي', '- لا استطيع', 'هل أنت بخير ؟', 'ما اسمك؟', 'هذا كل شيء', '- كيف تعمل؟', 'كيف عرفت هذا؟', 'ماذا حدث؟', 'أتفهم ذلك', 'أرجوك لا تفعل هذا', 'لقد مضت فترة', 'غادرت فقط', 'آمل ذلك', 'صحيح , سيدي', 'هنالك المزيد', 'ها نحن أولاء', 'لا أقدر', 'وهذا يذكرني ..', 'أنا هنا', '-تفضلوا من فضلكم -شكرا', 'هل رأيتها؟', 'علي الذهاب.', 'موسمة كـ(لاسن)؟', 'ما الذي حدث هناك؟', 'عفوا ؟', 'أنت لئيم', '-هل تمانع؟', 'ليس لدي فكرة', 'انهض !', 'إنه مهم', 'لقد وجدت شيئا', 'المكان آمن.', '-أنا أحذرك', 'هذا يكفي.', '-لا لست كذلك', 'مع السلامه', '-ديفيد -ماذا؟', 'لكن لا تتوقف عن الحديث ياعزيزي', 'أنت تضيعين الوقت فحسب', 'هذا غريب', 'لم أقرر بعد', '. ماذا , الان ؟', 'ماذا سنفعل الآن؟', 'أنا بخير.', '-بربك ؟', 'مايكل أنجلو أجل', 'أنا الذي أحمل القنابل.', 'مابالك هكذا؟', 'كيف وجدتني؟', 'هل يوجد أحد هنا ؟', 'أنت مذهلة', 'هل تتجسسين علي؟', 'لم أفعل بك أي شيء', '- حسنا.', 'أين المال؟', 'هو كذلك .', '- أوه نعم', 'سوف أدفنك مع السافلة!', 'نعم , صحيح', 'ها هو ذا', 'جيد انت تطوعت', 'أنا لست زوجتك المتوسطة', 'ماهذا بحق الجحيم؟', 'مثل ماذا ؟', 'لا,لا أعتقد ذلك', '- اللعنة ، لا أعرف', 'يا سافل إنه في ألم رهيب', 'اطلق النار عليه', 'هذا رائع', 'حظا موفقا.', 'ماذا تعتقد؟', 'لم تسألان؟ لقد مات', 'هذا هو', 'أنا هنا.', 'فقط ذلك ؟', '. واحد، إثنان، ثلاثة', 'ليس بعد الأن', 'ـبشأنالرجلالذيأطلق النارعليك..', 'نعم، (هانا) أرادت سرقة شيء', 'بكل سرور', 'لقد سمعت عنكم', 'ما الذي يحصل؟', '- نعم؟', 'علم بذالك.', 'يبدو ذلك', 'ماذا نفعل هنا؟', 'انا سعيد جدا بلقائك', 'ابتعد من طريقي', 'ابتعد, سأهتم بالأمر', 'لقد ربحت العملة المعدنية', 'الموت سيكون مغامرة كبيرة جدا', 'هل أنت أصم؟', '(كلارك)، لم تكن مضطرا.', 'لا يصدق', '...حسنا الآن', 'ليس بعد الآن.', '-لم أنت هنا؟', 'أنا آسف.', 'هل هذه لي؟', 'ها نحن مجددا.', 'هل أنا بخير ؟', 'أين كنت ؟', 'ما الذي تقوليه ؟', 'توقف عن ذلك!', 'هذا لطيف', 'عودا حميدا', 'لا تقلقي', 'ليس بعد.', 'لطيف للغايه', '! ابقي معي', '-نعم .', '-ما الأمر؟', 'نحن قريبون جدا', 'هل هذا لي؟', 'أجل سيدي.', 'هل ترين هذا ؟', 'ما الذي تتوقعه مني ؟', 'أنا زوجتك', 'الأمر كله', 'ما رأيك ؟', 'السيد (كلير)', 'تعتقد ذلك ؟', '-بربكما يا رفاق .', 'ألا تفهمين؟', 'لم يظهر صديقك صاحب الشاحنة.', '- نعم!', 'لم أستطع.', '-يا إلهي !', 'أين أنت؟', '-مهلا !', 'هيا بنا', '-إجلسي .', 'كيف عرفتي؟', 'هل سمعت ما قلته؟', 'ما الذي تعنيه؟', 'والدتك ؟', '- أنت؟', 'هذه فكرة سيئة.', 'تشرفت بمقابلتك', 'لقد مات.', 'هذا الطريق؟', 'لا بأس لا بأس', '-أهذا واضح', 'شكرا لك', 'أنه أحمق', 'لم أسأل', '-لدي خطة', 'أعتذر, لقد كانت ليلة طويلة', 'أنت مفصولة', 'كيف حالك ؟', 'من أنت؟', 'أيها الأحمق', '...أنا فقط', '-هيـا، خذي منهـا .', 'ما رأيك؟', 'و الخوف', 'هل هذه المعلومات صحيحة؟', 'وماذا أيضا؟', 'يا الهي ...', '.. يا إلهي -', 'من كان هذا؟', 'فكرة رائعة', 'يا إلاهي.', '-هل أنت بخير ؟', 'هناك تذهب.', 'الان ماذا؟', 'لا أستطيع', '-وهذا شئ لا تفعله \"يومارت \"', 'لقد لمست صدرك', 'بإمكانك طبخ وجبة العشاء', 'لابد أنكم تمزحون؟', 'إنه الإسم الوحيد الذي تكرر.', 'لا، أنه شيكو.', 'لا عدالة.', 'إذا لم يكونوا قد نظفوه بعد', 'ماذا يحدث معنا؟', '-نعم، إنه شرطي سابق', '-إذا، لا تذهب اليوم .', 'شكرا لكي', 'دان أنا فقط أريد أن أقول لك', 'مرحبا، كيف حالك؟', ') أحضرت موعدك هنا ؟', 'جيمي\", لماذا تقود الفيراري\"', 'هل ذلك السبب يقفز؟', 'الجزء الأول - مواد عامة', 'أنت لم تخبرها؟', 'إنها قادمة', 'اوه , وانت , ايضا , واك', '، (إنه (كيلير . شخص ذكي', '.. لا ، لا ، هذه ... هذه هي', 'مزيج من الحماقة والانحراف\".', 'ـ لم اكن في البيت', 'طبعا , حسنا', 'ـ نعم. لا تقولي أنك لم تسمعيها', 'افتقد ترافيس', '...أرجوك اختصر، أنا', '-أجل,سوف أجلب لكما بعض الشراب', 'أعدك عندما أعود للمدينة', 'لكنه لم يتغير ابدا', 'هل كنت مشجعة ؟', 'كيف حياة الزواج ؟', 'أن أقوم بأعطائك تحذير عادل', 'كولمن لديه صور', 'دمرت خطتي، ذلك فقط', 'ذلك الذي أقولة.', 'لا شكرا، صحيح؟', 'علي أن أغير الجو ايها الفتية', 'ابتعدي من امامي', 'ولكني لا استطيع قراءته', 'أنت خــائف كثيرا؟', 'مشاهدة هؤلاء الأطفال.', '- هل اطاراتك \"كوشر\"؟', 'إجلس علي ركبتيك', 'إخرجي من هنا.', '- عليك أن تحبي هذا الرجل', 'ماذا يأكل؟', 'الشيء أطلق عنان.', 'لحقوق الإنسـان', 'أيها الجنرال (جمعة)؟', '-انت تشبه النجوم', 'نخب \"توم\" و \"فيوليت\"', 'بحقك -', '. أمتأكد من إستعدادك لهذا ؟', 'سمعت ضوضاء من الزبائن الدائمين', 'لن أقبل بأن يكون هكذا', 'يا الله، وهذا يضر.', 'بالنظر للكسور', '(بيلفيا)... هلتأخذنا؟', 'أي نوع من الوحوش قد يقترف هذا؟', 'إعادة الممتلكات الكويتية', 'سترسل الشركة وقتها أحد آخر .', 'و سوف ينال ما يستحقه', 'إنه أنا الذي لم يستمع إليه', 'ما حال (بلن)؟', 'أنت محق , أنت محق', 'نخب الأخيار والقديسين', 'سررت جدا برؤيتك.', 'كل شئ بخير يا فتاه سحقا', 'والرجل المشرد مع طائره الميت', 'راحة الموت', 'كم مرة سأخبرك ؟', 'اوه اللعنه؟', 'مغسلة السيارات، أجل', 'كان منزلنا لقد بنيته بيدي', '-هل تتزلجين؟ -أجل، منذ صغري', 'نعم، يستطيع.', 'ولكن من الصحيح.', 'ماذا تفعل بالخارج؟', 'فرصتك الأن', 'رئيسي تخلص منه', 'انتظروا لحظة.', 'أنا لن أحاكمك', 'هل انت مجنون ؟', 'قام بتقبيلي، وقمت بتقبيله', 'ارمس المسدس!', 'خامسا- الأتعاب', 'أنا لا أريد الذهاب مطلقا.', '، إنظر ، إنظر ، إنظر', 'يخالوننا أغبياء، هذا لا يصدق.', 'أنا أكره العائلات', 'سؤالي يعتبر علامة.', 'ــ سمعت ذلك أيضا ــ نعم', 'هذه مؤسسة خاصة.', 'يا إلاهي، إنه خبر رائع.', '(الصقور الصراخ)', 'أخبرهم عن الطلاق وينتقل.', '-أو مشاهدة التلفـاز', '.وبعد ذلك إعترف بكونه مذنب', 'إنها تعلم ماذا تفعلين', 'لما لا تقاتل؟', 'إن كنت تقولين بأنك أخطأت', 'يا إلهي, ماذا تفعل؟', 'لم اكن لأفعل هذا', '-حسنا... هل ...', '-ماذا كان (جون) ليقول', 'لا زلت هنا أليس كذلك؟', 'أنت هنا!', '- وجود الذيل.', 'يا أخي - !', 'نعم أعتقد ذلك أيضا نوعا ما', 'لكن لم أستطع ذلك', 'المنصوص عليه في هذه الأرض...', 'إنها قوانيني', 'أنا لا أريد مهارات اجتماعية', 'لما تنظر من فوق كتفك دائما؟', 'دعها تذهب يا أبي', '... الوقت يمر', '[يرن الهاتف الخليوي]', '-ولعلمك ، أنت لست حاملا', '- - هو لا يتنفس -', 'ماذا نفعل الآن؟', '-أن تخبر (هاوس )', 'سأحمي ظهرك أعدك!', 'إذن ، هذه هي ؟', 'مالذي أواجهه؟', 'نعم ، لقد فعل', 'تعال وإرقص.', '-حظ سعيد مع ذلك', '- لا، فقط ماء.', 'أنا هوغو!', 'لأنك كدت تموتين هناك.', 'وتعلم أنني أستطيع', 'لا يلمسها أحد', '-نعم، أنا بخير .', 'كلا, لن أصاب - !', 'إنها سيارة آيس كريم!', '-لذا اتصلي فقط في حالة الطوارئ', '-واحد إثنان ثلاثة', 'لا أستطيع إثبات ذلك', 'هذا لطيف.', '-تعاونك بخصوص (كيرا )', 'حسنا , هو كذلك', 'لديك خمسة دقائق', '- حظي العاثر !', 'حسنا ، كيف حدث ذلك ؟', 'انا بحثت هناك , ثم', 'لا حق لك بالتحكم بها!', 'هل لديك هذا المبلغ ؟')]\n",
            "[('dont know might be here all day', 'well its not to my taste', ' shes really fast man  all right', 'this guy youre up against', 'i just never understood it', 'just relax for a second turn around', 'like a dump let me see this', 'you hear that dad', 'wilkins wilkins', 'wait its not a rock', 'so youre here to threaten me', 'which sank', 'i cant do anything about that', 'youll see red bullet has no legs', 'mrs danforth', 'which is it', 'she packed her luggage and came home', ' whose idea was this', ' yeah come on', 'my poor sister', 'you guys are really cute together', 'i wonder what i did with that', ' nah', 'hes pretty messed up', 'every word of it', ' oh right im leo', 'just tell me', 'chiseled classy almost certainly gay', 'youre gonna be fine', 'what else', 'what were her words', 'good day detective', 'i shouldnt smoke', 'i swear', 'continuation of general discussion', 'what difference does it make', 'now dot be nice to your sister', 'i didnt say that was your problem', 'say astronaut', 'wanted to make sure my gun works', 'im a really hard worker', 'sounds like coffee', 'you have the right to remain silent', 'uncle ben', 'you saw the roadblocks on your way in', 'you know what else he said', 'yeah diane', ' who', 'not me', 'youre going to like this one lau', 'darren sanders youre under arrest', 'believe its going to pass believe it', 'so any luck', 'please bunny easter is not christmas', 'god calm down grandma', 'if you know what i mean', 'who are you', 'hey that water smells funny', ' do you guys have a business plan', 'oh look who it is', ' just stay there  i got to go', 'and this is carrie and miranda', ' hes pretty smart man', 'get maleva', ' when breathing felt like something new ', 'what about your dad jasper', 'have you a blade of grass to your name', ' own up judas', 'what is wrong with you pope', 'id honor her', 'fran im trying to protect you', 'thanks sheriff', 'not much of a nurse are you', 'hes the thief', 'generational my ass', 'you embrace it', 'but in front of everybody', 'oh boy okay', 'so much happiness', 'oh sorry', 'this is good what is it', 'this book come from', 'get back goddamn it', 'we got a burn notice on you', 'i want an answer', ' told you she doesnt like to be touched', 'april fool', 'how would i know', 'but did we really believe that', 'i got her contained', ' dad no', 'glad we get to meet in person', 'do not like it', ' open my eyes', 'okay im going', 'here are the onions  thank you', 'theres your problem', 'you were once going to be my family', 'turn left at the  wait', 'is it the serialkilling chimney sweep', ' i dont want to set the world on fire ', 'did he say something to you', 'hes just a harmless old man', 'well what are you gonna do', ' take care of your brother', 'you dont have to go hungry', ' go away', 'okay ive got the police here so', 'how are you beating kenneth grizz', 'okay now this is important', 'chinas landing  soft not hard', 'you know metaphorically', 'there is still liquid inside', 'maybe wait a little bit longer', 'come with me', 'no please', 'can your uh can your girlfriend shoot uh', ' i knocked him out  very good', 'you feel guilty', 'a long long time ago', 'did you know someone who worked here', 'all are invited to attend', 'im not afraid to die', 'yes he did', 'is she injured', ' this is fine', 'youre entering just a tad early my sweet', ' what did he look like', 'on valentines day', 'folks are reasonable here', 'lets go out there and get them and remember', ' oh yes he must', ' what did she say', 'have a nice day maam', 'table 92 summary of publications', 'them hos you get', 'thats not your concern anymore', 'shes a vampire', 'my youngest sisters', 'how do you eat', ' wellyou knowdont worry about mom', 'youve come to the right man', 'release us heather', 'such a balcony', 'tell you what ill do for you though', 'love only grows', 'ill see to it', 'theres a bus stop over there', 'sweet sweet ripa', 'shes been missing 12 hours', 'theres this storage unit', 'we need to let the air out', 'you look better  thank you   than', 'if you move youre fucking dead', ' it should be a smash  and  grab event', 'heart was blossoming', 'lady pole has no horrors', 'send a car', 'son of a bitch', 'i wonder if he thinks so', 'like what', ' i still have her', 'the heel becomes slender over time', ' yes you will', 'yeah shes my mom', 'i strained my neck last night', ' what the hell are you doing', 'look im sorry', 'suit yourself i just pour them', 'then you cap it here and you cap it here', ' i wont contact her  look', 'what the hell are you doing', 'looking for a hot meal', 'it wasnt a date', 'this this place', 'get back move along', 'oh thanks for telling me', ' oh my gosh', 'i think this has all the good stuff', ' no  i see whats going on here', 'leave him be', 'they dont think about the future', 'i told you you didnt have a weapon', 'honey wait a minute now', 'prince dont get angry', 'hey where are you jerk', ' stack it over here  six boxes', 'where would the moon have been', 'so tina tina how are you feeling', 'soul magnets', 'jack turner', 'theyre in', 'maybe not', 'as soon as i knew he liked me', ' did i say that', 'son we still got a situation with the creek', 'im sorry chloe i dont have a choice', 'im so fucking stupid im stupid', 'i there were four girls', 'me too okay to where', 'im just gonna let it dangle', ' she is not my daughter', 'im not', 'we cant just give up you know', 'that the one you located', 'i think it was a kind of bond against', 'all right you did it you pissed me off', 'the first friend i ever made', 'but its hardly a longterm solution', ' what difference does that make', 'had the beef tips huh', 'well thanks for not saying no', 'close to you', 'havent seen you in forever', ' max come back', 'enough with the cold cuts the condiments', ' what boat', ' dont call me that', 'light attracts enemy', 'yeah i know that look', 'you cant play', 'i totally spaced', 'yeah well hold your nose', 'are you there fran', 'viagra man youd be the spokesman', 'communications sent', ' is she going to understand me', 'werewere friendsish', 'i had to learn sign language', ' never', 'need a new approach', 'we dont want neal', 'this is crazy', 'what is that', ' germany is towards east', 'im sorry ive wasted your time', 'sir i promise this will be worth your while', 'no dont do that', 'what was that about', ' man whats up', 'you shouldnt let him read it', 'you incompetent fool', 'what if she asked you', 'good evening', 'you love it', 'okay maybe orthopedics shes in', 'youll manage', 'have fun', 'im sorry', 'saori and the rest', 'whats your job', 'i knew youd come back', 'whos on the call', 'theyre on fire', ' mm if you can call it that', ' can i help you', 'you want me to', 'i am going cold turkey and so are you', 'delete subparagraph a', ' yeah no we just ate', 'you what', ' becomes he bigger and bigger', 'i shouldnt even be here', 'are you okay', 'this is derek baby james', 'she asked you to fund her clothing line', 'phoebus shh im coming with you', ' sorry jazz', 'youre so angry that', 'thirty seconds', 'dont worry', 'but lets be honest', 'what was really in the needle', 'stop it stop it', 'it didnt happen', 'but thanks', 'stay down', 'be that as it may', 'i still win', 'werent you leaving town', 'halloween time', 'what your story', 'what did you do with those documents', 'fuck that', 'no wait', 'is this a dream', 'did i miss something', 'i should hope were old friends by now', ' you and dr pike', 'yes and it was so hard', 'i looked again', ' would you', 'oh i have many things to say to you', 'captain you sent for me', 'why are we here then', ' hell yes', 'what im saying is', 'i promise ill let you know as soon as i do', ' hello there', 'i work my steps', 'um ill see you on the 7th okay', 'and where are you taking us', 'what i can touch', 'that is against the law', 'i think i', ' no', 'then you shall be the one who dies', 'my afternoon nap', ' straight up the street', 'werent they', 'help me', 'did you kill a man on monday morning', 'i do', ' uta', 'i dont care how you figure it out', 'we got it', 'so this is about your buddy lucifer', 'of course im the mayor', 'im the brains of the organization', 'great choice thank you', 'hey dont what are you doing', 'im sorry part of the pattern', 'gather everyone', 'im so glad we had this conversation', 'thats obvious were friends', 'absolutely not', 'then kid beat you', 'i told you this was a mistake', 'i cant make anything out', 'everything they said i', 'you have to cancel the lunch', 'shes been through a tough divorce', 'god i love that movie', 'we have a little problem here', 'why all the questions', 'you have to earn these', 'put it in put it in there', 'i believe its possible', ' you have to attack first', 'ernie was a good man', 'are you serious', 'its christmas eve', 'what are you talking about', 'this is crazy this is totally insane', ' in the morning', 'mr dietrich', 'never mess with a black belt asshole', 'to you king lansing', 'gasps what are typos', 'so you want to be more like me', 'of course you dont honey', 'so where is your father', 'no no this is your thing', 'no really l', 'hit the lights', 'ill unsprain the ligaments', 'i dont care what strauss said', 'thank you theyre beautiful', 'about what', 'i had a flat tyre', 'okay what about this', 'i cant help you', 'sell it there everything accounted for', 'you should go', ' starboard corridor', ' yes yes yes yes i did', 'whats in the canisters', 'oh dearest love', 'its your first day outside', 'youre not too busy are you', 'im in charge', 'maybe theres a person in this world', 'heyi have gameall right', 'he doesnt really talk about that stuff', 'what do you want to do', 'and now the plane is fixed', 'mommy im sleepy', 'that make you feel better', 'hello elizabeth how are you', 'youre not wearing your ring', ' what are we doing here', 'sorry you all right', 'youre hungry right', 'sixtieth floor people are trapped up there', ' its different', 'its gonna be dirty', 'you know i love you', 'she has a small boy', 'the friend who becomes the enemy', ' she saved her life surfing', 'good did that now punch it', 'mickey wake up', 'and then everything changed', 'what will i do', 'too bad i didnt do that', ' no shes not there', 'he had a stroke my father', 'i broke his curse', 'and theres a teensy change in plans', 'hi how are you'), ('لا أدري ربما اليوم بأكمله', '- حسنا، هو ليس طعمي.', 'هي سريعه جدا حسنا', 'ذلك الشخص الذي ستقاتله...', 'أجل إنني لم أفهم ذلك مطلقا', 'فقط إنتظري للحظة إستديري', 'دعني ار هذا', 'هل سمعت ذلك يا أبي ؟', 'ويلكنز! ويلكنز!', '. انتظر إنها ليست صخرة', 'إذا انت هنا لتهديدي؟', 'الذي غرق', 'لا أستطيع عمل شيء بشأن ذلك.', 'الرصاصة الحمراء ضعيف.', 'سيدة (دانفورث)', 'أي واحدة؟', 'حزمت امتعتها وعادت للمنزل', '-من صاحب هذه الفكرة؟', 'ـ أجل، هيا', 'أختي الفقيرة...', 'انتم حقا حلوين مع بعض يا شباب', 'أتساءل ماذا فعلت به', 'ليس مهما.', 'وافسدت وجميلة تصل.', 'كل كلمه فيه .', '-حسنا أنا (ليو)', 'أخبريني فقط...', 'جسده جميل، راقي شاذ بالتأكيد', 'سوف تكونين بخير', 'وماذا أيضأ؟', 'ماذا كان لسانها؟', 'طــاب نـهارك , أيـها المحقق', 'لم يكن يجب أن أدخن', 'أقسم لك', 'مواصلة المناقشة العامة', 'ما الفرق الذي سوف يحدثه ذلك ؟', 'دوت , كوني لطيفة مع أختك', 'أنا لم أقل بأنها كانت مشكلتك.', 'قولوا \"رائد فضاء\"', '-أردت التأكد أن بندقيتي تعمل', 'أنا أجد في عملي جدا.', 'تبدو مثل أسماء قهوة', 'لك الحق بإلتزام الصمت،', 'العم \"بن\"؟', 'رأيت حواجز الطرق في طريقك.', '-تعرف ما قال غير ذلك ؟', 'أجل (ديان)', 'ـ ماذا ..', 'لا يحتاجون لي أنا', '(أنت معجبه بها ، (لاو', 'ديرين ساندرز \" أنت معتقل \"', 'آمن أنها ستمر آمن', '... إذا هل حالفك الحظ في', '-عيد الفصح والميلاد مختلفان .', 'ألهي , اهدئي , جدتي', 'اذا كنت تعرف ما أعنيه', 'من أنتم؟', 'رائحة هذه المياة مضحكة', '-ألديكما مخطط عمل؟', 'إنظروا من هذا.', '...إبقيهناك- يجب أن أذهب-', '-و هذه (كاري) و (ميراندا )', '- هو رجل ذكي جدا', 'آتي بـ (ماليفا).', '\"عندما يوحي التنفس بشيء جديد\"', 'ماذا عن والدك، (جاسبر)؟', 'هل لديك أرض من العشب بأسمك؟', '- بتملك ما يصل، يهوذا!', 'ما هو الخطأ معك، البابا؟', 'سوف أقوم بتشرفيها', '(فران ) , أحاول حمايتك', 'شكرا أيها العمدة', 'لا تبدين كممرضة!', 'إنه اللص', 'الجيل الأحمق', 'عليك اعتناقه', '! ولكن أمام الجميع', 'يا إلهي، حسنا', 'انا سعيد جدا', 'أوه عفوا.', 'هذا لذيذ، ما هو؟', 'هذا الكتاب تأتي من؟', 'عودوا للخلف ، لعنة الله عليكم', 'لدينا (إشعار بالحرق) لك', '، أريد إجابة!', '-قلت لك ، لا تحب أن يلمسها أحد', '! كذبة أبريل', '-كيف لي أن أعـــرف؟', 'لكن هل صدقنا ذلك حقا؟', 'سيطرت عليها', '-أبي ، كلا', 'يسرني مقابلتنا بشكل شخصي', 'لم تعجبني إطلاقا', 'ان افتح عيني', 'حسنــا , انا ذاهب ..', 'هذا البصل - شكرا لك -', 'ها هي مشكلتك', 'كنت مرة واحدة ستكون عائلتي.', 'أذهب يسارا أنتظر', 'هل هذا قاتل من المدخنة؟', '#لااريداناشعل النارفيالعلم#', 'هل قال لك شيئا؟', 'إنه مجرد رجل عجوز غير مؤذي', 'ماذا ستفعل؟', '(مي يو) - خذي اختك معك -', 'لست مضطره ان تكوني جائعه', '- ارحل', 'حسنا، لدي الشرطة هنا، لذا...', 'كيف هزمت (كينيث) يا (غريز)؟', 'حسنا , هذا هام', 'الصين والهبوط الناعم', 'تعرفين مجازيا', 'مازال هناك سائل في الداخل.', 'ربما يجب علينا أن ننتظر قليلا', 'تعالي معي', 'لا، أرجوك', 'هل لديك صديقة تصوب', 'لقد أوقعته - رائع -', 'أنت تشعرين بالذنب ؟', 'نعم, منذ مدة طويلة', 'هل تعرفين احد يعمل هنا ؟', '[الدعوة عامة.', 'لست خائفة من الموت', 'نعم لقد فعلها.', 'هل أصيبت؟', 'وهذا أمر جيد؟', 'أنت تدخلين مبكرا', '-كيف كان يبدو؟', 'ـ في يوم الحب ؟', 'الناس عـاقلــون هـنـا', 'ودعونا نخرج ونهزمهم وتذكروا', '-أوه نعم، لابد أن يفعل ذلك', 'ماذا قالت ؟', 'إقض يوم لطيف ، سيدتي', 'موجز المنشورات', 'المومسات اللاتي لديك؟', 'هذا لا يعنيك بعد الآن.', '-إنها مصاصة دماء .', 'أخواتي الأصغر...', 'كيف تأكل؟', '-لا تقلقي حيال أمي', 'لقد جئت للرجل المناسب', 'حررينا هيثر', 'هذه البلكونة ..', 'سأخبرك ماذا سأفعل بك', 'الحب ينمو مع هذه', 'سانظر في ذلك', 'تـوجد محـطة حـافلات هــناك', 'الحلو، الحلو ريبا.', 'تم فقدانها منذ ١٢ ساعة', 'هناك .. وحدة تخزين', 'نريد أن نخرج الهواء', '-شكرا لك، أنا كذلك ..', 'إستمع إلي إذا تحركت ستموت', '-لابد وأنه حدث جلل كبير', '\"القلوب كانت مزهرة.\"', 'السيدة (بول) ليس لديها مصاعب.', 'سأرسل سيارة.', 'إبن العاهرة', 'أتسائل لو انه يفكر هكذا.', 'مثل ماذا؟', '-ما زالت حية', 'الكعب يصبح نحيلا بمرور الوقت', 'أجل ستفعل', 'نعم, انها أمي', '-أجهدت رقبتي البارحة', 'ما الذي تفعله هنا بحق الجحيم ؟', 'النظرة , انا آسفة.', 'تحدثي عن نفسك فأنا مجرد ساقي', 'من ثم تغلقه من هنا ومن هنا', 'لن اتصل بها - انظر -', 'ما الذي تفعله بحق الجحيم ؟', 'أبحث عن وجبة ساخنة', '-لم يكن موعدا .', 'لأن هذا المكان و هذه الحياة', '-سنتبين الأمر، للخلف، تحركوا', 'أوه، شكرا لاعلامي بذلك.', 'يا إلهي!', 'اظن هذه تملك كل الاشياء الجيدة', '-فهمت ما يجري هنا', 'أفلته يا \"بي\"!', 'ولا يفكرون في المستقبل', 'أنا قلت لك أنك لا تحمل سلاحا', 'حبيبتي ، انتظري لحظة', 'أيها الأمير، لا تغضب.', 'يا . أين أنت ؟', 'ضعاها هنا ستة صناديق', 'أين كان القمر؟', 'لذلك، تينا، تينا، كيف حالك؟', '-مغناطيس الأرواح\" \"', '(جاك تيرنر)؟', 'لقد دخلوا', 'ربما لا', 'حالما أعلم بأنه يحبني', 'ـ هل قلت ذلك؟', 'بني، مازال الصفير مستمر', 'آسف \"كلوي\" ليس لدي خيار آخر', 'انا حتما غبي انا غبي للغاية.', 'كانت هناك أربع فتيات', '-حسنا و أنا أيضا', 'سأجعلها تتأرجح', 'هذا ما ظننته ايضا', 'نعم !', 'لا يجب أن نستسلم', 'من حدد المكان؟', 'أظنه كان وثاقا ما... ضد...', 'حسن، لقد فعلتها لقد أغضبتني.', '. أول صديق صادقته لي', 'لكنه ليس حلا طويل الاجل', 'ماذا يمكن أن يحدث ذلك فرق؟', 'إنه تأثير اللحم، صحيح؟', 'شكرا لعدم قولك , لا', 'ان يقربوا لك', '-لم أرك من فترة طويلة', '- ! ماكس، أرجع', 'لا مزيد من الأطعمة', '- أي قارب؟', '-لا تناديني بهذا الاسم', 'الضوء يلفت أنظار العدو.', '. نعم ، أعلم هذه النظرة', '-لا يمكنك لعبها', 'نسيت تماما.', '-أجل، حسنا، تحملوا.', 'أتسمعينني يا (فران)؟', 'فياغرا يا رجل أنت ستكون الناطق', 'الرسالة الموجهة', '-هل ستفهم ما سأقوله؟', 'نحن.. نحن أصدقاء بالعمل', 'اضطررت ان تعلم لغة الاشارة.', '- أبدا.', 'احتاج طريقة جديدة', 'نحن لا نريد (نيل).', 'هذا جنون', 'مالذي يعنيه هذا ؟', '- ألمانيا نحو الشرق؟', 'آسفة، قد اضعت وقتك', 'أعدك أن الأمر يستحق وقتك', 'لا ، لا تفعليها', 'ما كان ذلك؟', '-ما الأمر؟', 'لا ينبغي أن تتركه يقرأها', 'يالك من أحمق', 'ماذا لو طلبت منك ؟', 'مساء الخير', '؟ .. أحببتـه', 'حسنا, ربما التجبير هي هناك', '-ستتدبر أمرك .', 'اقضي وقتا ممتعا', '-أنا آسف', 'ساوري والبقية', '-ذلك يعتمد، ماهو عملك؟', 'أعرف أنك سترجع', 'من معه علي الهاتف؟', 'أجل! إنهم يشتعلون!', '-إن كان بإمكانك تسميته بهذا .', '-هل أستطيع مساعدتك؟', 'أتريدني أن أفعل؟', 'أنا، وأنت كذلك', 'تحذف الفقرة الفرعية (أ).', '-لا، لقد تناولنا طعامنا للتو', 'فعلت ماذا؟', '-أيوجد غيلان؟', 'أنا لا ينبغي حتي أن أكون هنا.', 'هل أنت بخير', 'هذا (ديريك) وهذا (بيبي جيمس).', 'طلبت منط تمويل خط ملابسها؟', 'فيبيس انا قادم معك', '-آسفة يا (جاز )', '. . أنت غاضبة للغاية لدرجة', 'ثلاثون ثانية', 'لا تقلقي.', 'ولكن لنكن صادقين', 'ما الذي كان موجودا في الحقنة', 'توقفوا, توقفوا', 'ذلك لم يحدث', 'ولكن شكرا', 'البقاء أسفل.', 'ليكن هذا كما ينبغي', 'مازلت فائزا', 'ألم تكن تغادر المدينة ؟', 'إنه وقت الهلاوين', 'ماذا , قصتك؟', '-ما الذي فعلته بتلك الملفات؟', 'تبا لذلك.', 'لا انتظر يجب ان تأخذ حمام لان', 'هل هذا حلم؟', 'لم أمسح لطخة ما؟', 'آمل أننا أصدقاء الآن', '- \" أنت والطبيب \" بايك -', 'نعم , ولكنه كان صعبا', '! لقد نظرت مجددا', '- هل بامكانك؟', 'لدي الكثير لأقوله لك.', 'كابتن استدعيتني ؟', 'لماذا نحن هنا إذن؟', 'نعم - نعم بالطبع -', 'ما أقصده هو...', 'أعد أنا سأعلمك حالما أنا أعمل.', '-أهلا بك', 'عملت خطوة بخطوة', 'اراك في السابع من الشعر', 'يجب أن نكتشف ..', 'ما أستطيع لمس...', 'وهذا ضد القانون.', 'اعتقد ..', '-يا إلهي', 'إذا ستكون أنت الذي سيموت', 'سوف آخذ قيلولة', '-في نهاية الشارع', 'أليس كذلك؟', 'ساعدني) -', 'هل قتلت رجل صباح يوم الاثنين؟', '. أنا أفعل', '-أوتا) ).', 'لا يهمني ما ستقول، أتعلم؟', 'لقد حصلنا عليها.', 'هذا بخصوص صديقك (إبليس)', '- طبعا, انني رئيس البلدية', 'أنا رأس التنظيم.', 'أختيار عظيم - شكرا، وأنت؟', 'مهلا,لا تفعل,ماذا... .. ؟', 'عفوا، جزء من \"النمط\"؟', 'أحضر الجميع.', 'سعيدة أننا تحدثنا سويا.', 'ذلك واضح نحن أصدقاء', 'بالتأكيد لا', 'ثم تغلب عليك (كيد).', '-اخبرتك ان هذا الزفاف كان غلطة', ') لا يمكنني إستخراج شيء', 'كل ما قالوه...', 'ـ يجب ان تلغي الغذاء.', 'ومرت بطلاق قاسي', 'رباه، أحب هذا الفلم', 'عندنا مشكلة بسيطة هنا.', 'ولكن لماذا كل هذه الأسئلة؟', 'وأنت إستحقيته', 'ضعها ، ضعها هنا', 'أعتقد أن ذلك ممكنـا هيا بنـا', '- عليك ان تهاجم اولا', 'كان (إرني) رجلا طيبا.', 'هل أنت جاد؟', 'إنـهـا سـهـرة عـيـد الـمـيـلاد', 'عماذا تتحدثين؟', 'هذا ضرب من الجنون', '- صباحا؟', 'سيد ديتريك', 'أنا لست متأكدة من التفاصيل', 'نخبك , للملك لانسنغ', 'ما هي الأخطاء المطبعية ؟', 'لذا تريد أن تكون مثلي...', 'بالطبع لاتفهمين ياعزيزتي', 'إذن، أين أبوك ؟', 'لا، لا، الأمر هذا يخصك', '-لا، في الواقع انا...', 'اشعل الضوء', 'سأقوم يإرخائها لك', 'أنا لا أهتم بما قاله شتراوس', 'شكرا لك، إنه رائعة.', 'حول ماذا؟', 'فرغ الهواء من اطارات السياره !', 'حسنا، ماذا عن هذا ؟', 'لا أستطيع مساعدتك', 'ستباع هناك، كل شيء جاهز؟', 'يجب عليك أن ترحل', '- الممر الأيمن', '-أجل، أجل، أجل، لقد فعلت .', 'ما الذي بالعبوات ؟', '\"يا حبيبي الغالي\"', 'إنه يوم خروجك الأول.', 'أنت لست مشغولا جدا.. صح؟', 'انا المسؤول', 'ربما هناك شخص في هذا العالم', 'أستطيع خوض اللعبه؟', 'أنه لايتحدث في هذه الأمور حقا', 'مالذي تريدن فعله؟', 'والآن تم إصلاح الطائرة.', 'أمي, إنني نعسانة', 'هل تشعر بشعور أفضل الآن ؟', 'مرحبا إليزابيث , كيف حالك ؟', 'أنت لم تضعي خاتمك.', '- وماذا سنفعل هنا؟', 'أسف هل أنت بخيرظ', 'أنت جائع،صحيح؟', 'السادس عشر , أناس عالقين هناك', '-إنه مختلف .', 'سوف يكون قذرا', 'أنت تعلمين أني أحبك', 'لديها طفل صغير', 'الصديق الذي يصبح عدوا', '-لقد أنقذت حياتها الفنية .', 'جيد , فعلت هذا والان انطلق', '(ميكي)، استيقظ', 'وبعد ذلك... كل شيء تغير', 'ماذا سأفعل؟', 'لكني لم أفعل ذلك للأسف الشديد', '-أليس ) ؟ , لا لا هي بالخارج )', 'لقد تعرض لنوبة , أبي', 'للعلاقة أبطلت لعنته', 'وهناك تغير صغير جدا في خطتنا', 'مرحبا، كيف حالك؟')]\n",
            "[(' you like it', 'its the other way', ' yeah no i know', ' for my contact lenses', 'do you want to relax a bit with me here', 'do you smell what i smell', 'have you ever waited on tables', 'and who said he was a nazi', ' so its begun', 'ill call you', 'you need to stop seeing my wife', 'how did this happen', 'im sorry', 'norman called asked me to meet him', 'seriously im amazing', 'come on lets go', 'help pirates', 'thats all the bloody talking', 'and you have disgusting personal hygiene', 'i think its a lot quieter up there now', 'w who am i speaking with', 'is that him', 'check it out', 'you know what this place is', 'come on man', ' can i get you somethin', 'mission leadership and inmission planning', 'youre nomi', 'defensive wound', 'hes feverish', 'come on come on youll be fine', 'hey what the hells going on', 'isnt that right', 'give me your worst route', 'i got the best deals in town', 'i dont understand', 'what safe room', 'that it is', 'turn my music back on', 'i am not leaving', ' im gonna be a father', 'he got a right to ask', 'previously on continuum', 'am i not right', 'yes i am happy to have it', 'lets get straight to it', 'we won we won', 'activities of the special rapporteur', 'sweep back show me the whole stomach', ' its a prophylactic matt', 'korts into nukes now', 'ill remember that', 'were going to take off your pants', 'have you ever been alone', 'work it out with your therapist people', ' i will not be', ' jack what are you doing', 'she did it', 'well the first parts normal', 'wouldnt you love somebody to love', 'bunch of nonsense', 'and so that is my story', 'prepare to be amazed terrified', ' pay pay', 'whats wrong hyuk', 'i think theyre gonna look very nice on you', 'arent you going to get that', 'democratic republic of the congo', 'enjoy the quiet while you can', 'no you just', ' youre gonna watch phoenix', 'theres 50 here ray', 'job separator', ' exwife', 'i dont know why are you', 'how cute would that be', 'damn straight it does', ' okay', 'theyll never find her', 'but it doesnt', 'i will never forgive', 'you have everything you need', 'sure why not', 'international cooperation for development', ' damn it', 'yeah my eyes aint too good', 'i asked doctor jo', 'never mind something happened okay', 'it wasnt', ' with our dominik', 'oh god', 'we dont release the pressure soon', 'id know how to deal with that', 'that i confused my feelings with the truth', 'youre right here you do it', 'weve started looting', 'what the hell are you doing', 'im a fun dad', 'do you have family living there', 'hes not gonna call', 'you gave me a start', 'long time gone', ' maybe you could just calm down and', 'and id like to save you from that fate', 'check it out', 'you know its such an amazing day', 'oh here is a good one', 'i like this song', 'daddy didnt love em enough', 'can you imagine me a diplomat', 'no im gonna cap him', 'why are you laughing', 'i like penguins', 'how are you', 'but its not', 'kind of', 'you really will', 'but she may remember this', 'i was gonna tell you', 'got hit by a bus', ' what gun what are you talking about', 'i will miss you so much', 'and you concurred', 'whats your problem', 'you told her where to go john', 'oh yeah', 'and the battle started bloody and merciless', 'is he okay now', 'she was beautiful', ' what youre jogging now', 'in or out', 'george huge emergency hugest emergency', 'i have no idea what youre talking about', 'um brown hair beard', 'maybe a didnt lead to b', 'only everything ive ever tried', 'too much work', 'oh my god yeah', 'youll ask to see the priest', 'its just sleeping', 'youre not deaf sophie i know', 'you have to admire that man', 'she seems stuck in there', 'those kids are really lucky', 'so what are you gonna do now', ' we cant make alliances', 'nothing to say', 'have nothing to do with them', 'oh my', 'its scary', 'uh something that begins with a p', 'youre gonna die', 'does his lordship know about this', 'convention on the right of the child', 'i suppose it is but it aint rumors', ' because its from kelso', 'but only in the bedroom', 'i never saw that', 'mum my train doesnt fly', 'we found the sasak ukib', 'you are god  i love you   what', 'no pen', 'memories without reason', 'rubber band is enough ill not run away', 'lets see what you can do', 'not necessarily', 'black tie optional', 'a lot of hands', ' me', 'thats okay', 'right with no equipment no rope', 'but my real business here is with you', 'now loosen up mmhm empty your mind', 'dont cry', 'i need you', 'you thought i was dating this', 'what are you', 'by me', ' this is overkill huh', 'look i havent seen your face', 'no i cant take it', 'okay lets do it', 'i can live with that', 'true we are still children', 'to losers maybe', 'well we are at sea', 'great ball of china', 'yeah well im at the doctor', ' your body will break down', 'how am i supposed to take this conversation', 'but he was better for a while', ' wheres jimmy', ' what is it', 'ive caused enough pain', 'she is not your equal', 'it didnt it was a disaster', 'dont go', 'okay thank you', ' marks', 'wrong answer', ' all right noodle', ' youre pregnant', 'nothing personal right', 'a lens cap', 'sure you did', 'ow fuck', 'will you help me with that', 'they can come too', 'and i a drunk', 'and poison ill stick in some poison', 'an identical monozygotic twin', 'zack this is my friend claire', 'hows the leg', 'dont put me in that hole', 'think we can handle it', 'i was understandably agitated', 'what are you doing here', 'what about this jacket', 'hey i was trying to figure things out', 'eh that hardly seems fair', 'oh you did', 'lets talk about it later', 'use your brain', ' introduces our couple style to the world', 'no that was my grandmother', 'good thank you', 'ill be as gentle as he was with her', 'weve been here before', 'you got your lunch', 'things id rather forget', 'i didnt think youd do that', 'must be nice', 'what she loved about me', ' good morning', 'no it was not', 'oh youre damn right im angry', ' its dead', 'a hundred times', 'carry on with your duties', 'that hurt', 'what about you mikey', 'youre telling me this is real', 'oh yes indeed', 'reboot aah', 'by giving them what they want of course', 'but then what next', 'dont skimp on the butter', 'i got an idea', 'i have a coranic quiz to do', 'yeah i know i know i know trust them', 'yes you are because you love him', ' why dont you admit it', 'youre exactly like them', 'but you can paint the walls', 'it was what ', 'ive been talking to ty', 'all right', 'who told you i was expecting you', 'what am i watching', 'good night rabbit', 'we couldnt wait', 'they fuck like rabbits', 'ceres is your home', 'i assure you', 'you got anything solid on him', 'black classic a la mode a la m', 'as if there is such a thing', 'so glad you agree', 'how many houses left', 'you knowmy lovetoo', 'is that weird  you think this is funny', 'its a good butt', 'close enough', 'i do that i know it', 'watch your mouth', 'it has given us protection', 'there being no objection it is so decided', 'no way im not doing that', ' to talk to arthur  right', 'no no no', 'that i mean thats it ok', ' im trying to help you', 'were almost there', 'bow up half', 'like chocolate', 'and its gonna be mindblowing', 'that could easily have been planted', 'are you coming out today', 'why did you do it', 'but nothing happened with him', 'stephen king over here', 'i watch it every week its great show', 'i set its broken leg', 'how about a recess your honor', 'the international gay rules', ' its gonna ruin the suede', 'now how would you know what i like', ' what difference does it make', 'oh shit im sorry', 'what do you want', ' that sucks', 'i uh murdered an innocent girl', 'i definitely dont like heroes', 'she was calling me', 'i really dont think we need it', 'were talking to the union later today', ' whats that', 'now im starting to puddle', 'i cant talk with them', 'a common enemy', 'with no memory of where theyve been', 'im trying to work with you', 'hello albie', ' you got it  bye', 'now its my turn', 'how are you angel', 'its religious crap', 'they dont know were down here', 'sixtieth session', 'where are your friends', 'well done boss', 'what kind of father are you gonna be', 'youll need to make the explosive now', 'okay guys', 'thats not true', 'i will fix it', ' he feels you demean him', 'i inherited it all from my uncle', 'how about it', 'aye good but youll need happy', 'right now ive got to go', 'leave a message', 'noah begat shem  andshemarphaxad', 'one that makes', ' thats why she did it', 'sixth committee', 'go come on come on', ' sure', 'im going to do something very bad', 'no one', 'and kelly dont get anything pierced', 'you carried him', 'the others theyre gonna be back', 'no more here you go', ' like i care', 'the seven missing women', 'i want to see her shes fine', ' well hes back', 'i told you my son doesnt do drugs', 'im just trying to be realistic here', 'hes just gross', 'thats it two types of potatoes and my mom', ' ah  i told you', 'whwhat does that mean', 'you are horrible', 'oh dont flatter yourself', 'got it joaquin', 'just a thought', 'from outside my house right', 'i meant the body hes working on', 'if you dont have trust', 'external debt', 'hes very boring', 'mark aslan narnia chronicle', 'boxtrolls arent monsters', 'im ashamed of what she did', ' no i cant sorry no', 'ive ever had to true love', 'john whats going on with that guy', 'f nonadmission', ' no super quiet', 'hey  would you reload just reload', 'nothing she said ever happened', 'no he will report to me', 'jesus christ', 'okay im sorry', 'we just sit herewere dead', 'hold on i got to take a piss', 'sir please', 'honey this food is so good', 'and slip it to the blushing bride', 'just have a little salad', 'i have to talk to cary', 'all right got to do that', 'were both powerful men', 'all right okay okay all right', 'ive got her', 'come on come on thats right thats right', 'id like to apologize about the rain', 'bread come quick', 'its like a gift you know', 'it doesnt feel like it does it', ' leo come on', 'the entire church was devastated', 'how are you', 'gail are you drunk', 'oh this shit got the bezel on it', 'wasnt you', 'thank you thank you', 'hey youre a lawyer right'), ('هل أحببتيه؟', 'قسم المعلومات في الجانب الآخر', 'لا، وأنا أعلم.', 'لأحضر عدساتي اللاصقة', 'أتودين الإسترخاء معي، هنا؟', 'هل تشتم ما هذه الرائحة؟', 'هل رأيت المناضد المخدومة؟', 'ومن قال لك بأنه نازي ؟', 'إذن لقد بدأت؟', 'سأتصل بك', '- يجب أن تتوقف عن مقابلة زوجتي', 'كيف حدث هذا', 'أنا آسف!', 'اتصل نورمان طلب مني لقاءه', 'حقا، أنا مذهل', 'هيا ، لنذهب .', 'النجدة ، قراصنة', 'هذا كله بسبب الكلام اللعين.', 'وأنت إنسانة قذرة', 'اعتقد ان المكان هادئ هناك', 'مع من أتحدث؟ ...قلت مع من أتحـ', 'هل هذا هو؟', 'تحقق من ذلك', 'هل تعرفين ما هو هذا المكان؟', '! هيا,يا رجل', '- هل أعد لك شيئا ؟', 'قيادة البعثات والتخطيط للبعثة', 'أنت (نومي)', 'هل من جروح دفاعية ؟', '-حرارتة مرتفعة جدا -إذهبي...', 'هيا، هيا ستكونين بخير', 'ما يجري بحق الجحيم ؟', 'أليس هذا صحيحا؟', 'أعطني أسوء طريق لديك', 'لدي أفضل تجارة في المدينة', 'أنا لا أفهم', 'أي غرفة آمنة؟', 'انها كذلك', 'أعد تشغيل موسيقاي', 'لن أغادر.', '-سأكون أبا !', 'لديه الحق أن يسأل.', 'سابقا في الكمية', 'أليس كلامي صحيحا؟', 'نعم، مصابة وسعيدة بذلك.', 'لندخل في الموضوع', '-لقد فزنا، فـزنا !', 'أنشطة المقرر الخاص', 'أعد المسح للمعدة كلها', 'هو وقائي، مات.', 'كورت مع الأسلحة النووية الآن؟', 'أنا سأتذكر ذلك.', 'سنغير ملابسك', 'أسبق وكنت وحيدة؟', 'حله مع معالجك،أيها الناس.', '- انا لن اصبح--', '-يا جاك ما الذي تفعله ؟', 'لقد فعلتها', 'الجزء الأول طبيعي', 'ألن تحب شخصا من أجل الحب', 'حفنة من الهراء .', 'ولذا فتلك هي قصتي.', 'استعدوا للمفاجأة... الرعب.', 'الدفع !', 'ما الأمر؟', 'اعتقد انهم سيبدوا رائعين عليك', 'ألن ترد عل ذلك ؟', 'جمهورية الكونغو الديمقراطية', 'انتهزي الفرصة واستمتعي بالهدوء', 'لا انا فقط', '- ستقوم برعاية فينيكس؟', 'اتري ذلك أيها الغبي ؟', 'فاصل الوظائف', 'زوجتي السابقة.', 'لا أدري ، لم تعتقد ذلك ؟', 'كم سيصبح ذلك رائعا!', 'بالطبع , إنه كذلك', '- حسنا', '-يمكننا وضعها في هذا', 'لكنه لم يفعل.', 'وسوف يغفر أبدا.', 'لديك كل ما تحتاجينه', 'طبعا لماذا لا؟', 'التعاون الدولي لأغراض التنمية', '- اللعنة.', '- نعم، عيوني ليست جيدة .', 'لقد سألت الدكتور جو', 'لا بأس،شيئا ما حدث، حسنا؟', 'لم أكن السبب', '-تقصدين ابننا ؟', 'يا إلهي', 'اذا لم نزل الضغط سريعا', 'أعرف كيف أتعامل مع ذلك', 'بأني شوشت مشاعري بالحقيقة', 'لا تفكه اقطعه', 'بدأنا بالنهب', 'ماذا تفعل بحق الجحيم ؟', 'أنا أب مرح', 'هل لديك عائلة هناك ؟', '- لن يتصل بك', 'لقد فاجئتني', 'ذهب منذ وقت طويل', '-ربما عليك ان تهدأ', 'و أريد أن أحافظ عليك من السمنة', 'إنظري لذلك.', 'لقد كان يوما رائعا', 'هذه جيدة.', 'تعجبني هذه الأغنية.', 'لأنهم يملكون جينات معيوبه', 'هل تتخيلين, أنا دبلوماسي؟', 'لا .. أنا سأضع حدا لهذا ؟', 'لماذا تضحك ؟', '-أحب البطاريق', 'كيف حالك؟', 'لكن كل شيء ليس بخير', 'نوعا ما', 'اعنيها حقا', 'لكن قد تتذكر هذا', 'لقد كنت سأخبرك', 'ضربتك حافلة أو ما شابه؟', 'أي مسدس، عن ماذا تتحدثين ؟', 'سأشتاق إليك كثيرا', 'وانت موافقة', 'ما مشكلتك؟ وجع أسنان؟', 'أنت أخبرتها أين تذهب, (جون).', 'أوه، نعم؟', 'والمعركة بدأت داميه وقاسيه', 'هل يتقبل الأمر حاليا؟', 'كانت جميلة.', '-ماذا ... أصبحت تجري الآن؟', 'ستنضم لي أم لا؟', 'جورج حاله طارئه كبيره الأكبر', 'لا أعرف عما تتحدثين', 'شعر بني، ولحية.', 'ربما الأول لا يفضي للثاني.', '. فقط كل شيء جربته', '-عمل كثير للغاية !', 'أوه، يا إلهي، نعم.', 'إطلب رؤية القس', 'نائمة وحسب', '-لست صماء يا (صــوفــي ).', '-ما هي مطالبك ؟', 'ويبدو أنها عالقة في هناك.', 'هؤلاء الفتيان محظوظون جدا', 'إذا ماذا ستفعل الآن؟', 'تحالفاتنا غير متوافقة', 'ليس لديك ما تقوله؟', 'لا علاقة لهذا', 'أوه، رباه.', 'ذلك مخيف', '.\" شيء يبدأ بحرف الـ \" بي', 'أنت ستموت!', 'هل سيادته يعرف عن هذا؟', 'اتفاقية حقوق الطفل', 'أفترض ذلك ولكنها ليست شائعات', '- لأنه من كيلسو.', 'فقط في غرفة النوم.', 'لم أري هذه أبدا', 'أمي, انها لا تطير', 'وجدنا \"اوكيب الساساك\"', 'انت جيد احبك ماذا؟', '-لا (بين).', 'ذكريات بلا سبب', 'الرباط المطاطي كافي لن أهرب', 'دعنا نر ما يمكنك فعله', 'ليس بالضرورة', 'ربطة العنق السوداء اختيارية', 'هناك الكثير من الأيدي', '-أنا .', 'هذا لا بأس.', 'بدونأجهزةوبدونحبل !', 'لكن عملي الحقيقي هنا هو معك.', 'استرخي قم بتصفية أفكارك', 'لا تبكي.', 'أنا أحتاجك', 'تعتقد أني أواعد هذا؟', '-ماذا تكون؟', 'من قبلي', 'أفرطت بالأمر، أليس كذلك؟', '! أنا لم أر وجهك', 'لا , لن استطيع ان أخذها', 'حسنا، فلنفعلها', 'أستطيع العيش مع ذلك.', 'بالظبط، لقد كنا مجرد أطفال', 'بالنسبة للفاشلين ،محتمل', 'سوف نساعدك', '\"كرة الصين العظيمة\"', 'أنا الطبيب', '-جسدك لن يتحمل', 'بأي طريقـة أفسـر هذه المحادثـة', 'و لكنه كان بحال أفضل لفترة', 'ـ أين (جيمي)؟', '- ما هو؟', 'لقد سببت الم كثير', 'إنها أقل من مستواكم', 'نعم لقد كان أمرا كارثيا', 'لا تذهب', 'حسن أشكرك', '- مارك وأبوس]؛ [س].', 'إجابة خاطئة', '-حسنا، معكرونة؟', '-أنت حامل .', 'لا شيء شخصي', 'غطاء عدسة كاميرا', 'بالتأكيد ، فعلت', 'تبــا، ياللهول!', 'ألن تساعدني بهذا ؟', 'يمكنهم أن يأتوا أيضا.', 'أود الشرب', 'والسم ، سأدس بعض السم', 'توئمان مختلفا التوقيت', '-زاك)، هذه صديقتي (كلير) )', 'كيف حال ساقك؟', 'لا تضعاني في هذه الحفرة!', 'تعتقد بإمكاننا التغلب عليهم؟', 'لقد إنفعلت قليلا', 'ماذا تفعلان هنا ؟', 'ماذا عنه ؟', 'أنا أحاول فهم القصة', 'ذلك يبدو عادلا بالكاد.', 'لم تق...', 'لنتحدث عن هذا لاحقا', 'استعمل مخك', 'اسلوب الزوج للعالم', '- . لا , تلك كانت جدتي -', 'نعم, شكرا لك.', 'سأكون لطيفا كما كان معها', 'كنا هنا في السابق.', 'هل أخذتي غدائك؟', 'أشياء أود أن أنساها', 'لم أعلم أنك ستفعل هذا', 'سيكون رائع.', 'ما الذي أحبته في', '- صباح الخير', 'لا لم أفعل ذلك', '-بكل تأكيد أنا غاضب .', '-لا يعمل', 'مائة مرة', 'إستمر في عملك', 'هذا مؤلم.', 'ماذا عنك يا (مايكي) ؟', 'أتقول لي أن هذا حقيقي؟', 'ولكن نعم..', 'أعد تشغيل!', 'بمنحهم ما يريدون بالطبع', 'لكن بعد ذلك ماذا سيحدث؟', 'لا تنسي وضع الزبدة', 'خطرت لي فكرة', 'لدي اختبار قرآني لأقوم به', 'نعم, أعلم, أعلم, نثق بهم', 'نعم أنت كذلك لأنك تحبيه', 'لماذا لا تصارحني وتعترف بذلك؟', 'أنت بالضبط مثلهم.', 'ولكن يمكنك طلاء الجدران.', 'ما كان ذلك؟', '(لقد كنت أتحدث مع (تاي', 'كل الحق.', 'من أخبرك أني أتوقع مجيئك؟', 'ما الذي أشاهده ؟', 'طابت ليلتك أيها الأرنب', '-لم نتمكن من الإنتظار .', 'يبدون كالأرانب', 'سيريس هو موطنكم', 'أؤكد لك هذا', 'لديك أي شيء قوي ضده؟', '...أسود، كلاسيكي', 'وكأن هناك شيء من هذا القبيل.', 'سعيد جدا أنك وافقت', 'كم تبق من المنازل؟', 'وحبي أيضا', '-تعتقد أن هذا مضحكا؟', 'فأنت مؤخرة جميلة', 'قريب بما فيه الكفاية', 'أنا أقوم بهذا , أعرف.', '! إنتبه لكلامك', 'انها ما يعطينا الحماية', 'ولعدم وجود اعتراض، تقرر ذلك.', 'محال، لن أفعل هذا', '(للتحدث مع (آرثر', 'لا , لا , لا .', 'هذا كل ما في الامر', '-أنا أحاول المساعدة', 'نحن تقريبا هناك.', 'لايمكننا , ليس لدينا اي وقت', 'مثل الشوكولا؟', 'وسوف يكون مذهلا', 'بالإمكان زرع تلك الصورة ببساطة', 'هل ستخرجين اليوم؟', 'لمادا فعلت دلك؟', 'ولكن لم يكن هناك شيء معه.', '(ستيفن كنغ) هنا', 'أراها كل أسبوع، عرض كبير .', 'لقد داويت ساقه المكسورة.', 'ماذا عن استراحة سيادتك؟', '-صحيح، قواعد الشواذ العالمية', '-ستفسد الجلد', 'الآن كيف تعرف ما أحبه؟', '-ما الفرق في ذلك؟', 'ياللهول انا اسف', 'ماذا تريدين ؟', '-هذا مقرف', 'لقد قتلت فتاة بريئة', 'لا شك أنني لا أحب الأبطال', 'لقد كانت تناديني.', 'لا أعتقد أننا بحاجة لذلك', 'سنتحدث للنقابة لاحقا اليوم', '- وما هو ؟', 'الآن أنا بدأت بركة.', 'لا أستطيع التحدث معهم', 'عدو مشترك', 'دون أن يتذكروا أين كانوا', 'أنا أحاول العمل معك', 'مرحبا (ألبي).', 'وجدته مع السلامة', 'الان،حان دوري.', 'كيف حالك أيتها الملاك؟', 'تلك خرافات دينية', 'إنهم لا يعلمون بوجودنا هنا', 'الدورة الستون', 'أين أصدقائك؟', 'أحسنت عملا أيها الرئيس', 'أي نوع من الأباء سوف تكون؟', 'عليك ان تصنع متفجرات الان.', 'الرجال حسنا.', 'ذلك ليس حقيقي.', 'حسنا, سأصلحها', '-لا احتاج لقلة الاحترام', 'لقد ورثتهم جميعا من عمي.', 'ما رأيك ؟', 'نعم جيد (ولكن ستحتاج (هابي', 'علي الذهاب الآن', 'من فضلك اترك رسالة.', 'ولد نوح ساما وسام ولد أرفكشاد', 'قصيدة تجعل...', 'لهذا قامت بفعل ذلك ؟', 'اللجنة السادسة', 'انطلقن ، هيا ، هيا', '-في أي وقت', 'سأفعل شيئا جدا', 'لا أحد', 'و (كيلي)، لا تقومي بثقب أي شيء', 'حملته ؟', 'الآخرون , سوف يعودون', '-هذا يكفي هيا', '-و كأنني أكترث.', 'مع النساء السبعة المفقودات؟', 'إنها بخير.', 'حسنا، لقد عاد', 'قلت لك إنه لا يدمن', 'أنا أحاول أن أكون واقعيا', 'هو فقط مقزز.', 'نوعين من البطاطس و أمي', '. أخبرتك', 'ماذا يعني هذا ؟', 'أنت مريع', 'لا تغتر بنفسك', 'حسنا، (خواكين)', 'فقط نصيحة', 'الذي كان خارج منزلنا', 'انا اقصد الجثة التي يعمل عليها', 'إذا لم تكن هناك ثقة..', 'الديون الخارجية', '! إنه ممل جدا', 'مارك اسلان. نارنيا اليوميه', 'ليسوا وحوشا.', 'أشعر بالخجل مما فعلته.', '-لا أستطيع لا أسف', 'شيء للحب الحقيقي', 'ما الذي يجري مع ذلك الرجل؟', '(و) عدم السماح بالدخول', '-اهدأي .', 'صوب عليه صوب عليه', 'لاشيء مما تقوله صحيح.', 'لا، بل سيكون تحت امري', 'يــا إلهــي', 'حسنا , أنا آسف !', 'لو جلسنا هنا، فسنموت', 'دقيقة، علي قضاء حاجتي', 'سيدي .. من فضلك', '-إنه لذيذ جدا يا عزيزتي .', 'ومن ثم اصطياد العروس', 'فقط خذ قليلا من السلطة.', 'علي استشـارة (كـاري)', 'حسنا، أتيت لفعل هذا', 'كلانا رجال أقوياء', 'حسنا حسنا، حسنا.', 'لقد حصلت عليها', 'هيا، هيا هذا صحيح، هذا صحيح', 'أريد أن اعتذر بخصوص المطر', 'خبز تعالوا بسرعة!', 'إنها كهدية كما تعرف؟', 'لا أشعر أننا كسبنا', '-بحقك، (لـيو ).', 'لقد تدمرت الكنيسة بأكملها.', 'كيف أنت؟', 'غايل)، هل أنت ثملة؟ )', 'اللعنة، إن إطارها من الألماس', 'الم يكن انت؟', 'شكرا لك، شكرا لك.', '-أنت محامي ، أليس كذلك ؟')]\n",
            "[('yes but it lacks something', 'or hes devolving', 'what lie', ' and i just want him back', 'why not', 'oh my god that water', 'i know i know', ' your tea mr hoi', 'sweets a guy just blew up', ' but what i thought is', 'shields becoming a problem', 'that was her plan all along', 'i just nodded', 'did you see that', ' nope', 'or im goin in', 'get the list its in his pants', 'let me give you some advice', 'now if we can just see your id absolutely', 'i havent shown it to anyone', ' colin', 'come to me', 'thats cool', 'youve done the right thing', 'what are you looking at that for', 'hello paul good morning bob', 'any more', 'i dont understand', 'ive practically got an album', ' they do', 'come here', 'because its disgusting', 'hey its me', 'i think hes full of', 'then ill need to search you', 'since yesterday', 'hes just a coward and a thief', 'i can see you kirk', 'i dont know what to do', 'as long as you', 'thats emotion elena', 'shut up enough stalling', 'yeah looks like it', 'if you dont live im all over that', 'because he doesnt know thats why', 'no spitting', 'ive got an eyelash in my eye', 'cool whats the water for', 'this is it', 'you did it frank', ' thats good', ' his name is kyle', 'des is out hes an addict', 'oh but you are', ' we wont be cross', 'yeah what do you want', 'its a little embarrassing', 'rainwater wont hurt us', 'am i being punished', 'lets let toddo get this one huh', 'whos that', ' i got into a bar brawl', 'exclusively the lumbar', 'battle positions everyone', 'you looking for somebody', 'whoa wait wait a minute', 'i know poppycock when i hear it', 'im talking about blowing the place up', 'well im intervening', ' timur  dead', ' no im completely lucid', 'oh good evening', 'hello im looking for my daughter', 'its not a bug', 'its moving fast', 'one second please', 'foster ellen assistant director', 'i have to believe that it came from god', 'are you kidding', 'tear the tyres they dont want to pay', 'well find out soon enough', 'oil and a lube', 'youre so pretty', 'gone i have no idea what', 'ever go to the silhouette', ' by doing what', 'how much', 'do you want to leave someone behind to die', 'security of monuc personnel', 'where do you want this', 'one sec', 'oh my god holy shit', 'no i dont', 'we have a problem', 'ive already killed that minion', 'its time we repaid their friendship', 'yeah him', ' and', 'some americans are missing', ' no were not done yet', 'big interview', ' dont do it', ' thanks  thanks', 'je suis un gagneur', 'i will admit it', 'i hope so', 'its not my fault teddy hates you', 'of course it is', 'it was the boss who wanted you dead', 'i see her right now', 'i told them that you didnt do it', ' thank you', 'this is her address', 'you cant just start acting like my dad', 'hey um i think', 'your husbands name is yonk', 'you okay', 'here take this', 'not naked dale', 'i cant', 'bring your palms together', 'he gave me that ring and made me swear', 'i suppose you dont get out much do you', 'okay lets go', 'the house', 'mmmm come on now', 'you have heard of us in america', 'my dad was pissed', 'whatever you need ill provide', 'always fun to break peoples hearts', ' nice to meet you', 'my crucifix is missing', 'maybe i did', 'no but itd be better than out here', 'oooh can you reach it', 'lose your balley baby', ' cheese blintzes', 'oh so it was my fault but not yours', 'i love that  oh yeah', 'youre kidding whatd he say', 'duh yes', 'lets say yes', 'that brat of a son of yours', 'dr hood', 'its here it followed us back', 'are you inside now', 'same here', 'beer okay', ' weve won  ha', 'i really dont know', 'im sorry its your thing not mine', 'he was so much better', 'expert witness for the defense', 'is that inappropriate for the workplace', 'i didnt say you were', 'just like the leaves of autumn', 'youre saying no to me', ' no feelings now', 'now its your turn', 'you know what i like', 'we cannot deliver on our agreement', 'i think i can manage that', 'i love it', 'your mama snorted up all the dope', ' youre welcome  oh my god', 'its an opportunity to learn and grow', 'ive been to everyone', 'no you cant', ' yes some mate', 'open this door', 'theyre talking about our ship', 'its montgomery', 'someone you can trust', 'you cant trick it emma', ' you just can not do it', 'im gonna unpack', 'i dont have a life', 'who does it say im going to marry', 'lets do this come with me', 'my bad i aint hear that', 'some house huh', 'you know who this is al rawi', 'he died', 'our mission holds no purpose', 'shes so hot', 'hows that', 'please now where is it', 'well go register at not just sofas', 'maybe its neurological', 'you have got to stay', 'my papa', ' yeah imim in with sid sorry', 'who did this', ' oh but i do', 'so walter kelly was a good cop', 'did you not hear what she said ', 'wait a minute', 'on your behalf to protect you', 'i gotcha ill be there', 'whos that', 'ill do both', ' bevin  hi', 'well not so much break up as', 'why would you think that', 'no of course not', 'please its its', ' dont be nervous its nothing', 'susanna calm down', ' al', 'small version', 'thats a first since high school', 'take it easy', 'remember ted with the hair', 'ugh oh no', 'thanks daisy whatre you doing', 'okay so this is it', 'hey i told you no you didnt', 'needle play', ' are you gonna squeal on me', 'thats thats not mine', 'think of it as a followup', 'he made it through the second test', 'very well thank you', ' okay its too bad', 'by having us kiss', 'thats them', 'anything you do not prikrivajva vee', 'he seems so sweet', 'what the hell is going on', 'brother im really sorry', 'you didnt stick to our agreement', 'no not the books', 'were actually going through with that', 'oh i mean uh clears throat iif i ', 'secret weapon', 'miss allison miss stevens', 'he was lost too', 'whats in the briefcase', 'they tortured our sisters and daughters', 'i dont have any stuff', 'do you need me to believe you', 'im uh actually a lily man', 'that gave me the idea', 'stop making stuff up', 'i know that', ' is it pixie dust or leprechaun tails', '8th meeting', 'or what', 'this isnt good', 'the baby bird stops to rest', 'oh its a gas', 'watch me burn flanders', 'you have bigger problems dont you', 'cover editor', 'theyre a thing', 'its just sighs', 'i shouldnt be long', 'thats our special little code', ' ive never seen it', 'nothing as far as i know', 'well i had no idea', ' but there wasnt', 'she is why orchestra exists', 'thats fuckin great', 'you think you can do it', 'i want you to do five shots', 'god im good', 'please read the oath out loud', 'what do you want to study', 'wow nice adjustment', 'oh my gosh thats joshua butler', 'nothing i got out alive', ' who are you', 'im having fun', 'youre donnie banks', 'a lecture about what', 'ive got to run', 'come with me', 'i would punish such insolence most severely', 'i love you so much', 'hello eleanor', 'you make a move toward iris', 'a good soldier protects his commander', ' to them or you', 'do you live here', 'still a dick', 'aight man we here', 'i dont have allison anymore', 'all i know', 'dont waste your time', 'burden of this place', 'faisals never steered us wrong', 'a five a ten a 20 it dont matter', 'you want to go a few rounds', 'what about your employer', 'just dont try and stop this', 'theyll have worked it out at the same time', 'morgan said the work will is full time', 'it is extremely dangerous and fatal', 'i am begging you', 'youre so beautiful', 'your baby needs you stu', 'a concerned father', 'i assure you', 'thanks michael oh', 'this is a first date', 'she doesnt consider it stealing', 'youre god', 'your speech was very good', 'its not what you think', 'anne right now', 'oh you made the world', 'plans of action', 'whats the name of this shop', 'were going to the fundraiser', 'what so you can hump her', 'where are you going', 'these two are 5 and under', 'a man can only take so much failure', 'im starting to like our conversations', 'the manager wants to go', 'would you excuse me i just be one moment', 'i need your help to finish it', ' jamal', 'hows it working', 'i was told that', 'well reconvene later', 'hey is sherlock with you', ' no she wants to stay', ' yes what', ' well thats good', 'youre killing me randall hey there he is', ' thats okay', 'you havent heard anything from her have you', 'what of gannicus', 'her boob really', 'do you know what hes done', ' too low', ' mme delassalle', 'adam who', 'we could use that', 'one sec', 'everybody put your seatbelt on', 'im all right', 'shes a hero', 'the point is im sorry', 'i never did care for him much', 'no youre not', 'dont you think', 'this is about what you hit', 'what time did you arrive home', 'emily fitch', 'you do', ' oh yeah', 'very day', 'hey hey honey honey', 'do you have an office i can use', 'we dont wanna punish anyone', 'maybe he worked for it', 'kill your own to kill your trouble', 'i said get out of here', 'your father said you were a natural too', ' mom dont gasp', 'why dont you know', 'made me a decoy again', 'i got you', 'well fuck it let the perv watch', 'he was struck by divine intervention', 'i can do that', 'tanakas got the entire floor locked down', 'then killed', 'hey you', 'scary dream huh', ' mess with him hell disembowel you ', 'why call me', 'he had a temper', 'youre a sociopath', ' hes a man', 'hey hey hey nurse', 'im sorry', 'hold on is that  popper', 'if you are a man youre the last man', 'nope not one bit', 'oh kevin youre so funny', 'this is like a dialect', 'oh my god my straw', 'thats your solution', 'thank you thank you', 'theres something you gotta know', 'you killed my friend', 'sit back relax', 'you still had so much mitch', 'almost too nice', 'thanks im not hungry', ' but i didnt laugh at you', '20 minutes max i promise', 'but i wasnt honest with you before', 'no his marriage is not at risk', 'we didnt distort facts', 'i showed him eh lads'), ('أجل. ولكنها لم تكمل', 'او يقوم بلإسناد.', 'ما كذب؟', '- وأنا فقط أريد له العودة.', 'لما لا', 'يا للهول! ذلك الماء', 'أعلم، أعلم', '-الشاي، سيد (هوي)', 'سويتس ، رجل انفجر للتو', '- لكنني رأيت أن ..', '\"شيلد\" بدأت تسبب المشاكل.', 'تلك كانت خطتها طول الوقت', 'أنا أسكن فقط.', 'أرأيت هذا؟', 'اتريد بعض الاستراحه؟', 'أو سأخبر الشرطة', 'خذ القائمه من بنطاله.', 'دعني أعطيك نصيحة', 'لو انني ساري هويتك بالطبع -', 'لم أره لأحد', '-كولين) )', 'تعالي إلي', 'هذا رائع', 'لقد قمت بالصواب', 'لماذا تبحث عن هذا ؟', 'مرحبا بول صباح الخير بوب', 'بعد الآن', 'أنا لا أفهم.', 'لقد ملئت ألبوما', '-ليس هراء', 'تعال هنا', 'لأنه مقرف', 'اهلا، إنه أنا.', 'اعتقد انه مليء...', 'ثم أنا بحاجة للبحث عنك', 'منذ أمس', 'أنه فقط سارق وجبان', 'يمكنني رؤيتك، (كيرك ).', 'لا أعرف ماذا أفعل', 'طالما تــــ...', '-إن (سايلس) شخص مختل', 'يكفي مماطلة!', '-أجل، هكذا يبدو الأمر .', 'إذا لم تعيش سأتكفل أنا بهذا', 'لأنه لا يعرفها, هذا هو السبب', 'لا بصق', 'دخل رمش في عيني اوه', 'بارد . ما هو الماء عنه؟', 'هذا هو.', 'لقد فعلتها يا (فرانك)', '- هذا جيد', '-إسمه (كايل).', 'ديز خرج من الأمر إنه مدمن،', 'ستكونين محظوظة!', 'ـ ماذا؟', 'نعم ماذا تريدين؟', 'انها محرجة قليلا.', '-ماء المطر لن يؤذينا .', 'هل انا أعاقب؟', 'لنجعل \"تود\" يمسك هذه', 'من ذلك ؟', '-لقد دخلت بشجار حانات', 'بالضبط تكاية الظهر', 'وضع المعركة , ايها الجميع', 'هل تبحث عن أحد؟ -فقط..', 'أنتظر لحظة.', 'أنا أعرف هراء عندما أسمع ذلك.', 'أنا اتحدث عن تفجير المكان', 'سأتدخل في الموضوع.', 'تيمور - لقد مات -', 'كلا , أنني واضح جدا', 'مساء الخير', 'مرحبا, أبحث عن إبنتي', 'هو ليس بق.', 'يتحرك أسرع!', 'الثانية الواحدة، رجاء.', 'فوستر الين , نائب المدير', 'إعتقدت بأنها مرسلة من الله', 'هل تمزحين؟', 'مزق الإطار لا يريد الدفع', 'سنعرف هذا عما قريب.', 'تغيـيـر زيت المحــرك', 'انت حقا جميل', 'ليس لدي أي فكرة ما...', 'هل قصدت يوما نادي \"الظل\"؟', '- بفعل ماذا ؟', 'كم ثمنه؟', 'هل تريد لشخص ما أن يموت؟', 'أمن أفراد البعثة', 'أين أضع هذا؟', 'لحظة واحده', '-يا إلهي !', 'لا ليس لدي', 'لدينا مشكل', 'لقد قتلت بالفعل ذلك التابع', 'لقد حان الوقت لرد الجميل لهم', 'أجل هو', 'والنتيجة ؟', 'بعض الأمريكيين مفقودون', '-لكننا لم ننتهي بعد', 'مقابلة كبيرة؟', '-لا تفعل ذلك .', 'شكرا شكرا', 'أنا الفائز', 'سأعترف بذلك', 'أرجو ذلك ..', 'انه ليس خطئي تيدي تكرهك', 'نعم، بالطبع.', 'الزعيم هو من أراد قتلك', 'أرها الآن', '-اخبرتك أنه لم يفعلها', '-شكرا لك .', 'وهذا هو عنوانها', 'انت لا تستطيع ان تتصرف كابي', 'انا اعتقد', 'زوجك اسمه يونك', 'أنت موافقة؟', 'خذ هذا ..', 'لست عارية، (دايل).', 'أنا لا أقدر.', 'وانحني بذراعيك معا', 'أعطاني ذلك الخاتم وجعلني أقسم', 'لماذا لا تذهب وتتسوق بنفسك ؟', '-حسنا، لنذهب .', '-في المنزل...', 'هيا الآن', 'سمعت عنا بامريكا', 'أبي غاضب.', 'سأقوم بتزويدكم بكل ما تحتاجونه', 'دائما متعة لكسر قلوب الناس', '-تشرفت بمعرفتك', 'صليبي مفقود.', 'ربما انا وجدت', 'لا، ولكن أفضل من هنا.', 'هل يمكنك أن تصل إليها؟', '.فقدت كرتك ، أيها الطفل؟', '-لفائف الجبن؟', 'إذن فهو ذنبي وليس ذنبك.', 'يعجبني ذلك', 'أنت تمزحين ما الذي قاله؟', 'بكل تأكيد!', 'دعنا نقل نعم', '. إنه طفلك المدلل', 'دكتور (هود)؟', 'أنه هنا لقد تبعنا الي هنا', 'هل أنت بالداخل الأن؟', 'نفس الشعور', 'بيره حسنا؟', 'لقد فزنا', 'أنا حقا لا أعلم', 'أنا أسفه انه خاصتك ليس لي', 'هو كان . . أفضل بكثير', 'شاهد خبير للدفاع', 'هل هذا غير ملائم لمكان العمل ؟', 'أنا لم أقل بأنك ستفعل', '* كـأوراق الـخـريـف بالضبـط *', 'أتقول لي لا؟', 'لا مشاعر الأن؟', 'الآن هذا دورك', '- تعرف ما أحب.', 'لن نستطيع الابقاء علي اتفاقنا', 'أظن أن يمكنني عمل هذا', 'أنا أحب ذلك.', 'أمك استعملت كل المخدر', 'العفو يا الهي -', 'هي فرصة للتعلم والنمو.', 'لقد كنت عند جميع ...', '. لا , لا تستطيع ذلك', '- نعم، بعض زميله .', 'افتح هذا الباب - !', 'يتحدثون عن سفينتنا..', 'أسمي مونتغمري', 'شخص يمكنك الوثوق به', 'لا يمكنك خداعـه يـا (إيمــا)', '- لا يمكنك أن تفعل ذلك.', 'سأفرغ الأمتعة', 'ليست لدي حيـاة اجتمـاعية', 'من الذي سأتزوجه؟', 'حسنا، فلنفعل هذا رافقوني', 'انا آسف , لم اسمع عن هذا', 'منزل جميل، هه؟', 'لا أعرفه', 'لقد مات.', 'مهمتنا لا تحمل أي هدف', 'أنها مثيرة جدا', 'كيف ذلك', 'أين هو ؟', '-لا تقلقي، سننشئ سجلا', 'ربما هو عصبي.', 'وجب عليك البقاء.', 'هذه كانت حجرته', 'أنا مع (سيد)، آسف، ماذا هناك؟', '-من فعل هذا؟', '- لا انا اعرفك بالفعل', 'والتر كيلي كان شرطيا جيدا', 'ألم تسمع ما قالته؟', 'مهلا لحظة', 'نيابة عنك، لحمايتك.', 'لقد سمعتك ,ساكون هناك', 'من هذه؟', 'أعرف سأفعل الاثنان معا', '(بيفين) - مرحبا -', 'ليس أنفصالا كما ..', 'لماذا تظنين ذلك؟', 'لا ، بالطبع لا', '---أرجوك، هذا', '-لا تكون عصبية،لا شيء .', '-سوزان)، اهدئي واجلسي) .', '-ال) )', 'نسخة مصغرة', 'هذه أول مرة منذ الثانوية', 'إهدئ - !', '-نعم أتذكرين (تيد) ذو الشعر؟', 'أوه، كلا', 'شكرا يا (دايزي) ماذا تفعلين؟', 'حسنا ,اذا وهو كذلك.', 'قلت لك- لا لم تقل-', 'اثار للعب بالأبرة', '-هل ستشين بي ؟ -أشي؟ ...', '-هذا ليس لي', 'إعتبره وكأنني أتبعك', 'لقد مر بالاختبار الثاني', 'جيد جدا، شكرا لك', '- حسنا, يا للعار.', 'عن طريق تبادلنا قبلة؟', 'أنها نفس السيارة', 'لا أسرار بعد الآن اتفقنا؟', 'يبدو جميل', 'مالذي يحدث ؟', 'أخي, انا آسف', 'لم تلتزمي بالاتفاق', '-كلا, إلا كتبي.', 'نحن سنفعل هذا حقا', '..أنا أعني، لو', 'السلاح السري.', 'آنسة أليسون، انسة ستيفنز.', 'لقد ضاع ايضا', 'ماذا بداخل الحقيبة ؟', 'إنهم يعذبون أخواتنا وبناتنا', 'أنا لا أملك أية أغراض.', '-أتريدني أن أصدقك ؟', 'أنا، اه، في الواقع رجل زنبق.', 'جائتني بهذه الفكرة', 'لا تقرر كل شيء بنفسك!', 'أنا أعلم ذلك.', '-هل هي جنية الرمل ،او ذيل جني', 'الجلسة الثامنة', '-أو ماذا ؟', 'هذا ليس جيدا', 'الطائر الصغير توقف للراحة', 'أوه إنه هزلي', 'لاحظي كيف سأورط (فلاندرز)', 'لديك مشاكل أكبر، أليس كذلك؟', 'معد الغلاف', 'إنها موجودة', 'الأمر فقط...', 'لا يجب علي أن أتأخر', 'هذا رقمنا الخاص.', 'ـانالم أراهأبدا!', 'لا شيء، بقدر ما اعرف.', 'حسنا ليس لدي اي فكرة', '-لكن لم يكن؟', 'أنها سبب أنشاء \"أوركسترا\"', 'هذا عظيم للغاية', 'أتظن أنك تستطيع القيام بذلك؟', 'اريدك ان تشرب الكؤوس الخمسه', 'يا للهول! كم أنا بارع', 'الرجاء قراءة اليمين بصوت عال', 'ماذا تريدين أن تدرسي؟', 'تعديل جيد', '(يا إلهي , ذلك هو (جوشوا بوتلر', 'لا شيء، لقد خرجت حيا', '-من أنت؟', 'أنا أستمتع', 'انت دوني بانكس', 'ـ محاضرة حول ماذا؟', 'يجب علي ان اذهب.', 'لدي مهمةلكما ،رافقاني!', 'يجب أن أعاقب هذه الغطرسة بقسوة', 'أحبك للغاية.', '\"مرحبا ، \"إيلينور', 'إن تحركت ناحية (آيريس)', 'الجندي المخلص يحمي قائده', 'لهم أم لك؟', 'أتعيشين هنا؟', 'ماتزال أحمقا بالرغم من ذلك', 'حسنا، يارجل، نحن هنا.', 'ليس لدي أليسون بعد الآن', 'كل ما أعرفه', 'لا تضيع وقتك', 'عبء هذا المكان؟', 'فيصل لن يخبرنا معلومات كاذبة', 'خمسة, عشرة, عشرون, لا يهم.', 'هل تريد لعب بعض الجولات؟', 'ماذا عن رب عملك؟', 'فقط لا تحاولي إيقاف ذلك الأمر', '-سيعرفون وقتها', '(مورغان) طلبت منك أن تأتي', 'وهو خطر وقاتل جدا.', 'أنا أستجديك..', 'أنت جميلة للغاية.', 'طفلك بحاجة إليك يا ـ(ستو)ـ', 'اب قلق', 'أأكد لك', 'شكرا يا (مايكل)', 'هذا موعدنا الأول', 'إنها لا تعتبرها سرقة', 'معذرة , انت اله', 'لقد كان خطابا جيدا', 'هو ليس الذي تعتقد.', '-آن)، في الحال)', 'تتكلم وكأنك خالق هذا الكون!', 'خطط العمل', 'ما اسم هذا المحل ؟', 'سنذهب لمأدبة جمع الأموال', 'كي تجامعها؟', 'أين تذهبين؟', 'هؤلاء الإثنان خمسة و أقل', 'أي رجل يمكن ان يفشل كثيرا', 'محادثتنا بدأت تعجبني', 'المدير يريد الذهاب.', 'آسفة هلا عذرتني لدقيقة', '-من كنت أخادع؟ -مالذي تريده؟', '-جمال) )', 'كيف تعمل ؟', 'لقد قيل لي أن..', 'سنعقد الاجتماع في وقت لاحق', 'مهلا، شيرلوك معك؟', '-كلا، إنها تريد البقاء', 'أجل ماذا ؟', 'هذا جيد', 'أنت تقتلني يا راندل مرحبا ...', '- لا باس', 'أنت لم نسمع أي شيء منها، هل؟', '-ماذا عن (غانيكوس)؟', 'ثديها؟ حقا؟', 'أتعلمين ما الذي قام به؟', '-منخفضة جدا ؟', '\"السيدة \"دلاسال', '(آدم) من؟', 'يمكننا استخدام ذلك.', 'ثانية واحدة', 'اربطوا أحزمتكم جميعا!', 'أنا بخير', '-إنها بطلة', 'المهم هو, أنا آسف', 'لم أهتم به كثيرا', 'لا , انتم لستم كذلك', 'إخرج من هنا.', 'انه يتعلق بما صدمتيه', 'في أي وقت وصلتي للمنزل؟', '(إيميلي فيتش).', 'أنت تريد.', '- اجل؟', '-كل يوم', '-عزيزي، عزيزي', 'هل لديك مكتب يمكنني استخدامه؟', '\"إننا لا نريد معاقبة أحدا\"', 'ربما عمل لأجلها', '. اقتل ما هو لك , لقتل مشكلتك', 'قلت اذهب من هنا', 'ابوك قال انك طبيعي ايضا', '-أمي، لا تشهقي', 'لماذا؟ ألا تعرف؟', 'خدعني ثانية.', 'أنا معك.', 'وماذا في ذلك بحق اللعنة ؟', 'لقد صعق بواسطة تدخل قدسي.', '-أستطيع عمل ذلك', 'اغلق ( تاناكا ) الطابق بأكمله', 'تعذيب .', 'مرحبا ، ها أنت', 'حلم مخيف , أليس كذلك ؟', 'ضايقه وسيمزقك أربا', 'لماذا إتصلت بي؟', '- كان لديه مزاج -', 'أنت معتل إجتماعيا', '-إنه رجل .', 'أيها الممرض.', 'وفقط نسيت أنا آسف', 'انها بيضه', 'إذا كنت إنسانا, فانت أخر إنسان', '-لا، أبدا', '\"أنت مضحك جدا يا \"كيفن', 'هل هذه مثل اللهجة؟', '، إنها تطير!', 'أهذا حلك؟', 'شكرا لكم، شكرا لكم.', 'ثمة شيء عليك معرفته', 'لقد قتلت صديقي', 'يستريح، والاسترخاء', 'ما زال لديك الكثير، (ميتش).', 'لطيفة جدا', 'شكرا , أنا لست جائعة', '-ولكنني لم اضحك عليك', 'عشرين دقيقة فقط أقسم', 'لكني لم أكن صادقا معك.', 'شريكك؟ لا، زواجه ليس في خطر.', '-لم نحرف الحقائق !', 'هل رأيتم، فتيان؟')]\n",
            "[(' stop', 'tell him mickey', 'how can you tell', 'sorry coulson', 'shes moving', 'god what is it you want of me', ' hey babe how was work', 'no im fine', 'shit i mustve been thinkin of brittany', 'cafe mom', 'im just gonna go take care of this', 'no ill let him have tonight', 'i have a big day tomorrow', ' well no', 'but i call him mc', 'im talking about my wife', 'its funny you know', 'oh youre alive', 'hes a good guy', 'good afternoon sir', 'enable file preview', ' these walls will not protect us oneill', 'hey whats up sergeant pepper', 'no curtain sticking to you', 'how dyou know about her', 'hey joel dont worry', 'heyhow are you', 'what did you see', 'well how come', 'before its too late', 'that there is no meal', 'um actually i think dannys right', ' you think', ' no', 'time heals all wounds', 'but then big brother swooped in', 'i agree', ' after him', 'he was still paying the monthly premium', 'im going to say somewhere in the middle', 'can you do anything with those', 'nick tell me you didnt', 'grab the blinds', 'its very complex', 'economic exploitation', 'a cuginos pizza', 'like i said curious now', ' whos that', 'all right tell you how this is gonna go', 'what did you just say to me', 'yeah no that was uh', 'monica who did this to you', 'house are you sure youre okay', 'i came for you', ' i will look for you there  i love you', 'not the way i see it', 'one thing bothers me', ' i love the way you feel', 'oh was i too rough on you', 'how about me', 'man i love sunsets', 'i saw the woman i heard her crying', 'shooting it in school would be good', 'is that what were calling it now', ' hi sweetie', 'you love your wife mr lewin', 'get out of here', 'i could fall in love with you you know uh', 'what are you doing here', 'so did i', 'hes got the device', ' damn it', 'you know my track record', 'why macdonald', 'its just an experiment', 'they can hash it out', 'could we have a moment alone', 'mp3 files', 'arthur were nearly there', 'as he heads cleverly towards us', 'get up on a microphone there', 'thanks neil', 'whats going on', 'how was that possible', 'please do in fact', 'this one is waking up', 'and you have', 'did you give that girl another one', 'listen to them do what they say', 'almost too successful', 'but for naturals', 'then i will give you 10 million from it', 'all he wants is the bank', 'no im', 'honestly kamath this doesnt suit you', 'and you guys are hi', ' dont get tense', 'it builds character', ' what period is it from', 'yes but you can', 'so what can i do for you', 'the troubles they just come', 'we are and there is excellent ridge detail', 'fucking do it', 'jay are really hitting it off yeah', 'do you know whats going on in there', 'save yourself', ' well how do we fix this', 'no i dont think so', 'i discover treasure', 'always so goddamn hot you know', 'what do you like', 'hes next to you but with one arm around you', 'i cant believe it', ' were going ahead with the freezing', 'the precise amount of power necessary', 'i love you shit', 'enough to go around', 'he was there', 'let every', 'which is it', 'remember the dussera fair', 'completely and utterly', 'your name', 'tonight or i kill the girl in the dungeon', 'but thats not my business', 'a chitchat coffee klatch', 'then come back', 'and the night before', 'you do not know you do not know', 'my mum is really devoted to me', 'sarah just freaks out', 'shell be taking mr steubens desk', 'how did you do it', 'i was going to say contemplative', 'theres that bed in the corner', 'well what do you say otis', 'well in your business im not surprised', 'fuck fuck fuck williamson', 'your honor i move that', ' head for the tunnels', 'you look a little nervous', ' byron watkins', ' what about that one girl', 'youre a lefty huh thats right', 'youre a good boy arent you', 'this was your idea', 'owen can you hear me dad', ' the kid with cerebral palsy  yeah', 'he is a cautious man', 'dont you see', 'im sorry but that is honestly adorable', 'why dont you care', 'you are so wrong', 'fifth committee', 'youre not going to find anything', ' fort wayne', 'go quick', 'okay lemmings', 'im gonna keep an eye on', 'what the hell is that for', 'hold on ill take care of this', 'im not a fanatic', 'very creepy', ' ok take it easy', 'you know what i think', 'lagertha bjorn is very happy here', 'he said you were the light of his life', 'im dead ohhoho', 'i was in ohio', 'my satphone', 'you left me', 'you wont be harmed', ' wait wait', 'i am a good father', 'access granted', 'ive never seen such a tough bitch', 'i could lose my license', 'sir lets go', ' why are you doing this', 'you can wait a little while right', 'dont put it in your pocket sir', 'no not exactly', 'yes you can', 'whos blowing up nelson', 'yeah its really nice', 'winner  sykov', 'asked for a bigger cut', 'i mean does he need structure', 'ill holster this', 'an accident', 'its a job its not who we are', ' if i get fired i get fired', ' next message  come on there you go', 'you might feel offended but', 'im not familiar with it', 'i repeat raise the shield', 'why would they bandage a dead man', 'thank you for those', ' you like it', 'i did', 'aunt mel are you trying to burp me', 'theres nothing in there', 'thank you im expecting one more', 'try the downbeat honey', 'lets go dont be afraid to use deadly force', 'ive been through this', 'sometimes im so damn good i scare myself', 'but youre gonna have to answer me', 'and that wasnt right either', 'thats different', 'are you sure about that', 'no dont', 'hes up', 'where do you want it', 'and living next door to me', 'see him together', 'right then  time sync', 'hes killing people and wrecking my life', 'but lord if we pay this ransom', 'dear god', 'make that four yes', 'subsistence farming is drying up basically', 'no big deal', 'having grown up in the city', 'ive done it both ways', 'mr and mrs eshelman', 'no actually this is quite interesting', 'you want to finish him together', 'all six of you', 'i must say im surprised', 'i got something for you right now', 'hey look garfields dancing with odie', ' hey', ' the one with the sick asses yeah hes good', ' calm down', 'i forgot i have an appointment', 'its so embarrassing', 'it was an accident', 'you can walk', 'thats a very clever idea', 'who are you', 'prison its the 70s frank', 'hi hi mom', 'listen to me daeng', 'yep sounds good', 'i trust them all', 'where did you learn all those things', ' no through example', ' why not ', 'be careful', 'how is masashi', 'the perfect shot too', 'do you want to know their names', 'hows lenny kravitz', 'god damn it', 'not interested', 'ourchart yeah', ' i dont', 'i know here you go', 'audrey you made it', 'ministry of transport', 'youre in paris well look im', 'the payoff accounts', 'can you give me a hand', 'ja ja oui oui si si', 'you mean my fathers ghost right', 'it came', ' butterfly', 'youre a horrible little man', 'maybe we shouldnt', 'natalie natalie heres what happened', ' why are you telling me this', 'oh its simple really', 'youre totally ruining the vibe', ' dreaming when the skies are blue', 'come on pick it up have a taste of this ', 'harrylistensomethings happened', 'why dont you just mind your own business', 'how many years old', 'no but dont stop twisting', 'yeah whatever', 'he existed outside of time', 'thats kagami first grader', 'oh are you', 'this is what im talking about you play this', 'daddy gonna give you some too', 'and your mother knows that something is up', 'some gift', 'they knew i was here', 'ive made plenty of clocks', 'our kids are tools', 'sanctify this vessel', 'baby peggys parents settled', 'okay you know what', 'if you can only live', 'that shit aint shit', 'shes a hard worker', 'i already got one of those', ' bye liam', 'say nothing ziva', 'all right', 'lock myself up in the room', 'um will this is', 'well im getting out of that business', 'i dont feel like a game', 'and in every molecule of our dna', 'resource requirements', 'you do what you want', 'hey we dont mean you any harm', 'funny ones scary ones', 'she dont mean it darlin', 'hes dead', 'i think there will be possible', ' and you know vida', ' whats that', 'what happened in here this morning', 'all two million of them', 'nobody can beat these', 'you know come on now', ' there is one  i saw it first', ' i brought you hot water', 'the main one it connects to the others', 'can i get you something', 'does he know me', 'chief boden', 'wanna come in for dinner', 'thats the problem', 'she was living there', 'was the technology excellent', 'more than anything in the world', 'perhaps not if you say so', 'tell me the reason', 'then we have numbers', 'healing is a process a slow process', 'see you tomorrow', 'he brought you a present', 'wait for my command', 'no reason', '  oh god', 'i kind of did my speech', 'were a fleeting shadow', 'were going for a drive', 'thank you', 'a reject a weirdo', 'kite x and x slots', 'he didnt do it', 'can you id him', 'i cant understand what youre saying', 'im gonna need your help remembering that', 'pretty awful', 'you know a lot about this stuff', 'no it was the truth', 'you know im ill', 'you completely fooled her', 'orlando stays with me', 'so which is it', 'dont go its a trap', 'what are we a couple miles inland', 'selects the color of liquid elements', 'darling darling', ' very practical', ' and then', 'he thinks were ugly', 'it is yours', 'wed have jousted over her', 'ooh is it on straight i dont know  boo', 'kenny its randy', 'thats no kind of life', ' how would i know', 'good morning prez', 'what do you say', 'what else you get out of him', 'and you dont now', ' no look its very nice', 'what is the pay', 'destroys the chair just entertainment', 'where did you get your weapons from', 'which is why we always dive with a buddy', 'why dont you get yourself settled', 'she hated queens boulevard', 'i beg you dont leave', 'have you been following me', 'she is dead', 'dont drive stupid', 'at least share a drink with me', ' he fell down the stairs', 'its pretty', 'would that i had been you for but a day', 'we were strong', ' rude', ' incest', 'stay away', 'you read the entire library of congress', 'come on come on', 'wheres that', 'she wanted to show me something', 'hey good to know', 'yeah for years', 'room service'), ('-توقف !', 'أخبره يا ميكي', 'كيف عرفتي ذلك؟', '(آسف، يا (كولسون', '-إنها تتحرك\" \"', 'يا إلهي،ما الذي تريده مني؟', 'مرحبا كيف العمل ؟', 'لا، أنا بخير.', 'تبا, علي التفكير كبريطاني', 'قهوة ، أمي ؟', 'سوف أذهب لأهتم بهذا', 'سأتركه ينعم بهذه الليلة', 'بالطبع لدي يوم كبير غدا', '-حسنا... لا', '...لكنني أدعوه', '- إنني أتحدث عن زوجتي - أوه ..', 'انه ممتع, اتعلمي؟', 'أنت حية.', 'إنه رجل جيد.', 'مساء الخير يا سيدي.', 'تفعيل عرض الملف', '-هذه الجدران لن تحمينا,أونيل', 'مهلا، ما متروك، الرقيب الفلفل؟', 'لا ستائر تلتصق بك.', 'ما أدراك بأمرها؟', 'جويل, لا تقلق', 'كيف حالك؟', 'ماذا رأيت؟', 'حسنا، كيف جئتي ؟', 'قبل أن يتأخر الوقت', 'تلك ليست وجبة', 'في الحقيقة اعتقد ان داني) محق)', '-أتظن ذلك؟', '- لا!', 'الوقت يداوي الجروح', 'لكن عندئذ جاء أخي فجأة.', 'اتفق معك', '- بعد له!', 'كان لا يزال يدفع المال', 'أظنها في مكان ما في المنتصف', 'هل يمكنك فعل أي شيء بهؤلاء ؟', 'نيك اخبرني انك لم تفعل ذلك', '. إفتح الستائر', 'معقد... للغاية.', 'الاستغلال الاقتصادي', 'بيتزا من \"كوجينو\"', 'كما قلت، أشعر بالفضول الآن.', '-كلا -من يكون؟', 'حسنا سأخبرك كيف سيتم ذلك', 'مالذي قلته لي لتوك ؟', 'نعم .. كان هذا .. آمم', '-من فعل هذا بك يا (مونيكا)؟', 'هاوس)، أواثق أنك بخير؟ )', 'أتيت لأجلك', 'سابحث عنك هناك انا احبك', 'لكن هذه ليست وجهة نظري', 'شيء واحد يضايقني:', '- أنا أحب الطريقة التي تشعر.', 'هل كنت قاسيه جدا نحوك؟', 'ماذا عني أنا', 'أحب غروب الشمس', 'لقد رأيت المرأة، وسمعتها تبكي.', 'تصويره في المدرسة سيكون رائع', 'أهذا ما نطلقه عليه الآن؟', '- مرحبا ياحلوة', 'أتحب زوجتك، سيد (لوين)؟', 'اذهب من هنا.', 'سأقع في الحب', 'ماذا تفعلين هنا؟', '-وكذلك أنا .', 'إن الجهاز بحوزته', '. اللعنة', 'تعرف سجلي الباهر.', 'لماذا (ماكدونالد) ؟', 'مجرد تجربة', 'لكي يستطيعا أن يتحدثا مع بعض', 'هلا تركتنا لوحدنا قليلا؟', 'ملفات صوتية.', 'نحن تقريبا هناك', '- بذكاء يتجه نحونا', 'إقترب من مكبر الصوت هناك', 'شكرا, (نيل).', 'مالـذي يحدث؟', 'كيف يعقل هذا؟', 'افعل ذلك رجاء في الحقيقة', 'لقد بدأ هذا يستفيق!', 'وقد فعلت', 'هل أعطيت تلك الفتاة شراب آخر؟', 'استمع اليهم وافعل ما يقولونه', 'تقريبا ناجحة جدا', 'لكن بالنسبة للطبيعيين؟', 'ساعطيك منها بليون.', 'كل ما يريده هو المصرف', '...لا, فأنا...', 'بامانة (كاماث) هذا لا يناسبك', '...وأنتم يا رفاق مرحبا', '-لا تتوتر .', 'ذلك يقوي الشخصية', '-من أية فترة تعتقدين؟', 'نعم ،، لكنك أنت تستطيعين', 'أذا ؟ لك أفعل أن يمكنني ماذا', 'الاضطرابات فقط تاتي', 'أجل وهناك تفاصيل خيطية ممتازة', 'اللعنة !', 'يقوم (جاي) بعمل رائع نعم', 'هل تعلمين ماذا يجري؟', 'أنقذ نفسك', '- حسنا، كيف يمكننا إصلاح ذلك؟', 'لا ، لا اظن هذا', 'أنا أكتشف الكنز', 'دائما ملتهب جدا , انت تعلم', '- ماذا تحب ؟', 'هو بجوارك ولكن بذراعه حولك', 'لا أصدق الأمر', 'سنقوم بعملية التجميد', 'لكمية الطاقة اللازمة', 'أحبك, تبا', 'عدد كافي للإلتفاف', 'لقد كان هناك...', '...دعوا كل\"', 'ما هو؟', 'هل تتذكر في عيد ديسهري؟', 'تماما وتماما.', 'اسمك؟ -', 'الليلة أو سأقتل الفتاة بالقبو', 'وهذا ليس اختصاصي', 'طاولة لشرب القهوة و الدردشة', 'ثم يعود.', 'والليلة قبلها ؟', 'لا تعلم، أحقا لا تعلم؟', 'لذلك فأمي تكرس نفسها لي', 'سارة فزعت من دون سبب.', '(ستأخذ مكتب السيد (ستيوبن', '-كيف فعلت ذلك؟', 'كنت سأقول تبدين نازعة للتأمل.', 'هنالك ذلك السرير عند الزاوية', 'حسنا .. ماذا تقول يا أوتيس ؟', 'حسنا في مجال عملك لست متفاجئ', 'تبا, تبا, تبا وليامسون', 'معاليك... أجل', '-اتجهوا للأنفاق ! -الشاحنة !', 'تبدين متوترة قليلا', 'بايرون واتكينز ) ؟', '-وماذا عن هذه الفتاة؟', '-أنت أعسر، صحيح؟', 'أنت كلب عاقل، أليس كذلك؟', '...لقد كانت فكرتك', '-أوين)، أيمكنك أن تسمعني؟', 'الطفل صاحب الشلل العقلي ؟', 'انه رجل حذر جدا.', 'ألا ترون؟', 'أنا آسفة، لكن هذا لطيف للغاية', 'لم لا تهتم أنت؟', 'إنك مخطئ لأبعد حد!', 'اللجنة الخامسة', 'لن تجد أي شيء', '- مدينة (فورت واين', 'أذهب بسرعة', 'حسنا، القوارض.', 'سوف أبقي عيني عليها', 'ما الغرض من هذا بحق الجحيم؟', 'انتظري انا سأعتني بهذا', 'لست متعصبا', 'أمر مخيف للغاية', '- حسنا، خذي الأمور بهدوء.', 'تعلمين بماذا أفكر؟', '-بيون) سعيد جدا هنا) .', 'لقد قال انك نور حياته', 'أنا ميت!', 'لقد كنت في [أوهايو]', 'هاتف القمر الصناعي', 'ـ لقد هجرتني', 'لن تتأذي', '-إنتـظر ، إنتظر ...', 'كما لا تتمكن من حماية ابنتك', 'الوصول , منح', 'لم اقابل عاهرة عنيدة هكذا', 'ممكن ان اخسر رخصتي.', 'سيدي، لنذهب.', '-لماذا تفعل ذلك؟', 'بوسعك الإنتظار قليلا ، صحيح؟', 'لا تضعها في جيبك - ماذا ؟', 'كلا .. ليس تماما', 'بل يمكنك', 'من يزعج (نيلسون) ؟', 'نعم , إنه حقا لطيف', 'الفائز، (زايكوف)', 'و طلب نسبة أكبر', 'يعني، انه لا حاجة هيكل؟', 'سأضع هذا جانبا.', 'حادث ؟', 'هو شغل ليس من نحن', 'ـ إذا تم فصلي, تم فصلي.', 'الرسالة التالية - هيا -', 'ربما تكونين مستاءه', 'لا أعرفه.', 'أكرر، ارفعوا الدرع', 'لم قد يقوموا بتضميد رجل ميت؟', 'شكرا لأولئك.', 'اعجبتك ؟', 'نعم , لقد فعلت', 'العمة ميل، تحاول أن تجشؤ لي؟', 'لا يوجد شيء هناك', 'شكرا لك انا انتظر شخصا اخر', 'جربي الواطئة،عزيزتي.', 'لا تخافوا من استخدام قوة مميتة', 'لقد مررت بذلك', 'احيانا اكون بارعا لدرجة مخيفة', 'ولكن عليك ان تجيبني', 'وكان ذلك ليس صحيحا أيضا', 'هذا مختـلـف', 'هل أنت متأكدة من ذلك؟', 'لا ، لا تتوقف', 'لقد وقف', 'أين تريدينها؟', 'وتعيش في البيت المجاور لي.', '-ذهبنا. لرؤيته، سويا', 'حسنا - اضبطوا التوقيت', 'إنه يقتل الناس، و يدمر حياتي', 'لكن يا سيدي إن دفعنا الفدية', 'يا إلهي العزيز.', '.إجعلي هذا أربعة - .أجل -', 'زراعة الكفاف تكاد تنقرض', 'ليس شيئا مهما', 'الترعرع في مدينة', 'لقد فعلتها بالطريقتين.', 'السيد والسيدة ايشلمان.', 'انتظر ! -لا , هذا ممتع تماما', 'أتريدين الإجهاز عليه معا ؟', 'جميعكم الستة', 'علي أن أقول بأنني متفاجئ', 'لدي شيء لهذا الأن', 'أنظري، جارفيلد يرقص مع أودي', '-مرحبا -مرحبا , ابي', '-المؤخرات الرهيبة؟', 'ـ أهدأ ـ أهدأ؟', 'لقد نسيت, لدي موعد.', 'هذا محرج جدا', 'لقد كان حادث', 'يمكنك المشي', 'هذه فكرة ذكية للغاية.', 'من أنت ؟', 'السجن أنها السبعينيات يا فرانك', 'هلا مرحبا أمي', '. (إستمع الي ، (ديانج', 'نعم، يبدو جيدا.', 'أثق بهم جميعا', 'من أين تعلمت كل هذا؟', '- لا عبر تقديم النموذج الجيد', '- لم لا؟', 'كن حذرا.', '...كيف حال مساشي', 'رصاصة مثالية ايضا', 'هل تريد معرفة أسمائهم؟', 'كيف حال (ليني كرافيتز)؟', 'اللعنة عليك', 'لست مهتمة', '\" أور تشارت \" أجل', '-أنا لا أعتذر .', 'اعلم, ها نحن ذا', 'لقد نجحت يا اودري', 'وزارة النقل', 'أنتما في \"باريس\"، أنا ..', 'حسابات الرشوة', 'هل تساعدينني؟', 'كلام فارغ', 'تعني شبح أبي، حق؟', 'لقد وصل حقا؟', '-فراشة! فراشة !', '-أنت رجل صغير فظيع .', 'ربما ليس علينا بعد الآن.', 'ناتالي ، ناتالي هنا ماحدث', 'لماذا تخبرني هذا ؟', '-أنا بسيطة حقا ', 'أنتم تفسدون الجو تماما.', 'أحلم عندما تكون السماء زرقاء', 'هيا إرفعهما ، تذوق هذه', '-هاري)، اسمعي، لقد حدثت حادثة)', 'لم لا تهتمين بشؤونك فقط؟', 'كم عمرها؟', 'لا .. لكن لا تكفي عن البحث', 'نعم, أيا  كان', 'لقد عاش خارج نطاق الزمن.', 'ذلك \"كاغامي\", في الصف الأول.', 'هل أنت؟', 'هذا ما اتحدث عنه', 'والدكم سيعطيكم البعض أيضا', 'وأمك تعلم أن شيئا ما يحدث.', 'يالها من هبة !', 'لقد علموا انني هنا', 'لقد صنعت الكثير من الساعات', 'اطفالنا متحايلين', '\"طهر هذا الوعاء الدموي\".', 'والدا الطفله بيغي اتما تسويه', 'حسنا، أوتعلمين؟', '...إذا تسطتيع أن نعيش فقط', 'تلك القذارة ليست بقذارة', 'أنها عاملة جادة', 'انا عندي واحدة.', '- وداعا، ليام!', '(لا تقولي شيئا (زيفا', 'كل الحق؟', 'أحبس نفسي في الغرفة؟', '(ويل)، هذا السيد...', 'حسنا، أنا خارج هذه الأعمال.', 'أنا لا أحس بانها لعبة', 'و في كل جزيء في حمضنا النووي.', 'الاحتياجات من الموارد', 'افعل ما تريد', '.أنت ! ، نحن لم نقصد إيذائك', 'واحدة مضحكة ...', 'لم تقصد شيئا يا عزيزتي.', 'إنه ميت', 'هذا مستحيل', '-و أنت تعرف فايدا', '-وما هو؟', 'ماذا حدث هنا هذا الصباح ؟', 'جميع المليونين منهم', 'الكريم... أوه!', 'تعرف كيف كفاك', 'هناك واحد أنا رأيته أولا', '-أحضرت لك ماء دافئا', 'الرئيسية، إنها ترتبط بالبقية.', 'هل يمكنني أن أجلب لك شيئا؟', '-هل يعرفني؟', '(أيها القائد (بودين', 'أتود المجيء لتناول العشاء ؟', 'هذه هي المشكلة', '... كانت تعيش هناك', 'هل كانت التكنولوجيا ممتازة؟', 'أكثر من أي شيء في العالم حقا؟', 'ربما ليس إذا كان هذا رأيك', 'قل لي ماهو', 'إذا نحن نفوقهم عددا', 'و عملية بطيئة', 'أراك غدا', '-لقد أحضر لك هدية', 'انتظروا أوامري!', 'دون سبب', 'يا إلهي', 'نوعا ما ألقيت خطابي الخاص.', 'نحن ظلال سريعة الزوال', 'سنذهب في جولة', '-شكرا لك .', 'مرفوض غريب الاطوار', '(كايتو) ونوافذه', 'هو لم يفعل هذا', 'أمكنك التعرف عليه؟', 'لا أفهم ما تقول', 'سوف احتاج مساعدتك بتذكر هذا', 'فظيع جدا.', '-تعرفين الكثير عن هذه الأشياء', 'لا,أنها كانت الحقيقة -', 'كنت أعرف أنني مريض.', '! انت خدعتها كليا', '-أورنالد) سيبق معي) .', 'فأيهما تكون؟', 'لا تذهب .', 'هل تعمقنا ميلين؟', 'يختار اللون من', 'عزيزتي، عزيزتي!', '- عملية جدا', '-وبعد ذلك؟', '-يجدنا قبيحتان', 'أنه ملكك', 'سيكون لدينا محكمة ضد بعضنا', 'آه ،هل ذلك مرتب ،لا اعرف، آه', '(كيني) معك (راندي)', 'هذا ليس نوع من الحياة', '-كيف لي أن أعرف؟', 'صباح الخير ,أيتهـا الرئيسة!', 'ما رأيكم ؟', 'ماذا أيضا لدينا حوله؟', 'و لا تصدقين هذا الآن؟', 'ـ كلا، انظر، إنه بالغ الروعة.', '- ما الثمن ؟', 'يدمر كرسي الترفيه فقط.', 'من أين جلبت أسلحتك ؟', 'والذي يفرض علينا الغوص مع رفيق', 'لماذا لا تستقرين بحياتك ؟', 'لقد كرهت (كوينز بولفارد)', 'أتوسل إليك, أن لا تتركيني.', 'هل كنت تراقب تحركاتي؟', 'إنها ميتة', 'لا تقودي السيارة بغباء', 'أقلها اشرب كأسا معي', '-لقد سقط من السلالم .', 'إنها جميلة', 'ربما أتملك قلبك في يوم ما', 'كنا أقوياء.', '- وقح.', '- نعم.', 'أبتعدي عني', 'لقد قرأت مكتبة الكونغرس كاملة', 'هيا ، هيا', 'وأين هذا؟', 'أرادت أن تريني شيء ما', 'حسنا, من الجيد معرفة ذلك', 'نعم, منذ سنوات', 'خدمة غرف.')]\n"
          ]
        }
      ],
      "source": [
        "for batch_num, batch in enumerate(iterator):\n",
        "    print(batch)\n",
        "    if batch_num > 3:\n",
        "        break"
      ]
    },
    {
      "cell_type": "markdown",
      "id": "8e84391e",
      "metadata": {
        "id": "8e84391e"
      },
      "source": [
        "## Training"
      ]
    },
    {
      "cell_type": "code",
      "execution_count": 42,
      "id": "ae719142",
      "metadata": {
        "id": "ae719142"
      },
      "outputs": [],
      "source": [
        "transformer = Transformer(d_model, ffn_hidden,num_heads, dropout_rate, num_layers, max_seq_len,len(index_to_arabic),english_to_index,arabic_to_index,\n",
        "                          START_TOKEN, END_TOKEN, PADDING_TOKEN)"
      ]
    },
    {
      "cell_type": "code",
      "execution_count": 43,
      "id": "0dd54461",
      "metadata": {
        "id": "0dd54461"
      },
      "outputs": [],
      "source": [
        "criterian = nn.CrossEntropyLoss(ignore_index = arabic_to_index[PADDING_TOKEN], reduction='none')\n",
        "\n",
        "for params in transformer.parameters():\n",
        "    if params.dim() > 1:\n",
        "        nn.init.xavier_uniform_(params)\n",
        "\n",
        "optim = torch.optim.Adam(transformer.parameters(), lr=learning_rate)\n",
        "device = torch.device('cuda') if torch.cuda.is_available() else torch.device('cpu')"
      ]
    },
    {
      "cell_type": "code",
      "execution_count": 44,
      "id": "f33db8dc",
      "metadata": {
        "colab": {
          "base_uri": "https://localhost:8080/"
        },
        "id": "f33db8dc",
        "outputId": "071fd088-8501-492a-d224-bcc8815d9220"
      },
      "outputs": [
        {
          "output_type": "stream",
          "name": "stdout",
          "text": [
            "Epoch 0\n",
            "1369\n",
            "Iteration num: 0 , training loss: 6.036006450653076\n",
            "English: and this\n",
            "Arabic Translation: و هذه؟\n",
            "Arabic Prediction: ۀۀۀۀۀۀۀۀۀ~ۀۀۀۀۀۀۀۀۀۀۀۀۀۀۀۀۀۀۀۀۀۀۀۀۀۀۀ٤ۀس*ۋس~ۀ\n",
            "Iteration num: 100 , training loss: 3.305302381515503\n",
            "English: you gotta keep going\n",
            "Arabic Translation: عليك أن تستمر بالهرب\n",
            "Arabic Prediction:        ا ل  ل  ل                        ا  ا \n",
            "Iteration num: 200 , training loss: 3.289287805557251\n",
            "English: i did\n",
            "Arabic Translation: نعم فعلت\n",
            "Arabic Prediction:                      اا     ا  ا             \n",
            "Iteration num: 300 , training loss: 3.3027591705322266\n",
            "English: its here its here\n",
            "Arabic Translation: \"إنها هنا، إنها هنا\"\n",
            "Arabic Prediction:    ا     ا         ا             ا    ا   ا  \n",
            "Iteration num: 400 , training loss: 3.1072630882263184\n",
            "English: garrett was a madman\n",
            "Arabic Translation: \"غاريت\" كان مجنونا\n",
            "Arabic Prediction:       ا       ا ا\n",
            "Iteration num: 500 , training loss: 3.0382425785064697\n",
            "English:  youre sorry\n",
            "Arabic Translation: -أنت آسف؟\n",
            "Arabic Prediction: --      .\n",
            "Iteration num: 600 , training loss: 2.948789596557617\n",
            "English: what is he after\n",
            "Arabic Translation: . ما الذي يخطط له ايضا\n",
            "Arabic Prediction: -ا            ا\n",
            "Iteration num: 700 , training loss: 2.85663104057312\n",
            "English:  put out the fire in your head \n",
            "Arabic Translation: ؟ ضع خارجا النار في رأسك؟\n",
            "Arabic Prediction: للل      ا           ااا؟\n",
            "Iteration num: 800 , training loss: 2.65134596824646\n",
            "English: yours or uh your wifes\n",
            "Arabic Translation: أهي لك أم لزوجتك؟\n",
            "Arabic Prediction: أل  أأ أأأأ  ل ي.\n",
            "Iteration num: 900 , training loss: 2.2550885677337646\n",
            "English: small arms control\n",
            "Arabic Translation: تحديد الأسلحة الصغيرة\n",
            "Arabic Prediction: سسسس  اللتا   الليل\n",
            "Iteration num: 1000 , training loss: 1.6744388341903687\n",
            "English: c keeping of official registers\n",
            "Arabic Translation: (ج) وضع سجلات رسمية\n",
            "Arabic Prediction: ()) (دة موااء باااة\n",
            "Iteration num: 1100 , training loss: 1.3519893884658813\n",
            "English: e transport law\n",
            "Arabic Translation: هاء- قانون النقل\n",
            "Arabic Prediction: هاء- تنننن النقايااااااااامااااااااااااممااما\n",
            "Iteration num: 1200 , training loss: 1.0716540813446045\n",
            "English: see further section e below\n",
            "Arabic Translation: وانظر كذلك القسم هاء أدناه.\n",
            "Arabic Prediction: كاننر كذلك الووذ هك  أكاا..\n",
            "Iteration num: 1300 , training loss: 1.1203678846359253\n",
            "English: our future doesnt have to be imagined\n",
            "Arabic Translation: مستقبلنا لا يجب أن متخيلا\n",
            "Arabic Prediction: إستطبلاا يي سسس أن تتلللا\n"
          ]
        }
      ],
      "source": [
        "transformer.train()\n",
        "transformer.to(device)\n",
        "total_loss = 0\n",
        "\n",
        "for epoch in range(num_epochs):\n",
        "    print(f\"Epoch {epoch}\")\n",
        "    iterator = iter(train_loader)\n",
        "    print(len(iterator))\n",
        "    for batch_num, batch in enumerate(iterator):\n",
        "        transformer.train()\n",
        "        eng_batch, ar_batch = batch\n",
        "        optim.zero_grad()\n",
        "        if(len(ar_batch)!=batch_size): break\n",
        "        ar_predictions = transformer(eng_batch,ar_batch)\n",
        "        labels = transformer.dec_sentence_embedding.batch_tokenize(ar_batch, start_token=False, end_token=True)\n",
        "        loss = criterian(\n",
        "            ar_predictions.view(-1, len(arabic_voc)).to(device),\n",
        "            labels.view(-1).to(device)\n",
        "        ).to(device)\n",
        "        valid_indicies = torch.where(labels.view(-1) == arabic_to_index[PADDING_TOKEN], False, True)\n",
        "        loss = loss.sum() / valid_indicies.sum()\n",
        "        loss.backward()\n",
        "        optim.step()\n",
        "        #train_losses.append(loss.item())\n",
        "        if batch_num % 100 == 0:\n",
        "            print(f\"Iteration num: {batch_num} , training loss: {loss.item()}\")\n",
        "            print(f\"English: {eng_batch[0]}\")\n",
        "            print(f\"Arabic Translation: {ar_batch[0]}\")\n",
        "            ar_sentence_predicted = torch.argmax(ar_predictions[0], axis=1)\n",
        "            predicted_sentence = \"\"\n",
        "            for idx in ar_sentence_predicted:\n",
        "              if idx == arabic_to_index[END_TOKEN]:\n",
        "                break\n",
        "              predicted_sentence += index_to_arabic[idx.item()]\n",
        "            print(f\"Arabic Prediction: {predicted_sentence}\")\n",
        "\n",
        "            transformer.eval()\n",
        ""
      ]
    },
    {
      "cell_type": "code",
      "source": [
        "transformer.train()\n",
        "transformer.to(device)\n",
        "total_loss = 0\n",
        "\n",
        "for epoch in range(num_epochs):\n",
        "    print(f\"Epoch {epoch}\")\n",
        "    iterator = iter(train_loader)\n",
        "    print(len(iterator))\n",
        "    for batch_num, batch in enumerate(iterator):\n",
        "        transformer.train()\n",
        "        eng_batch, ar_batch = batch\n",
        "        optim.zero_grad()\n",
        "        if(len(ar_batch)!=batch_size): break\n",
        "        ar_predictions = transformer(eng_batch,ar_batch)\n",
        "        labels = transformer.dec_sentence_embedding.batch_tokenize(ar_batch, start_token=False, end_token=True)\n",
        "        loss = criterian(\n",
        "            ar_predictions.view(-1, len(arabic_voc)).to(device),\n",
        "            labels.view(-1).to(device)\n",
        "        ).to(device)\n",
        "        valid_indicies = torch.where(labels.view(-1) == arabic_to_index[PADDING_TOKEN], False, True)\n",
        "        loss = loss.sum() / valid_indicies.sum()\n",
        "        loss.backward()\n",
        "        optim.step()\n",
        "        #train_losses.append(loss.item())\n",
        "        if batch_num % 100 == 0:\n",
        "            print(f\"Iteration num: {batch_num} , training loss: {loss.item()}\")\n",
        "            print(f\"English: {eng_batch[0]}\")\n",
        "            print(f\"Arabic Translation: {ar_batch[0]}\")\n",
        "            ar_sentence_predicted = torch.argmax(ar_predictions[0], axis=1)\n",
        "            predicted_sentence = \"\"\n",
        "            for idx in ar_sentence_predicted:\n",
        "              if idx == arabic_to_index[END_TOKEN]:\n",
        "                break\n",
        "              predicted_sentence += index_to_arabic[idx.item()]\n",
        "            print(f\"Arabic Prediction: {predicted_sentence}\")\n",
        "\n",
        "            transformer.eval()\n",
        ""
      ],
      "metadata": {
        "colab": {
          "base_uri": "https://localhost:8080/"
        },
        "id": "ZsxvwO74NlNO",
        "outputId": "8f17af36-b174-4494-a5f3-df46cc828ba2"
      },
      "id": "ZsxvwO74NlNO",
      "execution_count": null,
      "outputs": [
        {
          "output_type": "stream",
          "name": "stdout",
          "text": [
            "Epoch 0\n",
            "1369\n",
            "Iteration num: 0 , training loss: 1.03951096534729\n",
            "English: and this\n",
            "Arabic Translation: و هذه؟\n",
            "Arabic Prediction: و هذها\n",
            "Iteration num: 100 , training loss: 0.8189812302589417\n",
            "English: you gotta keep going\n",
            "Arabic Translation: عليك أن تستمر بالهرب\n",
            "Arabic Prediction: علكك أن تتتار بالجرب\n",
            "Iteration num: 200 , training loss: 0.7353418469429016\n",
            "English: i did\n",
            "Arabic Translation: نعم فعلت\n",
            "Arabic Prediction: نعم ف\n",
            "Iteration num: 300 , training loss: 0.7282065153121948\n",
            "English: its here its here\n",
            "Arabic Translation: \"إنها هنا، إنها هنا\"\n",
            "Arabic Prediction: .إنها هنا، إنهذ هل  اهه-ههاهههههمههه-هههههههه\n",
            "Iteration num: 400 , training loss: 0.6034501194953918\n",
            "English: garrett was a madman\n",
            "Arabic Translation: \"غاريت\" كان مجنونا\n",
            "Arabic Prediction: \"حاريت\" كان مجنونا\n",
            "Iteration num: 500 , training loss: 0.6089304089546204\n",
            "English:  youre sorry\n",
            "Arabic Translation: -أنت آسف؟\n",
            "Arabic Prediction: -أنا آسف؟\n",
            "Iteration num: 600 , training loss: 0.5646094083786011\n",
            "English: what is he after\n",
            "Arabic Translation: . ما الذي يخطط له ايضا\n",
            "Arabic Prediction: . ما الذي يخط  لي\n",
            "Iteration num: 700 , training loss: 0.541989803314209\n",
            "English:  put out the fire in your head \n",
            "Arabic Translation: ؟ ضع خارجا النار في رأسك؟\n",
            "Arabic Prediction: ه عع خارها الاا  في سأبك؟\n",
            "Iteration num: 800 , training loss: 0.5373777151107788\n",
            "English: yours or uh your wifes\n",
            "Arabic Translation: أهي لك أم لزوجتك؟\n",
            "Arabic Prediction: أهي لك أم لدوثتك؟\n",
            "Iteration num: 900 , training loss: 0.5340385437011719\n",
            "English: small arms control\n",
            "Arabic Translation: تحديد الأسلحة الصغيرة\n",
            "Arabic Prediction: تجدية الأسلحة الصغيةة\n",
            "Iteration num: 1000 , training loss: 0.4428241550922394\n",
            "English: c keeping of official registers\n",
            "Arabic Translation: (ج) وضع سجلات رسمية\n",
            "Arabic Prediction: (ج) وعع سجلا  رحمية\n",
            "Iteration num: 1100 , training loss: 0.45009374618530273\n",
            "English: e transport law\n",
            "Arabic Translation: هاء- قانون النقل\n",
            "Arabic Prediction: هاء- قانون النقيياااااااااااااااااااااااااااا\n",
            "Iteration num: 1200 , training loss: 0.3567756116390228\n",
            "English: see further section e below\n",
            "Arabic Translation: وانظر كذلك القسم هاء أدناه.\n",
            "Arabic Prediction: وانرر كذلل القبم هاه أكنهه.\n",
            "Iteration num: 1300 , training loss: 0.4379473030567169\n",
            "English: our future doesnt have to be imagined\n",
            "Arabic Translation: مستقبلنا لا يجب أن متخيلا\n",
            "Arabic Prediction: خستببباا اا غجب أن تتنيلا\n",
            "Epoch 1\n",
            "1369\n",
            "Iteration num: 0 , training loss: 0.46752840280532837\n",
            "English: and this\n",
            "Arabic Translation: و هذه؟\n",
            "Arabic Prediction: و هذه؟\n",
            "Iteration num: 100 , training loss: 0.40256595611572266\n",
            "English: you gotta keep going\n",
            "Arabic Translation: عليك أن تستمر بالهرب\n",
            "Arabic Prediction: عليك أن تستمر بالهرب\n",
            "Iteration num: 200 , training loss: 0.40851718187332153\n",
            "English: i did\n",
            "Arabic Translation: نعم فعلت\n",
            "Arabic Prediction: نعم فن\n",
            "Iteration num: 300 , training loss: 0.41839298605918884\n",
            "English: its here its here\n",
            "Arabic Translation: \"إنها هنا، إنها هنا\"\n",
            "Arabic Prediction: \"إنها هنا، إنها هل \n",
            "Iteration num: 400 , training loss: 0.37473374605178833\n",
            "English: garrett was a madman\n",
            "Arabic Translation: \"غاريت\" كان مجنونا\n",
            "Arabic Prediction: (غاريتي كان مجنونا\n",
            "Iteration num: 500 , training loss: 0.39519351720809937\n",
            "English:  youre sorry\n",
            "Arabic Translation: -أنت آسف؟\n",
            "Arabic Prediction: -أنت آسف؟\n",
            "Iteration num: 600 , training loss: 0.3529302775859833\n",
            "English: what is he after\n",
            "Arabic Translation: . ما الذي يخطط له ايضا\n",
            "Arabic Prediction: . ما الذي يخطط لللاللا\n",
            "Iteration num: 700 , training loss: 0.34037551283836365\n",
            "English:  put out the fire in your head \n",
            "Arabic Translation: ؟ ضع خارجا النار في رأسك؟\n",
            "Arabic Prediction: ؟ ضع ااراا النار فيرفأكك؟\n",
            "Iteration num: 800 , training loss: 0.3479725420475006\n",
            "English: yours or uh your wifes\n",
            "Arabic Translation: أهي لك أم لزوجتك؟\n",
            "Arabic Prediction: أهي لك ,م لزوجتك؟\n",
            "Iteration num: 900 , training loss: 0.33895641565322876\n",
            "English: small arms control\n",
            "Arabic Translation: تحديد الأسلحة الصغيرة\n",
            "Arabic Prediction: تحديد الأسلحة الصف\n",
            "Iteration num: 1000 , training loss: 0.3027274012565613\n",
            "English: c keeping of official registers\n",
            "Arabic Translation: (ج) وضع سجلات رسمية\n",
            "Arabic Prediction: (ج) وضع (جلات رسمية\n",
            "Iteration num: 1100 , training loss: 0.2977748513221741\n",
            "English: e transport law\n",
            "Arabic Translation: هاء- قانون النقل\n",
            "Arabic Prediction: هاء- قانون النقاا\n",
            "Iteration num: 1200 , training loss: 0.24393011629581451\n",
            "English: see further section e below\n",
            "Arabic Translation: وانظر كذلك القسم هاء أدناه.\n",
            "Arabic Prediction: وانظر ذذلك القحم هال أهناه.\n",
            "Iteration num: 1300 , training loss: 0.2635910212993622\n",
            "English: our future doesnt have to be imagined\n",
            "Arabic Translation: مستقبلنا لا يجب أن متخيلا\n",
            "Arabic Prediction: مستببلكا اا يجب أن ختخيلا\n",
            "Epoch 2\n",
            "1369\n"
          ]
        }
      ]
    }
  ],
  "metadata": {
    "kernelspec": {
      "display_name": "Python 3",
      "name": "python3"
    },
    "language_info": {
      "codemirror_mode": {
        "name": "ipython",
        "version": 3
      },
      "file_extension": ".py",
      "mimetype": "text/x-python",
      "name": "python",
      "nbconvert_exporter": "python",
      "pygments_lexer": "ipython3",
      "version": "3.11.7"
    },
    "colab": {
      "provenance": [],
      "gpuType": "T4"
    },
    "accelerator": "GPU"
  },
  "nbformat": 4,
  "nbformat_minor": 5
}