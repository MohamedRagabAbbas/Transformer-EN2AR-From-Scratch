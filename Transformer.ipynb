{
 "cells": [
  {
   "cell_type": "code",
   "execution_count": 3752,
   "id": "298035d4-5673-4977-8393-262f92cc7265",
   "metadata": {},
   "outputs": [],
   "source": [
    "import torch\n",
    "import torch.nn as nn\n",
    "import numpy as np\n",
    "import math\n",
    "import torch.nn.functional as F\n",
    "import pandas as pd\n",
    "from torch.utils.data import Dataset, DataLoader"
   ]
  },
  {
   "cell_type": "markdown",
   "id": "53f236de",
   "metadata": {},
   "source": [
    "## Setting the Hyperparameters"
   ]
  },
  {
   "cell_type": "code",
   "execution_count": 3753,
   "id": "ff3c8dc0",
   "metadata": {},
   "outputs": [],
   "source": [
    "batch_size = 32\n",
    "max_seq_len = 45\n",
    "input_dim = 512\n",
    "d_model = 512\n",
    "num_heads = 8\n",
    "ffn_hidden = 2048\n",
    "num_layers = 6\n",
    "dropout_rate = 0.1\n",
    "learning_rate = 0.0001\n",
    "num_epochs = 1\n",
    "top = 100000"
   ]
  },
  {
   "cell_type": "code",
   "execution_count": 3754,
   "id": "7b704ec8",
   "metadata": {},
   "outputs": [],
   "source": [
    "def get_device():\n",
    "    return torch.device('cuda') if torch.cuda.is_available() else torch.device('cpu')"
   ]
  },
  {
   "cell_type": "markdown",
   "id": "33b2d3ac",
   "metadata": {},
   "source": [
    "## Multihead Self Attention"
   ]
  },
  {
   "cell_type": "code",
   "execution_count": 3755,
   "id": "deac3059",
   "metadata": {},
   "outputs": [],
   "source": [
    "def scaled_dot_product_attention(q,k,v,mask=None):\n",
    "    d_k = q.size(-1)\n",
    "    qk = torch.matmul(q, k.transpose(-2, -1)) /  math.sqrt(d_k)\n",
    "    if mask is not None:\n",
    "        qk = qk.permute(1, 0, 2, 3) + mask\n",
    "        qk = qk.permute(1, 0, 2, 3)\n",
    "    qk = F.softmax(qk, dim=-1)\n",
    "    new_qkv = torch.matmul(qk, v)\n",
    "    return new_qkv\n",
    "\n",
    "class Multihead_Self_Attention(nn.Module):\n",
    "    def __init__(self,input_dim, d_model, num_heads):\n",
    "        super(Multihead_Self_Attention, self).__init__()\n",
    "        self.input_dim = input_dim\n",
    "        self.model_dim = d_model\n",
    "        self.num_heads = num_heads\n",
    "        self.head_dim = self.model_dim // self.num_heads\n",
    "        self.qkv_layer = nn.Linear(input_dim, 3 * self.model_dim)\n",
    "        self.concat_layer = nn.Linear(self.model_dim, self.model_dim)\n",
    "        self.softmax = nn.Softmax(dim=-1)\n",
    "\n",
    "    def forward(self,x,mask=None):\n",
    "        qkv = self.qkv_layer(x)\n",
    "        qkv = qkv.view(batch_size,max_seq_len,self.num_heads,3*self.head_dim)\n",
    "        qkv = qkv.permute(0,2,1,3)\n",
    "        q,k,v = qkv.chunk(3,dim=-1)\n",
    "        new_qkv = scaled_dot_product_attention(q,k,v,mask)\n",
    "        new_qkv = new_qkv.permute(0,2,1,3)\n",
    "        new_qkv = new_qkv.reshape(batch_size,max_seq_len,self.model_dim)\n",
    "        out = self.concat_layer(new_qkv)\n",
    "        return out"
   ]
  },
  {
   "cell_type": "markdown",
   "id": "0a55ca48",
   "metadata": {},
   "source": [
    "## Multihead Cross Attention"
   ]
  },
  {
   "cell_type": "code",
   "execution_count": 3756,
   "id": "7ee818ea",
   "metadata": {},
   "outputs": [],
   "source": [
    "class Multihead_Cross_Attention(nn.Module):\n",
    "    def __init__(self,input_dim, model_dim, num_heads):\n",
    "        super(Multihead_Cross_Attention, self).__init__()\n",
    "        self.input_dim = input_dim\n",
    "        self.model_dim = model_dim\n",
    "        self.num_heads = num_heads\n",
    "        self.head_dim = model_dim // num_heads\n",
    "        self.qk_layer = nn.Linear(input_dim, 2 * model_dim)\n",
    "        self.v_layer = nn.Linear(input_dim, model_dim)\n",
    "        self.concat_layer = nn.Linear(model_dim, model_dim)\n",
    "        self.softmax = nn.Softmax(dim=-1)\n",
    "\n",
    "    def forward(self,x,y,mask=None):\n",
    "        qk = self.qk_layer(x)\n",
    "        v = self.v_layer(y)\n",
    "        qk = qk.view(batch_size,max_seq_len,num_heads,2*self.head_dim)\n",
    "        v = v.view(batch_size,max_seq_len,num_heads,self.head_dim)\n",
    "        qk = qk.permute(0,2,1,3)\n",
    "        v = v.permute(0,2,1,3)\n",
    "        q,k = qk.chunk(2,dim=-1)\n",
    "        new_qkv = scaled_dot_product_attention(q,k,v,mask)\n",
    "        new_qkv = new_qkv.permute(0,2,1,3)\n",
    "        new_qkv = new_qkv.reshape(batch_size,max_seq_len,self.model_dim)\n",
    "        out = self.concat_layer(new_qkv)\n",
    "        return out"
   ]
  },
  {
   "cell_type": "markdown",
   "id": "f160b031",
   "metadata": {},
   "source": [
    "## Positional Encoding"
   ]
  },
  {
   "cell_type": "code",
   "execution_count": 3757,
   "id": "5f0c6c28",
   "metadata": {},
   "outputs": [],
   "source": [
    "class PostionalEncoding(nn.Module):\n",
    "    def __init__(self,max_seq_len,d_model):\n",
    "        super(PostionalEncoding,self).__init__()\n",
    "        self.max_seq_len = max_seq_len\n",
    "        self.d_model = d_model\n",
    "        self.encoding = torch.zeros(self.max_seq_len,self.d_model)\n",
    "    \n",
    "    def forward(self,x):\n",
    "        even_index = torch.arange(0,self.d_model,2).float()\n",
    "        domenator = torch.pow(10000,even_index/self.d_model)\n",
    "        position = torch.arange(0,self.max_seq_len).unsqueeze(1)\n",
    "        PE_even = torch.sin(position/domenator)\n",
    "        PE_odd = torch.cos(position/domenator)\n",
    "        stacked = torch.stack([PE_even,PE_odd],dim=2)\n",
    "        PE_flatten = torch.flatten(stacked,start_dim=1,end_dim=2)\n",
    "        return PE_flatten"
   ]
  },
  {
   "cell_type": "markdown",
   "id": "cdfde7de",
   "metadata": {},
   "source": [
    "## Normalization Layer"
   ]
  },
  {
   "cell_type": "code",
   "execution_count": 3758,
   "id": "9ed90324",
   "metadata": {},
   "outputs": [],
   "source": [
    "class NormalizationLayer(nn.Module):\n",
    "    def __init__(self, parameter_dim):\n",
    "        super(NormalizationLayer, self).__init__()\n",
    "        self.parameters_shape = parameter_dim\n",
    "        self.gamma = nn.Parameter(torch.ones(parameter_dim))\n",
    "        self.beta = nn.Parameter(torch.zeros(parameter_dim))\n",
    "        self.eps = 1e-6\n",
    "\n",
    "    def forward(self, x):\n",
    "        dims = [-(i + 1) for i in range(len(self.parameters_shape))]\n",
    "        mean = x.mean(dims, keepdim=True)\n",
    "        std = x.std(dims, keepdim=True)\n",
    "        out = self.gamma * (x - mean) / (std + self.eps) + self.beta\n",
    "        return out"
   ]
  },
  {
   "cell_type": "markdown",
   "id": "47adc7b1",
   "metadata": {},
   "source": [
    "## Position-wise Feed-Forward"
   ]
  },
  {
   "cell_type": "code",
   "execution_count": 3759,
   "id": "31a2a97c",
   "metadata": {},
   "outputs": [],
   "source": [
    "class FeedForward(nn.Module):\n",
    "    def __init__(self,d_model,ffn_hidden):\n",
    "        super(FeedForward,self).__init__()\n",
    "        self.d_model = d_model\n",
    "        self.ffn_hidden = ffn_hidden\n",
    "        self.layer1 = nn.Linear(self.d_model,self.ffn_hidden)\n",
    "        self.layer2 = nn.Linear(self.ffn_hidden,self.d_model)\n",
    "        self.dropout = nn.Dropout(p=dropout_rate)\n",
    "\n",
    "    def forward(self,x):\n",
    "        x = self.layer1(x)\n",
    "        x = F.relu(x)\n",
    "        x = self.dropout(x)\n",
    "        x = self.layer2(x)\n",
    "        return x"
   ]
  },
  {
   "cell_type": "markdown",
   "id": "fb1bf3a1",
   "metadata": {},
   "source": [
    "## Encoder"
   ]
  },
  {
   "cell_type": "code",
   "execution_count": 3760,
   "id": "04876c6d",
   "metadata": {},
   "outputs": [],
   "source": [
    "class Encoder_Layer(nn.Module):\n",
    "    def __init__(self,num_heads, d_model, ffn_hidden, max_seq_len, dropout_rate):\n",
    "        super(Encoder_Layer,self).__init__()\n",
    "        self.multihead_attention = Multihead_Self_Attention(input_dim,d_model,num_heads)\n",
    "        self.pos_encoding = PostionalEncoding(max_seq_len,d_model)\n",
    "        self.feedforward = FeedForward(d_model,ffn_hidden)\n",
    "        self.norm1 = NormalizationLayer([d_model])\n",
    "        self.norm2 = NormalizationLayer([d_model])\n",
    "        self.dropout1 = nn.Dropout(dropout_rate)\n",
    "        self.dropout2 = nn.Dropout(dropout_rate)\n",
    "    \n",
    "    def forward(self,x,mask=None):\n",
    "        reseduial_x = x\n",
    "        x = self.multihead_attention(x,mask)\n",
    "        x = self.dropout1(x)\n",
    "        x = x + reseduial_x\n",
    "        x = self.norm1(x)\n",
    "        reseduial_x = x\n",
    "        x = self.feedforward(x)\n",
    "        x = self.dropout2(x)\n",
    "        x = x + reseduial_x\n",
    "        x = self.norm2(x)\n",
    "        return x"
   ]
  },
  {
   "cell_type": "code",
   "execution_count": 3761,
   "id": "1f758d6e",
   "metadata": {},
   "outputs": [],
   "source": [
    "class SequentialEncoder(nn.Sequential):\n",
    "    def forward(self, *inputs):\n",
    "        x, self_attention_mask  = inputs\n",
    "        for module in self._modules.values():\n",
    "            x = module(x, self_attention_mask)\n",
    "        return x"
   ]
  },
  {
   "cell_type": "code",
   "execution_count": 3762,
   "id": "5ac0aa5b",
   "metadata": {},
   "outputs": [],
   "source": [
    "\n",
    "class Encoder(nn.Module):\n",
    "    def __init__(self, d_model, ffn_hidden, num_heads, dropout_rate, num_layers,max_seq_len):\n",
    "        super().__init__()\n",
    "        self.layers = SequentialEncoder(*[Encoder_Layer(num_heads, d_model, ffn_hidden, max_seq_len, dropout_rate)\n",
    "                                     for _ in range(num_layers)])\n",
    "    def forward(self, x, mask=None):\n",
    "        x = self.layers(x, mask)\n",
    "        return x"
   ]
  },
  {
   "cell_type": "markdown",
   "id": "3c241c7b",
   "metadata": {},
   "source": [
    "## Decoder"
   ]
  },
  {
   "cell_type": "code",
   "execution_count": 3763,
   "id": "8d18f409",
   "metadata": {},
   "outputs": [],
   "source": [
    "class Decoder_Layer(nn.Module):\n",
    "    def __init__(self,num_heads, d_model, ffn_hidden, max_seq_len, dropout_rate):\n",
    "        super(Decoder_Layer,self).__init__()\n",
    "        self.multihead_self_attention = Multihead_Self_Attention(input_dim,d_model,num_heads)\n",
    "        self.multihead_cross_attention = Multihead_Cross_Attention(input_dim,d_model,num_heads)\n",
    "        self.feedforward = FeedForward(d_model,ffn_hidden)\n",
    "        self.norm1 = NormalizationLayer([d_model])\n",
    "        self.norm2 = NormalizationLayer([d_model])\n",
    "        self.norm3 = NormalizationLayer([d_model])\n",
    "        self.dropout1 = nn.Dropout(dropout_rate)\n",
    "        self.dropout2 = nn.Dropout(dropout_rate)\n",
    "        self.dropout3 = nn.Dropout(dropout_rate)\n",
    "    \n",
    "    def forward(self, x, y, self_attention_mask=None, cross_attention_mask=None):\n",
    "        reseduial_y = y\n",
    "        y = self.multihead_self_attention(y,mask = self_attention_mask)\n",
    "        y = self.dropout1(y)\n",
    "        y = y + reseduial_y\n",
    "        y = self.norm1(y)\n",
    "\n",
    "        reseduial_y = y\n",
    "        y = self.multihead_cross_attention(x,y,mask = cross_attention_mask)\n",
    "        y = self.dropout2(y)\n",
    "        y = y + reseduial_y\n",
    "        y = self.norm2(y)\n",
    "\n",
    "        reseduial_y = y\n",
    "        y = self.feedforward(y)\n",
    "        y = self.dropout3(y)\n",
    "        y = y + reseduial_y\n",
    "        y = self.norm3(y)\n",
    "\n",
    "        return y"
   ]
  },
  {
   "cell_type": "code",
   "execution_count": 3764,
   "id": "dfafde66",
   "metadata": {},
   "outputs": [],
   "source": [
    "class Sequential_Decoder(nn.Sequential):\n",
    "    def forward(self,*input):\n",
    "        x, y, self_attention_mask, cross_attention_mask = input\n",
    "        for module in self._modules.values():\n",
    "            y = module(x, y, self_attention_mask, cross_attention_mask) \n",
    "        return y"
   ]
  },
  {
   "cell_type": "code",
   "execution_count": 3765,
   "id": "8612abe6",
   "metadata": {},
   "outputs": [],
   "source": [
    "class Decoder(nn.Module):\n",
    "    def __init__(self, d_model, ffn_hidden, num_heads, dropout_rate, num_layers,max_seq_len):\n",
    "        super().__init__()\n",
    "        self.layers = Sequential_Decoder(*[Decoder_Layer(num_heads, d_model, ffn_hidden, max_seq_len, dropout_rate)\n",
    "                                     for _ in range(num_layers)])\n",
    "    def forward(self, x, y,self_attention_mask=None, cross_attention_mask=None):\n",
    "        y = self.layers(x, y,self_attention_mask, cross_attention_mask)\n",
    "        return y"
   ]
  },
  {
   "cell_type": "markdown",
   "id": "a46fd7d3",
   "metadata": {},
   "source": [
    "## Tokenization"
   ]
  },
  {
   "cell_type": "code",
   "execution_count": 3766,
   "id": "fad23c87",
   "metadata": {},
   "outputs": [],
   "source": [
    "START_TOKEN = '<START>'\n",
    "PADDING_TOKEN = '<PADDING>'\n",
    "END_TOKEN = '<END>' \n",
    "\n",
    "## all characters in the arabic language + symbols\n",
    "arabic_voc = [START_TOKEN,'ا','ب','ت','ث','ج','ح','خ','د','ذ','ر','ز','س','ش','ص','ض','ط','ظ','ع','غ','ف','ق','ك','ل','م','ن','ه','و','ي','ء','آ','أ','ؤ','إ','ئ','ئ','ة','ـ','،','؛','؟','٠','١','٢','٣','٤','٥','٦','٧','٨','٩','٪','٫','٬','٭','ٮ','ٯ','ٰ','ٱ','ٲ','ٳ','ٴ','ٵ','ٶ','ٷ','ٸ','ٹ','ٺ','ٻ','ټ','ٽ','پ','ٿ','ڀ','ځ','ڂ','ڃ','ڄ','څ','چ','ڇ','ڈ','ډ','ڊ','ڋ','ڌ','ڍ','ڎ','ڏ','ڐ','ڑ','ڒ','ړ','ڔ','ڕ','ږ','ڗ','ژ','ڙ','ښ','ڛ','ڜ','ڝ','ڞ','ڟ','ڠ','ڡ','ڢ','ڣ','ڤ','ڥ','ڦ','ڧ','ڨ','ک','ڪ','ګ','ڬ','ڭ','ڮ','گ','ڰ','ڱ','ڲ','ڳ','ڴ','ڵ','ڶ','ڷ','ڸ','ڹ','ں','ڻ','ڼ','ڽ','ھ','ڿ','ۀ','ہ','ۂ','ۃ','ۄ','ۅ','ۆ','ۇ','ۈ','ۉ','ۊ','ۋ','ی','ۍ','ێ','ۏ','ې','ۑ','ے','ۓ','۔','ە','!','\"','#','$','%','&',\"'\",'(',')','*','+',',','-','.','/',':',';','<','=','>','?','@','[','\\\\',']','^','_','`','{','|','}','~',' ','\\t','\\n','\\r','\\x0b','\\x0c',PADDING_TOKEN,END_TOKEN]\n",
    "## all characters in the english language + symbols\n",
    "english_voc = [START_TOKEN, 'A','B','C','D','E','F','G','H','I','J','K','L','M','N','O','P','Q','R','S','T','U','V','W','X','Y','Z','a','b','c','d','e','f','g','h','i','j','k','l','m','n','o','p','q','r','s','t','u','v','w','x','y','z','0','1','2','3','4','5','6','7','8','9','!','\"','#','$','%','&',\"'\",'(',')','*','+',',','-','.','/',':',';','<','=','>','?','@','[','\\\\',']','^','_','`','{','|','}','~',' ','\\t','\\n','\\r','\\x0b','\\x0c',PADDING_TOKEN,END_TOKEN]"
   ]
  },
  {
   "cell_type": "code",
   "execution_count": 3767,
   "id": "2f4124da",
   "metadata": {},
   "outputs": [
    {
     "data": {
      "text/plain": [
       "(199, 103)"
      ]
     },
     "execution_count": 3767,
     "metadata": {},
     "output_type": "execute_result"
    }
   ],
   "source": [
    "len(arabic_voc), len(english_voc)"
   ]
  },
  {
   "cell_type": "code",
   "execution_count": 3768,
   "id": "fd30dfb3",
   "metadata": {},
   "outputs": [
    {
     "data": {
      "text/plain": [
       "(198, 103)"
      ]
     },
     "execution_count": 3768,
     "metadata": {},
     "output_type": "execute_result"
    }
   ],
   "source": [
    "len(list(set(arabic_voc))), len(list(set(english_voc)))"
   ]
  },
  {
   "cell_type": "code",
   "execution_count": 3769,
   "id": "87794803",
   "metadata": {},
   "outputs": [],
   "source": [
    "arabic_voc = list(set(arabic_voc))\n",
    "english_voc = list(set(english_voc))"
   ]
  },
  {
   "cell_type": "code",
   "execution_count": 3770,
   "id": "c46f378b",
   "metadata": {},
   "outputs": [],
   "source": [
    "index_to_english = {k:v for k,v in enumerate(english_voc)}\n",
    "english_to_index = {v:k for k,v in enumerate(english_voc)}\n",
    "index_to_arabic = {k:v for k,v in enumerate(arabic_voc)}\n",
    "arabic_to_index = {v:k for k,v in enumerate(arabic_voc)}"
   ]
  },
  {
   "cell_type": "code",
   "execution_count": 3771,
   "id": "1f48f723",
   "metadata": {},
   "outputs": [
    {
     "data": {
      "text/plain": [
       "(103, 103, 198, 198)"
      ]
     },
     "execution_count": 3771,
     "metadata": {},
     "output_type": "execute_result"
    }
   ],
   "source": [
    "len(index_to_english), len(english_to_index), len(index_to_arabic), len(arabic_to_index)"
   ]
  },
  {
   "cell_type": "code",
   "execution_count": 3772,
   "id": "218bbe8d",
   "metadata": {},
   "outputs": [],
   "source": [
    "class SentenceEmbedding(nn.Module):\n",
    "    def __init__(self, language_to_index, max_seq_len, d_model,START_TOKEN, END_TOKEN, PADDING_TOKEN):\n",
    "        super(SentenceEmbedding,self).__init__()\n",
    "        self.vocab_size = len(language_to_index)\n",
    "        self.max_seq_len = max_seq_len\n",
    "        self.embedding = nn.Embedding(self.vocab_size, d_model)\n",
    "        self.language_to_index = language_to_index\n",
    "        self.position_encoder = PostionalEncoding(max_seq_len,d_model)\n",
    "        self.dropout = nn.Dropout(p=dropout_rate)\n",
    "        self.START_TOKEN = START_TOKEN\n",
    "        self.END_TOKEN = END_TOKEN\n",
    "        self.PADDING_TOKEN = PADDING_TOKEN\n",
    "       \n",
    "    def batch_tokenize(self, batch, start_token=True, end_token=True):\n",
    "\n",
    "        def tokenize(sentence, start_token=True, end_token=True):\n",
    "            sentence_word_indicies = [self.language_to_index[token] for token in list(sentence)]\n",
    "            if start_token:\n",
    "                sentence_word_indicies.insert(0, self.language_to_index[self.START_TOKEN])\n",
    "            if end_token:\n",
    "                sentence_word_indicies.append(self.language_to_index[self.END_TOKEN])\n",
    "            for _ in range(len(sentence_word_indicies), self.max_seq_len):\n",
    "                sentence_word_indicies.append(self.language_to_index[self.PADDING_TOKEN])\n",
    "            return torch.tensor(sentence_word_indicies)\n",
    "\n",
    "        tokenized = []\n",
    "        for sentence_num in range(len(batch)):\n",
    "           tokenized.append( tokenize(batch[sentence_num], start_token, end_token) )\n",
    "        \n",
    "        tokenized = torch.stack(tokenized)\n",
    "        return tokenized.to(get_device())\n",
    "    \n",
    "    def forward(self, x, start_token= True, end_token=True): \n",
    "        x = self.batch_tokenize(x ,start_token=start_token, end_token=end_token)\n",
    "        x = self.embedding(x)\n",
    "        pos = self.position_encoder(x).to(get_device())\n",
    "        x = self.dropout(x + pos)\n",
    "        return x"
   ]
  },
  {
   "cell_type": "code",
   "execution_count": 3773,
   "id": "de915ee3",
   "metadata": {},
   "outputs": [],
   "source": [
    "NEG_INFTY = -1e9\n",
    "\n",
    "def create_masks(eng_batch, ar_batch):\n",
    "    num_sentences = len(eng_batch)\n",
    "    look_ahead_mask = torch.full([max_seq_len, max_seq_len] , True)\n",
    "    look_ahead_mask = torch.triu(look_ahead_mask, diagonal=1)\n",
    "    encoder_padding_mask = torch.full([num_sentences, max_seq_len, max_seq_len] , False)\n",
    "    decoder_padding_mask_self_attention = torch.full([num_sentences, max_seq_len, max_seq_len] , False)\n",
    "    decoder_padding_mask_cross_attention = torch.full([num_sentences, max_seq_len, max_seq_len] , False)\n",
    "\n",
    "    for idx in range(num_sentences):\n",
    "      eng_sentence_length, ar_sentence_length = len(eng_batch[idx]), len(ar_batch[idx])\n",
    "      eng_chars_to_padding_mask = np.arange(eng_sentence_length + 1, max_seq_len)\n",
    "      ar_chars_to_padding_mask = np.arange(ar_sentence_length + 1, max_seq_len)\n",
    "      encoder_padding_mask[idx, :, eng_chars_to_padding_mask] = True\n",
    "      encoder_padding_mask[idx, eng_chars_to_padding_mask, :] = True\n",
    "      decoder_padding_mask_self_attention[idx, :, ar_chars_to_padding_mask] = True\n",
    "      decoder_padding_mask_self_attention[idx, ar_chars_to_padding_mask, :] = True\n",
    "      decoder_padding_mask_cross_attention[idx, :, eng_chars_to_padding_mask] = True\n",
    "      decoder_padding_mask_cross_attention[idx, ar_chars_to_padding_mask, :] = True\n",
    "\n",
    "    encoder_self_attention_mask = torch.where(encoder_padding_mask, NEG_INFTY, 0)\n",
    "    decoder_self_attention_mask =  torch.where(look_ahead_mask + decoder_padding_mask_self_attention, NEG_INFTY, 0)\n",
    "    decoder_cross_attention_mask = torch.where(decoder_padding_mask_cross_attention, NEG_INFTY, 0)\n",
    "    \n",
    "    return encoder_self_attention_mask, decoder_self_attention_mask, decoder_cross_attention_mask"
   ]
  },
  {
   "cell_type": "markdown",
   "id": "d7b70522",
   "metadata": {},
   "source": [
    "## Loading The Dataset"
   ]
  },
  {
   "cell_type": "code",
   "execution_count": 3774,
   "id": "0de81964",
   "metadata": {},
   "outputs": [],
   "source": [
    "df = pd.read_csv('dataset/en_ar_final.tsv', sep='\\t', header=0)"
   ]
  },
  {
   "cell_type": "code",
   "execution_count": 3775,
   "id": "ff99355c",
   "metadata": {},
   "outputs": [
    {
     "name": "stdout",
     "output_type": "stream",
     "text": [
      "(1325899, 2)\n"
     ]
    },
    {
     "data": {
      "text/html": [
       "<div>\n",
       "<style scoped>\n",
       "    .dataframe tbody tr th:only-of-type {\n",
       "        vertical-align: middle;\n",
       "    }\n",
       "\n",
       "    .dataframe tbody tr th {\n",
       "        vertical-align: top;\n",
       "    }\n",
       "\n",
       "    .dataframe thead th {\n",
       "        text-align: right;\n",
       "    }\n",
       "</style>\n",
       "<table border=\"1\" class=\"dataframe\">\n",
       "  <thead>\n",
       "    <tr style=\"text-align: right;\">\n",
       "      <th></th>\n",
       "      <th>en</th>\n",
       "      <th>ar</th>\n",
       "    </tr>\n",
       "  </thead>\n",
       "  <tbody>\n",
       "    <tr>\n",
       "      <th>0</th>\n",
       "      <td>and this</td>\n",
       "      <td>و هذه؟</td>\n",
       "    </tr>\n",
       "    <tr>\n",
       "      <th>1</th>\n",
       "      <td>it was um</td>\n",
       "      <td>...لقد كان</td>\n",
       "    </tr>\n",
       "    <tr>\n",
       "      <th>2</th>\n",
       "      <td>what is she doing here</td>\n",
       "      <td>ما الذي تفعله هناك؟</td>\n",
       "    </tr>\n",
       "    <tr>\n",
       "      <th>3</th>\n",
       "      <td>i dont like it</td>\n",
       "      <td>لا أحب ذلك</td>\n",
       "    </tr>\n",
       "    <tr>\n",
       "      <th>4</th>\n",
       "      <td>did you get the part</td>\n",
       "      <td>هل حصلت على جزء ?</td>\n",
       "    </tr>\n",
       "  </tbody>\n",
       "</table>\n",
       "</div>"
      ],
      "text/plain": [
       "                       en                   ar\n",
       "0                and this               و هذه؟\n",
       "1               it was um           ...لقد كان\n",
       "2  what is she doing here  ما الذي تفعله هناك؟\n",
       "3          i dont like it           لا أحب ذلك\n",
       "4    did you get the part    هل حصلت على جزء ?"
      ]
     },
     "execution_count": 3775,
     "metadata": {},
     "output_type": "execute_result"
    }
   ],
   "source": [
    "print(df.shape)\n",
    "df.head()"
   ]
  },
  {
   "cell_type": "code",
   "execution_count": 3776,
   "id": "bd8c1794",
   "metadata": {},
   "outputs": [],
   "source": [
    "class TextDataset(Dataset):\n",
    "    def __init__(self, english_sentences, arabic_sentences):\n",
    "        self.english_sentences = english_sentences\n",
    "        self.arabic_sentences = arabic_sentences\n",
    "\n",
    "    def __len__(self):\n",
    "        return len(self.english_sentences)\n",
    "\n",
    "    def __getitem__(self, idx):\n",
    "        return self.english_sentences[idx], self.arabic_sentences[idx]"
   ]
  },
  {
   "cell_type": "markdown",
   "id": "a02a901b",
   "metadata": {},
   "source": [
    "## Data Processing"
   ]
  },
  {
   "cell_type": "code",
   "execution_count": 3777,
   "id": "83054e7d",
   "metadata": {},
   "outputs": [],
   "source": [
    "df = df.dropna()\n",
    "# drop duplicates\n",
    "df = df.drop_duplicates()\n",
    "# drop rows with empty strings\n",
    "df = df[(df['en'] != '') & (df['ar'] != '')]"
   ]
  },
  {
   "cell_type": "code",
   "execution_count": 3778,
   "id": "7ddf9a45",
   "metadata": {},
   "outputs": [],
   "source": [
    "english_sentences = df['en'].values\n",
    "arabic_sentences = df['ar'].values"
   ]
  },
  {
   "cell_type": "code",
   "execution_count": 3779,
   "id": "273b79e1",
   "metadata": {},
   "outputs": [
    {
     "data": {
      "text/plain": [
       "array(['and this', 'it was um', 'what is she doing here', ...,\n",
       "       'chinas quest for value', 'zimbabweu0027s last chance',\n",
       "       'zuma rising'], dtype=object)"
      ]
     },
     "execution_count": 3779,
     "metadata": {},
     "output_type": "execute_result"
    }
   ],
   "source": [
    "english_sentences"
   ]
  },
  {
   "cell_type": "code",
   "execution_count": 3780,
   "id": "3e6b9943",
   "metadata": {},
   "outputs": [
    {
     "data": {
      "text/plain": [
       "array(['و هذه؟', '...لقد كان', 'ما الذي تفعله هناك؟', ...,\n",
       "       'الصين تفتش عن القيمة', 'زيمبابوي والفرصة الأخيرة',\n",
       "       'صعود نجم زوما'], dtype=object)"
      ]
     },
     "execution_count": 3780,
     "metadata": {},
     "output_type": "execute_result"
    }
   ],
   "source": [
    "arabic_sentences"
   ]
  },
  {
   "cell_type": "code",
   "execution_count": 3781,
   "id": "f02111e3",
   "metadata": {},
   "outputs": [
    {
     "name": "stdout",
     "output_type": "stream",
     "text": [
      "and this و هذه؟\n"
     ]
    }
   ],
   "source": [
    "print(english_sentences[0],arabic_sentences[0])"
   ]
  },
  {
   "cell_type": "code",
   "execution_count": 3782,
   "id": "f2181bf9",
   "metadata": {},
   "outputs": [
    {
     "data": {
      "text/plain": [
       "(32, 242)"
      ]
     },
     "execution_count": 3782,
     "metadata": {},
     "output_type": "execute_result"
    }
   ],
   "source": [
    "max(len(x) for x in arabic_sentences), max(len(x) for x in english_sentences)"
   ]
  },
  {
   "cell_type": "code",
   "execution_count": 3783,
   "id": "1338f846",
   "metadata": {},
   "outputs": [
    {
     "name": "stdout",
     "output_type": "stream",
     "text": [
      "91th percentile length Arabic: 28.0\n",
      "91th percentile length English: 44.0\n"
     ]
    }
   ],
   "source": [
    "PERCENTILE = 91\n",
    "print( f\"{PERCENTILE}th percentile length Arabic: {np.percentile([len(x) for x in arabic_sentences], PERCENTILE)}\" )\n",
    "print( f\"{PERCENTILE}th percentile length English: {np.percentile([len(x) for x in english_sentences], PERCENTILE)}\" )"
   ]
  },
  {
   "cell_type": "code",
   "execution_count": 3784,
   "id": "60f8bfc7",
   "metadata": {},
   "outputs": [],
   "source": [
    "english_sentences = english_sentences[:top]\n",
    "arabic_sentences = arabic_sentences[:top]"
   ]
  },
  {
   "cell_type": "code",
   "execution_count": 3785,
   "id": "ccaf0232",
   "metadata": {},
   "outputs": [
    {
     "name": "stdout",
     "output_type": "stream",
     "text": [
      "Number of sentences: 100000\n",
      "Number of valid sentences: 82474\n"
     ]
    }
   ],
   "source": [
    "def is_valid_tokens(sentence, vocab):\n",
    "    for token in list(set(sentence)):\n",
    "        if token not in vocab:\n",
    "            return False\n",
    "    return True\n",
    "\n",
    "def is_valid_length(sentence, max_seq_len):\n",
    "    return len(list(sentence)) < (max_seq_len - 1) \n",
    "\n",
    "valid_sentence_indicies = []\n",
    "for index in range(len(arabic_sentences)):\n",
    "    arabic_sentence, english_sentence = arabic_sentences[index], english_sentences[index]\n",
    "    if is_valid_length(arabic_sentence, max_seq_len) \\\n",
    "        and is_valid_length(english_sentence, max_seq_len) \\\n",
    "        and is_valid_tokens(arabic_sentence, arabic_voc) \\\n",
    "        and is_valid_tokens(english_sentence, english_voc) :\n",
    "        valid_sentence_indicies.append(index)\n",
    "\n",
    "print(f\"Number of sentences: {len(arabic_sentences)}\")\n",
    "print(f\"Number of valid sentences: {len(valid_sentence_indicies)}\")"
   ]
  },
  {
   "cell_type": "code",
   "execution_count": 3786,
   "id": "b698571c",
   "metadata": {},
   "outputs": [],
   "source": [
    "arabic_sentences = [arabic_sentences[i] for i in valid_sentence_indicies]\n",
    "english_sentences = [english_sentences[i] for i in valid_sentence_indicies]"
   ]
  },
  {
   "cell_type": "code",
   "execution_count": 3787,
   "id": "a365501d",
   "metadata": {},
   "outputs": [],
   "source": [
    "df = pd.DataFrame({'en': english_sentences, 'ar': arabic_sentences})\n",
    "df.to_csv('dataset/updated_en_ar_final.csv', index=False)"
   ]
  },
  {
   "cell_type": "code",
   "execution_count": 3788,
   "id": "f1e15bb9",
   "metadata": {},
   "outputs": [],
   "source": [
    "dataset = TextDataset(english_sentences, arabic_sentences)"
   ]
  },
  {
   "cell_type": "code",
   "execution_count": 3789,
   "id": "32a0ffc7",
   "metadata": {},
   "outputs": [
    {
     "data": {
      "text/plain": [
       "('and this', 'و هذه؟')"
      ]
     },
     "execution_count": 3789,
     "metadata": {},
     "output_type": "execute_result"
    }
   ],
   "source": [
    "len(dataset)\n",
    "dataset[0]"
   ]
  },
  {
   "cell_type": "markdown",
   "id": "b64e0d20",
   "metadata": {},
   "source": [
    "## Transformer"
   ]
  },
  {
   "attachments": {
    "image.png": {
     "image/png": "[encoded data removed]"
    }
   },
   "cell_type": "markdown",
   "id": "3493683d",
   "metadata": {},
   "source": [
    "![image.png](attachment:image.png)"
   ]
  },
  {
   "cell_type": "code",
   "execution_count": 3790,
   "id": "aff4d4c1",
   "metadata": {},
   "outputs": [],
   "source": [
    "class Transformer(nn.Module):\n",
    "    def __init__(self, d_model, ffn_hidden, num_heads, dropout_rate, num_layers,\n",
    "                max_seq_len, ar_vocab_size, english_to_index, arabic_to_index,\n",
    "                START_TOKEN, END_TOKEN, PADDING_TOKEN\n",
    "                ):\n",
    "        super().__init__()\n",
    "        self.enc_sentence_embedding = SentenceEmbedding(english_to_index, max_seq_len, d_model,START_TOKEN, END_TOKEN, PADDING_TOKEN)\n",
    "        self.encoder = Encoder(d_model, ffn_hidden, num_heads, dropout_rate, num_layers, max_seq_len)\n",
    "\n",
    "        self.dec_sentence_embedding = SentenceEmbedding(arabic_to_index, max_seq_len, d_model,START_TOKEN, END_TOKEN, PADDING_TOKEN)\n",
    "        self.decoder = Decoder(d_model, ffn_hidden, num_heads, dropout_rate, num_layers, max_seq_len)\n",
    "\n",
    "        self.linear = nn.Linear(d_model, ar_vocab_size)\n",
    "        self.device = torch.device('cuda') if torch.cuda.is_available() else torch.device('cpu')\n",
    "\n",
    "    def forward(self, x, y, enc_start_token=False, enc_end_token=False, dec_start_token=True, dec_end_token=True):\n",
    "\n",
    "        encoder_self_attention_mask, decoder_self_attention_mask, decoder_cross_attention_mask = create_masks(x, y)\n",
    "        encoder_self_attention_mask = encoder_self_attention_mask.to(self.device)\n",
    "        decoder_self_attention_mask = decoder_self_attention_mask.to(self.device)\n",
    "        decoder_cross_attention_mask = decoder_cross_attention_mask.to(self.device)\n",
    "    \n",
    "        x = self.enc_sentence_embedding(x, start_token=enc_start_token, end_token=enc_end_token)\n",
    "        x = self.encoder(x, encoder_self_attention_mask)\n",
    "\n",
    "        y = self.dec_sentence_embedding(y, start_token=dec_start_token, end_token=dec_end_token)\n",
    "        out = self.decoder(x, y, decoder_self_attention_mask, decoder_cross_attention_mask)\n",
    "        out = self.linear(out)\n",
    "        return out"
   ]
  },
  {
   "cell_type": "code",
   "execution_count": 3791,
   "id": "1003fd8f",
   "metadata": {},
   "outputs": [],
   "source": [
    "train_loader = DataLoader(dataset, batch_size)\n",
    "iterator = iter(train_loader)"
   ]
  },
  {
   "cell_type": "code",
   "execution_count": 3792,
   "id": "4cdda111",
   "metadata": {},
   "outputs": [
    {
     "name": "stdout",
     "output_type": "stream",
     "text": [
      "[('and this', 'it was um', 'what is she doing here', 'i dont like it', ' its none of your business', ' uhhuh', ' others', 'im much your majesty', 'do i make myself clear', 'thank you', 'i bet you do', 'thats enough', 'yeah of course', 'im him', 'you okay', 'no no', 'shes all yours', 'you want the truth', 'how about you', ' goodbye', ' thats okay', 'im sorry', 'i must go', 'maybe we have something in common', 'right alright alright relax', ' have a seat', 'hows it goin', ' are you all right', 'whats up', ' what did you do', 'what happened', 'is this all youve got'), ('و هذه؟', '...لقد كان', 'ما الذي تفعله هناك؟', 'لا أحب ذلك', '-هذا ليس من شأنك', '-نعم .', 'ـ الآخرون؟', 'أنا (ماتش)، فخامتك', 'هل كلامي واضح؟', 'شكرا لكم.', 'أشك في ذلك', 'هذا يكفي !', 'أجل، بالطبع.', 'أنا هو', '-أأنت بخير ؟', 'ـ لا .. لا ..', 'انها لك', 'تريدين الحقيقة ؟', 'ماذا عنك؟', '-وداعا .', '-لا بأس .', 'أنا آسفة', 'أنا يجب أن أذهب', 'ربما لدينا شيء مشترك.', 'حسنا،حسنا إهدأ', '-تفضلي بالجلوس', 'كيف الحال؟', '-هل أنت بخير؟', 'هنري مالذي يحدث', '-ماذا فعلت؟', 'ماذا حدث ؟', 'أهذا كل ما لديك؟')]\n",
      "[(' that right', 'as in mother id like to fuck', ' ooh ooh ooh honey', 'what is your name', 'what was that', 'smells good', 'from what', 'it wasnt easy', 'and you', 'i dont think so', 'just take your time', ' over here', 'hell no', 'excuse me', 'what are you waiting for', 'like you', ' thats sad', 'what are you doing here', ' all right', 'how about everyone out here', 'i agree', 'number three', 'what was that you said', 'killian thank god', 'whoa zach', 'whats going on', 'all right gang', 'no no', 'why not', 'i can still do that', ' me neither', 'oh you know'), ('أهذا صحيح؟', 'اختصار لـ\" أم أود مضجعتها\" ؟', 'اوة اوة ،عسلي', 'ما هو اسمك؟', 'ماذا كان هذا؟', 'رائحة طيبة', 'من ماذا ؟', 'لم يكن الأمر سهلا.', 'و أنت؟', 'لا أظن ذلك', 'خذ وقتك', '-من هنا', 'طبعا لا', 'بعد اذنك', 'ماذا تنتظر؟', '-مثلك .', '-هذا مؤسف .', 'ـ ماذا تفعل هنا؟', '- حسنا', 'ماذا عنكم؟', '-أوافقك الرأي .', 'الكلمة الثالثة:', 'ماذا قلت ؟', '(كيليان) شكرا يا الله', 'عجباه، (زاك).', 'ما الذي يحدث؟', 'حسنا يا رفاق', 'لا .', '-لما لا ؟', 'مازلت أفعل ذلك', '-ولا أنا', 'كما تعلمون')]\n",
      "[('i cant believe it', 'hes been here', ' suck it', 'can you control it', 'are you alone', 'its pathetic', 'thats a good question', 'thats all right', 'how may i help you', 'screw you abed', 'what do you want', 'fiftyfourth session', 'look at that', 'i do not know', 'i think not', 'what is going on', ' where have you been', 'one two three', 'no not me', ' i cant', 'are you all right', 'you may call me sam out of love', 'thats it', 'how are you doing', 'how do you figure that', 'what happened', 'i see it', 'lou please dont do that', 'its been a while', 'she just left', 'i hope so', 'right master'), ('انا مش مصدقة ..', 'لقد كان هنا.', '-تبا لك', 'هل يمكنك أن تتحكمين بها ؟', 'أأنت بمفردك؟', 'أنت مثير للشفقة', 'هذا سؤال جيد', 'هذا حسن', 'كيف أستطيع مساعدتك؟', 'تبا لك', '-ماذا تريدين؟', 'الدورة الرابعة والخمسون', 'انظري لهذا.', 'انا لا اعلم', 'لا اعتقد هذا', 'ماذا يحدث هنا', 'ـ أين كنت؟', 'واحد، إثنان، ثلاثة.', 'لا ، ليس معي', '- لا استطيع', 'هل أنت بخير ؟', 'ما اسمك؟', 'هذا كل شيء', '- كيف تعمل؟', 'كيف عرفت هذا؟', 'ماذا حدث؟', 'أتفهم ذلك', 'أرجوك لا تفعل هذا', 'لقد مضت فترة', 'غادرت فقط', 'آمل ذلك', 'صحيح , سيدي')]\n",
      "[('theres more than that', 'here we go', 'im not sure i can', 'which reminds me', 'im here', 'thank you', 'you saw her', 'uh i gotta go', 'tagged as lassen', 'what happened out there', 'excuse me', 'youre mean', ' would you mind', 'i have no idea', 'get up', 'its important', 'ooh i just found something', 'were clear', ' im warning you', 'thats enough', ' no im not', 'its late', ' david', 'but you just keep talking sweetie', 'youre just wasting time', 'this is weird', 'im not sure', 'what now', 'what do we do now', 'im okay', ' really', ' michaelangelo'), ('هنالك المزيد', 'ها نحن أولاء', 'لا أقدر', 'وهذا يذكرني ..', 'أنا هنا', '-تفضلوا من فضلكم -شكرا', 'هل رأيتها؟', 'علي الذهاب.', 'موسمة كـ(لاسن)؟', 'ما الذي حدث هناك؟', 'عفوا ؟', 'أنت لئيم', '-هل تمانع؟', 'ليس لدي فكرة', 'انهض !', 'إنه مهم', 'لقد وجدت شيئا', 'المكان آمن.', '-أنا أحذرك', 'هذا يكفي.', '-لا لست كذلك', 'مع السلامه', '-ديفيد -ماذا؟', 'لكن لا تتوقف عن الحديث ياعزيزي', 'أنت تضيعين الوقت فحسب', 'هذا غريب', 'لم أقرر بعد', '. ماذا , الان ؟', 'ماذا سنفعل الآن؟', 'أنا بخير.', '-بربك ؟', 'مايكل أنجلو أجل')]\n",
      "[('im the one with the grenade launcher', 'whats wrong with you', 'how did you find me', 'anybody home', 'you look gorgeous', 'are you spying on me', 'i didnt do anything', ' okay', 'wheres the money', 'thats it', 'yeah well theyve been buddies ever since so', 'ill let you be buried with the bitch', 'yeah right', 'there he is hi carol', ' five ten good you just volunteered', 'i am not your average trophy wife', 'what the fuck is that', 'like what', 'no i dont think so', ' i dont know', 'you son of a bitch hes in hell', 'shoot him', 'its cool big o', 'good luck', 'what do you think', 'why do you ask', 'thats it', 'im here', 'thats it', 'one two three', 'not anymore', 'about that guy that shot you'), ('أنا الذي أحمل القنابل.', 'مابالك هكذا؟', 'كيف وجدتني؟', 'هل يوجد أحد هنا ؟', 'أنت مذهلة', 'هل تتجسسين علي؟', 'لم أفعل بك أي شيء', '- حسنا.', 'أين المال؟', 'هو كذلك .', '- أوه نعم', 'سوف أدفنك مع السافلة!', 'نعم , صحيح', 'ها هو ذا', 'جيد انت تطوعت', 'أنا لست زوجتك المتوسطة', 'ماهذا بحق الجحيم؟', 'مثل ماذا ؟', 'لا,لا أعتقد ذلك', '- اللعنة ، لا أعرف', 'يا سافل إنه في ألم رهيب', 'اطلق النار عليه', 'هذا رائع', 'حظا موفقا.', 'ماذا تعتقد؟', 'لم تسألان؟ لقد مات', 'هذا هو', 'أنا هنا.', 'فقط ذلك ؟', '. واحد، إثنان، ثلاثة', 'ليس بعد الأن', 'ـبشأنالرجلالذيأطلق النارعليك..')]\n"
     ]
    }
   ],
   "source": [
    "for batch_num, batch in enumerate(iterator):\n",
    "    print(batch)\n",
    "    if batch_num > 3:\n",
    "        break"
   ]
  },
  {
   "cell_type": "markdown",
   "id": "8e84391e",
   "metadata": {},
   "source": [
    "## Training"
   ]
  },
  {
   "cell_type": "code",
   "execution_count": 3793,
   "id": "ae719142",
   "metadata": {},
   "outputs": [],
   "source": [
    "transformer = Transformer(d_model, ffn_hidden,num_heads, dropout_rate, num_layers, max_seq_len,len(index_to_arabic),english_to_index,arabic_to_index,\n",
    "                          START_TOKEN, END_TOKEN, PADDING_TOKEN)"
   ]
  },
  {
   "cell_type": "code",
   "execution_count": 3794,
   "id": "0dd54461",
   "metadata": {},
   "outputs": [],
   "source": [
    "criterian = nn.CrossEntropyLoss(ignore_index = arabic_to_index[PADDING_TOKEN], reduction='none')\n",
    "\n",
    "for params in transformer.parameters():\n",
    "    if params.dim() > 1:\n",
    "        nn.init.xavier_uniform_(params)\n",
    "\n",
    "optim = torch.optim.Adam(transformer.parameters(), lr=learning_rate)\n",
    "device = torch.device('cuda') if torch.cuda.is_available() else torch.device('cpu')"
   ]
  },
  {
   "cell_type": "code",
   "execution_count": 3795,
   "id": "f33db8dc",
   "metadata": {},
   "outputs": [
    {
     "name": "stdout",
     "output_type": "stream",
     "text": [
      "Epoch 0\n",
      "Iteration num: 0 , training loss: 6.175731182098389\n",
      "English: and this\n",
      "Arabic Translation: و هذه؟\n",
      "Arabic Prediction: ۅٳٳڀ**ڬڀ٬ڀڀڀۅٳ١ٳڎڀ`ڻڀٳٳڎ_ڀڻ<ڀڀ١ڀڻ_ڀڻ١ڀڀڀڀڀڻ_ڀ\n"
     ]
    }
   ],
   "source": [
    "transformer.train()\n",
    "transformer.to(device)\n",
    "total_loss = 0\n",
    "\n",
    "for epoch in range(num_epochs):\n",
    "    print(f\"Epoch {epoch}\")\n",
    "    iterator = iter(train_loader)\n",
    "    for batch_num, batch in enumerate(iterator):\n",
    "        transformer.train()\n",
    "        eng_batch, ar_batch = batch\n",
    "        optim.zero_grad()\n",
    "        ar_predictions = transformer(eng_batch,ar_batch)\n",
    "        labels = transformer.dec_sentence_embedding.batch_tokenize(ar_batch, start_token=False, end_token=True)\n",
    "        loss = criterian(\n",
    "            ar_predictions.view(-1, len(arabic_voc)).to(device),\n",
    "            labels.view(-1).to(device)\n",
    "        ).to(device)\n",
    "        valid_indicies = torch.where(labels.view(-1) == arabic_to_index[PADDING_TOKEN], False, True)\n",
    "        loss = loss.sum() / valid_indicies.sum()\n",
    "        loss.backward()\n",
    "        optim.step()\n",
    "        #train_losses.append(loss.item())\n",
    "        if batch_num % 100 == 0:\n",
    "            print(f\"Iteration num: {batch_num} , training loss: {loss.item()}\")\n",
    "            print(f\"English: {eng_batch[0]}\")\n",
    "            print(f\"Arabic Translation: {ar_batch[0]}\")\n",
    "            ar_sentence_predicted = torch.argmax(ar_predictions[0], axis=1)\n",
    "            predicted_sentence = \"\"\n",
    "            for idx in ar_sentence_predicted:\n",
    "              if idx == arabic_to_index[END_TOKEN]:\n",
    "                break\n",
    "              predicted_sentence += index_to_arabic[idx.item()]\n",
    "            print(f\"Arabic Prediction: {predicted_sentence}\")\n",
    "\n",
    "            transformer.eval()\n",
    "            "
   ]
  },
  {
   "cell_type": "code",
   "execution_count": null,
   "id": "1f65e7e2",
   "metadata": {},
   "outputs": [
    {
     "data": {
      "text/plain": [
       "'<PADDING>'"
      ]
     },
     "execution_count": 3021,
     "metadata": {},
     "output_type": "execute_result"
    }
   ],
   "source": [
    "index_to_english[101]"
   ]
  }
 ],
 "metadata": {
  "kernelspec": {
   "display_name": "base",
   "language": "python",
   "name": "python3"
  },
  "language_info": {
   "codemirror_mode": {
    "name": "ipython",
    "version": 3
   },
   "file_extension": ".py",
   "mimetype": "text/x-python",
   "name": "python",
   "nbconvert_exporter": "python",
   "pygments_lexer": "ipython3",
   "version": "3.11.7"
  }
 },
 "nbformat": 4,
 "nbformat_minor": 5
}
