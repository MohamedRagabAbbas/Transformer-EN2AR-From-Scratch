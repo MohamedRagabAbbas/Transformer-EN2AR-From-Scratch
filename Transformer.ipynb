{
<<<<<<< HEAD
 "cells": [
  {
   "cell_type": "code",
   "execution_count": 3752,
   "id": "298035d4-5673-4977-8393-262f92cc7265",
   "metadata": {},
   "outputs": [],
   "source": [
    "import torch\n",
    "import torch.nn as nn\n",
    "import numpy as np\n",
    "import math\n",
    "import torch.nn.functional as F\n",
    "import pandas as pd\n",
    "from torch.utils.data import Dataset, DataLoader"
   ]
  },
  {
   "cell_type": "markdown",
   "id": "53f236de",
   "metadata": {},
   "source": [
    "## Setting the Hyperparameters"
   ]
  },
  {
   "cell_type": "code",
   "execution_count": 3753,
   "id": "ff3c8dc0",
   "metadata": {},
   "outputs": [],
   "source": [
    "batch_size = 32\n",
    "max_seq_len = 45\n",
    "input_dim = 512\n",
    "d_model = 512\n",
    "num_heads = 8\n",
    "ffn_hidden = 2048\n",
    "num_layers = 6\n",
    "dropout_rate = 0.1\n",
    "learning_rate = 0.0001\n",
    "num_epochs = 1\n",
    "top = 100000"
   ]
  },
  {
   "cell_type": "code",
   "execution_count": 3754,
   "id": "7b704ec8",
   "metadata": {},
   "outputs": [],
   "source": [
    "def get_device():\n",
    "    return torch.device('cuda') if torch.cuda.is_available() else torch.device('cpu')"
   ]
  },
  {
   "cell_type": "markdown",
   "id": "33b2d3ac",
   "metadata": {},
   "source": [
    "## Multihead Self Attention"
   ]
  },
  {
   "cell_type": "code",
   "execution_count": 3755,
   "id": "deac3059",
   "metadata": {},
   "outputs": [],
   "source": [
    "def scaled_dot_product_attention(q,k,v,mask=None):\n",
    "    d_k = q.size(-1)\n",
    "    qk = torch.matmul(q, k.transpose(-2, -1)) /  math.sqrt(d_k)\n",
    "    if mask is not None:\n",
    "        qk = qk.permute(1, 0, 2, 3) + mask\n",
    "        qk = qk.permute(1, 0, 2, 3)\n",
    "    qk = F.softmax(qk, dim=-1)\n",
    "    new_qkv = torch.matmul(qk, v)\n",
    "    return new_qkv\n",
    "\n",
    "class Multihead_Self_Attention(nn.Module):\n",
    "    def __init__(self,input_dim, d_model, num_heads):\n",
    "        super(Multihead_Self_Attention, self).__init__()\n",
    "        self.input_dim = input_dim\n",
    "        self.model_dim = d_model\n",
    "        self.num_heads = num_heads\n",
    "        self.head_dim = self.model_dim // self.num_heads\n",
    "        self.qkv_layer = nn.Linear(input_dim, 3 * self.model_dim)\n",
    "        self.concat_layer = nn.Linear(self.model_dim, self.model_dim)\n",
    "        self.softmax = nn.Softmax(dim=-1)\n",
    "\n",
    "    def forward(self,x,mask=None):\n",
    "        qkv = self.qkv_layer(x)\n",
    "        qkv = qkv.view(batch_size,max_seq_len,self.num_heads,3*self.head_dim)\n",
    "        qkv = qkv.permute(0,2,1,3)\n",
    "        q,k,v = qkv.chunk(3,dim=-1)\n",
    "        new_qkv = scaled_dot_product_attention(q,k,v,mask)\n",
    "        new_qkv = new_qkv.permute(0,2,1,3)\n",
    "        new_qkv = new_qkv.reshape(batch_size,max_seq_len,self.model_dim)\n",
    "        out = self.concat_layer(new_qkv)\n",
    "        return out"
   ]
  },
  {
   "cell_type": "markdown",
   "id": "0a55ca48",
   "metadata": {},
   "source": [
    "## Multihead Cross Attention"
   ]
  },
  {
   "cell_type": "code",
   "execution_count": 3756,
   "id": "7ee818ea",
   "metadata": {},
   "outputs": [],
   "source": [
    "class Multihead_Cross_Attention(nn.Module):\n",
    "    def __init__(self,input_dim, model_dim, num_heads):\n",
    "        super(Multihead_Cross_Attention, self).__init__()\n",
    "        self.input_dim = input_dim\n",
    "        self.model_dim = model_dim\n",
    "        self.num_heads = num_heads\n",
    "        self.head_dim = model_dim // num_heads\n",
    "        self.qk_layer = nn.Linear(input_dim, 2 * model_dim)\n",
    "        self.v_layer = nn.Linear(input_dim, model_dim)\n",
    "        self.concat_layer = nn.Linear(model_dim, model_dim)\n",
    "        self.softmax = nn.Softmax(dim=-1)\n",
    "\n",
    "    def forward(self,x,y,mask=None):\n",
    "        qk = self.qk_layer(x)\n",
    "        v = self.v_layer(y)\n",
    "        qk = qk.view(batch_size,max_seq_len,num_heads,2*self.head_dim)\n",
    "        v = v.view(batch_size,max_seq_len,num_heads,self.head_dim)\n",
    "        qk = qk.permute(0,2,1,3)\n",
    "        v = v.permute(0,2,1,3)\n",
    "        q,k = qk.chunk(2,dim=-1)\n",
    "        new_qkv = scaled_dot_product_attention(q,k,v,mask)\n",
    "        new_qkv = new_qkv.permute(0,2,1,3)\n",
    "        new_qkv = new_qkv.reshape(batch_size,max_seq_len,self.model_dim)\n",
    "        out = self.concat_layer(new_qkv)\n",
    "        return out"
   ]
  },
  {
   "cell_type": "markdown",
   "id": "f160b031",
   "metadata": {},
   "source": [
    "## Positional Encoding"
   ]
  },
  {
   "cell_type": "code",
   "execution_count": 3757,
   "id": "5f0c6c28",
   "metadata": {},
   "outputs": [],
   "source": [
    "class PostionalEncoding(nn.Module):\n",
    "    def __init__(self,max_seq_len,d_model):\n",
    "        super(PostionalEncoding,self).__init__()\n",
    "        self.max_seq_len = max_seq_len\n",
    "        self.d_model = d_model\n",
    "        self.encoding = torch.zeros(self.max_seq_len,self.d_model)\n",
    "    \n",
    "    def forward(self,x):\n",
    "        even_index = torch.arange(0,self.d_model,2).float()\n",
    "        domenator = torch.pow(10000,even_index/self.d_model)\n",
    "        position = torch.arange(0,self.max_seq_len).unsqueeze(1)\n",
    "        PE_even = torch.sin(position/domenator)\n",
    "        PE_odd = torch.cos(position/domenator)\n",
    "        stacked = torch.stack([PE_even,PE_odd],dim=2)\n",
    "        PE_flatten = torch.flatten(stacked,start_dim=1,end_dim=2)\n",
    "        return PE_flatten"
   ]
  },
  {
   "cell_type": "markdown",
   "id": "cdfde7de",
   "metadata": {},
   "source": [
    "## Normalization Layer"
   ]
  },
  {
   "cell_type": "code",
   "execution_count": 3758,
   "id": "9ed90324",
   "metadata": {},
   "outputs": [],
   "source": [
    "class NormalizationLayer(nn.Module):\n",
    "    def __init__(self, parameter_dim):\n",
    "        super(NormalizationLayer, self).__init__()\n",
    "        self.parameters_shape = parameter_dim\n",
    "        self.gamma = nn.Parameter(torch.ones(parameter_dim))\n",
    "        self.beta = nn.Parameter(torch.zeros(parameter_dim))\n",
    "        self.eps = 1e-6\n",
    "\n",
    "    def forward(self, x):\n",
    "        dims = [-(i + 1) for i in range(len(self.parameters_shape))]\n",
    "        mean = x.mean(dims, keepdim=True)\n",
    "        std = x.std(dims, keepdim=True)\n",
    "        out = self.gamma * (x - mean) / (std + self.eps) + self.beta\n",
    "        return out"
   ]
  },
  {
   "cell_type": "markdown",
   "id": "47adc7b1",
   "metadata": {},
   "source": [
    "## Position-wise Feed-Forward"
   ]
  },
  {
   "cell_type": "code",
   "execution_count": 3759,
   "id": "31a2a97c",
   "metadata": {},
   "outputs": [],
   "source": [
    "class FeedForward(nn.Module):\n",
    "    def __init__(self,d_model,ffn_hidden):\n",
    "        super(FeedForward,self).__init__()\n",
    "        self.d_model = d_model\n",
    "        self.ffn_hidden = ffn_hidden\n",
    "        self.layer1 = nn.Linear(self.d_model,self.ffn_hidden)\n",
    "        self.layer2 = nn.Linear(self.ffn_hidden,self.d_model)\n",
    "        self.dropout = nn.Dropout(p=dropout_rate)\n",
    "\n",
    "    def forward(self,x):\n",
    "        x = self.layer1(x)\n",
    "        x = F.relu(x)\n",
    "        x = self.dropout(x)\n",
    "        x = self.layer2(x)\n",
    "        return x"
   ]
  },
  {
   "cell_type": "markdown",
   "id": "fb1bf3a1",
   "metadata": {},
   "source": [
    "## Encoder"
   ]
  },
  {
   "cell_type": "code",
   "execution_count": 3760,
   "id": "04876c6d",
   "metadata": {},
   "outputs": [],
   "source": [
    "class Encoder_Layer(nn.Module):\n",
    "    def __init__(self,num_heads, d_model, ffn_hidden, max_seq_len, dropout_rate):\n",
    "        super(Encoder_Layer,self).__init__()\n",
    "        self.multihead_attention = Multihead_Self_Attention(input_dim,d_model,num_heads)\n",
    "        self.pos_encoding = PostionalEncoding(max_seq_len,d_model)\n",
    "        self.feedforward = FeedForward(d_model,ffn_hidden)\n",
    "        self.norm1 = NormalizationLayer([d_model])\n",
    "        self.norm2 = NormalizationLayer([d_model])\n",
    "        self.dropout1 = nn.Dropout(dropout_rate)\n",
    "        self.dropout2 = nn.Dropout(dropout_rate)\n",
    "    \n",
    "    def forward(self,x,mask=None):\n",
    "        reseduial_x = x\n",
    "        x = self.multihead_attention(x,mask)\n",
    "        x = self.dropout1(x)\n",
    "        x = x + reseduial_x\n",
    "        x = self.norm1(x)\n",
    "        reseduial_x = x\n",
    "        x = self.feedforward(x)\n",
    "        x = self.dropout2(x)\n",
    "        x = x + reseduial_x\n",
    "        x = self.norm2(x)\n",
    "        return x"
   ]
  },
  {
   "cell_type": "code",
   "execution_count": 3761,
   "id": "1f758d6e",
   "metadata": {},
   "outputs": [],
   "source": [
    "class SequentialEncoder(nn.Sequential):\n",
    "    def forward(self, *inputs):\n",
    "        x, self_attention_mask  = inputs\n",
    "        for module in self._modules.values():\n",
    "            x = module(x, self_attention_mask)\n",
    "        return x"
   ]
  },
  {
   "cell_type": "code",
   "execution_count": 3762,
   "id": "5ac0aa5b",
   "metadata": {},
   "outputs": [],
   "source": [
    "\n",
    "class Encoder(nn.Module):\n",
    "    def __init__(self, d_model, ffn_hidden, num_heads, dropout_rate, num_layers,max_seq_len):\n",
    "        super().__init__()\n",
    "        self.layers = SequentialEncoder(*[Encoder_Layer(num_heads, d_model, ffn_hidden, max_seq_len, dropout_rate)\n",
    "                                     for _ in range(num_layers)])\n",
    "    def forward(self, x, mask=None):\n",
    "        x = self.layers(x, mask)\n",
    "        return x"
   ]
  },
  {
   "cell_type": "markdown",
   "id": "3c241c7b",
   "metadata": {},
   "source": [
    "## Decoder"
   ]
  },
  {
   "cell_type": "code",
   "execution_count": 3763,
   "id": "8d18f409",
   "metadata": {},
   "outputs": [],
   "source": [
    "class Decoder_Layer(nn.Module):\n",
    "    def __init__(self,num_heads, d_model, ffn_hidden, max_seq_len, dropout_rate):\n",
    "        super(Decoder_Layer,self).__init__()\n",
    "        self.multihead_self_attention = Multihead_Self_Attention(input_dim,d_model,num_heads)\n",
    "        self.multihead_cross_attention = Multihead_Cross_Attention(input_dim,d_model,num_heads)\n",
    "        self.feedforward = FeedForward(d_model,ffn_hidden)\n",
    "        self.norm1 = NormalizationLayer([d_model])\n",
    "        self.norm2 = NormalizationLayer([d_model])\n",
    "        self.norm3 = NormalizationLayer([d_model])\n",
    "        self.dropout1 = nn.Dropout(dropout_rate)\n",
    "        self.dropout2 = nn.Dropout(dropout_rate)\n",
    "        self.dropout3 = nn.Dropout(dropout_rate)\n",
    "    \n",
    "    def forward(self, x, y, self_attention_mask=None, cross_attention_mask=None):\n",
    "        reseduial_y = y\n",
    "        y = self.multihead_self_attention(y,mask = self_attention_mask)\n",
    "        y = self.dropout1(y)\n",
    "        y = y + reseduial_y\n",
    "        y = self.norm1(y)\n",
    "\n",
    "        reseduial_y = y\n",
    "        y = self.multihead_cross_attention(x,y,mask = cross_attention_mask)\n",
    "        y = self.dropout2(y)\n",
    "        y = y + reseduial_y\n",
    "        y = self.norm2(y)\n",
    "\n",
    "        reseduial_y = y\n",
    "        y = self.feedforward(y)\n",
    "        y = self.dropout3(y)\n",
    "        y = y + reseduial_y\n",
    "        y = self.norm3(y)\n",
    "\n",
    "        return y"
   ]
  },
  {
   "cell_type": "code",
   "execution_count": 3764,
   "id": "dfafde66",
   "metadata": {},
   "outputs": [],
   "source": [
    "class Sequential_Decoder(nn.Sequential):\n",
    "    def forward(self,*input):\n",
    "        x, y, self_attention_mask, cross_attention_mask = input\n",
    "        for module in self._modules.values():\n",
    "            y = module(x, y, self_attention_mask, cross_attention_mask) \n",
    "        return y"
   ]
  },
  {
   "cell_type": "code",
   "execution_count": 3765,
   "id": "8612abe6",
   "metadata": {},
   "outputs": [],
   "source": [
    "class Decoder(nn.Module):\n",
    "    def __init__(self, d_model, ffn_hidden, num_heads, dropout_rate, num_layers,max_seq_len):\n",
    "        super().__init__()\n",
    "        self.layers = Sequential_Decoder(*[Decoder_Layer(num_heads, d_model, ffn_hidden, max_seq_len, dropout_rate)\n",
    "                                     for _ in range(num_layers)])\n",
    "    def forward(self, x, y,self_attention_mask=None, cross_attention_mask=None):\n",
    "        y = self.layers(x, y,self_attention_mask, cross_attention_mask)\n",
    "        return y"
   ]
  },
  {
   "cell_type": "markdown",
   "id": "a46fd7d3",
   "metadata": {},
   "source": [
    "## Tokenization"
   ]
  },
  {
   "cell_type": "code",
   "execution_count": 3766,
   "id": "fad23c87",
   "metadata": {},
   "outputs": [],
   "source": [
    "START_TOKEN = '<START>'\n",
    "PADDING_TOKEN = '<PADDING>'\n",
    "END_TOKEN = '<END>' \n",
    "\n",
    "## all characters in the arabic language + symbols\n",
    "arabic_voc = [START_TOKEN,'ا','ب','ت','ث','ج','ح','خ','د','ذ','ر','ز','س','ش','ص','ض','ط','ظ','ع','غ','ف','ق','ك','ل','م','ن','ه','و','ي','ء','آ','أ','ؤ','إ','ئ','ئ','ة','ـ','،','؛','؟','٠','١','٢','٣','٤','٥','٦','٧','٨','٩','٪','٫','٬','٭','ٮ','ٯ','ٰ','ٱ','ٲ','ٳ','ٴ','ٵ','ٶ','ٷ','ٸ','ٹ','ٺ','ٻ','ټ','ٽ','پ','ٿ','ڀ','ځ','ڂ','ڃ','ڄ','څ','چ','ڇ','ڈ','ډ','ڊ','ڋ','ڌ','ڍ','ڎ','ڏ','ڐ','ڑ','ڒ','ړ','ڔ','ڕ','ږ','ڗ','ژ','ڙ','ښ','ڛ','ڜ','ڝ','ڞ','ڟ','ڠ','ڡ','ڢ','ڣ','ڤ','ڥ','ڦ','ڧ','ڨ','ک','ڪ','ګ','ڬ','ڭ','ڮ','گ','ڰ','ڱ','ڲ','ڳ','ڴ','ڵ','ڶ','ڷ','ڸ','ڹ','ں','ڻ','ڼ','ڽ','ھ','ڿ','ۀ','ہ','ۂ','ۃ','ۄ','ۅ','ۆ','ۇ','ۈ','ۉ','ۊ','ۋ','ی','ۍ','ێ','ۏ','ې','ۑ','ے','ۓ','۔','ە','!','\"','#','$','%','&',\"'\",'(',')','*','+',',','-','.','/',':',';','<','=','>','?','@','[','\\\\',']','^','_','`','{','|','}','~',' ','\\t','\\n','\\r','\\x0b','\\x0c',PADDING_TOKEN,END_TOKEN]\n",
    "## all characters in the english language + symbols\n",
    "english_voc = [START_TOKEN, 'A','B','C','D','E','F','G','H','I','J','K','L','M','N','O','P','Q','R','S','T','U','V','W','X','Y','Z','a','b','c','d','e','f','g','h','i','j','k','l','m','n','o','p','q','r','s','t','u','v','w','x','y','z','0','1','2','3','4','5','6','7','8','9','!','\"','#','$','%','&',\"'\",'(',')','*','+',',','-','.','/',':',';','<','=','>','?','@','[','\\\\',']','^','_','`','{','|','}','~',' ','\\t','\\n','\\r','\\x0b','\\x0c',PADDING_TOKEN,END_TOKEN]"
   ]
  },
  {
   "cell_type": "code",
   "execution_count": 3767,
   "id": "2f4124da",
   "metadata": {},
   "outputs": [
    {
     "data": {
      "text/plain": [
       "(199, 103)"
      ]
     },
     "execution_count": 3767,
     "metadata": {},
     "output_type": "execute_result"
    }
   ],
   "source": [
    "len(arabic_voc), len(english_voc)"
   ]
  },
  {
   "cell_type": "code",
   "execution_count": 3768,
   "id": "fd30dfb3",
   "metadata": {},
   "outputs": [
    {
     "data": {
      "text/plain": [
       "(198, 103)"
      ]
     },
     "execution_count": 3768,
     "metadata": {},
     "output_type": "execute_result"
    }
   ],
   "source": [
    "len(list(set(arabic_voc))), len(list(set(english_voc)))"
   ]
  },
  {
   "cell_type": "code",
   "execution_count": 3769,
   "id": "87794803",
   "metadata": {},
   "outputs": [],
   "source": [
    "arabic_voc = list(set(arabic_voc))\n",
    "english_voc = list(set(english_voc))"
   ]
  },
  {
   "cell_type": "code",
   "execution_count": 3770,
   "id": "c46f378b",
   "metadata": {},
   "outputs": [],
   "source": [
    "index_to_english = {k:v for k,v in enumerate(english_voc)}\n",
    "english_to_index = {v:k for k,v in enumerate(english_voc)}\n",
    "index_to_arabic = {k:v for k,v in enumerate(arabic_voc)}\n",
    "arabic_to_index = {v:k for k,v in enumerate(arabic_voc)}"
   ]
  },
  {
   "cell_type": "code",
   "execution_count": 3771,
   "id": "1f48f723",
   "metadata": {},
   "outputs": [
    {
     "data": {
      "text/plain": [
       "(103, 103, 198, 198)"
      ]
     },
     "execution_count": 3771,
     "metadata": {},
     "output_type": "execute_result"
    }
   ],
   "source": [
    "len(index_to_english), len(english_to_index), len(index_to_arabic), len(arabic_to_index)"
   ]
  },
  {
   "cell_type": "code",
   "execution_count": 3772,
   "id": "218bbe8d",
   "metadata": {},
   "outputs": [],
   "source": [
    "class SentenceEmbedding(nn.Module):\n",
    "    def __init__(self, language_to_index, max_seq_len, d_model,START_TOKEN, END_TOKEN, PADDING_TOKEN):\n",
    "        super(SentenceEmbedding,self).__init__()\n",
    "        self.vocab_size = len(language_to_index)\n",
    "        self.max_seq_len = max_seq_len\n",
    "        self.embedding = nn.Embedding(self.vocab_size, d_model)\n",
    "        self.language_to_index = language_to_index\n",
    "        self.position_encoder = PostionalEncoding(max_seq_len,d_model)\n",
    "        self.dropout = nn.Dropout(p=dropout_rate)\n",
    "        self.START_TOKEN = START_TOKEN\n",
    "        self.END_TOKEN = END_TOKEN\n",
    "        self.PADDING_TOKEN = PADDING_TOKEN\n",
    "       \n",
    "    def batch_tokenize(self, batch, start_token=True, end_token=True):\n",
    "\n",
    "        def tokenize(sentence, start_token=True, end_token=True):\n",
    "            sentence_word_indicies = [self.language_to_index[token] for token in list(sentence)]\n",
    "            if start_token:\n",
    "                sentence_word_indicies.insert(0, self.language_to_index[self.START_TOKEN])\n",
    "            if end_token:\n",
    "                sentence_word_indicies.append(self.language_to_index[self.END_TOKEN])\n",
    "            for _ in range(len(sentence_word_indicies), self.max_seq_len):\n",
    "                sentence_word_indicies.append(self.language_to_index[self.PADDING_TOKEN])\n",
    "            return torch.tensor(sentence_word_indicies)\n",
    "\n",
    "        tokenized = []\n",
    "        for sentence_num in range(len(batch)):\n",
    "           tokenized.append( tokenize(batch[sentence_num], start_token, end_token) )\n",
    "        \n",
    "        tokenized = torch.stack(tokenized)\n",
    "        return tokenized.to(get_device())\n",
    "    \n",
    "    def forward(self, x, start_token= True, end_token=True): \n",
    "        x = self.batch_tokenize(x ,start_token=start_token, end_token=end_token)\n",
    "        x = self.embedding(x)\n",
    "        pos = self.position_encoder(x).to(get_device())\n",
    "        x = self.dropout(x + pos)\n",
    "        return x"
   ]
  },
  {
   "cell_type": "code",
   "execution_count": 3773,
   "id": "de915ee3",
   "metadata": {},
   "outputs": [],
   "source": [
    "NEG_INFTY = -1e9\n",
    "\n",
    "def create_masks(eng_batch, ar_batch):\n",
    "    num_sentences = len(eng_batch)\n",
    "    look_ahead_mask = torch.full([max_seq_len, max_seq_len] , True)\n",
    "    look_ahead_mask = torch.triu(look_ahead_mask, diagonal=1)\n",
    "    encoder_padding_mask = torch.full([num_sentences, max_seq_len, max_seq_len] , False)\n",
    "    decoder_padding_mask_self_attention = torch.full([num_sentences, max_seq_len, max_seq_len] , False)\n",
    "    decoder_padding_mask_cross_attention = torch.full([num_sentences, max_seq_len, max_seq_len] , False)\n",
    "\n",
    "    for idx in range(num_sentences):\n",
    "      eng_sentence_length, ar_sentence_length = len(eng_batch[idx]), len(ar_batch[idx])\n",
    "      eng_chars_to_padding_mask = np.arange(eng_sentence_length + 1, max_seq_len)\n",
    "      ar_chars_to_padding_mask = np.arange(ar_sentence_length + 1, max_seq_len)\n",
    "      encoder_padding_mask[idx, :, eng_chars_to_padding_mask] = True\n",
    "      encoder_padding_mask[idx, eng_chars_to_padding_mask, :] = True\n",
    "      decoder_padding_mask_self_attention[idx, :, ar_chars_to_padding_mask] = True\n",
    "      decoder_padding_mask_self_attention[idx, ar_chars_to_padding_mask, :] = True\n",
    "      decoder_padding_mask_cross_attention[idx, :, eng_chars_to_padding_mask] = True\n",
    "      decoder_padding_mask_cross_attention[idx, ar_chars_to_padding_mask, :] = True\n",
    "\n",
    "    encoder_self_attention_mask = torch.where(encoder_padding_mask, NEG_INFTY, 0)\n",
    "    decoder_self_attention_mask =  torch.where(look_ahead_mask + decoder_padding_mask_self_attention, NEG_INFTY, 0)\n",
    "    decoder_cross_attention_mask = torch.where(decoder_padding_mask_cross_attention, NEG_INFTY, 0)\n",
    "    \n",
    "    return encoder_self_attention_mask, decoder_self_attention_mask, decoder_cross_attention_mask"
   ]
  },
  {
   "cell_type": "markdown",
   "id": "d7b70522",
   "metadata": {},
   "source": [
    "## Loading The Dataset"
   ]
  },
  {
   "cell_type": "code",
   "execution_count": 3774,
   "id": "0de81964",
   "metadata": {},
   "outputs": [],
   "source": [
    "df = pd.read_csv('dataset/en_ar_final.tsv', sep='\\t', header=0)"
   ]
  },
  {
   "cell_type": "code",
   "execution_count": 3775,
   "id": "ff99355c",
   "metadata": {},
   "outputs": [
    {
     "name": "stdout",
     "output_type": "stream",
     "text": [
      "(1325899, 2)\n"
     ]
    },
    {
     "data": {
      "text/html": [
       "<div>\n",
       "<style scoped>\n",
       "    .dataframe tbody tr th:only-of-type {\n",
       "        vertical-align: middle;\n",
       "    }\n",
       "\n",
       "    .dataframe tbody tr th {\n",
       "        vertical-align: top;\n",
       "    }\n",
       "\n",
       "    .dataframe thead th {\n",
       "        text-align: right;\n",
       "    }\n",
       "</style>\n",
       "<table border=\"1\" class=\"dataframe\">\n",
       "  <thead>\n",
       "    <tr style=\"text-align: right;\">\n",
       "      <th></th>\n",
       "      <th>en</th>\n",
       "      <th>ar</th>\n",
       "    </tr>\n",
       "  </thead>\n",
       "  <tbody>\n",
       "    <tr>\n",
       "      <th>0</th>\n",
       "      <td>and this</td>\n",
       "      <td>و هذه؟</td>\n",
       "    </tr>\n",
       "    <tr>\n",
       "      <th>1</th>\n",
       "      <td>it was um</td>\n",
       "      <td>...لقد كان</td>\n",
       "    </tr>\n",
       "    <tr>\n",
       "      <th>2</th>\n",
       "      <td>what is she doing here</td>\n",
       "      <td>ما الذي تفعله هناك؟</td>\n",
       "    </tr>\n",
       "    <tr>\n",
       "      <th>3</th>\n",
       "      <td>i dont like it</td>\n",
       "      <td>لا أحب ذلك</td>\n",
       "    </tr>\n",
       "    <tr>\n",
       "      <th>4</th>\n",
       "      <td>did you get the part</td>\n",
       "      <td>هل حصلت على جزء ?</td>\n",
       "    </tr>\n",
       "  </tbody>\n",
       "</table>\n",
       "</div>"
      ],
      "text/plain": [
       "                       en                   ar\n",
       "0                and this               و هذه؟\n",
       "1               it was um           ...لقد كان\n",
       "2  what is she doing here  ما الذي تفعله هناك؟\n",
       "3          i dont like it           لا أحب ذلك\n",
       "4    did you get the part    هل حصلت على جزء ?"
      ]
     },
     "execution_count": 3775,
     "metadata": {},
     "output_type": "execute_result"
    }
   ],
   "source": [
    "print(df.shape)\n",
    "df.head()"
   ]
  },
  {
   "cell_type": "code",
   "execution_count": 3776,
   "id": "bd8c1794",
   "metadata": {},
   "outputs": [],
   "source": [
    "class TextDataset(Dataset):\n",
    "    def __init__(self, english_sentences, arabic_sentences):\n",
    "        self.english_sentences = english_sentences\n",
    "        self.arabic_sentences = arabic_sentences\n",
    "\n",
    "    def __len__(self):\n",
    "        return len(self.english_sentences)\n",
    "\n",
    "    def __getitem__(self, idx):\n",
    "        return self.english_sentences[idx], self.arabic_sentences[idx]"
   ]
  },
  {
   "cell_type": "markdown",
   "id": "a02a901b",
   "metadata": {},
   "source": [
    "## Data Processing"
   ]
  },
  {
   "cell_type": "code",
   "execution_count": 3777,
   "id": "83054e7d",
   "metadata": {},
   "outputs": [],
   "source": [
    "df = df.dropna()\n",
    "# drop duplicates\n",
    "df = df.drop_duplicates()\n",
    "# drop rows with empty strings\n",
    "df = df[(df['en'] != '') & (df['ar'] != '')]"
   ]
  },
  {
   "cell_type": "code",
   "execution_count": 3778,
   "id": "7ddf9a45",
   "metadata": {},
   "outputs": [],
   "source": [
    "english_sentences = df['en'].values\n",
    "arabic_sentences = df['ar'].values"
   ]
  },
  {
   "cell_type": "code",
   "execution_count": 3779,
   "id": "273b79e1",
   "metadata": {},
   "outputs": [
    {
     "data": {
      "text/plain": [
       "array(['and this', 'it was um', 'what is she doing here', ...,\n",
       "       'chinas quest for value', 'zimbabweu0027s last chance',\n",
       "       'zuma rising'], dtype=object)"
      ]
     },
     "execution_count": 3779,
     "metadata": {},
     "output_type": "execute_result"
    }
   ],
   "source": [
    "english_sentences"
   ]
  },
  {
   "cell_type": "code",
   "execution_count": 3780,
   "id": "3e6b9943",
   "metadata": {},
   "outputs": [
    {
     "data": {
      "text/plain": [
       "array(['و هذه؟', '...لقد كان', 'ما الذي تفعله هناك؟', ...,\n",
       "       'الصين تفتش عن القيمة', 'زيمبابوي والفرصة الأخيرة',\n",
       "       'صعود نجم زوما'], dtype=object)"
      ]
     },
     "execution_count": 3780,
     "metadata": {},
     "output_type": "execute_result"
    }
   ],
   "source": [
    "arabic_sentences"
   ]
  },
  {
   "cell_type": "code",
   "execution_count": 3781,
   "id": "f02111e3",
   "metadata": {},
   "outputs": [
    {
     "name": "stdout",
     "output_type": "stream",
     "text": [
      "and this و هذه؟\n"
     ]
    }
   ],
   "source": [
    "print(english_sentences[0],arabic_sentences[0])"
   ]
  },
  {
   "cell_type": "code",
   "execution_count": 3782,
   "id": "f2181bf9",
   "metadata": {},
   "outputs": [
    {
     "data": {
      "text/plain": [
       "(32, 242)"
      ]
     },
     "execution_count": 3782,
     "metadata": {},
     "output_type": "execute_result"
    }
   ],
   "source": [
    "max(len(x) for x in arabic_sentences), max(len(x) for x in english_sentences)"
   ]
  },
  {
   "cell_type": "code",
   "execution_count": 3783,
   "id": "1338f846",
   "metadata": {},
   "outputs": [
    {
     "name": "stdout",
     "output_type": "stream",
     "text": [
      "91th percentile length Arabic: 28.0\n",
      "91th percentile length English: 44.0\n"
     ]
    }
   ],
   "source": [
    "PERCENTILE = 91\n",
    "print( f\"{PERCENTILE}th percentile length Arabic: {np.percentile([len(x) for x in arabic_sentences], PERCENTILE)}\" )\n",
    "print( f\"{PERCENTILE}th percentile length English: {np.percentile([len(x) for x in english_sentences], PERCENTILE)}\" )"
   ]
  },
  {
   "cell_type": "code",
   "execution_count": 3784,
   "id": "60f8bfc7",
   "metadata": {},
   "outputs": [],
   "source": [
    "english_sentences = english_sentences[:top]\n",
    "arabic_sentences = arabic_sentences[:top]"
   ]
  },
  {
   "cell_type": "code",
   "execution_count": 3785,
   "id": "ccaf0232",
   "metadata": {},
   "outputs": [
    {
     "name": "stdout",
     "output_type": "stream",
     "text": [
      "Number of sentences: 100000\n",
      "Number of valid sentences: 82474\n"
     ]
    }
   ],
   "source": [
    "def is_valid_tokens(sentence, vocab):\n",
    "    for token in list(set(sentence)):\n",
    "        if token not in vocab:\n",
    "            return False\n",
    "    return True\n",
    "\n",
    "def is_valid_length(sentence, max_seq_len):\n",
    "    return len(list(sentence)) < (max_seq_len - 1) \n",
    "\n",
    "valid_sentence_indicies = []\n",
    "for index in range(len(arabic_sentences)):\n",
    "    arabic_sentence, english_sentence = arabic_sentences[index], english_sentences[index]\n",
    "    if is_valid_length(arabic_sentence, max_seq_len) \\\n",
    "        and is_valid_length(english_sentence, max_seq_len) \\\n",
    "        and is_valid_tokens(arabic_sentence, arabic_voc) \\\n",
    "        and is_valid_tokens(english_sentence, english_voc) :\n",
    "        valid_sentence_indicies.append(index)\n",
    "\n",
    "print(f\"Number of sentences: {len(arabic_sentences)}\")\n",
    "print(f\"Number of valid sentences: {len(valid_sentence_indicies)}\")"
   ]
  },
  {
   "cell_type": "code",
   "execution_count": 3786,
   "id": "b698571c",
   "metadata": {},
   "outputs": [],
   "source": [
    "arabic_sentences = [arabic_sentences[i] for i in valid_sentence_indicies]\n",
    "english_sentences = [english_sentences[i] for i in valid_sentence_indicies]"
   ]
  },
  {
   "cell_type": "code",
   "execution_count": 3787,
   "id": "a365501d",
   "metadata": {},
   "outputs": [],
   "source": [
    "df = pd.DataFrame({'en': english_sentences, 'ar': arabic_sentences})\n",
    "df.to_csv('dataset/updated_en_ar_final.csv', index=False)"
   ]
  },
  {
   "cell_type": "code",
   "execution_count": 3788,
   "id": "f1e15bb9",
   "metadata": {},
   "outputs": [],
   "source": [
    "dataset = TextDataset(english_sentences, arabic_sentences)"
   ]
  },
  {
   "cell_type": "code",
   "execution_count": 3789,
   "id": "32a0ffc7",
   "metadata": {},
   "outputs": [
    {
     "data": {
      "text/plain": [
       "('and this', 'و هذه؟')"
      ]
     },
     "execution_count": 3789,
     "metadata": {},
     "output_type": "execute_result"
    }
   ],
   "source": [
    "len(dataset)\n",
    "dataset[0]"
   ]
  },
  {
   "cell_type": "markdown",
   "id": "b64e0d20",
   "metadata": {},
   "source": [
    "## Transformer"
   ]
  },
  {
   "attachments": {
    "image.png": {
     "image/png": "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"
    }
   },
   "cell_type": "markdown",
   "id": "3493683d",
   "metadata": {},
   "source": [
    "![image.png](attachment:image.png)"
   ]
  },
  {
   "cell_type": "code",
   "execution_count": 3790,
   "id": "aff4d4c1",
   "metadata": {},
   "outputs": [],
   "source": [
    "class Transformer(nn.Module):\n",
    "    def __init__(self, d_model, ffn_hidden, num_heads, dropout_rate, num_layers,\n",
    "                max_seq_len, ar_vocab_size, english_to_index, arabic_to_index,\n",
    "                START_TOKEN, END_TOKEN, PADDING_TOKEN\n",
    "                ):\n",
    "        super().__init__()\n",
    "        self.enc_sentence_embedding = SentenceEmbedding(english_to_index, max_seq_len, d_model,START_TOKEN, END_TOKEN, PADDING_TOKEN)\n",
    "        self.encoder = Encoder(d_model, ffn_hidden, num_heads, dropout_rate, num_layers, max_seq_len)\n",
    "\n",
    "        self.dec_sentence_embedding = SentenceEmbedding(arabic_to_index, max_seq_len, d_model,START_TOKEN, END_TOKEN, PADDING_TOKEN)\n",
    "        self.decoder = Decoder(d_model, ffn_hidden, num_heads, dropout_rate, num_layers, max_seq_len)\n",
    "\n",
    "        self.linear = nn.Linear(d_model, ar_vocab_size)\n",
    "        self.device = torch.device('cuda') if torch.cuda.is_available() else torch.device('cpu')\n",
    "\n",
    "    def forward(self, x, y, enc_start_token=False, enc_end_token=False, dec_start_token=True, dec_end_token=True):\n",
    "\n",
    "        encoder_self_attention_mask, decoder_self_attention_mask, decoder_cross_attention_mask = create_masks(x, y)\n",
    "        encoder_self_attention_mask = encoder_self_attention_mask.to(self.device)\n",
    "        decoder_self_attention_mask = decoder_self_attention_mask.to(self.device)\n",
    "        decoder_cross_attention_mask = decoder_cross_attention_mask.to(self.device)\n",
    "    \n",
    "        x = self.enc_sentence_embedding(x, start_token=enc_start_token, end_token=enc_end_token)\n",
    "        x = self.encoder(x, encoder_self_attention_mask)\n",
    "\n",
    "        y = self.dec_sentence_embedding(y, start_token=dec_start_token, end_token=dec_end_token)\n",
    "        out = self.decoder(x, y, decoder_self_attention_mask, decoder_cross_attention_mask)\n",
    "        out = self.linear(out)\n",
    "        return out"
   ]
  },
  {
   "cell_type": "code",
   "execution_count": 3791,
   "id": "1003fd8f",
   "metadata": {},
   "outputs": [],
   "source": [
    "train_loader = DataLoader(dataset, batch_size)\n",
    "iterator = iter(train_loader)"
   ]
  },
  {
   "cell_type": "code",
   "execution_count": 3792,
   "id": "4cdda111",
   "metadata": {},
   "outputs": [
    {
     "name": "stdout",
     "output_type": "stream",
     "text": [
      "[('and this', 'it was um', 'what is she doing here', 'i dont like it', ' its none of your business', ' uhhuh', ' others', 'im much your majesty', 'do i make myself clear', 'thank you', 'i bet you do', 'thats enough', 'yeah of course', 'im him', 'you okay', 'no no', 'shes all yours', 'you want the truth', 'how about you', ' goodbye', ' thats okay', 'im sorry', 'i must go', 'maybe we have something in common', 'right alright alright relax', ' have a seat', 'hows it goin', ' are you all right', 'whats up', ' what did you do', 'what happened', 'is this all youve got'), ('و هذه؟', '...لقد كان', 'ما الذي تفعله هناك؟', 'لا أحب ذلك', '-هذا ليس من شأنك', '-نعم .', 'ـ الآخرون؟', 'أنا (ماتش)، فخامتك', 'هل كلامي واضح؟', 'شكرا لكم.', 'أشك في ذلك', 'هذا يكفي !', 'أجل، بالطبع.', 'أنا هو', '-أأنت بخير ؟', 'ـ لا .. لا ..', 'انها لك', 'تريدين الحقيقة ؟', 'ماذا عنك؟', '-وداعا .', '-لا بأس .', 'أنا آسفة', 'أنا يجب أن أذهب', 'ربما لدينا شيء مشترك.', 'حسنا،حسنا إهدأ', '-تفضلي بالجلوس', 'كيف الحال؟', '-هل أنت بخير؟', 'هنري مالذي يحدث', '-ماذا فعلت؟', 'ماذا حدث ؟', 'أهذا كل ما لديك؟')]\n",
      "[(' that right', 'as in mother id like to fuck', ' ooh ooh ooh honey', 'what is your name', 'what was that', 'smells good', 'from what', 'it wasnt easy', 'and you', 'i dont think so', 'just take your time', ' over here', 'hell no', 'excuse me', 'what are you waiting for', 'like you', ' thats sad', 'what are you doing here', ' all right', 'how about everyone out here', 'i agree', 'number three', 'what was that you said', 'killian thank god', 'whoa zach', 'whats going on', 'all right gang', 'no no', 'why not', 'i can still do that', ' me neither', 'oh you know'), ('أهذا صحيح؟', 'اختصار لـ\" أم أود مضجعتها\" ؟', 'اوة اوة ،عسلي', 'ما هو اسمك؟', 'ماذا كان هذا؟', 'رائحة طيبة', 'من ماذا ؟', 'لم يكن الأمر سهلا.', 'و أنت؟', 'لا أظن ذلك', 'خذ وقتك', '-من هنا', 'طبعا لا', 'بعد اذنك', 'ماذا تنتظر؟', '-مثلك .', '-هذا مؤسف .', 'ـ ماذا تفعل هنا؟', '- حسنا', 'ماذا عنكم؟', '-أوافقك الرأي .', 'الكلمة الثالثة:', 'ماذا قلت ؟', '(كيليان) شكرا يا الله', 'عجباه، (زاك).', 'ما الذي يحدث؟', 'حسنا يا رفاق', 'لا .', '-لما لا ؟', 'مازلت أفعل ذلك', '-ولا أنا', 'كما تعلمون')]\n",
      "[('i cant believe it', 'hes been here', ' suck it', 'can you control it', 'are you alone', 'its pathetic', 'thats a good question', 'thats all right', 'how may i help you', 'screw you abed', 'what do you want', 'fiftyfourth session', 'look at that', 'i do not know', 'i think not', 'what is going on', ' where have you been', 'one two three', 'no not me', ' i cant', 'are you all right', 'you may call me sam out of love', 'thats it', 'how are you doing', 'how do you figure that', 'what happened', 'i see it', 'lou please dont do that', 'its been a while', 'she just left', 'i hope so', 'right master'), ('انا مش مصدقة ..', 'لقد كان هنا.', '-تبا لك', 'هل يمكنك أن تتحكمين بها ؟', 'أأنت بمفردك؟', 'أنت مثير للشفقة', 'هذا سؤال جيد', 'هذا حسن', 'كيف أستطيع مساعدتك؟', 'تبا لك', '-ماذا تريدين؟', 'الدورة الرابعة والخمسون', 'انظري لهذا.', 'انا لا اعلم', 'لا اعتقد هذا', 'ماذا يحدث هنا', 'ـ أين كنت؟', 'واحد، إثنان، ثلاثة.', 'لا ، ليس معي', '- لا استطيع', 'هل أنت بخير ؟', 'ما اسمك؟', 'هذا كل شيء', '- كيف تعمل؟', 'كيف عرفت هذا؟', 'ماذا حدث؟', 'أتفهم ذلك', 'أرجوك لا تفعل هذا', 'لقد مضت فترة', 'غادرت فقط', 'آمل ذلك', 'صحيح , سيدي')]\n",
      "[('theres more than that', 'here we go', 'im not sure i can', 'which reminds me', 'im here', 'thank you', 'you saw her', 'uh i gotta go', 'tagged as lassen', 'what happened out there', 'excuse me', 'youre mean', ' would you mind', 'i have no idea', 'get up', 'its important', 'ooh i just found something', 'were clear', ' im warning you', 'thats enough', ' no im not', 'its late', ' david', 'but you just keep talking sweetie', 'youre just wasting time', 'this is weird', 'im not sure', 'what now', 'what do we do now', 'im okay', ' really', ' michaelangelo'), ('هنالك المزيد', 'ها نحن أولاء', 'لا أقدر', 'وهذا يذكرني ..', 'أنا هنا', '-تفضلوا من فضلكم -شكرا', 'هل رأيتها؟', 'علي الذهاب.', 'موسمة كـ(لاسن)؟', 'ما الذي حدث هناك؟', 'عفوا ؟', 'أنت لئيم', '-هل تمانع؟', 'ليس لدي فكرة', 'انهض !', 'إنه مهم', 'لقد وجدت شيئا', 'المكان آمن.', '-أنا أحذرك', 'هذا يكفي.', '-لا لست كذلك', 'مع السلامه', '-ديفيد -ماذا؟', 'لكن لا تتوقف عن الحديث ياعزيزي', 'أنت تضيعين الوقت فحسب', 'هذا غريب', 'لم أقرر بعد', '. ماذا , الان ؟', 'ماذا سنفعل الآن؟', 'أنا بخير.', '-بربك ؟', 'مايكل أنجلو أجل')]\n",
      "[('im the one with the grenade launcher', 'whats wrong with you', 'how did you find me', 'anybody home', 'you look gorgeous', 'are you spying on me', 'i didnt do anything', ' okay', 'wheres the money', 'thats it', 'yeah well theyve been buddies ever since so', 'ill let you be buried with the bitch', 'yeah right', 'there he is hi carol', ' five ten good you just volunteered', 'i am not your average trophy wife', 'what the fuck is that', 'like what', 'no i dont think so', ' i dont know', 'you son of a bitch hes in hell', 'shoot him', 'its cool big o', 'good luck', 'what do you think', 'why do you ask', 'thats it', 'im here', 'thats it', 'one two three', 'not anymore', 'about that guy that shot you'), ('أنا الذي أحمل القنابل.', 'مابالك هكذا؟', 'كيف وجدتني؟', 'هل يوجد أحد هنا ؟', 'أنت مذهلة', 'هل تتجسسين علي؟', 'لم أفعل بك أي شيء', '- حسنا.', 'أين المال؟', 'هو كذلك .', '- أوه نعم', 'سوف أدفنك مع السافلة!', 'نعم , صحيح', 'ها هو ذا', 'جيد انت تطوعت', 'أنا لست زوجتك المتوسطة', 'ماهذا بحق الجحيم؟', 'مثل ماذا ؟', 'لا,لا أعتقد ذلك', '- اللعنة ، لا أعرف', 'يا سافل إنه في ألم رهيب', 'اطلق النار عليه', 'هذا رائع', 'حظا موفقا.', 'ماذا تعتقد؟', 'لم تسألان؟ لقد مات', 'هذا هو', 'أنا هنا.', 'فقط ذلك ؟', '. واحد، إثنان، ثلاثة', 'ليس بعد الأن', 'ـبشأنالرجلالذيأطلق النارعليك..')]\n"
     ]
    }
   ],
   "source": [
    "for batch_num, batch in enumerate(iterator):\n",
    "    print(batch)\n",
    "    if batch_num > 3:\n",
    "        break"
   ]
  },
  {
   "cell_type": "markdown",
   "id": "8e84391e",
   "metadata": {},
   "source": [
    "## Training"
   ]
  },
  {
   "cell_type": "code",
   "execution_count": 3793,
   "id": "ae719142",
   "metadata": {},
   "outputs": [],
   "source": [
    "transformer = Transformer(d_model, ffn_hidden,num_heads, dropout_rate, num_layers, max_seq_len,len(index_to_arabic),english_to_index,arabic_to_index,\n",
    "                          START_TOKEN, END_TOKEN, PADDING_TOKEN)"
   ]
  },
  {
   "cell_type": "code",
   "execution_count": 3794,
   "id": "0dd54461",
   "metadata": {},
   "outputs": [],
   "source": [
    "criterian = nn.CrossEntropyLoss(ignore_index = arabic_to_index[PADDING_TOKEN], reduction='none')\n",
    "\n",
    "for params in transformer.parameters():\n",
    "    if params.dim() > 1:\n",
    "        nn.init.xavier_uniform_(params)\n",
    "\n",
    "optim = torch.optim.Adam(transformer.parameters(), lr=learning_rate)\n",
    "device = torch.device('cuda') if torch.cuda.is_available() else torch.device('cpu')"
   ]
  },
  {
   "cell_type": "code",
   "execution_count": 3795,
   "id": "f33db8dc",
   "metadata": {},
   "outputs": [
    {
     "name": "stdout",
     "output_type": "stream",
     "text": [
      "Epoch 0\n",
      "Iteration num: 0 , training loss: 6.175731182098389\n",
      "English: and this\n",
      "Arabic Translation: و هذه؟\n",
      "Arabic Prediction: ۅٳٳڀ**ڬڀ٬ڀڀڀۅٳ١ٳڎڀ`ڻڀٳٳڎ_ڀڻ<ڀڀ١ڀڻ_ڀڻ١ڀڀڀڀڀڻ_ڀ\n"
     ]
    }
   ],
   "source": [
    "transformer.train()\n",
    "transformer.to(device)\n",
    "total_loss = 0\n",
    "\n",
    "for epoch in range(num_epochs):\n",
    "    print(f\"Epoch {epoch}\")\n",
    "    iterator = iter(train_loader)\n",
    "    for batch_num, batch in enumerate(iterator):\n",
    "        transformer.train()\n",
    "        eng_batch, ar_batch = batch\n",
    "        optim.zero_grad()\n",
    "        ar_predictions = transformer(eng_batch,ar_batch)\n",
    "        labels = transformer.dec_sentence_embedding.batch_tokenize(ar_batch, start_token=False, end_token=True)\n",
    "        loss = criterian(\n",
    "            ar_predictions.view(-1, len(arabic_voc)).to(device),\n",
    "            labels.view(-1).to(device)\n",
    "        ).to(device)\n",
    "        valid_indicies = torch.where(labels.view(-1) == arabic_to_index[PADDING_TOKEN], False, True)\n",
    "        loss = loss.sum() / valid_indicies.sum()\n",
    "        loss.backward()\n",
    "        optim.step()\n",
    "        #train_losses.append(loss.item())\n",
    "        if batch_num % 100 == 0:\n",
    "            print(f\"Iteration num: {batch_num} , training loss: {loss.item()}\")\n",
    "            print(f\"English: {eng_batch[0]}\")\n",
    "            print(f\"Arabic Translation: {ar_batch[0]}\")\n",
    "            ar_sentence_predicted = torch.argmax(ar_predictions[0], axis=1)\n",
    "            predicted_sentence = \"\"\n",
    "            for idx in ar_sentence_predicted:\n",
    "              if idx == arabic_to_index[END_TOKEN]:\n",
    "                break\n",
    "              predicted_sentence += index_to_arabic[idx.item()]\n",
    "            print(f\"Arabic Prediction: {predicted_sentence}\")\n",
    "\n",
    "            transformer.eval()\n",
    "            "
   ]
  },
  {
   "cell_type": "code",
   "execution_count": null,
   "id": "1f65e7e2",
   "metadata": {},
   "outputs": [
    {
     "data": {
      "text/plain": [
       "'<PADDING>'"
      ]
     },
     "execution_count": 3021,
     "metadata": {},
     "output_type": "execute_result"
    }
   ],
   "source": [
    "index_to_english[101]"
   ]
  }
 ],
 "metadata": {
  "kernelspec": {
   "display_name": "base",
   "language": "python",
   "name": "python3"
  },
  "language_info": {
   "codemirror_mode": {
    "name": "ipython",
    "version": 3
   },
   "file_extension": ".py",
   "mimetype": "text/x-python",
   "name": "python",
   "nbconvert_exporter": "python",
   "pygments_lexer": "ipython3",
   "version": "3.11.7"
  }
 },
 "nbformat": 4,
 "nbformat_minor": 5
=======
  "cells": [
    {
      "cell_type": "code",
      "execution_count": 1,
      "id": "hwpMGWtPXz9h",
      "metadata": {
        "id": "hwpMGWtPXz9h"
      },
      "outputs": [],
      "source": [
        "# from google.colab import drive\n",
        "# drive.mount('/content/gdrive')"
      ]
    },
    {
      "cell_type": "code",
      "execution_count": 2,
      "id": "298035d4-5673-4977-8393-262f92cc7265",
      "metadata": {
        "id": "298035d4-5673-4977-8393-262f92cc7265"
      },
      "outputs": [],
      "source": [
        "import torch\n",
        "import torch.nn as nn\n",
        "import numpy as np\n",
        "import math\n",
        "import torch.nn.functional as F\n",
        "import pandas as pd\n",
        "from torch.utils.data import Dataset, DataLoader"
      ]
    },
    {
      "cell_type": "markdown",
      "id": "53f236de",
      "metadata": {
        "id": "53f236de"
      },
      "source": [
        "## Setting the Hyperparameters"
      ]
    },
    {
      "cell_type": "code",
      "execution_count": 45,
      "id": "ff3c8dc0",
      "metadata": {
        "id": "ff3c8dc0"
      },
      "outputs": [],
      "source": [
        "batch_size = 400\n",
        "max_seq_len = 45\n",
        "input_dim = 512\n",
        "d_model = 512\n",
        "num_heads = 8\n",
        "ffn_hidden = 2048\n",
        "num_layers = 6\n",
        "dropout_rate = 0.1\n",
        "learning_rate = 0.0001\n",
        "num_epochs = 10\n",
        "top = 1000000"
      ]
    },
    {
      "cell_type": "code",
      "execution_count": 4,
      "id": "7b704ec8",
      "metadata": {
        "id": "7b704ec8"
      },
      "outputs": [],
      "source": [
        "def get_device():\n",
        "    return torch.device('cuda') if torch.cuda.is_available() else torch.device('cpu')"
      ]
    },
    {
      "cell_type": "markdown",
      "id": "33b2d3ac",
      "metadata": {
        "id": "33b2d3ac"
      },
      "source": [
        "## Multihead Self Attention"
      ]
    },
    {
      "cell_type": "code",
      "execution_count": 5,
      "id": "deac3059",
      "metadata": {
        "id": "deac3059"
      },
      "outputs": [],
      "source": [
        "def scaled_dot_product_attention(q,k,v,mask=None):\n",
        "    d_k = q.size(-1)\n",
        "    qk = torch.matmul(q, k.transpose(-2, -1)) /  math.sqrt(d_k)\n",
        "    if mask is not None:\n",
        "        qk = qk.permute(1, 0, 2, 3) + mask\n",
        "        qk = qk.permute(1, 0, 2, 3)\n",
        "    qk = F.softmax(qk, dim=-1)\n",
        "    new_qkv = torch.matmul(qk, v)\n",
        "    return new_qkv\n",
        "\n",
        "class Multihead_Self_Attention(nn.Module):\n",
        "    def __init__(self,input_dim, d_model, num_heads):\n",
        "        super(Multihead_Self_Attention, self).__init__()\n",
        "        self.input_dim = input_dim\n",
        "        self.model_dim = d_model\n",
        "        self.num_heads = num_heads\n",
        "        self.head_dim = self.model_dim // self.num_heads\n",
        "        self.qkv_layer = nn.Linear(input_dim, 3 * self.model_dim)\n",
        "        self.concat_layer = nn.Linear(self.model_dim, self.model_dim)\n",
        "        self.softmax = nn.Softmax(dim=-1)\n",
        "\n",
        "    def forward(self,x,mask=None):\n",
        "        qkv = self.qkv_layer(x)\n",
        "        a,b,c = qkv.size()\n",
        "        qkv = qkv.view(batch_size,max_seq_len,self.num_heads,3*self.head_dim)\n",
        "        qkv = qkv.permute(0,2,1,3)\n",
        "        q,k,v = qkv.chunk(3,dim=-1)\n",
        "        new_qkv = scaled_dot_product_attention(q,k,v,mask)\n",
        "        new_qkv = new_qkv.permute(0,2,1,3)\n",
        "        new_qkv = new_qkv.reshape(batch_size,max_seq_len,self.model_dim)\n",
        "        out = self.concat_layer(new_qkv)\n",
        "        return out"
      ]
    },
    {
      "cell_type": "markdown",
      "id": "0a55ca48",
      "metadata": {
        "id": "0a55ca48"
      },
      "source": [
        "## Multihead Cross Attention"
      ]
    },
    {
      "cell_type": "code",
      "execution_count": 6,
      "id": "7ee818ea",
      "metadata": {
        "id": "7ee818ea"
      },
      "outputs": [],
      "source": [
        "class Multihead_Cross_Attention(nn.Module):\n",
        "    def __init__(self,input_dim, model_dim, num_heads):\n",
        "        super(Multihead_Cross_Attention, self).__init__()\n",
        "        self.input_dim = input_dim\n",
        "        self.model_dim = model_dim\n",
        "        self.num_heads = num_heads\n",
        "        self.head_dim = model_dim // num_heads\n",
        "        self.qk_layer = nn.Linear(input_dim, 2 * model_dim)\n",
        "        self.v_layer = nn.Linear(input_dim, model_dim)\n",
        "        self.concat_layer = nn.Linear(model_dim, model_dim)\n",
        "        self.softmax = nn.Softmax(dim=-1)\n",
        "\n",
        "    def forward(self,x,y,mask=None):\n",
        "        qk = self.qk_layer(x)\n",
        "        v = self.v_layer(y)\n",
        "        qk = qk.view(batch_size,max_seq_len,num_heads,2*self.head_dim)\n",
        "        v = v.view(batch_size,max_seq_len,num_heads,self.head_dim)\n",
        "        qk = qk.permute(0,2,1,3)\n",
        "        v = v.permute(0,2,1,3)\n",
        "        q,k = qk.chunk(2,dim=-1)\n",
        "        new_qkv = scaled_dot_product_attention(q,k,v,mask)\n",
        "        new_qkv = new_qkv.permute(0,2,1,3)\n",
        "        new_qkv = new_qkv.reshape(batch_size,max_seq_len,self.model_dim)\n",
        "        out = self.concat_layer(new_qkv)\n",
        "        return out"
      ]
    },
    {
      "cell_type": "markdown",
      "id": "f160b031",
      "metadata": {
        "id": "f160b031"
      },
      "source": [
        "## Positional Encoding"
      ]
    },
    {
      "cell_type": "code",
      "execution_count": 7,
      "id": "5f0c6c28",
      "metadata": {
        "id": "5f0c6c28"
      },
      "outputs": [],
      "source": [
        "class PostionalEncoding(nn.Module):\n",
        "    def __init__(self,max_seq_len,d_model):\n",
        "        super(PostionalEncoding,self).__init__()\n",
        "        self.max_seq_len = max_seq_len\n",
        "        self.d_model = d_model\n",
        "        self.encoding = torch.zeros(self.max_seq_len,self.d_model)\n",
        "\n",
        "    def forward(self,x):\n",
        "        even_index = torch.arange(0,self.d_model,2).float()\n",
        "        domenator = torch.pow(10000,even_index/self.d_model)\n",
        "        position = torch.arange(0,self.max_seq_len).unsqueeze(1)\n",
        "        PE_even = torch.sin(position/domenator)\n",
        "        PE_odd = torch.cos(position/domenator)\n",
        "        stacked = torch.stack([PE_even,PE_odd],dim=2)\n",
        "        PE_flatten = torch.flatten(stacked,start_dim=1,end_dim=2)\n",
        "        return PE_flatten"
      ]
    },
    {
      "cell_type": "markdown",
      "id": "cdfde7de",
      "metadata": {
        "id": "cdfde7de"
      },
      "source": [
        "## Normalization Layer"
      ]
    },
    {
      "cell_type": "code",
      "execution_count": 8,
      "id": "9ed90324",
      "metadata": {
        "id": "9ed90324"
      },
      "outputs": [],
      "source": [
        "class NormalizationLayer(nn.Module):\n",
        "    def __init__(self, parameter_dim):\n",
        "        super(NormalizationLayer, self).__init__()\n",
        "        self.parameters_shape = parameter_dim\n",
        "        self.gamma = nn.Parameter(torch.ones(parameter_dim))\n",
        "        self.beta = nn.Parameter(torch.zeros(parameter_dim))\n",
        "        self.eps = 1e-6\n",
        "\n",
        "    def forward(self, x):\n",
        "        dims = [-(i + 1) for i in range(len(self.parameters_shape))]\n",
        "        mean = x.mean(dims, keepdim=True)\n",
        "        std = x.std(dims, keepdim=True)\n",
        "        out = self.gamma * (x - mean) / (std + self.eps) + self.beta\n",
        "        return out"
      ]
    },
    {
      "cell_type": "markdown",
      "id": "47adc7b1",
      "metadata": {
        "id": "47adc7b1"
      },
      "source": [
        "## Position-wise Feed-Forward"
      ]
    },
    {
      "cell_type": "code",
      "execution_count": 9,
      "id": "31a2a97c",
      "metadata": {
        "id": "31a2a97c"
      },
      "outputs": [],
      "source": [
        "class FeedForward(nn.Module):\n",
        "    def __init__(self,d_model,ffn_hidden):\n",
        "        super(FeedForward,self).__init__()\n",
        "        self.d_model = d_model\n",
        "        self.ffn_hidden = ffn_hidden\n",
        "        self.layer1 = nn.Linear(self.d_model,self.ffn_hidden)\n",
        "        self.layer2 = nn.Linear(self.ffn_hidden,self.d_model)\n",
        "        self.dropout = nn.Dropout(p=dropout_rate)\n",
        "\n",
        "    def forward(self,x):\n",
        "        x = self.layer1(x)\n",
        "        x = F.relu(x)\n",
        "        x = self.dropout(x)\n",
        "        x = self.layer2(x)\n",
        "        return x"
      ]
    },
    {
      "cell_type": "markdown",
      "id": "fb1bf3a1",
      "metadata": {
        "id": "fb1bf3a1"
      },
      "source": [
        "## Encoder"
      ]
    },
    {
      "cell_type": "code",
      "execution_count": 10,
      "id": "04876c6d",
      "metadata": {
        "id": "04876c6d"
      },
      "outputs": [],
      "source": [
        "class Encoder_Layer(nn.Module):\n",
        "    def __init__(self,num_heads, d_model, ffn_hidden, max_seq_len, dropout_rate):\n",
        "        super(Encoder_Layer,self).__init__()\n",
        "        self.multihead_attention = Multihead_Self_Attention(input_dim,d_model,num_heads)\n",
        "        self.pos_encoding = PostionalEncoding(max_seq_len,d_model)\n",
        "        self.feedforward = FeedForward(d_model,ffn_hidden)\n",
        "        self.norm1 = NormalizationLayer([d_model])\n",
        "        self.norm2 = NormalizationLayer([d_model])\n",
        "        self.dropout1 = nn.Dropout(dropout_rate)\n",
        "        self.dropout2 = nn.Dropout(dropout_rate)\n",
        "\n",
        "    def forward(self,x,mask=None):\n",
        "        reseduial_x = x\n",
        "        x = self.multihead_attention(x,mask)\n",
        "        x = self.dropout1(x)\n",
        "        x = x + reseduial_x\n",
        "        x = self.norm1(x)\n",
        "        reseduial_x = x\n",
        "        x = self.feedforward(x)\n",
        "        x = self.dropout2(x)\n",
        "        x = x + reseduial_x\n",
        "        x = self.norm2(x)\n",
        "        return x"
      ]
    },
    {
      "cell_type": "code",
      "execution_count": 11,
      "id": "1f758d6e",
      "metadata": {
        "id": "1f758d6e"
      },
      "outputs": [],
      "source": [
        "class SequentialEncoder(nn.Sequential):\n",
        "    def forward(self, *inputs):\n",
        "        x, self_attention_mask  = inputs\n",
        "        for module in self._modules.values():\n",
        "            x = module(x, self_attention_mask)\n",
        "        return x"
      ]
    },
    {
      "cell_type": "code",
      "execution_count": 12,
      "id": "5ac0aa5b",
      "metadata": {
        "id": "5ac0aa5b"
      },
      "outputs": [],
      "source": [
        "\n",
        "class Encoder(nn.Module):\n",
        "    def __init__(self, d_model, ffn_hidden, num_heads, dropout_rate, num_layers,max_seq_len):\n",
        "        super().__init__()\n",
        "        self.layers = SequentialEncoder(*[Encoder_Layer(num_heads, d_model, ffn_hidden, max_seq_len, dropout_rate)\n",
        "                                     for _ in range(num_layers)])\n",
        "    def forward(self, x, mask=None):\n",
        "        x = self.layers(x, mask)\n",
        "        return x"
      ]
    },
    {
      "cell_type": "markdown",
      "id": "3c241c7b",
      "metadata": {
        "id": "3c241c7b"
      },
      "source": [
        "## Decoder"
      ]
    },
    {
      "cell_type": "code",
      "execution_count": 13,
      "id": "8d18f409",
      "metadata": {
        "id": "8d18f409"
      },
      "outputs": [],
      "source": [
        "class Decoder_Layer(nn.Module):\n",
        "    def __init__(self,num_heads, d_model, ffn_hidden, max_seq_len, dropout_rate):\n",
        "        super(Decoder_Layer,self).__init__()\n",
        "        self.multihead_self_attention = Multihead_Self_Attention(input_dim,d_model,num_heads)\n",
        "        self.multihead_cross_attention = Multihead_Cross_Attention(input_dim,d_model,num_heads)\n",
        "        self.feedforward = FeedForward(d_model,ffn_hidden)\n",
        "        self.norm1 = NormalizationLayer([d_model])\n",
        "        self.norm2 = NormalizationLayer([d_model])\n",
        "        self.norm3 = NormalizationLayer([d_model])\n",
        "        self.dropout1 = nn.Dropout(dropout_rate)\n",
        "        self.dropout2 = nn.Dropout(dropout_rate)\n",
        "        self.dropout3 = nn.Dropout(dropout_rate)\n",
        "\n",
        "    def forward(self, x, y, self_attention_mask=None, cross_attention_mask=None):\n",
        "        reseduial_y = y\n",
        "        y = self.multihead_self_attention(y,mask = self_attention_mask)\n",
        "        y = self.dropout1(y)\n",
        "        y = y + reseduial_y\n",
        "        y = self.norm1(y)\n",
        "\n",
        "        reseduial_y = y\n",
        "        y = self.multihead_cross_attention(x,y,mask = cross_attention_mask)\n",
        "        y = self.dropout2(y)\n",
        "        y = y + reseduial_y\n",
        "        y = self.norm2(y)\n",
        "\n",
        "        reseduial_y = y\n",
        "        y = self.feedforward(y)\n",
        "        y = self.dropout3(y)\n",
        "        y = y + reseduial_y\n",
        "        y = self.norm3(y)\n",
        "\n",
        "        return y"
      ]
    },
    {
      "cell_type": "code",
      "execution_count": 14,
      "id": "dfafde66",
      "metadata": {
        "id": "dfafde66"
      },
      "outputs": [],
      "source": [
        "class Sequential_Decoder(nn.Sequential):\n",
        "    def forward(self,*input):\n",
        "        x, y, self_attention_mask, cross_attention_mask = input\n",
        "        for module in self._modules.values():\n",
        "            y = module(x, y, self_attention_mask, cross_attention_mask)\n",
        "        return y"
      ]
    },
    {
      "cell_type": "code",
      "execution_count": 15,
      "id": "8612abe6",
      "metadata": {
        "id": "8612abe6"
      },
      "outputs": [],
      "source": [
        "class Decoder(nn.Module):\n",
        "    def __init__(self, d_model, ffn_hidden, num_heads, dropout_rate, num_layers,max_seq_len):\n",
        "        super().__init__()\n",
        "        self.layers = Sequential_Decoder(*[Decoder_Layer(num_heads, d_model, ffn_hidden, max_seq_len, dropout_rate)\n",
        "                                     for _ in range(num_layers)])\n",
        "    def forward(self, x, y,self_attention_mask=None, cross_attention_mask=None):\n",
        "        y = self.layers(x, y,self_attention_mask, cross_attention_mask)\n",
        "        return y"
      ]
    },
    {
      "cell_type": "markdown",
      "id": "a46fd7d3",
      "metadata": {
        "id": "a46fd7d3"
      },
      "source": [
        "## Tokenization"
      ]
    },
    {
      "cell_type": "code",
      "execution_count": 16,
      "id": "fad23c87",
      "metadata": {
        "id": "fad23c87"
      },
      "outputs": [],
      "source": [
        "START_TOKEN = '<START>'\n",
        "PADDING_TOKEN = '<PADDING>'\n",
        "END_TOKEN = '<END>'\n",
        "\n",
        "## all characters in the arabic language + symbols\n",
        "arabic_voc = [START_TOKEN,'ا','ب','ت','ث','ج','ح','خ','د','ذ','ر','ز','س','ش','ص','ض','ط','ظ','ع','غ','ف','ق','ك','ل','م','ن','ه','و','ي','ء','آ','أ','ؤ','إ','ئ','ئ','ة','ـ','،','؛','؟','٠','١','٢','٣','٤','٥','٦','٧','٨','٩','٪','٫','٬','٭','ٮ','ٯ','ٰ','ٱ','ٲ','ٳ','ٴ','ٵ','ٶ','ٷ','ٸ','ٹ','ٺ','ٻ','ټ','ٽ','پ','ٿ','ڀ','ځ','ڂ','ڃ','ڄ','څ','چ','ڇ','ڈ','ډ','ڊ','ڋ','ڌ','ڍ','ڎ','ڏ','ڐ','ڑ','ڒ','ړ','ڔ','ڕ','ږ','ڗ','ژ','ڙ','ښ','ڛ','ڜ','ڝ','ڞ','ڟ','ڠ','ڡ','ڢ','ڣ','ڤ','ڥ','ڦ','ڧ','ڨ','ک','ڪ','ګ','ڬ','ڭ','ڮ','گ','ڰ','ڱ','ڲ','ڳ','ڴ','ڵ','ڶ','ڷ','ڸ','ڹ','ں','ڻ','ڼ','ڽ','ھ','ڿ','ۀ','ہ','ۂ','ۃ','ۄ','ۅ','ۆ','ۇ','ۈ','ۉ','ۊ','ۋ','ی','ۍ','ێ','ۏ','ې','ۑ','ے','ۓ','۔','ە','!','\"','#','$','%','&',\"'\",'(',')','*','+',',','-','.','/',':',';','<','=','>','?','@','[','\\\\',']','^','_','`','{','|','}','~',' ','\\t','\\n','\\r','\\x0b','\\x0c',PADDING_TOKEN,END_TOKEN]\n",
        "## all characters in the english language + symbols\n",
        "english_voc = [START_TOKEN, 'A','B','C','D','E','F','G','H','I','J','K','L','M','N','O','P','Q','R','S','T','U','V','W','X','Y','Z','a','b','c','d','e','f','g','h','i','j','k','l','m','n','o','p','q','r','s','t','u','v','w','x','y','z','0','1','2','3','4','5','6','7','8','9','!','\"','#','$','%','&',\"'\",'(',')','*','+',',','-','.','/',':',';','<','=','>','?','@','[','\\\\',']','^','_','`','{','|','}','~',' ','\\t','\\n','\\r','\\x0b','\\x0c',PADDING_TOKEN,END_TOKEN]"
      ]
    },
    {
      "cell_type": "code",
      "execution_count": 17,
      "id": "2f4124da",
      "metadata": {
        "colab": {
          "base_uri": "https://localhost:8080/"
        },
        "id": "2f4124da",
        "outputId": "6eaefdc5-e8a6-4113-89e1-c71852027f49"
      },
      "outputs": [
        {
          "data": {
            "text/plain": [
              "(199, 103)"
            ]
          },
          "execution_count": 17,
          "metadata": {},
          "output_type": "execute_result"
        }
      ],
      "source": [
        "len(arabic_voc), len(english_voc)"
      ]
    },
    {
      "cell_type": "code",
      "execution_count": 18,
      "id": "fd30dfb3",
      "metadata": {
        "colab": {
          "base_uri": "https://localhost:8080/"
        },
        "id": "fd30dfb3",
        "outputId": "962d5869-29a0-4262-f59a-79f614bb5199"
      },
      "outputs": [
        {
          "data": {
            "text/plain": [
              "(198, 103)"
            ]
          },
          "execution_count": 18,
          "metadata": {},
          "output_type": "execute_result"
        }
      ],
      "source": [
        "len(list(set(arabic_voc))), len(list(set(english_voc)))"
      ]
    },
    {
      "cell_type": "code",
      "execution_count": 19,
      "id": "87794803",
      "metadata": {
        "id": "87794803"
      },
      "outputs": [],
      "source": [
        "arabic_voc = list(set(arabic_voc))\n",
        "english_voc = list(set(english_voc))"
      ]
    },
    {
      "cell_type": "code",
      "execution_count": 20,
      "id": "c46f378b",
      "metadata": {
        "id": "c46f378b"
      },
      "outputs": [],
      "source": [
        "index_to_english = {k:v for k,v in enumerate(english_voc)}\n",
        "english_to_index = {v:k for k,v in enumerate(english_voc)}\n",
        "index_to_arabic = {k:v for k,v in enumerate(arabic_voc)}\n",
        "arabic_to_index = {v:k for k,v in enumerate(arabic_voc)}"
      ]
    },
    {
      "cell_type": "code",
      "execution_count": 21,
      "id": "1f48f723",
      "metadata": {
        "colab": {
          "base_uri": "https://localhost:8080/"
        },
        "id": "1f48f723",
        "outputId": "54b55c70-d77b-4e29-90e6-64373a205626"
      },
      "outputs": [
        {
          "data": {
            "text/plain": [
              "(103, 103, 198, 198)"
            ]
          },
          "execution_count": 21,
          "metadata": {},
          "output_type": "execute_result"
        }
      ],
      "source": [
        "len(index_to_english), len(english_to_index), len(index_to_arabic), len(arabic_to_index)"
      ]
    },
    {
      "cell_type": "code",
      "execution_count": 22,
      "id": "218bbe8d",
      "metadata": {
        "id": "218bbe8d"
      },
      "outputs": [],
      "source": [
        "class SentenceEmbedding(nn.Module):\n",
        "    def __init__(self, language_to_index, max_seq_len, d_model,START_TOKEN, END_TOKEN, PADDING_TOKEN):\n",
        "        super(SentenceEmbedding,self).__init__()\n",
        "        self.vocab_size = len(language_to_index)\n",
        "        self.max_seq_len = max_seq_len\n",
        "        self.embedding = nn.Embedding(self.vocab_size, d_model)\n",
        "        self.language_to_index = language_to_index\n",
        "        self.position_encoder = PostionalEncoding(max_seq_len,d_model)\n",
        "        self.dropout = nn.Dropout(p=dropout_rate)\n",
        "        self.START_TOKEN = START_TOKEN\n",
        "        self.END_TOKEN = END_TOKEN\n",
        "        self.PADDING_TOKEN = PADDING_TOKEN\n",
        "\n",
        "    def batch_tokenize(self, batch, start_token=True, end_token=True):\n",
        "\n",
        "        def tokenize(sentence, start_token=True, end_token=True):\n",
        "            sentence_word_indicies = [self.language_to_index[token] for token in list(sentence)]\n",
        "            if start_token:\n",
        "                sentence_word_indicies.insert(0, self.language_to_index[self.START_TOKEN])\n",
        "            if end_token:\n",
        "                sentence_word_indicies.append(self.language_to_index[self.END_TOKEN])\n",
        "            for _ in range(len(sentence_word_indicies), self.max_seq_len):\n",
        "                sentence_word_indicies.append(self.language_to_index[self.PADDING_TOKEN])\n",
        "            return torch.tensor(sentence_word_indicies)\n",
        "\n",
        "        tokenized = []\n",
        "        for sentence_num in range(len(batch)):\n",
        "           tokenized.append( tokenize(batch[sentence_num], start_token, end_token) )\n",
        "\n",
        "        tokenized = torch.stack(tokenized)\n",
        "        return tokenized.to(get_device())\n",
        "\n",
        "    def forward(self, x, start_token= True, end_token=True):\n",
        "        x = self.batch_tokenize(x ,start_token=start_token, end_token=end_token)\n",
        "        x = self.embedding(x)\n",
        "        pos = self.position_encoder(x).to(get_device())\n",
        "        x = self.dropout(x + pos)\n",
        "        return x"
      ]
    },
    {
      "cell_type": "code",
      "execution_count": 23,
      "id": "de915ee3",
      "metadata": {
        "id": "de915ee3"
      },
      "outputs": [],
      "source": [
        "NEG_INFTY = -1e9\n",
        "\n",
        "def create_masks(eng_batch, ar_batch):\n",
        "    num_sentences = len(eng_batch)\n",
        "    look_ahead_mask = torch.full([max_seq_len, max_seq_len] , True)\n",
        "    look_ahead_mask = torch.triu(look_ahead_mask, diagonal=1)\n",
        "    encoder_padding_mask = torch.full([num_sentences, max_seq_len, max_seq_len] , False)\n",
        "    decoder_padding_mask_self_attention = torch.full([num_sentences, max_seq_len, max_seq_len] , False)\n",
        "    decoder_padding_mask_cross_attention = torch.full([num_sentences, max_seq_len, max_seq_len] , False)\n",
        "\n",
        "    for idx in range(num_sentences):\n",
        "      eng_sentence_length, ar_sentence_length = len(eng_batch[idx]), len(ar_batch[idx])\n",
        "      eng_chars_to_padding_mask = np.arange(eng_sentence_length + 1, max_seq_len)\n",
        "      ar_chars_to_padding_mask = np.arange(ar_sentence_length + 1, max_seq_len)\n",
        "      encoder_padding_mask[idx, :, eng_chars_to_padding_mask] = True\n",
        "      encoder_padding_mask[idx, eng_chars_to_padding_mask, :] = True\n",
        "      decoder_padding_mask_self_attention[idx, :, ar_chars_to_padding_mask] = True\n",
        "      decoder_padding_mask_self_attention[idx, ar_chars_to_padding_mask, :] = True\n",
        "      decoder_padding_mask_cross_attention[idx, :, eng_chars_to_padding_mask] = True\n",
        "      decoder_padding_mask_cross_attention[idx, ar_chars_to_padding_mask, :] = True\n",
        "\n",
        "    encoder_self_attention_mask = torch.where(encoder_padding_mask, NEG_INFTY, 0)\n",
        "    decoder_self_attention_mask =  torch.where(look_ahead_mask + decoder_padding_mask_self_attention, NEG_INFTY, 0)\n",
        "    decoder_cross_attention_mask = torch.where(decoder_padding_mask_cross_attention, NEG_INFTY, 0)\n",
        "\n",
        "    return encoder_self_attention_mask, decoder_self_attention_mask, decoder_cross_attention_mask"
      ]
    },
    {
      "cell_type": "markdown",
      "id": "d7b70522",
      "metadata": {
        "id": "d7b70522"
      },
      "source": [
        "## Loading The Dataset"
      ]
    },
    {
      "cell_type": "code",
      "execution_count": 24,
      "id": "0de81964",
      "metadata": {
        "id": "0de81964"
      },
      "outputs": [],
      "source": [
        "df = pd.read_csv('en_ar_final.tsv', sep='\\t', header=0)"
      ]
    },
    {
      "cell_type": "code",
      "execution_count": 25,
      "id": "ff99355c",
      "metadata": {
        "colab": {
          "base_uri": "https://localhost:8080/",
          "height": 224
        },
        "id": "ff99355c",
        "outputId": "b3151afd-2ff0-4100-8215-843e2c45a8fc"
      },
      "outputs": [
        {
          "name": "stdout",
          "output_type": "stream",
          "text": [
            "(1325899, 2)\n"
          ]
        },
        {
          "data": {
            "application/vnd.google.colaboratory.intrinsic+json": {
              "type": "dataframe",
              "variable_name": "df"
            },
            "text/html": [
              "\n",
              "  <div id=\"df-957c1cf2-fd3c-49e0-8862-64f8d60fac39\" class=\"colab-df-container\">\n",
              "    <div>\n",
              "<style scoped>\n",
              "    .dataframe tbody tr th:only-of-type {\n",
              "        vertical-align: middle;\n",
              "    }\n",
              "\n",
              "    .dataframe tbody tr th {\n",
              "        vertical-align: top;\n",
              "    }\n",
              "\n",
              "    .dataframe thead th {\n",
              "        text-align: right;\n",
              "    }\n",
              "</style>\n",
              "<table border=\"1\" class=\"dataframe\">\n",
              "  <thead>\n",
              "    <tr style=\"text-align: right;\">\n",
              "      <th></th>\n",
              "      <th>en</th>\n",
              "      <th>ar</th>\n",
              "    </tr>\n",
              "  </thead>\n",
              "  <tbody>\n",
              "    <tr>\n",
              "      <th>0</th>\n",
              "      <td>and this</td>\n",
              "      <td>و هذه؟</td>\n",
              "    </tr>\n",
              "    <tr>\n",
              "      <th>1</th>\n",
              "      <td>it was um</td>\n",
              "      <td>...لقد كان</td>\n",
              "    </tr>\n",
              "    <tr>\n",
              "      <th>2</th>\n",
              "      <td>what is she doing here</td>\n",
              "      <td>ما الذي تفعله هناك؟</td>\n",
              "    </tr>\n",
              "    <tr>\n",
              "      <th>3</th>\n",
              "      <td>i dont like it</td>\n",
              "      <td>لا أحب ذلك</td>\n",
              "    </tr>\n",
              "    <tr>\n",
              "      <th>4</th>\n",
              "      <td>did you get the part</td>\n",
              "      <td>هل حصلت على جزء ?</td>\n",
              "    </tr>\n",
              "  </tbody>\n",
              "</table>\n",
              "</div>\n",
              "    <div class=\"colab-df-buttons\">\n",
              "\n",
              "  <div class=\"colab-df-container\">\n",
              "    <button class=\"colab-df-convert\" onclick=\"convertToInteractive('df-957c1cf2-fd3c-49e0-8862-64f8d60fac39')\"\n",
              "            title=\"Convert this dataframe to an interactive table.\"\n",
              "            style=\"display:none;\">\n",
              "\n",
              "  <svg xmlns=\"http://www.w3.org/2000/svg\" height=\"24px\" viewBox=\"0 -960 960 960\">\n",
              "    <path d=\"M120-120v-720h720v720H120Zm60-500h600v-160H180v160Zm220 220h160v-160H400v160Zm0 220h160v-160H400v160ZM180-400h160v-160H180v160Zm440 0h160v-160H620v160ZM180-180h160v-160H180v160Zm440 0h160v-160H620v160Z\"/>\n",
              "  </svg>\n",
              "    </button>\n",
              "\n",
              "  <style>\n",
              "    .colab-df-container {\n",
              "      display:flex;\n",
              "      gap: 12px;\n",
              "    }\n",
              "\n",
              "    .colab-df-convert {\n",
              "      background-color: #E8F0FE;\n",
              "      border: none;\n",
              "      border-radius: 50%;\n",
              "      cursor: pointer;\n",
              "      display: none;\n",
              "      fill: #1967D2;\n",
              "      height: 32px;\n",
              "      padding: 0 0 0 0;\n",
              "      width: 32px;\n",
              "    }\n",
              "\n",
              "    .colab-df-convert:hover {\n",
              "      background-color: #E2EBFA;\n",
              "      box-shadow: 0px 1px 2px rgba(60, 64, 67, 0.3), 0px 1px 3px 1px rgba(60, 64, 67, 0.15);\n",
              "      fill: #174EA6;\n",
              "    }\n",
              "\n",
              "    .colab-df-buttons div {\n",
              "      margin-bottom: 4px;\n",
              "    }\n",
              "\n",
              "    [theme=dark] .colab-df-convert {\n",
              "      background-color: #3B4455;\n",
              "      fill: #D2E3FC;\n",
              "    }\n",
              "\n",
              "    [theme=dark] .colab-df-convert:hover {\n",
              "      background-color: #434B5C;\n",
              "      box-shadow: 0px 1px 3px 1px rgba(0, 0, 0, 0.15);\n",
              "      filter: drop-shadow(0px 1px 2px rgba(0, 0, 0, 0.3));\n",
              "      fill: #FFFFFF;\n",
              "    }\n",
              "  </style>\n",
              "\n",
              "    <script>\n",
              "      const buttonEl =\n",
              "        document.querySelector('#df-957c1cf2-fd3c-49e0-8862-64f8d60fac39 button.colab-df-convert');\n",
              "      buttonEl.style.display =\n",
              "        google.colab.kernel.accessAllowed ? 'block' : 'none';\n",
              "\n",
              "      async function convertToInteractive(key) {\n",
              "        const element = document.querySelector('#df-957c1cf2-fd3c-49e0-8862-64f8d60fac39');\n",
              "        const dataTable =\n",
              "          await google.colab.kernel.invokeFunction('convertToInteractive',\n",
              "                                                    [key], {});\n",
              "        if (!dataTable) return;\n",
              "\n",
              "        const docLinkHtml = 'Like what you see? Visit the ' +\n",
              "          '<a target=\"_blank\" href=https://colab.research.google.com/notebooks/data_table.ipynb>data table notebook</a>'\n",
              "          + ' to learn more about interactive tables.';\n",
              "        element.innerHTML = '';\n",
              "        dataTable['output_type'] = 'display_data';\n",
              "        await google.colab.output.renderOutput(dataTable, element);\n",
              "        const docLink = document.createElement('div');\n",
              "        docLink.innerHTML = docLinkHtml;\n",
              "        element.appendChild(docLink);\n",
              "      }\n",
              "    </script>\n",
              "  </div>\n",
              "\n",
              "\n",
              "<div id=\"df-bca31b44-83d5-43e6-9f9a-a1c9e015d39a\">\n",
              "  <button class=\"colab-df-quickchart\" onclick=\"quickchart('df-bca31b44-83d5-43e6-9f9a-a1c9e015d39a')\"\n",
              "            title=\"Suggest charts\"\n",
              "            style=\"display:none;\">\n",
              "\n",
              "<svg xmlns=\"http://www.w3.org/2000/svg\" height=\"24px\"viewBox=\"0 0 24 24\"\n",
              "     width=\"24px\">\n",
              "    <g>\n",
              "        <path d=\"M19 3H5c-1.1 0-2 .9-2 2v14c0 1.1.9 2 2 2h14c1.1 0 2-.9 2-2V5c0-1.1-.9-2-2-2zM9 17H7v-7h2v7zm4 0h-2V7h2v10zm4 0h-2v-4h2v4z\"/>\n",
              "    </g>\n",
              "</svg>\n",
              "  </button>\n",
              "\n",
              "<style>\n",
              "  .colab-df-quickchart {\n",
              "      --bg-color: #E8F0FE;\n",
              "      --fill-color: #1967D2;\n",
              "      --hover-bg-color: #E2EBFA;\n",
              "      --hover-fill-color: #174EA6;\n",
              "      --disabled-fill-color: #AAA;\n",
              "      --disabled-bg-color: #DDD;\n",
              "  }\n",
              "\n",
              "  [theme=dark] .colab-df-quickchart {\n",
              "      --bg-color: #3B4455;\n",
              "      --fill-color: #D2E3FC;\n",
              "      --hover-bg-color: #434B5C;\n",
              "      --hover-fill-color: #FFFFFF;\n",
              "      --disabled-bg-color: #3B4455;\n",
              "      --disabled-fill-color: #666;\n",
              "  }\n",
              "\n",
              "  .colab-df-quickchart {\n",
              "    background-color: var(--bg-color);\n",
              "    border: none;\n",
              "    border-radius: 50%;\n",
              "    cursor: pointer;\n",
              "    display: none;\n",
              "    fill: var(--fill-color);\n",
              "    height: 32px;\n",
              "    padding: 0;\n",
              "    width: 32px;\n",
              "  }\n",
              "\n",
              "  .colab-df-quickchart:hover {\n",
              "    background-color: var(--hover-bg-color);\n",
              "    box-shadow: 0 1px 2px rgba(60, 64, 67, 0.3), 0 1px 3px 1px rgba(60, 64, 67, 0.15);\n",
              "    fill: var(--button-hover-fill-color);\n",
              "  }\n",
              "\n",
              "  .colab-df-quickchart-complete:disabled,\n",
              "  .colab-df-quickchart-complete:disabled:hover {\n",
              "    background-color: var(--disabled-bg-color);\n",
              "    fill: var(--disabled-fill-color);\n",
              "    box-shadow: none;\n",
              "  }\n",
              "\n",
              "  .colab-df-spinner {\n",
              "    border: 2px solid var(--fill-color);\n",
              "    border-color: transparent;\n",
              "    border-bottom-color: var(--fill-color);\n",
              "    animation:\n",
              "      spin 1s steps(1) infinite;\n",
              "  }\n",
              "\n",
              "  @keyframes spin {\n",
              "    0% {\n",
              "      border-color: transparent;\n",
              "      border-bottom-color: var(--fill-color);\n",
              "      border-left-color: var(--fill-color);\n",
              "    }\n",
              "    20% {\n",
              "      border-color: transparent;\n",
              "      border-left-color: var(--fill-color);\n",
              "      border-top-color: var(--fill-color);\n",
              "    }\n",
              "    30% {\n",
              "      border-color: transparent;\n",
              "      border-left-color: var(--fill-color);\n",
              "      border-top-color: var(--fill-color);\n",
              "      border-right-color: var(--fill-color);\n",
              "    }\n",
              "    40% {\n",
              "      border-color: transparent;\n",
              "      border-right-color: var(--fill-color);\n",
              "      border-top-color: var(--fill-color);\n",
              "    }\n",
              "    60% {\n",
              "      border-color: transparent;\n",
              "      border-right-color: var(--fill-color);\n",
              "    }\n",
              "    80% {\n",
              "      border-color: transparent;\n",
              "      border-right-color: var(--fill-color);\n",
              "      border-bottom-color: var(--fill-color);\n",
              "    }\n",
              "    90% {\n",
              "      border-color: transparent;\n",
              "      border-bottom-color: var(--fill-color);\n",
              "    }\n",
              "  }\n",
              "</style>\n",
              "\n",
              "  <script>\n",
              "    async function quickchart(key) {\n",
              "      const quickchartButtonEl =\n",
              "        document.querySelector('#' + key + ' button');\n",
              "      quickchartButtonEl.disabled = true;  // To prevent multiple clicks.\n",
              "      quickchartButtonEl.classList.add('colab-df-spinner');\n",
              "      try {\n",
              "        const charts = await google.colab.kernel.invokeFunction(\n",
              "            'suggestCharts', [key], {});\n",
              "      } catch (error) {\n",
              "        console.error('Error during call to suggestCharts:', error);\n",
              "      }\n",
              "      quickchartButtonEl.classList.remove('colab-df-spinner');\n",
              "      quickchartButtonEl.classList.add('colab-df-quickchart-complete');\n",
              "    }\n",
              "    (() => {\n",
              "      let quickchartButtonEl =\n",
              "        document.querySelector('#df-bca31b44-83d5-43e6-9f9a-a1c9e015d39a button');\n",
              "      quickchartButtonEl.style.display =\n",
              "        google.colab.kernel.accessAllowed ? 'block' : 'none';\n",
              "    })();\n",
              "  </script>\n",
              "</div>\n",
              "    </div>\n",
              "  </div>\n"
            ],
            "text/plain": [
              "                       en                   ar\n",
              "0                and this               و هذه؟\n",
              "1               it was um           ...لقد كان\n",
              "2  what is she doing here  ما الذي تفعله هناك؟\n",
              "3          i dont like it           لا أحب ذلك\n",
              "4    did you get the part    هل حصلت على جزء ?"
            ]
          },
          "execution_count": 25,
          "metadata": {},
          "output_type": "execute_result"
        }
      ],
      "source": [
        "print(df.shape)\n",
        "df.head()"
      ]
    },
    {
      "cell_type": "code",
      "execution_count": 26,
      "id": "bd8c1794",
      "metadata": {
        "id": "bd8c1794"
      },
      "outputs": [],
      "source": [
        "class TextDataset(Dataset):\n",
        "    def __init__(self, english_sentences, arabic_sentences):\n",
        "        self.english_sentences = english_sentences\n",
        "        self.arabic_sentences = arabic_sentences\n",
        "\n",
        "    def __len__(self):\n",
        "        return len(self.english_sentences)\n",
        "\n",
        "    def __getitem__(self, idx):\n",
        "        return self.english_sentences[idx], self.arabic_sentences[idx]"
      ]
    },
    {
      "cell_type": "markdown",
      "id": "a02a901b",
      "metadata": {
        "id": "a02a901b"
      },
      "source": [
        "## Data Processing"
      ]
    },
    {
      "cell_type": "code",
      "execution_count": 27,
      "id": "83054e7d",
      "metadata": {
        "id": "83054e7d"
      },
      "outputs": [],
      "source": [
        "df = df.dropna()\n",
        "# drop duplicates\n",
        "df = df.drop_duplicates()\n",
        "# drop rows with empty strings\n",
        "df = df[(df['en'] != '') & (df['ar'] != '')]"
      ]
    },
    {
      "cell_type": "code",
      "execution_count": 28,
      "id": "7ddf9a45",
      "metadata": {
        "id": "7ddf9a45"
      },
      "outputs": [],
      "source": [
        "english_sentences = df['en'].values\n",
        "arabic_sentences = df['ar'].values"
      ]
    },
    {
      "cell_type": "code",
      "execution_count": 29,
      "id": "273b79e1",
      "metadata": {
        "colab": {
          "base_uri": "https://localhost:8080/"
        },
        "id": "273b79e1",
        "outputId": "d52c0f1f-716b-401a-849c-da21e1a77b37"
      },
      "outputs": [
        {
          "data": {
            "text/plain": [
              "array(['and this', 'it was um', 'what is she doing here', ...,\n",
              "       'chinas quest for value', 'zimbabweu0027s last chance',\n",
              "       'zuma rising'], dtype=object)"
            ]
          },
          "execution_count": 29,
          "metadata": {},
          "output_type": "execute_result"
        }
      ],
      "source": [
        "english_sentences"
      ]
    },
    {
      "cell_type": "code",
      "execution_count": 30,
      "id": "3e6b9943",
      "metadata": {
        "colab": {
          "base_uri": "https://localhost:8080/"
        },
        "id": "3e6b9943",
        "outputId": "5986ce88-8d67-4976-9407-e329ad6e6f39"
      },
      "outputs": [
        {
          "data": {
            "text/plain": [
              "array(['و هذه؟', '...لقد كان', 'ما الذي تفعله هناك؟', ...,\n",
              "       'الصين تفتش عن القيمة', 'زيمبابوي والفرصة الأخيرة',\n",
              "       'صعود نجم زوما'], dtype=object)"
            ]
          },
          "execution_count": 30,
          "metadata": {},
          "output_type": "execute_result"
        }
      ],
      "source": [
        "arabic_sentences"
      ]
    },
    {
      "cell_type": "code",
      "execution_count": 31,
      "id": "f02111e3",
      "metadata": {
        "colab": {
          "base_uri": "https://localhost:8080/"
        },
        "id": "f02111e3",
        "outputId": "0177a45b-8a64-4b4b-f7e9-8001b5d2e934"
      },
      "outputs": [
        {
          "name": "stdout",
          "output_type": "stream",
          "text": [
            "and this و هذه؟\n"
          ]
        }
      ],
      "source": [
        "print(english_sentences[0],arabic_sentences[0])"
      ]
    },
    {
      "cell_type": "code",
      "execution_count": 32,
      "id": "f2181bf9",
      "metadata": {
        "colab": {
          "base_uri": "https://localhost:8080/"
        },
        "id": "f2181bf9",
        "outputId": "cd265d77-1174-4b4e-e3f5-4cc3edb22f44"
      },
      "outputs": [
        {
          "data": {
            "text/plain": [
              "(32, 242)"
            ]
          },
          "execution_count": 32,
          "metadata": {},
          "output_type": "execute_result"
        }
      ],
      "source": [
        "max(len(x) for x in arabic_sentences), max(len(x) for x in english_sentences)"
      ]
    },
    {
      "cell_type": "code",
      "execution_count": 33,
      "id": "1338f846",
      "metadata": {
        "colab": {
          "base_uri": "https://localhost:8080/"
        },
        "id": "1338f846",
        "outputId": "2e01f45e-07d8-4c13-95dc-f2eca0347b3c"
      },
      "outputs": [
        {
          "name": "stdout",
          "output_type": "stream",
          "text": [
            "91th percentile length Arabic: 28.0\n",
            "91th percentile length English: 44.0\n"
          ]
        }
      ],
      "source": [
        "PERCENTILE = 91\n",
        "print( f\"{PERCENTILE}th percentile length Arabic: {np.percentile([len(x) for x in arabic_sentences], PERCENTILE)}\" )\n",
        "print( f\"{PERCENTILE}th percentile length English: {np.percentile([len(x) for x in english_sentences], PERCENTILE)}\" )"
      ]
    },
    {
      "cell_type": "code",
      "execution_count": 34,
      "id": "60f8bfc7",
      "metadata": {
        "id": "60f8bfc7"
      },
      "outputs": [],
      "source": [
        "if top > (len(english_sentences) - 1) :\n",
        "  top = len(english_sentences) - 1\n",
        "english_sentences = english_sentences[:top]\n",
        "arabic_sentences = arabic_sentences[:top]"
      ]
    },
    {
      "cell_type": "code",
      "execution_count": 35,
      "id": "ccaf0232",
      "metadata": {
        "colab": {
          "base_uri": "https://localhost:8080/"
        },
        "id": "ccaf0232",
        "outputId": "613cd190-33af-47c5-d6d9-c49b7b106ec5"
      },
      "outputs": [
        {
          "name": "stdout",
          "output_type": "stream",
          "text": [
            "Number of sentences: 831788\n",
            "Number of valid sentences: 547388\n"
          ]
        }
      ],
      "source": [
        "def is_valid_tokens(sentence, vocab):\n",
        "    for token in list(set(sentence)):\n",
        "        if token not in vocab:\n",
        "            return False\n",
        "    return True\n",
        "\n",
        "def is_valid_length(sentence, max_seq_len):\n",
        "    return len(list(sentence)) < (max_seq_len - 1)\n",
        "\n",
        "valid_sentence_indicies = []\n",
        "for index in range(len(arabic_sentences)):\n",
        "    arabic_sentence, english_sentence = arabic_sentences[index], english_sentences[index]\n",
        "    if is_valid_length(arabic_sentence, max_seq_len) \\\n",
        "        and is_valid_length(english_sentence, max_seq_len) \\\n",
        "        and is_valid_tokens(arabic_sentence, arabic_voc) \\\n",
        "        and is_valid_tokens(english_sentence, english_voc) :\n",
        "        valid_sentence_indicies.append(index)\n",
        "\n",
        "print(f\"Number of sentences: {len(arabic_sentences)}\")\n",
        "print(f\"Number of valid sentences: {len(valid_sentence_indicies)}\")"
      ]
    },
    {
      "cell_type": "code",
      "execution_count": 36,
      "id": "b698571c",
      "metadata": {
        "id": "b698571c"
      },
      "outputs": [],
      "source": [
        "arabic_sentences = [arabic_sentences[i] for i in valid_sentence_indicies]\n",
        "english_sentences = [english_sentences[i] for i in valid_sentence_indicies]"
      ]
    },
    {
      "cell_type": "code",
      "execution_count": 37,
      "id": "f1e15bb9",
      "metadata": {
        "id": "f1e15bb9"
      },
      "outputs": [],
      "source": [
        "dataset = TextDataset(english_sentences, arabic_sentences)"
      ]
    },
    {
      "cell_type": "code",
      "execution_count": 38,
      "id": "32a0ffc7",
      "metadata": {
        "colab": {
          "base_uri": "https://localhost:8080/"
        },
        "id": "32a0ffc7",
        "outputId": "61d7278b-9164-41fd-be82-e8dd1f2a5ea2"
      },
      "outputs": [
        {
          "data": {
            "text/plain": [
              "('and this', 'و هذه؟')"
            ]
          },
          "execution_count": 38,
          "metadata": {},
          "output_type": "execute_result"
        }
      ],
      "source": [
        "len(dataset)\n",
        "dataset[0]"
      ]
    },
    {
      "cell_type": "markdown",
      "id": "b64e0d20",
      "metadata": {
        "id": "b64e0d20"
      },
      "source": [
        "## Transformer"
      ]
    },
    {
      "cell_type": "markdown",
      "id": "3493683d",
      "metadata": {
        "id": "3493683d"
      },
      "source": [
        "![image.png](attachment:image.png)"
      ]
    },
    {
      "cell_type": "code",
      "execution_count": 39,
      "id": "aff4d4c1",
      "metadata": {
        "id": "aff4d4c1"
      },
      "outputs": [],
      "source": [
        "class Transformer(nn.Module):\n",
        "    def __init__(self, d_model, ffn_hidden, num_heads, dropout_rate, num_layers,\n",
        "                max_seq_len, ar_vocab_size, english_to_index, arabic_to_index,\n",
        "                START_TOKEN, END_TOKEN, PADDING_TOKEN\n",
        "                ):\n",
        "        super().__init__()\n",
        "        self.enc_sentence_embedding = SentenceEmbedding(english_to_index, max_seq_len, d_model,START_TOKEN, END_TOKEN, PADDING_TOKEN)\n",
        "        self.encoder = Encoder(d_model, ffn_hidden, num_heads, dropout_rate, num_layers, max_seq_len)\n",
        "\n",
        "        self.dec_sentence_embedding = SentenceEmbedding(arabic_to_index, max_seq_len, d_model,START_TOKEN, END_TOKEN, PADDING_TOKEN)\n",
        "        self.decoder = Decoder(d_model, ffn_hidden, num_heads, dropout_rate, num_layers, max_seq_len)\n",
        "\n",
        "        self.linear = nn.Linear(d_model, ar_vocab_size)\n",
        "        self.device = torch.device('cuda') if torch.cuda.is_available() else torch.device('cpu')\n",
        "\n",
        "    def forward(self, x, y, enc_start_token=False, enc_end_token=False, dec_start_token=True, dec_end_token=True):\n",
        "\n",
        "        encoder_self_attention_mask, decoder_self_attention_mask, decoder_cross_attention_mask = create_masks(x, y)\n",
        "        encoder_self_attention_mask = encoder_self_attention_mask.to(self.device)\n",
        "        decoder_self_attention_mask = decoder_self_attention_mask.to(self.device)\n",
        "        decoder_cross_attention_mask = decoder_cross_attention_mask.to(self.device)\n",
        "\n",
        "        x = self.enc_sentence_embedding(x, start_token=enc_start_token, end_token=enc_end_token)\n",
        "        x = self.encoder(x, encoder_self_attention_mask)\n",
        "\n",
        "        y = self.dec_sentence_embedding(y, start_token=dec_start_token, end_token=dec_end_token)\n",
        "        out = self.decoder(x, y, decoder_self_attention_mask, decoder_cross_attention_mask)\n",
        "        out = self.linear(out)\n",
        "        return out"
      ]
    },
    {
      "cell_type": "code",
      "execution_count": 40,
      "id": "1003fd8f",
      "metadata": {
        "id": "1003fd8f"
      },
      "outputs": [],
      "source": [
        "train_loader = DataLoader(dataset, batch_size)\n",
        "iterator = iter(train_loader)"
      ]
    },
    {
      "cell_type": "code",
      "execution_count": 41,
      "id": "4cdda111",
      "metadata": {
        "colab": {
          "base_uri": "https://localhost:8080/"
        },
        "id": "4cdda111",
        "outputId": "00ca7d94-db0e-463e-c2d6-be2e276a45ed"
      },
      "outputs": [
        {
          "name": "stdout",
          "output_type": "stream",
          "text": [
            "[('and this', 'it was um', 'what is she doing here', 'i dont like it', ' its none of your business', ' uhhuh', ' others', 'im much your majesty', 'do i make myself clear', 'thank you', 'i bet you do', 'thats enough', 'yeah of course', 'im him', 'you okay', 'no no', 'shes all yours', 'you want the truth', 'how about you', ' goodbye', ' thats okay', 'im sorry', 'i must go', 'maybe we have something in common', 'right alright alright relax', ' have a seat', 'hows it goin', ' are you all right', 'whats up', ' what did you do', 'what happened', 'is this all youve got', ' that right', 'as in mother id like to fuck', ' ooh ooh ooh honey', 'what is your name', 'what was that', 'smells good', 'from what', 'it wasnt easy', 'and you', 'i dont think so', 'just take your time', ' over here', 'hell no', 'excuse me', 'what are you waiting for', 'like you', ' thats sad', 'what are you doing here', ' all right', 'how about everyone out here', 'i agree', 'number three', 'what was that you said', 'killian thank god', 'whoa zach', 'whats going on', 'all right gang', 'no no', 'why not', 'i can still do that', ' me neither', 'oh you know', 'i cant believe it', 'hes been here', ' suck it', 'can you control it', 'are you alone', 'its pathetic', 'thats a good question', 'thats all right', 'how may i help you', 'screw you abed', 'what do you want', 'fiftyfourth session', 'look at that', 'i do not know', 'i think not', 'what is going on', ' where have you been', 'one two three', 'no not me', ' i cant', 'are you all right', 'you may call me sam out of love', 'thats it', 'how are you doing', 'how do you figure that', 'what happened', 'i see it', 'lou please dont do that', 'its been a while', 'she just left', 'i hope so', 'right master', 'theres more than that', 'here we go', 'im not sure i can', 'which reminds me', 'im here', 'thank you', 'you saw her', 'uh i gotta go', 'tagged as lassen', 'what happened out there', 'excuse me', 'youre mean', ' would you mind', 'i have no idea', 'get up', 'its important', 'ooh i just found something', 'were clear', ' im warning you', 'thats enough', ' no im not', 'its late', ' david', 'but you just keep talking sweetie', 'youre just wasting time', 'this is weird', 'im not sure', 'what now', 'what do we do now', 'im okay', ' really', ' michaelangelo', 'im the one with the grenade launcher', 'whats wrong with you', 'how did you find me', 'anybody home', 'you look gorgeous', 'are you spying on me', 'i didnt do anything', ' okay', 'wheres the money', 'thats it', 'yeah well theyve been buddies ever since so', 'ill let you be buried with the bitch', 'yeah right', 'there he is hi carol', ' five ten good you just volunteered', 'i am not your average trophy wife', 'what the fuck is that', 'like what', 'no i dont think so', ' i dont know', 'you son of a bitch hes in hell', 'shoot him', 'its cool big o', 'good luck', 'what do you think', 'why do you ask', 'thats it', 'im here', 'thats it', 'one two three', 'not anymore', 'about that guy that shot you', 'yeah hannah she wanted to steal something', 'with pleasure', 'i heard about you', 'whats happening', 'clears throat  yeah  um', 'copy that', 'seems that way', 'what are we doing here', 'im very pleased to meet you', 'get out of my way', 'walk away i got this', 'i won the coin toss', 'to die will be an awfully big adventure', ' they havent yet', 'you shouldnt have', ' unbelievable', 'all right now', ' not anymore', 'why are you here', 'im sorry', 'are those for me', 'here we go', 'am i', 'where were you', 'what are you saying', 'stop it', 'thats nice', 'welcome back', 'no worries', 'not yet', 'what a cute tshirt', 'stay with me', ' mmhmm', ' whats up', 'were so close', ' beth', 'yes sir', 'you see that', 'what do you expect of me', 'its your wife youre talking to', 'its all', 'what do you say', 'mr clare', 'how about you', 'come on guys', 'dont you get it', 'your friend with the truck isnt showing up', ' yes', 'i couldnt', ' mon dieu', 'where are you', ' hey', '  lets go', ' sit down', 'how did you find me', 'did you hear what i said', 'how do you mean', 'your mom', 'you would', 'this is a bad idea', 'nice to meet you', ' he died', 'this way', 'its fine its fine', 'is that clear', 'thank you', 'hes an idiot', 'i didnt ask', 'i have a plan', 'excuse me its been a long night', 'youre fired', 'how are you', 'who are you', 'you fool', 'i just', 'go on', ' whats your thinking', 'and fear', 'is it true', 'what else', 'oh my god', ' oh my god', 'whose was this', 'great idea', 'oh my god you two what do you want', 'are you okay', 'there you go', 'now what', 'i cant do it i cant', 'thats uh something umart does not do', 'i touched your breast', 'you can make dinner', 'you gotta be kidding me', 'its the only name keeps repeating', 'no its chicca', 'no justice', 'if they havent cleaned it out yet', 'whats going on with us', ' yeah excop', 'then dont go today', 'thank you', 'dan i just i want to tell', 'hey how you doing', 'you brought a date', 'jimmy why are you driving a ferrari', 'is that the reason he jumped', 'consideration of reports 23', 'you didnt tell her', 'shes coming', 'oh and you too wac', 'kellers a smart guy', 'ah no no this this is uh', 'a blend of idiocy and depravity ', ' no i wasnt home', 'yeah okay', 'dont tell me you didnt you hear it', 'i miss travis', 'please cut to the chase i', ' oh yeah ill get you guys some drinks', 'i promise you as soon as im back down', 'but that figure is pretty lame', 'you were a cheerleader', 'and how do you like being married', 'to give you fair warning', 'colemans got pictures', 'ruined my plan thats all', 'thats what im saying', 'am i right so right', 'time to pick up the tempo boys', 'you get the hell out of my face', 'but i cant deliver it', ' ah youre pretty freaked out huh', 'watch those kids', ' are your tires kosher', 'get on your knees', 'get out of here', 'hes gonna leave a big big tip yeah', 'what does he eat', 'somethings been unleashed', 'hricore1add31rev1 page 29', 'general juma', 'youre such an enigma', 'to tom and violet', 'come on', 'you sure youre ready for this', 'i heard the old familiar noises', 'i wont let it be like this', 'oh god it hurts', 'judging from the fractures', 'belavia you take us', 'what kind of monsters would do this', 'return of kuwaiti property', 'the company would send out another man', 'then hell get what he deserves', 'its me who didnt listen to him', 'hows belen', 'youre right youre right', 'last call for all that is good and holy', 'its really nice to see you', 'its all good girl damn', ' all i need is one more chance ', 'the comfort of death', 'how many times doihave to tell you', 'oh shit', 'car wash yeah', 'i built it with my own hands', ' whisky', 'yes he can', 'but its right', 'oh that dress looks pretty', 'hands down', 'my boss recycled it', 'wait a minute', 'hey i am not judging', 'are you insane', 'he kissed me and i kissed him back', 'drop the gun', 'v honoraria', 'i dont want to go at all', 'look look look look', ' they think were idiots  its unbelievable', 'i hate fucked up families', 'me asking is kind of a sign', ' i heard that too  yeah', 'this is a private establishment', 'oh my god that is such good news', 'hawk screeching', 'tell them about the divorce and move on', 'or watch tv', 'and then admitted to being guilty', 'it knows what you did', 'why not go down fighting', 'if youre suggesting that you screwed up', 'sweet jesus what are you doing', 'i wouldnt do this', 'well douh', ' what would john have to say', 'im still here right', 'youre here', ' having a tail', ' brother', 'yeah i sort of called that', 'i just cant do it', 'set down on this earth', 'well its mine', 'i dont need people skills', 'why do you keep looking over your shoulder', 'let her go father', 'im troubled', 'cell phone rings', ' just so you know youre not pregnant', 'hes not breathing', 'now what', ' you could tell house', 'i believe you bro', 'so thats it huh', 'what am i up against huh', 'yeshe did', 'come and dance', 'good luck with that', ' no just water', 'i am hugo', 'because you almost died back there', 'you know i can', ' hi uh nobody touch her', ' yes mary im fine', ' no i wont', 'its the fucking icecream van', ' so only call in case of emergency', ' one two three', 'i can prove it', 'this is nice', 'your cooperation with kira', 'well he does', 'you have five minutes', 'bad luck', 'okay how did this happen', 'i searched there and', 'you have no right to control it', 'do you have that kind of money'), ('و هذه؟', '...لقد كان', 'ما الذي تفعله هناك؟', 'لا أحب ذلك', '-هذا ليس من شأنك', '-نعم .', 'ـ الآخرون؟', 'أنا (ماتش)، فخامتك', 'هل كلامي واضح؟', 'شكرا لكم.', 'أشك في ذلك', 'هذا يكفي !', 'أجل، بالطبع.', 'أنا هو', '-أأنت بخير ؟', 'ـ لا .. لا ..', 'انها لك', 'تريدين الحقيقة ؟', 'ماذا عنك؟', '-وداعا .', '-لا بأس .', 'أنا آسفة', 'أنا يجب أن أذهب', 'ربما لدينا شيء مشترك.', 'حسنا،حسنا إهدأ', '-تفضلي بالجلوس', 'كيف الحال؟', '-هل أنت بخير؟', 'هنري مالذي يحدث', '-ماذا فعلت؟', 'ماذا حدث ؟', 'أهذا كل ما لديك؟', 'أهذا صحيح؟', 'اختصار لـ\" أم أود مضجعتها\" ؟', 'اوة اوة ،عسلي', 'ما هو اسمك؟', 'ماذا كان هذا؟', 'رائحة طيبة', 'من ماذا ؟', 'لم يكن الأمر سهلا.', 'و أنت؟', 'لا أظن ذلك', 'خذ وقتك', '-من هنا', 'طبعا لا', 'بعد اذنك', 'ماذا تنتظر؟', '-مثلك .', '-هذا مؤسف .', 'ـ ماذا تفعل هنا؟', '- حسنا', 'ماذا عنكم؟', '-أوافقك الرأي .', 'الكلمة الثالثة:', 'ماذا قلت ؟', '(كيليان) شكرا يا الله', 'عجباه، (زاك).', 'ما الذي يحدث؟', 'حسنا يا رفاق', 'لا .', '-لما لا ؟', 'مازلت أفعل ذلك', '-ولا أنا', 'كما تعلمون', 'انا مش مصدقة ..', 'لقد كان هنا.', '-تبا لك', 'هل يمكنك أن تتحكمين بها ؟', 'أأنت بمفردك؟', 'أنت مثير للشفقة', 'هذا سؤال جيد', 'هذا حسن', 'كيف أستطيع مساعدتك؟', 'تبا لك', '-ماذا تريدين؟', 'الدورة الرابعة والخمسون', 'انظري لهذا.', 'انا لا اعلم', 'لا اعتقد هذا', 'ماذا يحدث هنا', 'ـ أين كنت؟', 'واحد، إثنان، ثلاثة.', 'لا ، ليس معي', '- لا استطيع', 'هل أنت بخير ؟', 'ما اسمك؟', 'هذا كل شيء', '- كيف تعمل؟', 'كيف عرفت هذا؟', 'ماذا حدث؟', 'أتفهم ذلك', 'أرجوك لا تفعل هذا', 'لقد مضت فترة', 'غادرت فقط', 'آمل ذلك', 'صحيح , سيدي', 'هنالك المزيد', 'ها نحن أولاء', 'لا أقدر', 'وهذا يذكرني ..', 'أنا هنا', '-تفضلوا من فضلكم -شكرا', 'هل رأيتها؟', 'علي الذهاب.', 'موسمة كـ(لاسن)؟', 'ما الذي حدث هناك؟', 'عفوا ؟', 'أنت لئيم', '-هل تمانع؟', 'ليس لدي فكرة', 'انهض !', 'إنه مهم', 'لقد وجدت شيئا', 'المكان آمن.', '-أنا أحذرك', 'هذا يكفي.', '-لا لست كذلك', 'مع السلامه', '-ديفيد -ماذا؟', 'لكن لا تتوقف عن الحديث ياعزيزي', 'أنت تضيعين الوقت فحسب', 'هذا غريب', 'لم أقرر بعد', '. ماذا , الان ؟', 'ماذا سنفعل الآن؟', 'أنا بخير.', '-بربك ؟', 'مايكل أنجلو أجل', 'أنا الذي أحمل القنابل.', 'مابالك هكذا؟', 'كيف وجدتني؟', 'هل يوجد أحد هنا ؟', 'أنت مذهلة', 'هل تتجسسين علي؟', 'لم أفعل بك أي شيء', '- حسنا.', 'أين المال؟', 'هو كذلك .', '- أوه نعم', 'سوف أدفنك مع السافلة!', 'نعم , صحيح', 'ها هو ذا', 'جيد انت تطوعت', 'أنا لست زوجتك المتوسطة', 'ماهذا بحق الجحيم؟', 'مثل ماذا ؟', 'لا,لا أعتقد ذلك', '- اللعنة ، لا أعرف', 'يا سافل إنه في ألم رهيب', 'اطلق النار عليه', 'هذا رائع', 'حظا موفقا.', 'ماذا تعتقد؟', 'لم تسألان؟ لقد مات', 'هذا هو', 'أنا هنا.', 'فقط ذلك ؟', '. واحد، إثنان، ثلاثة', 'ليس بعد الأن', 'ـبشأنالرجلالذيأطلق النارعليك..', 'نعم، (هانا) أرادت سرقة شيء', 'بكل سرور', 'لقد سمعت عنكم', 'ما الذي يحصل؟', '- نعم؟', 'علم بذالك.', 'يبدو ذلك', 'ماذا نفعل هنا؟', 'انا سعيد جدا بلقائك', 'ابتعد من طريقي', 'ابتعد, سأهتم بالأمر', 'لقد ربحت العملة المعدنية', 'الموت سيكون مغامرة كبيرة جدا', 'هل أنت أصم؟', '(كلارك)، لم تكن مضطرا.', 'لا يصدق', '...حسنا الآن', 'ليس بعد الآن.', '-لم أنت هنا؟', 'أنا آسف.', 'هل هذه لي؟', 'ها نحن مجددا.', 'هل أنا بخير ؟', 'أين كنت ؟', 'ما الذي تقوليه ؟', 'توقف عن ذلك!', 'هذا لطيف', 'عودا حميدا', 'لا تقلقي', 'ليس بعد.', 'لطيف للغايه', '! ابقي معي', '-نعم .', '-ما الأمر؟', 'نحن قريبون جدا', 'هل هذا لي؟', 'أجل سيدي.', 'هل ترين هذا ؟', 'ما الذي تتوقعه مني ؟', 'أنا زوجتك', 'الأمر كله', 'ما رأيك ؟', 'السيد (كلير)', 'تعتقد ذلك ؟', '-بربكما يا رفاق .', 'ألا تفهمين؟', 'لم يظهر صديقك صاحب الشاحنة.', '- نعم!', 'لم أستطع.', '-يا إلهي !', 'أين أنت؟', '-مهلا !', 'هيا بنا', '-إجلسي .', 'كيف عرفتي؟', 'هل سمعت ما قلته؟', 'ما الذي تعنيه؟', 'والدتك ؟', '- أنت؟', 'هذه فكرة سيئة.', 'تشرفت بمقابلتك', 'لقد مات.', 'هذا الطريق؟', 'لا بأس لا بأس', '-أهذا واضح', 'شكرا لك', 'أنه أحمق', 'لم أسأل', '-لدي خطة', 'أعتذر, لقد كانت ليلة طويلة', 'أنت مفصولة', 'كيف حالك ؟', 'من أنت؟', 'أيها الأحمق', '...أنا فقط', '-هيـا، خذي منهـا .', 'ما رأيك؟', 'و الخوف', 'هل هذه المعلومات صحيحة؟', 'وماذا أيضا؟', 'يا الهي ...', '.. يا إلهي -', 'من كان هذا؟', 'فكرة رائعة', 'يا إلاهي.', '-هل أنت بخير ؟', 'هناك تذهب.', 'الان ماذا؟', 'لا أستطيع', '-وهذا شئ لا تفعله \"يومارت \"', 'لقد لمست صدرك', 'بإمكانك طبخ وجبة العشاء', 'لابد أنكم تمزحون؟', 'إنه الإسم الوحيد الذي تكرر.', 'لا، أنه شيكو.', 'لا عدالة.', 'إذا لم يكونوا قد نظفوه بعد', 'ماذا يحدث معنا؟', '-نعم، إنه شرطي سابق', '-إذا، لا تذهب اليوم .', 'شكرا لكي', 'دان أنا فقط أريد أن أقول لك', 'مرحبا، كيف حالك؟', ') أحضرت موعدك هنا ؟', 'جيمي\", لماذا تقود الفيراري\"', 'هل ذلك السبب يقفز؟', 'الجزء الأول - مواد عامة', 'أنت لم تخبرها؟', 'إنها قادمة', 'اوه , وانت , ايضا , واك', '، (إنه (كيلير . شخص ذكي', '.. لا ، لا ، هذه ... هذه هي', 'مزيج من الحماقة والانحراف\".', 'ـ لم اكن في البيت', 'طبعا , حسنا', 'ـ نعم. لا تقولي أنك لم تسمعيها', 'افتقد ترافيس', '...أرجوك اختصر، أنا', '-أجل,سوف أجلب لكما بعض الشراب', 'أعدك عندما أعود للمدينة', 'لكنه لم يتغير ابدا', 'هل كنت مشجعة ؟', 'كيف حياة الزواج ؟', 'أن أقوم بأعطائك تحذير عادل', 'كولمن لديه صور', 'دمرت خطتي، ذلك فقط', 'ذلك الذي أقولة.', 'لا شكرا، صحيح؟', 'علي أن أغير الجو ايها الفتية', 'ابتعدي من امامي', 'ولكني لا استطيع قراءته', 'أنت خــائف كثيرا؟', 'مشاهدة هؤلاء الأطفال.', '- هل اطاراتك \"كوشر\"؟', 'إجلس علي ركبتيك', 'إخرجي من هنا.', '- عليك أن تحبي هذا الرجل', 'ماذا يأكل؟', 'الشيء أطلق عنان.', 'لحقوق الإنسـان', 'أيها الجنرال (جمعة)؟', '-انت تشبه النجوم', 'نخب \"توم\" و \"فيوليت\"', 'بحقك -', '. أمتأكد من إستعدادك لهذا ؟', 'سمعت ضوضاء من الزبائن الدائمين', 'لن أقبل بأن يكون هكذا', 'يا الله، وهذا يضر.', 'بالنظر للكسور', '(بيلفيا)... هلتأخذنا؟', 'أي نوع من الوحوش قد يقترف هذا؟', 'إعادة الممتلكات الكويتية', 'سترسل الشركة وقتها أحد آخر .', 'و سوف ينال ما يستحقه', 'إنه أنا الذي لم يستمع إليه', 'ما حال (بلن)؟', 'أنت محق , أنت محق', 'نخب الأخيار والقديسين', 'سررت جدا برؤيتك.', 'كل شئ بخير يا فتاه سحقا', 'والرجل المشرد مع طائره الميت', 'راحة الموت', 'كم مرة سأخبرك ؟', 'اوه اللعنه؟', 'مغسلة السيارات، أجل', 'كان منزلنا لقد بنيته بيدي', '-هل تتزلجين؟ -أجل، منذ صغري', 'نعم، يستطيع.', 'ولكن من الصحيح.', 'ماذا تفعل بالخارج؟', 'فرصتك الأن', 'رئيسي تخلص منه', 'انتظروا لحظة.', 'أنا لن أحاكمك', 'هل انت مجنون ؟', 'قام بتقبيلي، وقمت بتقبيله', 'ارمس المسدس!', 'خامسا- الأتعاب', 'أنا لا أريد الذهاب مطلقا.', '، إنظر ، إنظر ، إنظر', 'يخالوننا أغبياء، هذا لا يصدق.', 'أنا أكره العائلات', 'سؤالي يعتبر علامة.', 'ــ سمعت ذلك أيضا ــ نعم', 'هذه مؤسسة خاصة.', 'يا إلاهي، إنه خبر رائع.', '(الصقور الصراخ)', 'أخبرهم عن الطلاق وينتقل.', '-أو مشاهدة التلفـاز', '.وبعد ذلك إعترف بكونه مذنب', 'إنها تعلم ماذا تفعلين', 'لما لا تقاتل؟', 'إن كنت تقولين بأنك أخطأت', 'يا إلهي, ماذا تفعل؟', 'لم اكن لأفعل هذا', '-حسنا... هل ...', '-ماذا كان (جون) ليقول', 'لا زلت هنا أليس كذلك؟', 'أنت هنا!', '- وجود الذيل.', 'يا أخي - !', 'نعم أعتقد ذلك أيضا نوعا ما', 'لكن لم أستطع ذلك', 'المنصوص عليه في هذه الأرض...', 'إنها قوانيني', 'أنا لا أريد مهارات اجتماعية', 'لما تنظر من فوق كتفك دائما؟', 'دعها تذهب يا أبي', '... الوقت يمر', '[يرن الهاتف الخليوي]', '-ولعلمك ، أنت لست حاملا', '- - هو لا يتنفس -', 'ماذا نفعل الآن؟', '-أن تخبر (هاوس )', 'سأحمي ظهرك أعدك!', 'إذن ، هذه هي ؟', 'مالذي أواجهه؟', 'نعم ، لقد فعل', 'تعال وإرقص.', '-حظ سعيد مع ذلك', '- لا، فقط ماء.', 'أنا هوغو!', 'لأنك كدت تموتين هناك.', 'وتعلم أنني أستطيع', 'لا يلمسها أحد', '-نعم، أنا بخير .', 'كلا, لن أصاب - !', 'إنها سيارة آيس كريم!', '-لذا اتصلي فقط في حالة الطوارئ', '-واحد إثنان ثلاثة', 'لا أستطيع إثبات ذلك', 'هذا لطيف.', '-تعاونك بخصوص (كيرا )', 'حسنا , هو كذلك', 'لديك خمسة دقائق', '- حظي العاثر !', 'حسنا ، كيف حدث ذلك ؟', 'انا بحثت هناك , ثم', 'لا حق لك بالتحكم بها!', 'هل لديك هذا المبلغ ؟')]\n",
            "[('dont know might be here all day', 'well its not to my taste', ' shes really fast man  all right', 'this guy youre up against', 'i just never understood it', 'just relax for a second turn around', 'like a dump let me see this', 'you hear that dad', 'wilkins wilkins', 'wait its not a rock', 'so youre here to threaten me', 'which sank', 'i cant do anything about that', 'youll see red bullet has no legs', 'mrs danforth', 'which is it', 'she packed her luggage and came home', ' whose idea was this', ' yeah come on', 'my poor sister', 'you guys are really cute together', 'i wonder what i did with that', ' nah', 'hes pretty messed up', 'every word of it', ' oh right im leo', 'just tell me', 'chiseled classy almost certainly gay', 'youre gonna be fine', 'what else', 'what were her words', 'good day detective', 'i shouldnt smoke', 'i swear', 'continuation of general discussion', 'what difference does it make', 'now dot be nice to your sister', 'i didnt say that was your problem', 'say astronaut', 'wanted to make sure my gun works', 'im a really hard worker', 'sounds like coffee', 'you have the right to remain silent', 'uncle ben', 'you saw the roadblocks on your way in', 'you know what else he said', 'yeah diane', ' who', 'not me', 'youre going to like this one lau', 'darren sanders youre under arrest', 'believe its going to pass believe it', 'so any luck', 'please bunny easter is not christmas', 'god calm down grandma', 'if you know what i mean', 'who are you', 'hey that water smells funny', ' do you guys have a business plan', 'oh look who it is', ' just stay there  i got to go', 'and this is carrie and miranda', ' hes pretty smart man', 'get maleva', ' when breathing felt like something new ', 'what about your dad jasper', 'have you a blade of grass to your name', ' own up judas', 'what is wrong with you pope', 'id honor her', 'fran im trying to protect you', 'thanks sheriff', 'not much of a nurse are you', 'hes the thief', 'generational my ass', 'you embrace it', 'but in front of everybody', 'oh boy okay', 'so much happiness', 'oh sorry', 'this is good what is it', 'this book come from', 'get back goddamn it', 'we got a burn notice on you', 'i want an answer', ' told you she doesnt like to be touched', 'april fool', 'how would i know', 'but did we really believe that', 'i got her contained', ' dad no', 'glad we get to meet in person', 'do not like it', ' open my eyes', 'okay im going', 'here are the onions  thank you', 'theres your problem', 'you were once going to be my family', 'turn left at the  wait', 'is it the serialkilling chimney sweep', ' i dont want to set the world on fire ', 'did he say something to you', 'hes just a harmless old man', 'well what are you gonna do', ' take care of your brother', 'you dont have to go hungry', ' go away', 'okay ive got the police here so', 'how are you beating kenneth grizz', 'okay now this is important', 'chinas landing  soft not hard', 'you know metaphorically', 'there is still liquid inside', 'maybe wait a little bit longer', 'come with me', 'no please', 'can your uh can your girlfriend shoot uh', ' i knocked him out  very good', 'you feel guilty', 'a long long time ago', 'did you know someone who worked here', 'all are invited to attend', 'im not afraid to die', 'yes he did', 'is she injured', ' this is fine', 'youre entering just a tad early my sweet', ' what did he look like', 'on valentines day', 'folks are reasonable here', 'lets go out there and get them and remember', ' oh yes he must', ' what did she say', 'have a nice day maam', 'table 92 summary of publications', 'them hos you get', 'thats not your concern anymore', 'shes a vampire', 'my youngest sisters', 'how do you eat', ' wellyou knowdont worry about mom', 'youve come to the right man', 'release us heather', 'such a balcony', 'tell you what ill do for you though', 'love only grows', 'ill see to it', 'theres a bus stop over there', 'sweet sweet ripa', 'shes been missing 12 hours', 'theres this storage unit', 'we need to let the air out', 'you look better  thank you   than', 'if you move youre fucking dead', ' it should be a smash  and  grab event', 'heart was blossoming', 'lady pole has no horrors', 'send a car', 'son of a bitch', 'i wonder if he thinks so', 'like what', ' i still have her', 'the heel becomes slender over time', ' yes you will', 'yeah shes my mom', 'i strained my neck last night', ' what the hell are you doing', 'look im sorry', 'suit yourself i just pour them', 'then you cap it here and you cap it here', ' i wont contact her  look', 'what the hell are you doing', 'looking for a hot meal', 'it wasnt a date', 'this this place', 'get back move along', 'oh thanks for telling me', ' oh my gosh', 'i think this has all the good stuff', ' no  i see whats going on here', 'leave him be', 'they dont think about the future', 'i told you you didnt have a weapon', 'honey wait a minute now', 'prince dont get angry', 'hey where are you jerk', ' stack it over here  six boxes', 'where would the moon have been', 'so tina tina how are you feeling', 'soul magnets', 'jack turner', 'theyre in', 'maybe not', 'as soon as i knew he liked me', ' did i say that', 'son we still got a situation with the creek', 'im sorry chloe i dont have a choice', 'im so fucking stupid im stupid', 'i there were four girls', 'me too okay to where', 'im just gonna let it dangle', ' she is not my daughter', 'im not', 'we cant just give up you know', 'that the one you located', 'i think it was a kind of bond against', 'all right you did it you pissed me off', 'the first friend i ever made', 'but its hardly a longterm solution', ' what difference does that make', 'had the beef tips huh', 'well thanks for not saying no', 'close to you', 'havent seen you in forever', ' max come back', 'enough with the cold cuts the condiments', ' what boat', ' dont call me that', 'light attracts enemy', 'yeah i know that look', 'you cant play', 'i totally spaced', 'yeah well hold your nose', 'are you there fran', 'viagra man youd be the spokesman', 'communications sent', ' is she going to understand me', 'werewere friendsish', 'i had to learn sign language', ' never', 'need a new approach', 'we dont want neal', 'this is crazy', 'what is that', ' germany is towards east', 'im sorry ive wasted your time', 'sir i promise this will be worth your while', 'no dont do that', 'what was that about', ' man whats up', 'you shouldnt let him read it', 'you incompetent fool', 'what if she asked you', 'good evening', 'you love it', 'okay maybe orthopedics shes in', 'youll manage', 'have fun', 'im sorry', 'saori and the rest', 'whats your job', 'i knew youd come back', 'whos on the call', 'theyre on fire', ' mm if you can call it that', ' can i help you', 'you want me to', 'i am going cold turkey and so are you', 'delete subparagraph a', ' yeah no we just ate', 'you what', ' becomes he bigger and bigger', 'i shouldnt even be here', 'are you okay', 'this is derek baby james', 'she asked you to fund her clothing line', 'phoebus shh im coming with you', ' sorry jazz', 'youre so angry that', 'thirty seconds', 'dont worry', 'but lets be honest', 'what was really in the needle', 'stop it stop it', 'it didnt happen', 'but thanks', 'stay down', 'be that as it may', 'i still win', 'werent you leaving town', 'halloween time', 'what your story', 'what did you do with those documents', 'fuck that', 'no wait', 'is this a dream', 'did i miss something', 'i should hope were old friends by now', ' you and dr pike', 'yes and it was so hard', 'i looked again', ' would you', 'oh i have many things to say to you', 'captain you sent for me', 'why are we here then', ' hell yes', 'what im saying is', 'i promise ill let you know as soon as i do', ' hello there', 'i work my steps', 'um ill see you on the 7th okay', 'and where are you taking us', 'what i can touch', 'that is against the law', 'i think i', ' no', 'then you shall be the one who dies', 'my afternoon nap', ' straight up the street', 'werent they', 'help me', 'did you kill a man on monday morning', 'i do', ' uta', 'i dont care how you figure it out', 'we got it', 'so this is about your buddy lucifer', 'of course im the mayor', 'im the brains of the organization', 'great choice thank you', 'hey dont what are you doing', 'im sorry part of the pattern', 'gather everyone', 'im so glad we had this conversation', 'thats obvious were friends', 'absolutely not', 'then kid beat you', 'i told you this was a mistake', 'i cant make anything out', 'everything they said i', 'you have to cancel the lunch', 'shes been through a tough divorce', 'god i love that movie', 'we have a little problem here', 'why all the questions', 'you have to earn these', 'put it in put it in there', 'i believe its possible', ' you have to attack first', 'ernie was a good man', 'are you serious', 'its christmas eve', 'what are you talking about', 'this is crazy this is totally insane', ' in the morning', 'mr dietrich', 'never mess with a black belt asshole', 'to you king lansing', 'gasps what are typos', 'so you want to be more like me', 'of course you dont honey', 'so where is your father', 'no no this is your thing', 'no really l', 'hit the lights', 'ill unsprain the ligaments', 'i dont care what strauss said', 'thank you theyre beautiful', 'about what', 'i had a flat tyre', 'okay what about this', 'i cant help you', 'sell it there everything accounted for', 'you should go', ' starboard corridor', ' yes yes yes yes i did', 'whats in the canisters', 'oh dearest love', 'its your first day outside', 'youre not too busy are you', 'im in charge', 'maybe theres a person in this world', 'heyi have gameall right', 'he doesnt really talk about that stuff', 'what do you want to do', 'and now the plane is fixed', 'mommy im sleepy', 'that make you feel better', 'hello elizabeth how are you', 'youre not wearing your ring', ' what are we doing here', 'sorry you all right', 'youre hungry right', 'sixtieth floor people are trapped up there', ' its different', 'its gonna be dirty', 'you know i love you', 'she has a small boy', 'the friend who becomes the enemy', ' she saved her life surfing', 'good did that now punch it', 'mickey wake up', 'and then everything changed', 'what will i do', 'too bad i didnt do that', ' no shes not there', 'he had a stroke my father', 'i broke his curse', 'and theres a teensy change in plans', 'hi how are you'), ('لا أدري ربما اليوم بأكمله', '- حسنا، هو ليس طعمي.', 'هي سريعه جدا حسنا', 'ذلك الشخص الذي ستقاتله...', 'أجل إنني لم أفهم ذلك مطلقا', 'فقط إنتظري للحظة إستديري', 'دعني ار هذا', 'هل سمعت ذلك يا أبي ؟', 'ويلكنز! ويلكنز!', '. انتظر إنها ليست صخرة', 'إذا انت هنا لتهديدي؟', 'الذي غرق', 'لا أستطيع عمل شيء بشأن ذلك.', 'الرصاصة الحمراء ضعيف.', 'سيدة (دانفورث)', 'أي واحدة؟', 'حزمت امتعتها وعادت للمنزل', '-من صاحب هذه الفكرة؟', 'ـ أجل، هيا', 'أختي الفقيرة...', 'انتم حقا حلوين مع بعض يا شباب', 'أتساءل ماذا فعلت به', 'ليس مهما.', 'وافسدت وجميلة تصل.', 'كل كلمه فيه .', '-حسنا أنا (ليو)', 'أخبريني فقط...', 'جسده جميل، راقي شاذ بالتأكيد', 'سوف تكونين بخير', 'وماذا أيضأ؟', 'ماذا كان لسانها؟', 'طــاب نـهارك , أيـها المحقق', 'لم يكن يجب أن أدخن', 'أقسم لك', 'مواصلة المناقشة العامة', 'ما الفرق الذي سوف يحدثه ذلك ؟', 'دوت , كوني لطيفة مع أختك', 'أنا لم أقل بأنها كانت مشكلتك.', 'قولوا \"رائد فضاء\"', '-أردت التأكد أن بندقيتي تعمل', 'أنا أجد في عملي جدا.', 'تبدو مثل أسماء قهوة', 'لك الحق بإلتزام الصمت،', 'العم \"بن\"؟', 'رأيت حواجز الطرق في طريقك.', '-تعرف ما قال غير ذلك ؟', 'أجل (ديان)', 'ـ ماذا ..', 'لا يحتاجون لي أنا', '(أنت معجبه بها ، (لاو', 'ديرين ساندرز \" أنت معتقل \"', 'آمن أنها ستمر آمن', '... إذا هل حالفك الحظ في', '-عيد الفصح والميلاد مختلفان .', 'ألهي , اهدئي , جدتي', 'اذا كنت تعرف ما أعنيه', 'من أنتم؟', 'رائحة هذه المياة مضحكة', '-ألديكما مخطط عمل؟', 'إنظروا من هذا.', '...إبقيهناك- يجب أن أذهب-', '-و هذه (كاري) و (ميراندا )', '- هو رجل ذكي جدا', 'آتي بـ (ماليفا).', '\"عندما يوحي التنفس بشيء جديد\"', 'ماذا عن والدك، (جاسبر)؟', 'هل لديك أرض من العشب بأسمك؟', '- بتملك ما يصل، يهوذا!', 'ما هو الخطأ معك، البابا؟', 'سوف أقوم بتشرفيها', '(فران ) , أحاول حمايتك', 'شكرا أيها العمدة', 'لا تبدين كممرضة!', 'إنه اللص', 'الجيل الأحمق', 'عليك اعتناقه', '! ولكن أمام الجميع', 'يا إلهي، حسنا', 'انا سعيد جدا', 'أوه عفوا.', 'هذا لذيذ، ما هو؟', 'هذا الكتاب تأتي من؟', 'عودوا للخلف ، لعنة الله عليكم', 'لدينا (إشعار بالحرق) لك', '، أريد إجابة!', '-قلت لك ، لا تحب أن يلمسها أحد', '! كذبة أبريل', '-كيف لي أن أعـــرف؟', 'لكن هل صدقنا ذلك حقا؟', 'سيطرت عليها', '-أبي ، كلا', 'يسرني مقابلتنا بشكل شخصي', 'لم تعجبني إطلاقا', 'ان افتح عيني', 'حسنــا , انا ذاهب ..', 'هذا البصل - شكرا لك -', 'ها هي مشكلتك', 'كنت مرة واحدة ستكون عائلتي.', 'أذهب يسارا أنتظر', 'هل هذا قاتل من المدخنة؟', '#لااريداناشعل النارفيالعلم#', 'هل قال لك شيئا؟', 'إنه مجرد رجل عجوز غير مؤذي', 'ماذا ستفعل؟', '(مي يو) - خذي اختك معك -', 'لست مضطره ان تكوني جائعه', '- ارحل', 'حسنا، لدي الشرطة هنا، لذا...', 'كيف هزمت (كينيث) يا (غريز)؟', 'حسنا , هذا هام', 'الصين والهبوط الناعم', 'تعرفين مجازيا', 'مازال هناك سائل في الداخل.', 'ربما يجب علينا أن ننتظر قليلا', 'تعالي معي', 'لا، أرجوك', 'هل لديك صديقة تصوب', 'لقد أوقعته - رائع -', 'أنت تشعرين بالذنب ؟', 'نعم, منذ مدة طويلة', 'هل تعرفين احد يعمل هنا ؟', '[الدعوة عامة.', 'لست خائفة من الموت', 'نعم لقد فعلها.', 'هل أصيبت؟', 'وهذا أمر جيد؟', 'أنت تدخلين مبكرا', '-كيف كان يبدو؟', 'ـ في يوم الحب ؟', 'الناس عـاقلــون هـنـا', 'ودعونا نخرج ونهزمهم وتذكروا', '-أوه نعم، لابد أن يفعل ذلك', 'ماذا قالت ؟', 'إقض يوم لطيف ، سيدتي', 'موجز المنشورات', 'المومسات اللاتي لديك؟', 'هذا لا يعنيك بعد الآن.', '-إنها مصاصة دماء .', 'أخواتي الأصغر...', 'كيف تأكل؟', '-لا تقلقي حيال أمي', 'لقد جئت للرجل المناسب', 'حررينا هيثر', 'هذه البلكونة ..', 'سأخبرك ماذا سأفعل بك', 'الحب ينمو مع هذه', 'سانظر في ذلك', 'تـوجد محـطة حـافلات هــناك', 'الحلو، الحلو ريبا.', 'تم فقدانها منذ ١٢ ساعة', 'هناك .. وحدة تخزين', 'نريد أن نخرج الهواء', '-شكرا لك، أنا كذلك ..', 'إستمع إلي إذا تحركت ستموت', '-لابد وأنه حدث جلل كبير', '\"القلوب كانت مزهرة.\"', 'السيدة (بول) ليس لديها مصاعب.', 'سأرسل سيارة.', 'إبن العاهرة', 'أتسائل لو انه يفكر هكذا.', 'مثل ماذا؟', '-ما زالت حية', 'الكعب يصبح نحيلا بمرور الوقت', 'أجل ستفعل', 'نعم, انها أمي', '-أجهدت رقبتي البارحة', 'ما الذي تفعله هنا بحق الجحيم ؟', 'النظرة , انا آسفة.', 'تحدثي عن نفسك فأنا مجرد ساقي', 'من ثم تغلقه من هنا ومن هنا', 'لن اتصل بها - انظر -', 'ما الذي تفعله بحق الجحيم ؟', 'أبحث عن وجبة ساخنة', '-لم يكن موعدا .', 'لأن هذا المكان و هذه الحياة', '-سنتبين الأمر، للخلف، تحركوا', 'أوه، شكرا لاعلامي بذلك.', 'يا إلهي!', 'اظن هذه تملك كل الاشياء الجيدة', '-فهمت ما يجري هنا', 'أفلته يا \"بي\"!', 'ولا يفكرون في المستقبل', 'أنا قلت لك أنك لا تحمل سلاحا', 'حبيبتي ، انتظري لحظة', 'أيها الأمير، لا تغضب.', 'يا . أين أنت ؟', 'ضعاها هنا ستة صناديق', 'أين كان القمر؟', 'لذلك، تينا، تينا، كيف حالك؟', '-مغناطيس الأرواح\" \"', '(جاك تيرنر)؟', 'لقد دخلوا', 'ربما لا', 'حالما أعلم بأنه يحبني', 'ـ هل قلت ذلك؟', 'بني، مازال الصفير مستمر', 'آسف \"كلوي\" ليس لدي خيار آخر', 'انا حتما غبي انا غبي للغاية.', 'كانت هناك أربع فتيات', '-حسنا و أنا أيضا', 'سأجعلها تتأرجح', 'هذا ما ظننته ايضا', 'نعم !', 'لا يجب أن نستسلم', 'من حدد المكان؟', 'أظنه كان وثاقا ما... ضد...', 'حسن، لقد فعلتها لقد أغضبتني.', '. أول صديق صادقته لي', 'لكنه ليس حلا طويل الاجل', 'ماذا يمكن أن يحدث ذلك فرق؟', 'إنه تأثير اللحم، صحيح؟', 'شكرا لعدم قولك , لا', 'ان يقربوا لك', '-لم أرك من فترة طويلة', '- ! ماكس، أرجع', 'لا مزيد من الأطعمة', '- أي قارب؟', '-لا تناديني بهذا الاسم', 'الضوء يلفت أنظار العدو.', '. نعم ، أعلم هذه النظرة', '-لا يمكنك لعبها', 'نسيت تماما.', '-أجل، حسنا، تحملوا.', 'أتسمعينني يا (فران)؟', 'فياغرا يا رجل أنت ستكون الناطق', 'الرسالة الموجهة', '-هل ستفهم ما سأقوله؟', 'نحن.. نحن أصدقاء بالعمل', 'اضطررت ان تعلم لغة الاشارة.', '- أبدا.', 'احتاج طريقة جديدة', 'نحن لا نريد (نيل).', 'هذا جنون', 'مالذي يعنيه هذا ؟', '- ألمانيا نحو الشرق؟', 'آسفة، قد اضعت وقتك', 'أعدك أن الأمر يستحق وقتك', 'لا ، لا تفعليها', 'ما كان ذلك؟', '-ما الأمر؟', 'لا ينبغي أن تتركه يقرأها', 'يالك من أحمق', 'ماذا لو طلبت منك ؟', 'مساء الخير', '؟ .. أحببتـه', 'حسنا, ربما التجبير هي هناك', '-ستتدبر أمرك .', 'اقضي وقتا ممتعا', '-أنا آسف', 'ساوري والبقية', '-ذلك يعتمد، ماهو عملك؟', 'أعرف أنك سترجع', 'من معه علي الهاتف؟', 'أجل! إنهم يشتعلون!', '-إن كان بإمكانك تسميته بهذا .', '-هل أستطيع مساعدتك؟', 'أتريدني أن أفعل؟', 'أنا، وأنت كذلك', 'تحذف الفقرة الفرعية (أ).', '-لا، لقد تناولنا طعامنا للتو', 'فعلت ماذا؟', '-أيوجد غيلان؟', 'أنا لا ينبغي حتي أن أكون هنا.', 'هل أنت بخير', 'هذا (ديريك) وهذا (بيبي جيمس).', 'طلبت منط تمويل خط ملابسها؟', 'فيبيس انا قادم معك', '-آسفة يا (جاز )', '. . أنت غاضبة للغاية لدرجة', 'ثلاثون ثانية', 'لا تقلقي.', 'ولكن لنكن صادقين', 'ما الذي كان موجودا في الحقنة', 'توقفوا, توقفوا', 'ذلك لم يحدث', 'ولكن شكرا', 'البقاء أسفل.', 'ليكن هذا كما ينبغي', 'مازلت فائزا', 'ألم تكن تغادر المدينة ؟', 'إنه وقت الهلاوين', 'ماذا , قصتك؟', '-ما الذي فعلته بتلك الملفات؟', 'تبا لذلك.', 'لا انتظر يجب ان تأخذ حمام لان', 'هل هذا حلم؟', 'لم أمسح لطخة ما؟', 'آمل أننا أصدقاء الآن', '- \" أنت والطبيب \" بايك -', 'نعم , ولكنه كان صعبا', '! لقد نظرت مجددا', '- هل بامكانك؟', 'لدي الكثير لأقوله لك.', 'كابتن استدعيتني ؟', 'لماذا نحن هنا إذن؟', 'نعم - نعم بالطبع -', 'ما أقصده هو...', 'أعد أنا سأعلمك حالما أنا أعمل.', '-أهلا بك', 'عملت خطوة بخطوة', 'اراك في السابع من الشعر', 'يجب أن نكتشف ..', 'ما أستطيع لمس...', 'وهذا ضد القانون.', 'اعتقد ..', '-يا إلهي', 'إذا ستكون أنت الذي سيموت', 'سوف آخذ قيلولة', '-في نهاية الشارع', 'أليس كذلك؟', 'ساعدني) -', 'هل قتلت رجل صباح يوم الاثنين؟', '. أنا أفعل', '-أوتا) ).', 'لا يهمني ما ستقول، أتعلم؟', 'لقد حصلنا عليها.', 'هذا بخصوص صديقك (إبليس)', '- طبعا, انني رئيس البلدية', 'أنا رأس التنظيم.', 'أختيار عظيم - شكرا، وأنت؟', 'مهلا,لا تفعل,ماذا... .. ؟', 'عفوا، جزء من \"النمط\"؟', 'أحضر الجميع.', 'سعيدة أننا تحدثنا سويا.', 'ذلك واضح نحن أصدقاء', 'بالتأكيد لا', 'ثم تغلب عليك (كيد).', '-اخبرتك ان هذا الزفاف كان غلطة', ') لا يمكنني إستخراج شيء', 'كل ما قالوه...', 'ـ يجب ان تلغي الغذاء.', 'ومرت بطلاق قاسي', 'رباه، أحب هذا الفلم', 'عندنا مشكلة بسيطة هنا.', 'ولكن لماذا كل هذه الأسئلة؟', 'وأنت إستحقيته', 'ضعها ، ضعها هنا', 'أعتقد أن ذلك ممكنـا هيا بنـا', '- عليك ان تهاجم اولا', 'كان (إرني) رجلا طيبا.', 'هل أنت جاد؟', 'إنـهـا سـهـرة عـيـد الـمـيـلاد', 'عماذا تتحدثين؟', 'هذا ضرب من الجنون', '- صباحا؟', 'سيد ديتريك', 'أنا لست متأكدة من التفاصيل', 'نخبك , للملك لانسنغ', 'ما هي الأخطاء المطبعية ؟', 'لذا تريد أن تكون مثلي...', 'بالطبع لاتفهمين ياعزيزتي', 'إذن، أين أبوك ؟', 'لا، لا، الأمر هذا يخصك', '-لا، في الواقع انا...', 'اشعل الضوء', 'سأقوم يإرخائها لك', 'أنا لا أهتم بما قاله شتراوس', 'شكرا لك، إنه رائعة.', 'حول ماذا؟', 'فرغ الهواء من اطارات السياره !', 'حسنا، ماذا عن هذا ؟', 'لا أستطيع مساعدتك', 'ستباع هناك، كل شيء جاهز؟', 'يجب عليك أن ترحل', '- الممر الأيمن', '-أجل، أجل، أجل، لقد فعلت .', 'ما الذي بالعبوات ؟', '\"يا حبيبي الغالي\"', 'إنه يوم خروجك الأول.', 'أنت لست مشغولا جدا.. صح؟', 'انا المسؤول', 'ربما هناك شخص في هذا العالم', 'أستطيع خوض اللعبه؟', 'أنه لايتحدث في هذه الأمور حقا', 'مالذي تريدن فعله؟', 'والآن تم إصلاح الطائرة.', 'أمي, إنني نعسانة', 'هل تشعر بشعور أفضل الآن ؟', 'مرحبا إليزابيث , كيف حالك ؟', 'أنت لم تضعي خاتمك.', '- وماذا سنفعل هنا؟', 'أسف هل أنت بخيرظ', 'أنت جائع،صحيح؟', 'السادس عشر , أناس عالقين هناك', '-إنه مختلف .', 'سوف يكون قذرا', 'أنت تعلمين أني أحبك', 'لديها طفل صغير', 'الصديق الذي يصبح عدوا', '-لقد أنقذت حياتها الفنية .', 'جيد , فعلت هذا والان انطلق', '(ميكي)، استيقظ', 'وبعد ذلك... كل شيء تغير', 'ماذا سأفعل؟', 'لكني لم أفعل ذلك للأسف الشديد', '-أليس ) ؟ , لا لا هي بالخارج )', 'لقد تعرض لنوبة , أبي', 'للعلاقة أبطلت لعنته', 'وهناك تغير صغير جدا في خطتنا', 'مرحبا، كيف حالك؟')]\n",
            "[(' you like it', 'its the other way', ' yeah no i know', ' for my contact lenses', 'do you want to relax a bit with me here', 'do you smell what i smell', 'have you ever waited on tables', 'and who said he was a nazi', ' so its begun', 'ill call you', 'you need to stop seeing my wife', 'how did this happen', 'im sorry', 'norman called asked me to meet him', 'seriously im amazing', 'come on lets go', 'help pirates', 'thats all the bloody talking', 'and you have disgusting personal hygiene', 'i think its a lot quieter up there now', 'w who am i speaking with', 'is that him', 'check it out', 'you know what this place is', 'come on man', ' can i get you somethin', 'mission leadership and inmission planning', 'youre nomi', 'defensive wound', 'hes feverish', 'come on come on youll be fine', 'hey what the hells going on', 'isnt that right', 'give me your worst route', 'i got the best deals in town', 'i dont understand', 'what safe room', 'that it is', 'turn my music back on', 'i am not leaving', ' im gonna be a father', 'he got a right to ask', 'previously on continuum', 'am i not right', 'yes i am happy to have it', 'lets get straight to it', 'we won we won', 'activities of the special rapporteur', 'sweep back show me the whole stomach', ' its a prophylactic matt', 'korts into nukes now', 'ill remember that', 'were going to take off your pants', 'have you ever been alone', 'work it out with your therapist people', ' i will not be', ' jack what are you doing', 'she did it', 'well the first parts normal', 'wouldnt you love somebody to love', 'bunch of nonsense', 'and so that is my story', 'prepare to be amazed terrified', ' pay pay', 'whats wrong hyuk', 'i think theyre gonna look very nice on you', 'arent you going to get that', 'democratic republic of the congo', 'enjoy the quiet while you can', 'no you just', ' youre gonna watch phoenix', 'theres 50 here ray', 'job separator', ' exwife', 'i dont know why are you', 'how cute would that be', 'damn straight it does', ' okay', 'theyll never find her', 'but it doesnt', 'i will never forgive', 'you have everything you need', 'sure why not', 'international cooperation for development', ' damn it', 'yeah my eyes aint too good', 'i asked doctor jo', 'never mind something happened okay', 'it wasnt', ' with our dominik', 'oh god', 'we dont release the pressure soon', 'id know how to deal with that', 'that i confused my feelings with the truth', 'youre right here you do it', 'weve started looting', 'what the hell are you doing', 'im a fun dad', 'do you have family living there', 'hes not gonna call', 'you gave me a start', 'long time gone', ' maybe you could just calm down and', 'and id like to save you from that fate', 'check it out', 'you know its such an amazing day', 'oh here is a good one', 'i like this song', 'daddy didnt love em enough', 'can you imagine me a diplomat', 'no im gonna cap him', 'why are you laughing', 'i like penguins', 'how are you', 'but its not', 'kind of', 'you really will', 'but she may remember this', 'i was gonna tell you', 'got hit by a bus', ' what gun what are you talking about', 'i will miss you so much', 'and you concurred', 'whats your problem', 'you told her where to go john', 'oh yeah', 'and the battle started bloody and merciless', 'is he okay now', 'she was beautiful', ' what youre jogging now', 'in or out', 'george huge emergency hugest emergency', 'i have no idea what youre talking about', 'um brown hair beard', 'maybe a didnt lead to b', 'only everything ive ever tried', 'too much work', 'oh my god yeah', 'youll ask to see the priest', 'its just sleeping', 'youre not deaf sophie i know', 'you have to admire that man', 'she seems stuck in there', 'those kids are really lucky', 'so what are you gonna do now', ' we cant make alliances', 'nothing to say', 'have nothing to do with them', 'oh my', 'its scary', 'uh something that begins with a p', 'youre gonna die', 'does his lordship know about this', 'convention on the right of the child', 'i suppose it is but it aint rumors', ' because its from kelso', 'but only in the bedroom', 'i never saw that', 'mum my train doesnt fly', 'we found the sasak ukib', 'you are god  i love you   what', 'no pen', 'memories without reason', 'rubber band is enough ill not run away', 'lets see what you can do', 'not necessarily', 'black tie optional', 'a lot of hands', ' me', 'thats okay', 'right with no equipment no rope', 'but my real business here is with you', 'now loosen up mmhm empty your mind', 'dont cry', 'i need you', 'you thought i was dating this', 'what are you', 'by me', ' this is overkill huh', 'look i havent seen your face', 'no i cant take it', 'okay lets do it', 'i can live with that', 'true we are still children', 'to losers maybe', 'well we are at sea', 'great ball of china', 'yeah well im at the doctor', ' your body will break down', 'how am i supposed to take this conversation', 'but he was better for a while', ' wheres jimmy', ' what is it', 'ive caused enough pain', 'she is not your equal', 'it didnt it was a disaster', 'dont go', 'okay thank you', ' marks', 'wrong answer', ' all right noodle', ' youre pregnant', 'nothing personal right', 'a lens cap', 'sure you did', 'ow fuck', 'will you help me with that', 'they can come too', 'and i a drunk', 'and poison ill stick in some poison', 'an identical monozygotic twin', 'zack this is my friend claire', 'hows the leg', 'dont put me in that hole', 'think we can handle it', 'i was understandably agitated', 'what are you doing here', 'what about this jacket', 'hey i was trying to figure things out', 'eh that hardly seems fair', 'oh you did', 'lets talk about it later', 'use your brain', ' introduces our couple style to the world', 'no that was my grandmother', 'good thank you', 'ill be as gentle as he was with her', 'weve been here before', 'you got your lunch', 'things id rather forget', 'i didnt think youd do that', 'must be nice', 'what she loved about me', ' good morning', 'no it was not', 'oh youre damn right im angry', ' its dead', 'a hundred times', 'carry on with your duties', 'that hurt', 'what about you mikey', 'youre telling me this is real', 'oh yes indeed', 'reboot aah', 'by giving them what they want of course', 'but then what next', 'dont skimp on the butter', 'i got an idea', 'i have a coranic quiz to do', 'yeah i know i know i know trust them', 'yes you are because you love him', ' why dont you admit it', 'youre exactly like them', 'but you can paint the walls', 'it was what ', 'ive been talking to ty', 'all right', 'who told you i was expecting you', 'what am i watching', 'good night rabbit', 'we couldnt wait', 'they fuck like rabbits', 'ceres is your home', 'i assure you', 'you got anything solid on him', 'black classic a la mode a la m', 'as if there is such a thing', 'so glad you agree', 'how many houses left', 'you knowmy lovetoo', 'is that weird  you think this is funny', 'its a good butt', 'close enough', 'i do that i know it', 'watch your mouth', 'it has given us protection', 'there being no objection it is so decided', 'no way im not doing that', ' to talk to arthur  right', 'no no no', 'that i mean thats it ok', ' im trying to help you', 'were almost there', 'bow up half', 'like chocolate', 'and its gonna be mindblowing', 'that could easily have been planted', 'are you coming out today', 'why did you do it', 'but nothing happened with him', 'stephen king over here', 'i watch it every week its great show', 'i set its broken leg', 'how about a recess your honor', 'the international gay rules', ' its gonna ruin the suede', 'now how would you know what i like', ' what difference does it make', 'oh shit im sorry', 'what do you want', ' that sucks', 'i uh murdered an innocent girl', 'i definitely dont like heroes', 'she was calling me', 'i really dont think we need it', 'were talking to the union later today', ' whats that', 'now im starting to puddle', 'i cant talk with them', 'a common enemy', 'with no memory of where theyve been', 'im trying to work with you', 'hello albie', ' you got it  bye', 'now its my turn', 'how are you angel', 'its religious crap', 'they dont know were down here', 'sixtieth session', 'where are your friends', 'well done boss', 'what kind of father are you gonna be', 'youll need to make the explosive now', 'okay guys', 'thats not true', 'i will fix it', ' he feels you demean him', 'i inherited it all from my uncle', 'how about it', 'aye good but youll need happy', 'right now ive got to go', 'leave a message', 'noah begat shem  andshemarphaxad', 'one that makes', ' thats why she did it', 'sixth committee', 'go come on come on', ' sure', 'im going to do something very bad', 'no one', 'and kelly dont get anything pierced', 'you carried him', 'the others theyre gonna be back', 'no more here you go', ' like i care', 'the seven missing women', 'i want to see her shes fine', ' well hes back', 'i told you my son doesnt do drugs', 'im just trying to be realistic here', 'hes just gross', 'thats it two types of potatoes and my mom', ' ah  i told you', 'whwhat does that mean', 'you are horrible', 'oh dont flatter yourself', 'got it joaquin', 'just a thought', 'from outside my house right', 'i meant the body hes working on', 'if you dont have trust', 'external debt', 'hes very boring', 'mark aslan narnia chronicle', 'boxtrolls arent monsters', 'im ashamed of what she did', ' no i cant sorry no', 'ive ever had to true love', 'john whats going on with that guy', 'f nonadmission', ' no super quiet', 'hey  would you reload just reload', 'nothing she said ever happened', 'no he will report to me', 'jesus christ', 'okay im sorry', 'we just sit herewere dead', 'hold on i got to take a piss', 'sir please', 'honey this food is so good', 'and slip it to the blushing bride', 'just have a little salad', 'i have to talk to cary', 'all right got to do that', 'were both powerful men', 'all right okay okay all right', 'ive got her', 'come on come on thats right thats right', 'id like to apologize about the rain', 'bread come quick', 'its like a gift you know', 'it doesnt feel like it does it', ' leo come on', 'the entire church was devastated', 'how are you', 'gail are you drunk', 'oh this shit got the bezel on it', 'wasnt you', 'thank you thank you', 'hey youre a lawyer right'), ('هل أحببتيه؟', 'قسم المعلومات في الجانب الآخر', 'لا، وأنا أعلم.', 'لأحضر عدساتي اللاصقة', 'أتودين الإسترخاء معي، هنا؟', 'هل تشتم ما هذه الرائحة؟', 'هل رأيت المناضد المخدومة؟', 'ومن قال لك بأنه نازي ؟', 'إذن لقد بدأت؟', 'سأتصل بك', '- يجب أن تتوقف عن مقابلة زوجتي', 'كيف حدث هذا', 'أنا آسف!', 'اتصل نورمان طلب مني لقاءه', 'حقا، أنا مذهل', 'هيا ، لنذهب .', 'النجدة ، قراصنة', 'هذا كله بسبب الكلام اللعين.', 'وأنت إنسانة قذرة', 'اعتقد ان المكان هادئ هناك', 'مع من أتحدث؟ ...قلت مع من أتحـ', 'هل هذا هو؟', 'تحقق من ذلك', 'هل تعرفين ما هو هذا المكان؟', '! هيا,يا رجل', '- هل أعد لك شيئا ؟', 'قيادة البعثات والتخطيط للبعثة', 'أنت (نومي)', 'هل من جروح دفاعية ؟', '-حرارتة مرتفعة جدا -إذهبي...', 'هيا، هيا ستكونين بخير', 'ما يجري بحق الجحيم ؟', 'أليس هذا صحيحا؟', 'أعطني أسوء طريق لديك', 'لدي أفضل تجارة في المدينة', 'أنا لا أفهم', 'أي غرفة آمنة؟', 'انها كذلك', 'أعد تشغيل موسيقاي', 'لن أغادر.', '-سأكون أبا !', 'لديه الحق أن يسأل.', 'سابقا في الكمية', 'أليس كلامي صحيحا؟', 'نعم، مصابة وسعيدة بذلك.', 'لندخل في الموضوع', '-لقد فزنا، فـزنا !', 'أنشطة المقرر الخاص', 'أعد المسح للمعدة كلها', 'هو وقائي، مات.', 'كورت مع الأسلحة النووية الآن؟', 'أنا سأتذكر ذلك.', 'سنغير ملابسك', 'أسبق وكنت وحيدة؟', 'حله مع معالجك،أيها الناس.', '- انا لن اصبح--', '-يا جاك ما الذي تفعله ؟', 'لقد فعلتها', 'الجزء الأول طبيعي', 'ألن تحب شخصا من أجل الحب', 'حفنة من الهراء .', 'ولذا فتلك هي قصتي.', 'استعدوا للمفاجأة... الرعب.', 'الدفع !', 'ما الأمر؟', 'اعتقد انهم سيبدوا رائعين عليك', 'ألن ترد عل ذلك ؟', 'جمهورية الكونغو الديمقراطية', 'انتهزي الفرصة واستمتعي بالهدوء', 'لا انا فقط', '- ستقوم برعاية فينيكس؟', 'اتري ذلك أيها الغبي ؟', 'فاصل الوظائف', 'زوجتي السابقة.', 'لا أدري ، لم تعتقد ذلك ؟', 'كم سيصبح ذلك رائعا!', 'بالطبع , إنه كذلك', '- حسنا', '-يمكننا وضعها في هذا', 'لكنه لم يفعل.', 'وسوف يغفر أبدا.', 'لديك كل ما تحتاجينه', 'طبعا لماذا لا؟', 'التعاون الدولي لأغراض التنمية', '- اللعنة.', '- نعم، عيوني ليست جيدة .', 'لقد سألت الدكتور جو', 'لا بأس،شيئا ما حدث، حسنا؟', 'لم أكن السبب', '-تقصدين ابننا ؟', 'يا إلهي', 'اذا لم نزل الضغط سريعا', 'أعرف كيف أتعامل مع ذلك', 'بأني شوشت مشاعري بالحقيقة', 'لا تفكه اقطعه', 'بدأنا بالنهب', 'ماذا تفعل بحق الجحيم ؟', 'أنا أب مرح', 'هل لديك عائلة هناك ؟', '- لن يتصل بك', 'لقد فاجئتني', 'ذهب منذ وقت طويل', '-ربما عليك ان تهدأ', 'و أريد أن أحافظ عليك من السمنة', 'إنظري لذلك.', 'لقد كان يوما رائعا', 'هذه جيدة.', 'تعجبني هذه الأغنية.', 'لأنهم يملكون جينات معيوبه', 'هل تتخيلين, أنا دبلوماسي؟', 'لا .. أنا سأضع حدا لهذا ؟', 'لماذا تضحك ؟', '-أحب البطاريق', 'كيف حالك؟', 'لكن كل شيء ليس بخير', 'نوعا ما', 'اعنيها حقا', 'لكن قد تتذكر هذا', 'لقد كنت سأخبرك', 'ضربتك حافلة أو ما شابه؟', 'أي مسدس، عن ماذا تتحدثين ؟', 'سأشتاق إليك كثيرا', 'وانت موافقة', 'ما مشكلتك؟ وجع أسنان؟', 'أنت أخبرتها أين تذهب, (جون).', 'أوه، نعم؟', 'والمعركة بدأت داميه وقاسيه', 'هل يتقبل الأمر حاليا؟', 'كانت جميلة.', '-ماذا ... أصبحت تجري الآن؟', 'ستنضم لي أم لا؟', 'جورج حاله طارئه كبيره الأكبر', 'لا أعرف عما تتحدثين', 'شعر بني، ولحية.', 'ربما الأول لا يفضي للثاني.', '. فقط كل شيء جربته', '-عمل كثير للغاية !', 'أوه، يا إلهي، نعم.', 'إطلب رؤية القس', 'نائمة وحسب', '-لست صماء يا (صــوفــي ).', '-ما هي مطالبك ؟', 'ويبدو أنها عالقة في هناك.', 'هؤلاء الفتيان محظوظون جدا', 'إذا ماذا ستفعل الآن؟', 'تحالفاتنا غير متوافقة', 'ليس لديك ما تقوله؟', 'لا علاقة لهذا', 'أوه، رباه.', 'ذلك مخيف', '.\" شيء يبدأ بحرف الـ \" بي', 'أنت ستموت!', 'هل سيادته يعرف عن هذا؟', 'اتفاقية حقوق الطفل', 'أفترض ذلك ولكنها ليست شائعات', '- لأنه من كيلسو.', 'فقط في غرفة النوم.', 'لم أري هذه أبدا', 'أمي, انها لا تطير', 'وجدنا \"اوكيب الساساك\"', 'انت جيد احبك ماذا؟', '-لا (بين).', 'ذكريات بلا سبب', 'الرباط المطاطي كافي لن أهرب', 'دعنا نر ما يمكنك فعله', 'ليس بالضرورة', 'ربطة العنق السوداء اختيارية', 'هناك الكثير من الأيدي', '-أنا .', 'هذا لا بأس.', 'بدونأجهزةوبدونحبل !', 'لكن عملي الحقيقي هنا هو معك.', 'استرخي قم بتصفية أفكارك', 'لا تبكي.', 'أنا أحتاجك', 'تعتقد أني أواعد هذا؟', '-ماذا تكون؟', 'من قبلي', 'أفرطت بالأمر، أليس كذلك؟', '! أنا لم أر وجهك', 'لا , لن استطيع ان أخذها', 'حسنا، فلنفعلها', 'أستطيع العيش مع ذلك.', 'بالظبط، لقد كنا مجرد أطفال', 'بالنسبة للفاشلين ،محتمل', 'سوف نساعدك', '\"كرة الصين العظيمة\"', 'أنا الطبيب', '-جسدك لن يتحمل', 'بأي طريقـة أفسـر هذه المحادثـة', 'و لكنه كان بحال أفضل لفترة', 'ـ أين (جيمي)؟', '- ما هو؟', 'لقد سببت الم كثير', 'إنها أقل من مستواكم', 'نعم لقد كان أمرا كارثيا', 'لا تذهب', 'حسن أشكرك', '- مارك وأبوس]؛ [س].', 'إجابة خاطئة', '-حسنا، معكرونة؟', '-أنت حامل .', 'لا شيء شخصي', 'غطاء عدسة كاميرا', 'بالتأكيد ، فعلت', 'تبــا، ياللهول!', 'ألن تساعدني بهذا ؟', 'يمكنهم أن يأتوا أيضا.', 'أود الشرب', 'والسم ، سأدس بعض السم', 'توئمان مختلفا التوقيت', '-زاك)، هذه صديقتي (كلير) )', 'كيف حال ساقك؟', 'لا تضعاني في هذه الحفرة!', 'تعتقد بإمكاننا التغلب عليهم؟', 'لقد إنفعلت قليلا', 'ماذا تفعلان هنا ؟', 'ماذا عنه ؟', 'أنا أحاول فهم القصة', 'ذلك يبدو عادلا بالكاد.', 'لم تق...', 'لنتحدث عن هذا لاحقا', 'استعمل مخك', 'اسلوب الزوج للعالم', '- . لا , تلك كانت جدتي -', 'نعم, شكرا لك.', 'سأكون لطيفا كما كان معها', 'كنا هنا في السابق.', 'هل أخذتي غدائك؟', 'أشياء أود أن أنساها', 'لم أعلم أنك ستفعل هذا', 'سيكون رائع.', 'ما الذي أحبته في', '- صباح الخير', 'لا لم أفعل ذلك', '-بكل تأكيد أنا غاضب .', '-لا يعمل', 'مائة مرة', 'إستمر في عملك', 'هذا مؤلم.', 'ماذا عنك يا (مايكي) ؟', 'أتقول لي أن هذا حقيقي؟', 'ولكن نعم..', 'أعد تشغيل!', 'بمنحهم ما يريدون بالطبع', 'لكن بعد ذلك ماذا سيحدث؟', 'لا تنسي وضع الزبدة', 'خطرت لي فكرة', 'لدي اختبار قرآني لأقوم به', 'نعم, أعلم, أعلم, نثق بهم', 'نعم أنت كذلك لأنك تحبيه', 'لماذا لا تصارحني وتعترف بذلك؟', 'أنت بالضبط مثلهم.', 'ولكن يمكنك طلاء الجدران.', 'ما كان ذلك؟', '(لقد كنت أتحدث مع (تاي', 'كل الحق.', 'من أخبرك أني أتوقع مجيئك؟', 'ما الذي أشاهده ؟', 'طابت ليلتك أيها الأرنب', '-لم نتمكن من الإنتظار .', 'يبدون كالأرانب', 'سيريس هو موطنكم', 'أؤكد لك هذا', 'لديك أي شيء قوي ضده؟', '...أسود، كلاسيكي', 'وكأن هناك شيء من هذا القبيل.', 'سعيد جدا أنك وافقت', 'كم تبق من المنازل؟', 'وحبي أيضا', '-تعتقد أن هذا مضحكا؟', 'فأنت مؤخرة جميلة', 'قريب بما فيه الكفاية', 'أنا أقوم بهذا , أعرف.', '! إنتبه لكلامك', 'انها ما يعطينا الحماية', 'ولعدم وجود اعتراض، تقرر ذلك.', 'محال، لن أفعل هذا', '(للتحدث مع (آرثر', 'لا , لا , لا .', 'هذا كل ما في الامر', '-أنا أحاول المساعدة', 'نحن تقريبا هناك.', 'لايمكننا , ليس لدينا اي وقت', 'مثل الشوكولا؟', 'وسوف يكون مذهلا', 'بالإمكان زرع تلك الصورة ببساطة', 'هل ستخرجين اليوم؟', 'لمادا فعلت دلك؟', 'ولكن لم يكن هناك شيء معه.', '(ستيفن كنغ) هنا', 'أراها كل أسبوع، عرض كبير .', 'لقد داويت ساقه المكسورة.', 'ماذا عن استراحة سيادتك؟', '-صحيح، قواعد الشواذ العالمية', '-ستفسد الجلد', 'الآن كيف تعرف ما أحبه؟', '-ما الفرق في ذلك؟', 'ياللهول انا اسف', 'ماذا تريدين ؟', '-هذا مقرف', 'لقد قتلت فتاة بريئة', 'لا شك أنني لا أحب الأبطال', 'لقد كانت تناديني.', 'لا أعتقد أننا بحاجة لذلك', 'سنتحدث للنقابة لاحقا اليوم', '- وما هو ؟', 'الآن أنا بدأت بركة.', 'لا أستطيع التحدث معهم', 'عدو مشترك', 'دون أن يتذكروا أين كانوا', 'أنا أحاول العمل معك', 'مرحبا (ألبي).', 'وجدته مع السلامة', 'الان،حان دوري.', 'كيف حالك أيتها الملاك؟', 'تلك خرافات دينية', 'إنهم لا يعلمون بوجودنا هنا', 'الدورة الستون', 'أين أصدقائك؟', 'أحسنت عملا أيها الرئيس', 'أي نوع من الأباء سوف تكون؟', 'عليك ان تصنع متفجرات الان.', 'الرجال حسنا.', 'ذلك ليس حقيقي.', 'حسنا, سأصلحها', '-لا احتاج لقلة الاحترام', 'لقد ورثتهم جميعا من عمي.', 'ما رأيك ؟', 'نعم جيد (ولكن ستحتاج (هابي', 'علي الذهاب الآن', 'من فضلك اترك رسالة.', 'ولد نوح ساما وسام ولد أرفكشاد', 'قصيدة تجعل...', 'لهذا قامت بفعل ذلك ؟', 'اللجنة السادسة', 'انطلقن ، هيا ، هيا', '-في أي وقت', 'سأفعل شيئا جدا', 'لا أحد', 'و (كيلي)، لا تقومي بثقب أي شيء', 'حملته ؟', 'الآخرون , سوف يعودون', '-هذا يكفي هيا', '-و كأنني أكترث.', 'مع النساء السبعة المفقودات؟', 'إنها بخير.', 'حسنا، لقد عاد', 'قلت لك إنه لا يدمن', 'أنا أحاول أن أكون واقعيا', 'هو فقط مقزز.', 'نوعين من البطاطس و أمي', '. أخبرتك', 'ماذا يعني هذا ؟', 'أنت مريع', 'لا تغتر بنفسك', 'حسنا، (خواكين)', 'فقط نصيحة', 'الذي كان خارج منزلنا', 'انا اقصد الجثة التي يعمل عليها', 'إذا لم تكن هناك ثقة..', 'الديون الخارجية', '! إنه ممل جدا', 'مارك اسلان. نارنيا اليوميه', 'ليسوا وحوشا.', 'أشعر بالخجل مما فعلته.', '-لا أستطيع لا أسف', 'شيء للحب الحقيقي', 'ما الذي يجري مع ذلك الرجل؟', '(و) عدم السماح بالدخول', '-اهدأي .', 'صوب عليه صوب عليه', 'لاشيء مما تقوله صحيح.', 'لا، بل سيكون تحت امري', 'يــا إلهــي', 'حسنا , أنا آسف !', 'لو جلسنا هنا، فسنموت', 'دقيقة، علي قضاء حاجتي', 'سيدي .. من فضلك', '-إنه لذيذ جدا يا عزيزتي .', 'ومن ثم اصطياد العروس', 'فقط خذ قليلا من السلطة.', 'علي استشـارة (كـاري)', 'حسنا، أتيت لفعل هذا', 'كلانا رجال أقوياء', 'حسنا حسنا، حسنا.', 'لقد حصلت عليها', 'هيا، هيا هذا صحيح، هذا صحيح', 'أريد أن اعتذر بخصوص المطر', 'خبز تعالوا بسرعة!', 'إنها كهدية كما تعرف؟', 'لا أشعر أننا كسبنا', '-بحقك، (لـيو ).', 'لقد تدمرت الكنيسة بأكملها.', 'كيف أنت؟', 'غايل)، هل أنت ثملة؟ )', 'اللعنة، إن إطارها من الألماس', 'الم يكن انت؟', 'شكرا لك، شكرا لك.', '-أنت محامي ، أليس كذلك ؟')]\n",
            "[('yes but it lacks something', 'or hes devolving', 'what lie', ' and i just want him back', 'why not', 'oh my god that water', 'i know i know', ' your tea mr hoi', 'sweets a guy just blew up', ' but what i thought is', 'shields becoming a problem', 'that was her plan all along', 'i just nodded', 'did you see that', ' nope', 'or im goin in', 'get the list its in his pants', 'let me give you some advice', 'now if we can just see your id absolutely', 'i havent shown it to anyone', ' colin', 'come to me', 'thats cool', 'youve done the right thing', 'what are you looking at that for', 'hello paul good morning bob', 'any more', 'i dont understand', 'ive practically got an album', ' they do', 'come here', 'because its disgusting', 'hey its me', 'i think hes full of', 'then ill need to search you', 'since yesterday', 'hes just a coward and a thief', 'i can see you kirk', 'i dont know what to do', 'as long as you', 'thats emotion elena', 'shut up enough stalling', 'yeah looks like it', 'if you dont live im all over that', 'because he doesnt know thats why', 'no spitting', 'ive got an eyelash in my eye', 'cool whats the water for', 'this is it', 'you did it frank', ' thats good', ' his name is kyle', 'des is out hes an addict', 'oh but you are', ' we wont be cross', 'yeah what do you want', 'its a little embarrassing', 'rainwater wont hurt us', 'am i being punished', 'lets let toddo get this one huh', 'whos that', ' i got into a bar brawl', 'exclusively the lumbar', 'battle positions everyone', 'you looking for somebody', 'whoa wait wait a minute', 'i know poppycock when i hear it', 'im talking about blowing the place up', 'well im intervening', ' timur  dead', ' no im completely lucid', 'oh good evening', 'hello im looking for my daughter', 'its not a bug', 'its moving fast', 'one second please', 'foster ellen assistant director', 'i have to believe that it came from god', 'are you kidding', 'tear the tyres they dont want to pay', 'well find out soon enough', 'oil and a lube', 'youre so pretty', 'gone i have no idea what', 'ever go to the silhouette', ' by doing what', 'how much', 'do you want to leave someone behind to die', 'security of monuc personnel', 'where do you want this', 'one sec', 'oh my god holy shit', 'no i dont', 'we have a problem', 'ive already killed that minion', 'its time we repaid their friendship', 'yeah him', ' and', 'some americans are missing', ' no were not done yet', 'big interview', ' dont do it', ' thanks  thanks', 'je suis un gagneur', 'i will admit it', 'i hope so', 'its not my fault teddy hates you', 'of course it is', 'it was the boss who wanted you dead', 'i see her right now', 'i told them that you didnt do it', ' thank you', 'this is her address', 'you cant just start acting like my dad', 'hey um i think', 'your husbands name is yonk', 'you okay', 'here take this', 'not naked dale', 'i cant', 'bring your palms together', 'he gave me that ring and made me swear', 'i suppose you dont get out much do you', 'okay lets go', 'the house', 'mmmm come on now', 'you have heard of us in america', 'my dad was pissed', 'whatever you need ill provide', 'always fun to break peoples hearts', ' nice to meet you', 'my crucifix is missing', 'maybe i did', 'no but itd be better than out here', 'oooh can you reach it', 'lose your balley baby', ' cheese blintzes', 'oh so it was my fault but not yours', 'i love that  oh yeah', 'youre kidding whatd he say', 'duh yes', 'lets say yes', 'that brat of a son of yours', 'dr hood', 'its here it followed us back', 'are you inside now', 'same here', 'beer okay', ' weve won  ha', 'i really dont know', 'im sorry its your thing not mine', 'he was so much better', 'expert witness for the defense', 'is that inappropriate for the workplace', 'i didnt say you were', 'just like the leaves of autumn', 'youre saying no to me', ' no feelings now', 'now its your turn', 'you know what i like', 'we cannot deliver on our agreement', 'i think i can manage that', 'i love it', 'your mama snorted up all the dope', ' youre welcome  oh my god', 'its an opportunity to learn and grow', 'ive been to everyone', 'no you cant', ' yes some mate', 'open this door', 'theyre talking about our ship', 'its montgomery', 'someone you can trust', 'you cant trick it emma', ' you just can not do it', 'im gonna unpack', 'i dont have a life', 'who does it say im going to marry', 'lets do this come with me', 'my bad i aint hear that', 'some house huh', 'you know who this is al rawi', 'he died', 'our mission holds no purpose', 'shes so hot', 'hows that', 'please now where is it', 'well go register at not just sofas', 'maybe its neurological', 'you have got to stay', 'my papa', ' yeah imim in with sid sorry', 'who did this', ' oh but i do', 'so walter kelly was a good cop', 'did you not hear what she said ', 'wait a minute', 'on your behalf to protect you', 'i gotcha ill be there', 'whos that', 'ill do both', ' bevin  hi', 'well not so much break up as', 'why would you think that', 'no of course not', 'please its its', ' dont be nervous its nothing', 'susanna calm down', ' al', 'small version', 'thats a first since high school', 'take it easy', 'remember ted with the hair', 'ugh oh no', 'thanks daisy whatre you doing', 'okay so this is it', 'hey i told you no you didnt', 'needle play', ' are you gonna squeal on me', 'thats thats not mine', 'think of it as a followup', 'he made it through the second test', 'very well thank you', ' okay its too bad', 'by having us kiss', 'thats them', 'anything you do not prikrivajva vee', 'he seems so sweet', 'what the hell is going on', 'brother im really sorry', 'you didnt stick to our agreement', 'no not the books', 'were actually going through with that', 'oh i mean uh clears throat iif i ', 'secret weapon', 'miss allison miss stevens', 'he was lost too', 'whats in the briefcase', 'they tortured our sisters and daughters', 'i dont have any stuff', 'do you need me to believe you', 'im uh actually a lily man', 'that gave me the idea', 'stop making stuff up', 'i know that', ' is it pixie dust or leprechaun tails', '8th meeting', 'or what', 'this isnt good', 'the baby bird stops to rest', 'oh its a gas', 'watch me burn flanders', 'you have bigger problems dont you', 'cover editor', 'theyre a thing', 'its just sighs', 'i shouldnt be long', 'thats our special little code', ' ive never seen it', 'nothing as far as i know', 'well i had no idea', ' but there wasnt', 'she is why orchestra exists', 'thats fuckin great', 'you think you can do it', 'i want you to do five shots', 'god im good', 'please read the oath out loud', 'what do you want to study', 'wow nice adjustment', 'oh my gosh thats joshua butler', 'nothing i got out alive', ' who are you', 'im having fun', 'youre donnie banks', 'a lecture about what', 'ive got to run', 'come with me', 'i would punish such insolence most severely', 'i love you so much', 'hello eleanor', 'you make a move toward iris', 'a good soldier protects his commander', ' to them or you', 'do you live here', 'still a dick', 'aight man we here', 'i dont have allison anymore', 'all i know', 'dont waste your time', 'burden of this place', 'faisals never steered us wrong', 'a five a ten a 20 it dont matter', 'you want to go a few rounds', 'what about your employer', 'just dont try and stop this', 'theyll have worked it out at the same time', 'morgan said the work will is full time', 'it is extremely dangerous and fatal', 'i am begging you', 'youre so beautiful', 'your baby needs you stu', 'a concerned father', 'i assure you', 'thanks michael oh', 'this is a first date', 'she doesnt consider it stealing', 'youre god', 'your speech was very good', 'its not what you think', 'anne right now', 'oh you made the world', 'plans of action', 'whats the name of this shop', 'were going to the fundraiser', 'what so you can hump her', 'where are you going', 'these two are 5 and under', 'a man can only take so much failure', 'im starting to like our conversations', 'the manager wants to go', 'would you excuse me i just be one moment', 'i need your help to finish it', ' jamal', 'hows it working', 'i was told that', 'well reconvene later', 'hey is sherlock with you', ' no she wants to stay', ' yes what', ' well thats good', 'youre killing me randall hey there he is', ' thats okay', 'you havent heard anything from her have you', 'what of gannicus', 'her boob really', 'do you know what hes done', ' too low', ' mme delassalle', 'adam who', 'we could use that', 'one sec', 'everybody put your seatbelt on', 'im all right', 'shes a hero', 'the point is im sorry', 'i never did care for him much', 'no youre not', 'dont you think', 'this is about what you hit', 'what time did you arrive home', 'emily fitch', 'you do', ' oh yeah', 'very day', 'hey hey honey honey', 'do you have an office i can use', 'we dont wanna punish anyone', 'maybe he worked for it', 'kill your own to kill your trouble', 'i said get out of here', 'your father said you were a natural too', ' mom dont gasp', 'why dont you know', 'made me a decoy again', 'i got you', 'well fuck it let the perv watch', 'he was struck by divine intervention', 'i can do that', 'tanakas got the entire floor locked down', 'then killed', 'hey you', 'scary dream huh', ' mess with him hell disembowel you ', 'why call me', 'he had a temper', 'youre a sociopath', ' hes a man', 'hey hey hey nurse', 'im sorry', 'hold on is that  popper', 'if you are a man youre the last man', 'nope not one bit', 'oh kevin youre so funny', 'this is like a dialect', 'oh my god my straw', 'thats your solution', 'thank you thank you', 'theres something you gotta know', 'you killed my friend', 'sit back relax', 'you still had so much mitch', 'almost too nice', 'thanks im not hungry', ' but i didnt laugh at you', '20 minutes max i promise', 'but i wasnt honest with you before', 'no his marriage is not at risk', 'we didnt distort facts', 'i showed him eh lads'), ('أجل. ولكنها لم تكمل', 'او يقوم بلإسناد.', 'ما كذب؟', '- وأنا فقط أريد له العودة.', 'لما لا', 'يا للهول! ذلك الماء', 'أعلم، أعلم', '-الشاي، سيد (هوي)', 'سويتس ، رجل انفجر للتو', '- لكنني رأيت أن ..', '\"شيلد\" بدأت تسبب المشاكل.', 'تلك كانت خطتها طول الوقت', 'أنا أسكن فقط.', 'أرأيت هذا؟', 'اتريد بعض الاستراحه؟', 'أو سأخبر الشرطة', 'خذ القائمه من بنطاله.', 'دعني أعطيك نصيحة', 'لو انني ساري هويتك بالطبع -', 'لم أره لأحد', '-كولين) )', 'تعالي إلي', 'هذا رائع', 'لقد قمت بالصواب', 'لماذا تبحث عن هذا ؟', 'مرحبا بول صباح الخير بوب', 'بعد الآن', 'أنا لا أفهم.', 'لقد ملئت ألبوما', '-ليس هراء', 'تعال هنا', 'لأنه مقرف', 'اهلا، إنه أنا.', 'اعتقد انه مليء...', 'ثم أنا بحاجة للبحث عنك', 'منذ أمس', 'أنه فقط سارق وجبان', 'يمكنني رؤيتك، (كيرك ).', 'لا أعرف ماذا أفعل', 'طالما تــــ...', '-إن (سايلس) شخص مختل', 'يكفي مماطلة!', '-أجل، هكذا يبدو الأمر .', 'إذا لم تعيش سأتكفل أنا بهذا', 'لأنه لا يعرفها, هذا هو السبب', 'لا بصق', 'دخل رمش في عيني اوه', 'بارد . ما هو الماء عنه؟', 'هذا هو.', 'لقد فعلتها يا (فرانك)', '- هذا جيد', '-إسمه (كايل).', 'ديز خرج من الأمر إنه مدمن،', 'ستكونين محظوظة!', 'ـ ماذا؟', 'نعم ماذا تريدين؟', 'انها محرجة قليلا.', '-ماء المطر لن يؤذينا .', 'هل انا أعاقب؟', 'لنجعل \"تود\" يمسك هذه', 'من ذلك ؟', '-لقد دخلت بشجار حانات', 'بالضبط تكاية الظهر', 'وضع المعركة , ايها الجميع', 'هل تبحث عن أحد؟ -فقط..', 'أنتظر لحظة.', 'أنا أعرف هراء عندما أسمع ذلك.', 'أنا اتحدث عن تفجير المكان', 'سأتدخل في الموضوع.', 'تيمور - لقد مات -', 'كلا , أنني واضح جدا', 'مساء الخير', 'مرحبا, أبحث عن إبنتي', 'هو ليس بق.', 'يتحرك أسرع!', 'الثانية الواحدة، رجاء.', 'فوستر الين , نائب المدير', 'إعتقدت بأنها مرسلة من الله', 'هل تمزحين؟', 'مزق الإطار لا يريد الدفع', 'سنعرف هذا عما قريب.', 'تغيـيـر زيت المحــرك', 'انت حقا جميل', 'ليس لدي أي فكرة ما...', 'هل قصدت يوما نادي \"الظل\"؟', '- بفعل ماذا ؟', 'كم ثمنه؟', 'هل تريد لشخص ما أن يموت؟', 'أمن أفراد البعثة', 'أين أضع هذا؟', 'لحظة واحده', '-يا إلهي !', 'لا ليس لدي', 'لدينا مشكل', 'لقد قتلت بالفعل ذلك التابع', 'لقد حان الوقت لرد الجميل لهم', 'أجل هو', 'والنتيجة ؟', 'بعض الأمريكيين مفقودون', '-لكننا لم ننتهي بعد', 'مقابلة كبيرة؟', '-لا تفعل ذلك .', 'شكرا شكرا', 'أنا الفائز', 'سأعترف بذلك', 'أرجو ذلك ..', 'انه ليس خطئي تيدي تكرهك', 'نعم، بالطبع.', 'الزعيم هو من أراد قتلك', 'أرها الآن', '-اخبرتك أنه لم يفعلها', '-شكرا لك .', 'وهذا هو عنوانها', 'انت لا تستطيع ان تتصرف كابي', 'انا اعتقد', 'زوجك اسمه يونك', 'أنت موافقة؟', 'خذ هذا ..', 'لست عارية، (دايل).', 'أنا لا أقدر.', 'وانحني بذراعيك معا', 'أعطاني ذلك الخاتم وجعلني أقسم', 'لماذا لا تذهب وتتسوق بنفسك ؟', '-حسنا، لنذهب .', '-في المنزل...', 'هيا الآن', 'سمعت عنا بامريكا', 'أبي غاضب.', 'سأقوم بتزويدكم بكل ما تحتاجونه', 'دائما متعة لكسر قلوب الناس', '-تشرفت بمعرفتك', 'صليبي مفقود.', 'ربما انا وجدت', 'لا، ولكن أفضل من هنا.', 'هل يمكنك أن تصل إليها؟', '.فقدت كرتك ، أيها الطفل؟', '-لفائف الجبن؟', 'إذن فهو ذنبي وليس ذنبك.', 'يعجبني ذلك', 'أنت تمزحين ما الذي قاله؟', 'بكل تأكيد!', 'دعنا نقل نعم', '. إنه طفلك المدلل', 'دكتور (هود)؟', 'أنه هنا لقد تبعنا الي هنا', 'هل أنت بالداخل الأن؟', 'نفس الشعور', 'بيره حسنا؟', 'لقد فزنا', 'أنا حقا لا أعلم', 'أنا أسفه انه خاصتك ليس لي', 'هو كان . . أفضل بكثير', 'شاهد خبير للدفاع', 'هل هذا غير ملائم لمكان العمل ؟', 'أنا لم أقل بأنك ستفعل', '* كـأوراق الـخـريـف بالضبـط *', 'أتقول لي لا؟', 'لا مشاعر الأن؟', 'الآن هذا دورك', '- تعرف ما أحب.', 'لن نستطيع الابقاء علي اتفاقنا', 'أظن أن يمكنني عمل هذا', 'أنا أحب ذلك.', 'أمك استعملت كل المخدر', 'العفو يا الهي -', 'هي فرصة للتعلم والنمو.', 'لقد كنت عند جميع ...', '. لا , لا تستطيع ذلك', '- نعم، بعض زميله .', 'افتح هذا الباب - !', 'يتحدثون عن سفينتنا..', 'أسمي مونتغمري', 'شخص يمكنك الوثوق به', 'لا يمكنك خداعـه يـا (إيمــا)', '- لا يمكنك أن تفعل ذلك.', 'سأفرغ الأمتعة', 'ليست لدي حيـاة اجتمـاعية', 'من الذي سأتزوجه؟', 'حسنا، فلنفعل هذا رافقوني', 'انا آسف , لم اسمع عن هذا', 'منزل جميل، هه؟', 'لا أعرفه', 'لقد مات.', 'مهمتنا لا تحمل أي هدف', 'أنها مثيرة جدا', 'كيف ذلك', 'أين هو ؟', '-لا تقلقي، سننشئ سجلا', 'ربما هو عصبي.', 'وجب عليك البقاء.', 'هذه كانت حجرته', 'أنا مع (سيد)، آسف، ماذا هناك؟', '-من فعل هذا؟', '- لا انا اعرفك بالفعل', 'والتر كيلي كان شرطيا جيدا', 'ألم تسمع ما قالته؟', 'مهلا لحظة', 'نيابة عنك، لحمايتك.', 'لقد سمعتك ,ساكون هناك', 'من هذه؟', 'أعرف سأفعل الاثنان معا', '(بيفين) - مرحبا -', 'ليس أنفصالا كما ..', 'لماذا تظنين ذلك؟', 'لا ، بالطبع لا', '---أرجوك، هذا', '-لا تكون عصبية،لا شيء .', '-سوزان)، اهدئي واجلسي) .', '-ال) )', 'نسخة مصغرة', 'هذه أول مرة منذ الثانوية', 'إهدئ - !', '-نعم أتذكرين (تيد) ذو الشعر؟', 'أوه، كلا', 'شكرا يا (دايزي) ماذا تفعلين؟', 'حسنا ,اذا وهو كذلك.', 'قلت لك- لا لم تقل-', 'اثار للعب بالأبرة', '-هل ستشين بي ؟ -أشي؟ ...', '-هذا ليس لي', 'إعتبره وكأنني أتبعك', 'لقد مر بالاختبار الثاني', 'جيد جدا، شكرا لك', '- حسنا, يا للعار.', 'عن طريق تبادلنا قبلة؟', 'أنها نفس السيارة', 'لا أسرار بعد الآن اتفقنا؟', 'يبدو جميل', 'مالذي يحدث ؟', 'أخي, انا آسف', 'لم تلتزمي بالاتفاق', '-كلا, إلا كتبي.', 'نحن سنفعل هذا حقا', '..أنا أعني، لو', 'السلاح السري.', 'آنسة أليسون، انسة ستيفنز.', 'لقد ضاع ايضا', 'ماذا بداخل الحقيبة ؟', 'إنهم يعذبون أخواتنا وبناتنا', 'أنا لا أملك أية أغراض.', '-أتريدني أن أصدقك ؟', 'أنا، اه، في الواقع رجل زنبق.', 'جائتني بهذه الفكرة', 'لا تقرر كل شيء بنفسك!', 'أنا أعلم ذلك.', '-هل هي جنية الرمل ،او ذيل جني', 'الجلسة الثامنة', '-أو ماذا ؟', 'هذا ليس جيدا', 'الطائر الصغير توقف للراحة', 'أوه إنه هزلي', 'لاحظي كيف سأورط (فلاندرز)', 'لديك مشاكل أكبر، أليس كذلك؟', 'معد الغلاف', 'إنها موجودة', 'الأمر فقط...', 'لا يجب علي أن أتأخر', 'هذا رقمنا الخاص.', 'ـانالم أراهأبدا!', 'لا شيء، بقدر ما اعرف.', 'حسنا ليس لدي اي فكرة', '-لكن لم يكن؟', 'أنها سبب أنشاء \"أوركسترا\"', 'هذا عظيم للغاية', 'أتظن أنك تستطيع القيام بذلك؟', 'اريدك ان تشرب الكؤوس الخمسه', 'يا للهول! كم أنا بارع', 'الرجاء قراءة اليمين بصوت عال', 'ماذا تريدين أن تدرسي؟', 'تعديل جيد', '(يا إلهي , ذلك هو (جوشوا بوتلر', 'لا شيء، لقد خرجت حيا', '-من أنت؟', 'أنا أستمتع', 'انت دوني بانكس', 'ـ محاضرة حول ماذا؟', 'يجب علي ان اذهب.', 'لدي مهمةلكما ،رافقاني!', 'يجب أن أعاقب هذه الغطرسة بقسوة', 'أحبك للغاية.', '\"مرحبا ، \"إيلينور', 'إن تحركت ناحية (آيريس)', 'الجندي المخلص يحمي قائده', 'لهم أم لك؟', 'أتعيشين هنا؟', 'ماتزال أحمقا بالرغم من ذلك', 'حسنا، يارجل، نحن هنا.', 'ليس لدي أليسون بعد الآن', 'كل ما أعرفه', 'لا تضيع وقتك', 'عبء هذا المكان؟', 'فيصل لن يخبرنا معلومات كاذبة', 'خمسة, عشرة, عشرون, لا يهم.', 'هل تريد لعب بعض الجولات؟', 'ماذا عن رب عملك؟', 'فقط لا تحاولي إيقاف ذلك الأمر', '-سيعرفون وقتها', '(مورغان) طلبت منك أن تأتي', 'وهو خطر وقاتل جدا.', 'أنا أستجديك..', 'أنت جميلة للغاية.', 'طفلك بحاجة إليك يا ـ(ستو)ـ', 'اب قلق', 'أأكد لك', 'شكرا يا (مايكل)', 'هذا موعدنا الأول', 'إنها لا تعتبرها سرقة', 'معذرة , انت اله', 'لقد كان خطابا جيدا', 'هو ليس الذي تعتقد.', '-آن)، في الحال)', 'تتكلم وكأنك خالق هذا الكون!', 'خطط العمل', 'ما اسم هذا المحل ؟', 'سنذهب لمأدبة جمع الأموال', 'كي تجامعها؟', 'أين تذهبين؟', 'هؤلاء الإثنان خمسة و أقل', 'أي رجل يمكن ان يفشل كثيرا', 'محادثتنا بدأت تعجبني', 'المدير يريد الذهاب.', 'آسفة هلا عذرتني لدقيقة', '-من كنت أخادع؟ -مالذي تريده؟', '-جمال) )', 'كيف تعمل ؟', 'لقد قيل لي أن..', 'سنعقد الاجتماع في وقت لاحق', 'مهلا، شيرلوك معك؟', '-كلا، إنها تريد البقاء', 'أجل ماذا ؟', 'هذا جيد', 'أنت تقتلني يا راندل مرحبا ...', '- لا باس', 'أنت لم نسمع أي شيء منها، هل؟', '-ماذا عن (غانيكوس)؟', 'ثديها؟ حقا؟', 'أتعلمين ما الذي قام به؟', '-منخفضة جدا ؟', '\"السيدة \"دلاسال', '(آدم) من؟', 'يمكننا استخدام ذلك.', 'ثانية واحدة', 'اربطوا أحزمتكم جميعا!', 'أنا بخير', '-إنها بطلة', 'المهم هو, أنا آسف', 'لم أهتم به كثيرا', 'لا , انتم لستم كذلك', 'إخرج من هنا.', 'انه يتعلق بما صدمتيه', 'في أي وقت وصلتي للمنزل؟', '(إيميلي فيتش).', 'أنت تريد.', '- اجل؟', '-كل يوم', '-عزيزي، عزيزي', 'هل لديك مكتب يمكنني استخدامه؟', '\"إننا لا نريد معاقبة أحدا\"', 'ربما عمل لأجلها', '. اقتل ما هو لك , لقتل مشكلتك', 'قلت اذهب من هنا', 'ابوك قال انك طبيعي ايضا', '-أمي، لا تشهقي', 'لماذا؟ ألا تعرف؟', 'خدعني ثانية.', 'أنا معك.', 'وماذا في ذلك بحق اللعنة ؟', 'لقد صعق بواسطة تدخل قدسي.', '-أستطيع عمل ذلك', 'اغلق ( تاناكا ) الطابق بأكمله', 'تعذيب .', 'مرحبا ، ها أنت', 'حلم مخيف , أليس كذلك ؟', 'ضايقه وسيمزقك أربا', 'لماذا إتصلت بي؟', '- كان لديه مزاج -', 'أنت معتل إجتماعيا', '-إنه رجل .', 'أيها الممرض.', 'وفقط نسيت أنا آسف', 'انها بيضه', 'إذا كنت إنسانا, فانت أخر إنسان', '-لا، أبدا', '\"أنت مضحك جدا يا \"كيفن', 'هل هذه مثل اللهجة؟', '، إنها تطير!', 'أهذا حلك؟', 'شكرا لكم، شكرا لكم.', 'ثمة شيء عليك معرفته', 'لقد قتلت صديقي', 'يستريح، والاسترخاء', 'ما زال لديك الكثير، (ميتش).', 'لطيفة جدا', 'شكرا , أنا لست جائعة', '-ولكنني لم اضحك عليك', 'عشرين دقيقة فقط أقسم', 'لكني لم أكن صادقا معك.', 'شريكك؟ لا، زواجه ليس في خطر.', '-لم نحرف الحقائق !', 'هل رأيتم، فتيان؟')]\n",
            "[(' stop', 'tell him mickey', 'how can you tell', 'sorry coulson', 'shes moving', 'god what is it you want of me', ' hey babe how was work', 'no im fine', 'shit i mustve been thinkin of brittany', 'cafe mom', 'im just gonna go take care of this', 'no ill let him have tonight', 'i have a big day tomorrow', ' well no', 'but i call him mc', 'im talking about my wife', 'its funny you know', 'oh youre alive', 'hes a good guy', 'good afternoon sir', 'enable file preview', ' these walls will not protect us oneill', 'hey whats up sergeant pepper', 'no curtain sticking to you', 'how dyou know about her', 'hey joel dont worry', 'heyhow are you', 'what did you see', 'well how come', 'before its too late', 'that there is no meal', 'um actually i think dannys right', ' you think', ' no', 'time heals all wounds', 'but then big brother swooped in', 'i agree', ' after him', 'he was still paying the monthly premium', 'im going to say somewhere in the middle', 'can you do anything with those', 'nick tell me you didnt', 'grab the blinds', 'its very complex', 'economic exploitation', 'a cuginos pizza', 'like i said curious now', ' whos that', 'all right tell you how this is gonna go', 'what did you just say to me', 'yeah no that was uh', 'monica who did this to you', 'house are you sure youre okay', 'i came for you', ' i will look for you there  i love you', 'not the way i see it', 'one thing bothers me', ' i love the way you feel', 'oh was i too rough on you', 'how about me', 'man i love sunsets', 'i saw the woman i heard her crying', 'shooting it in school would be good', 'is that what were calling it now', ' hi sweetie', 'you love your wife mr lewin', 'get out of here', 'i could fall in love with you you know uh', 'what are you doing here', 'so did i', 'hes got the device', ' damn it', 'you know my track record', 'why macdonald', 'its just an experiment', 'they can hash it out', 'could we have a moment alone', 'mp3 files', 'arthur were nearly there', 'as he heads cleverly towards us', 'get up on a microphone there', 'thanks neil', 'whats going on', 'how was that possible', 'please do in fact', 'this one is waking up', 'and you have', 'did you give that girl another one', 'listen to them do what they say', 'almost too successful', 'but for naturals', 'then i will give you 10 million from it', 'all he wants is the bank', 'no im', 'honestly kamath this doesnt suit you', 'and you guys are hi', ' dont get tense', 'it builds character', ' what period is it from', 'yes but you can', 'so what can i do for you', 'the troubles they just come', 'we are and there is excellent ridge detail', 'fucking do it', 'jay are really hitting it off yeah', 'do you know whats going on in there', 'save yourself', ' well how do we fix this', 'no i dont think so', 'i discover treasure', 'always so goddamn hot you know', 'what do you like', 'hes next to you but with one arm around you', 'i cant believe it', ' were going ahead with the freezing', 'the precise amount of power necessary', 'i love you shit', 'enough to go around', 'he was there', 'let every', 'which is it', 'remember the dussera fair', 'completely and utterly', 'your name', 'tonight or i kill the girl in the dungeon', 'but thats not my business', 'a chitchat coffee klatch', 'then come back', 'and the night before', 'you do not know you do not know', 'my mum is really devoted to me', 'sarah just freaks out', 'shell be taking mr steubens desk', 'how did you do it', 'i was going to say contemplative', 'theres that bed in the corner', 'well what do you say otis', 'well in your business im not surprised', 'fuck fuck fuck williamson', 'your honor i move that', ' head for the tunnels', 'you look a little nervous', ' byron watkins', ' what about that one girl', 'youre a lefty huh thats right', 'youre a good boy arent you', 'this was your idea', 'owen can you hear me dad', ' the kid with cerebral palsy  yeah', 'he is a cautious man', 'dont you see', 'im sorry but that is honestly adorable', 'why dont you care', 'you are so wrong', 'fifth committee', 'youre not going to find anything', ' fort wayne', 'go quick', 'okay lemmings', 'im gonna keep an eye on', 'what the hell is that for', 'hold on ill take care of this', 'im not a fanatic', 'very creepy', ' ok take it easy', 'you know what i think', 'lagertha bjorn is very happy here', 'he said you were the light of his life', 'im dead ohhoho', 'i was in ohio', 'my satphone', 'you left me', 'you wont be harmed', ' wait wait', 'i am a good father', 'access granted', 'ive never seen such a tough bitch', 'i could lose my license', 'sir lets go', ' why are you doing this', 'you can wait a little while right', 'dont put it in your pocket sir', 'no not exactly', 'yes you can', 'whos blowing up nelson', 'yeah its really nice', 'winner  sykov', 'asked for a bigger cut', 'i mean does he need structure', 'ill holster this', 'an accident', 'its a job its not who we are', ' if i get fired i get fired', ' next message  come on there you go', 'you might feel offended but', 'im not familiar with it', 'i repeat raise the shield', 'why would they bandage a dead man', 'thank you for those', ' you like it', 'i did', 'aunt mel are you trying to burp me', 'theres nothing in there', 'thank you im expecting one more', 'try the downbeat honey', 'lets go dont be afraid to use deadly force', 'ive been through this', 'sometimes im so damn good i scare myself', 'but youre gonna have to answer me', 'and that wasnt right either', 'thats different', 'are you sure about that', 'no dont', 'hes up', 'where do you want it', 'and living next door to me', 'see him together', 'right then  time sync', 'hes killing people and wrecking my life', 'but lord if we pay this ransom', 'dear god', 'make that four yes', 'subsistence farming is drying up basically', 'no big deal', 'having grown up in the city', 'ive done it both ways', 'mr and mrs eshelman', 'no actually this is quite interesting', 'you want to finish him together', 'all six of you', 'i must say im surprised', 'i got something for you right now', 'hey look garfields dancing with odie', ' hey', ' the one with the sick asses yeah hes good', ' calm down', 'i forgot i have an appointment', 'its so embarrassing', 'it was an accident', 'you can walk', 'thats a very clever idea', 'who are you', 'prison its the 70s frank', 'hi hi mom', 'listen to me daeng', 'yep sounds good', 'i trust them all', 'where did you learn all those things', ' no through example', ' why not ', 'be careful', 'how is masashi', 'the perfect shot too', 'do you want to know their names', 'hows lenny kravitz', 'god damn it', 'not interested', 'ourchart yeah', ' i dont', 'i know here you go', 'audrey you made it', 'ministry of transport', 'youre in paris well look im', 'the payoff accounts', 'can you give me a hand', 'ja ja oui oui si si', 'you mean my fathers ghost right', 'it came', ' butterfly', 'youre a horrible little man', 'maybe we shouldnt', 'natalie natalie heres what happened', ' why are you telling me this', 'oh its simple really', 'youre totally ruining the vibe', ' dreaming when the skies are blue', 'come on pick it up have a taste of this ', 'harrylistensomethings happened', 'why dont you just mind your own business', 'how many years old', 'no but dont stop twisting', 'yeah whatever', 'he existed outside of time', 'thats kagami first grader', 'oh are you', 'this is what im talking about you play this', 'daddy gonna give you some too', 'and your mother knows that something is up', 'some gift', 'they knew i was here', 'ive made plenty of clocks', 'our kids are tools', 'sanctify this vessel', 'baby peggys parents settled', 'okay you know what', 'if you can only live', 'that shit aint shit', 'shes a hard worker', 'i already got one of those', ' bye liam', 'say nothing ziva', 'all right', 'lock myself up in the room', 'um will this is', 'well im getting out of that business', 'i dont feel like a game', 'and in every molecule of our dna', 'resource requirements', 'you do what you want', 'hey we dont mean you any harm', 'funny ones scary ones', 'she dont mean it darlin', 'hes dead', 'i think there will be possible', ' and you know vida', ' whats that', 'what happened in here this morning', 'all two million of them', 'nobody can beat these', 'you know come on now', ' there is one  i saw it first', ' i brought you hot water', 'the main one it connects to the others', 'can i get you something', 'does he know me', 'chief boden', 'wanna come in for dinner', 'thats the problem', 'she was living there', 'was the technology excellent', 'more than anything in the world', 'perhaps not if you say so', 'tell me the reason', 'then we have numbers', 'healing is a process a slow process', 'see you tomorrow', 'he brought you a present', 'wait for my command', 'no reason', '  oh god', 'i kind of did my speech', 'were a fleeting shadow', 'were going for a drive', 'thank you', 'a reject a weirdo', 'kite x and x slots', 'he didnt do it', 'can you id him', 'i cant understand what youre saying', 'im gonna need your help remembering that', 'pretty awful', 'you know a lot about this stuff', 'no it was the truth', 'you know im ill', 'you completely fooled her', 'orlando stays with me', 'so which is it', 'dont go its a trap', 'what are we a couple miles inland', 'selects the color of liquid elements', 'darling darling', ' very practical', ' and then', 'he thinks were ugly', 'it is yours', 'wed have jousted over her', 'ooh is it on straight i dont know  boo', 'kenny its randy', 'thats no kind of life', ' how would i know', 'good morning prez', 'what do you say', 'what else you get out of him', 'and you dont now', ' no look its very nice', 'what is the pay', 'destroys the chair just entertainment', 'where did you get your weapons from', 'which is why we always dive with a buddy', 'why dont you get yourself settled', 'she hated queens boulevard', 'i beg you dont leave', 'have you been following me', 'she is dead', 'dont drive stupid', 'at least share a drink with me', ' he fell down the stairs', 'its pretty', 'would that i had been you for but a day', 'we were strong', ' rude', ' incest', 'stay away', 'you read the entire library of congress', 'come on come on', 'wheres that', 'she wanted to show me something', 'hey good to know', 'yeah for years', 'room service'), ('-توقف !', 'أخبره يا ميكي', 'كيف عرفتي ذلك؟', '(آسف، يا (كولسون', '-إنها تتحرك\" \"', 'يا إلهي،ما الذي تريده مني؟', 'مرحبا كيف العمل ؟', 'لا، أنا بخير.', 'تبا, علي التفكير كبريطاني', 'قهوة ، أمي ؟', 'سوف أذهب لأهتم بهذا', 'سأتركه ينعم بهذه الليلة', 'بالطبع لدي يوم كبير غدا', '-حسنا... لا', '...لكنني أدعوه', '- إنني أتحدث عن زوجتي - أوه ..', 'انه ممتع, اتعلمي؟', 'أنت حية.', 'إنه رجل جيد.', 'مساء الخير يا سيدي.', 'تفعيل عرض الملف', '-هذه الجدران لن تحمينا,أونيل', 'مهلا، ما متروك، الرقيب الفلفل؟', 'لا ستائر تلتصق بك.', 'ما أدراك بأمرها؟', 'جويل, لا تقلق', 'كيف حالك؟', 'ماذا رأيت؟', 'حسنا، كيف جئتي ؟', 'قبل أن يتأخر الوقت', 'تلك ليست وجبة', 'في الحقيقة اعتقد ان داني) محق)', '-أتظن ذلك؟', '- لا!', 'الوقت يداوي الجروح', 'لكن عندئذ جاء أخي فجأة.', 'اتفق معك', '- بعد له!', 'كان لا يزال يدفع المال', 'أظنها في مكان ما في المنتصف', 'هل يمكنك فعل أي شيء بهؤلاء ؟', 'نيك اخبرني انك لم تفعل ذلك', '. إفتح الستائر', 'معقد... للغاية.', 'الاستغلال الاقتصادي', 'بيتزا من \"كوجينو\"', 'كما قلت، أشعر بالفضول الآن.', '-كلا -من يكون؟', 'حسنا سأخبرك كيف سيتم ذلك', 'مالذي قلته لي لتوك ؟', 'نعم .. كان هذا .. آمم', '-من فعل هذا بك يا (مونيكا)؟', 'هاوس)، أواثق أنك بخير؟ )', 'أتيت لأجلك', 'سابحث عنك هناك انا احبك', 'لكن هذه ليست وجهة نظري', 'شيء واحد يضايقني:', '- أنا أحب الطريقة التي تشعر.', 'هل كنت قاسيه جدا نحوك؟', 'ماذا عني أنا', 'أحب غروب الشمس', 'لقد رأيت المرأة، وسمعتها تبكي.', 'تصويره في المدرسة سيكون رائع', 'أهذا ما نطلقه عليه الآن؟', '- مرحبا ياحلوة', 'أتحب زوجتك، سيد (لوين)؟', 'اذهب من هنا.', 'سأقع في الحب', 'ماذا تفعلين هنا؟', '-وكذلك أنا .', 'إن الجهاز بحوزته', '. اللعنة', 'تعرف سجلي الباهر.', 'لماذا (ماكدونالد) ؟', 'مجرد تجربة', 'لكي يستطيعا أن يتحدثا مع بعض', 'هلا تركتنا لوحدنا قليلا؟', 'ملفات صوتية.', 'نحن تقريبا هناك', '- بذكاء يتجه نحونا', 'إقترب من مكبر الصوت هناك', 'شكرا, (نيل).', 'مالـذي يحدث؟', 'كيف يعقل هذا؟', 'افعل ذلك رجاء في الحقيقة', 'لقد بدأ هذا يستفيق!', 'وقد فعلت', 'هل أعطيت تلك الفتاة شراب آخر؟', 'استمع اليهم وافعل ما يقولونه', 'تقريبا ناجحة جدا', 'لكن بالنسبة للطبيعيين؟', 'ساعطيك منها بليون.', 'كل ما يريده هو المصرف', '...لا, فأنا...', 'بامانة (كاماث) هذا لا يناسبك', '...وأنتم يا رفاق مرحبا', '-لا تتوتر .', 'ذلك يقوي الشخصية', '-من أية فترة تعتقدين؟', 'نعم ،، لكنك أنت تستطيعين', 'أذا ؟ لك أفعل أن يمكنني ماذا', 'الاضطرابات فقط تاتي', 'أجل وهناك تفاصيل خيطية ممتازة', 'اللعنة !', 'يقوم (جاي) بعمل رائع نعم', 'هل تعلمين ماذا يجري؟', 'أنقذ نفسك', '- حسنا، كيف يمكننا إصلاح ذلك؟', 'لا ، لا اظن هذا', 'أنا أكتشف الكنز', 'دائما ملتهب جدا , انت تعلم', '- ماذا تحب ؟', 'هو بجوارك ولكن بذراعه حولك', 'لا أصدق الأمر', 'سنقوم بعملية التجميد', 'لكمية الطاقة اللازمة', 'أحبك, تبا', 'عدد كافي للإلتفاف', 'لقد كان هناك...', '...دعوا كل\"', 'ما هو؟', 'هل تتذكر في عيد ديسهري؟', 'تماما وتماما.', 'اسمك؟ -', 'الليلة أو سأقتل الفتاة بالقبو', 'وهذا ليس اختصاصي', 'طاولة لشرب القهوة و الدردشة', 'ثم يعود.', 'والليلة قبلها ؟', 'لا تعلم، أحقا لا تعلم؟', 'لذلك فأمي تكرس نفسها لي', 'سارة فزعت من دون سبب.', '(ستأخذ مكتب السيد (ستيوبن', '-كيف فعلت ذلك؟', 'كنت سأقول تبدين نازعة للتأمل.', 'هنالك ذلك السرير عند الزاوية', 'حسنا .. ماذا تقول يا أوتيس ؟', 'حسنا في مجال عملك لست متفاجئ', 'تبا, تبا, تبا وليامسون', 'معاليك... أجل', '-اتجهوا للأنفاق ! -الشاحنة !', 'تبدين متوترة قليلا', 'بايرون واتكينز ) ؟', '-وماذا عن هذه الفتاة؟', '-أنت أعسر، صحيح؟', 'أنت كلب عاقل، أليس كذلك؟', '...لقد كانت فكرتك', '-أوين)، أيمكنك أن تسمعني؟', 'الطفل صاحب الشلل العقلي ؟', 'انه رجل حذر جدا.', 'ألا ترون؟', 'أنا آسفة، لكن هذا لطيف للغاية', 'لم لا تهتم أنت؟', 'إنك مخطئ لأبعد حد!', 'اللجنة الخامسة', 'لن تجد أي شيء', '- مدينة (فورت واين', 'أذهب بسرعة', 'حسنا، القوارض.', 'سوف أبقي عيني عليها', 'ما الغرض من هذا بحق الجحيم؟', 'انتظري انا سأعتني بهذا', 'لست متعصبا', 'أمر مخيف للغاية', '- حسنا، خذي الأمور بهدوء.', 'تعلمين بماذا أفكر؟', '-بيون) سعيد جدا هنا) .', 'لقد قال انك نور حياته', 'أنا ميت!', 'لقد كنت في [أوهايو]', 'هاتف القمر الصناعي', 'ـ لقد هجرتني', 'لن تتأذي', '-إنتـظر ، إنتظر ...', 'كما لا تتمكن من حماية ابنتك', 'الوصول , منح', 'لم اقابل عاهرة عنيدة هكذا', 'ممكن ان اخسر رخصتي.', 'سيدي، لنذهب.', '-لماذا تفعل ذلك؟', 'بوسعك الإنتظار قليلا ، صحيح؟', 'لا تضعها في جيبك - ماذا ؟', 'كلا .. ليس تماما', 'بل يمكنك', 'من يزعج (نيلسون) ؟', 'نعم , إنه حقا لطيف', 'الفائز، (زايكوف)', 'و طلب نسبة أكبر', 'يعني، انه لا حاجة هيكل؟', 'سأضع هذا جانبا.', 'حادث ؟', 'هو شغل ليس من نحن', 'ـ إذا تم فصلي, تم فصلي.', 'الرسالة التالية - هيا -', 'ربما تكونين مستاءه', 'لا أعرفه.', 'أكرر، ارفعوا الدرع', 'لم قد يقوموا بتضميد رجل ميت؟', 'شكرا لأولئك.', 'اعجبتك ؟', 'نعم , لقد فعلت', 'العمة ميل، تحاول أن تجشؤ لي؟', 'لا يوجد شيء هناك', 'شكرا لك انا انتظر شخصا اخر', 'جربي الواطئة،عزيزتي.', 'لا تخافوا من استخدام قوة مميتة', 'لقد مررت بذلك', 'احيانا اكون بارعا لدرجة مخيفة', 'ولكن عليك ان تجيبني', 'وكان ذلك ليس صحيحا أيضا', 'هذا مختـلـف', 'هل أنت متأكدة من ذلك؟', 'لا ، لا تتوقف', 'لقد وقف', 'أين تريدينها؟', 'وتعيش في البيت المجاور لي.', '-ذهبنا. لرؤيته، سويا', 'حسنا - اضبطوا التوقيت', 'إنه يقتل الناس، و يدمر حياتي', 'لكن يا سيدي إن دفعنا الفدية', 'يا إلهي العزيز.', '.إجعلي هذا أربعة - .أجل -', 'زراعة الكفاف تكاد تنقرض', 'ليس شيئا مهما', 'الترعرع في مدينة', 'لقد فعلتها بالطريقتين.', 'السيد والسيدة ايشلمان.', 'انتظر ! -لا , هذا ممتع تماما', 'أتريدين الإجهاز عليه معا ؟', 'جميعكم الستة', 'علي أن أقول بأنني متفاجئ', 'لدي شيء لهذا الأن', 'أنظري، جارفيلد يرقص مع أودي', '-مرحبا -مرحبا , ابي', '-المؤخرات الرهيبة؟', 'ـ أهدأ ـ أهدأ؟', 'لقد نسيت, لدي موعد.', 'هذا محرج جدا', 'لقد كان حادث', 'يمكنك المشي', 'هذه فكرة ذكية للغاية.', 'من أنت ؟', 'السجن أنها السبعينيات يا فرانك', 'هلا مرحبا أمي', '. (إستمع الي ، (ديانج', 'نعم، يبدو جيدا.', 'أثق بهم جميعا', 'من أين تعلمت كل هذا؟', '- لا عبر تقديم النموذج الجيد', '- لم لا؟', 'كن حذرا.', '...كيف حال مساشي', 'رصاصة مثالية ايضا', 'هل تريد معرفة أسمائهم؟', 'كيف حال (ليني كرافيتز)؟', 'اللعنة عليك', 'لست مهتمة', '\" أور تشارت \" أجل', '-أنا لا أعتذر .', 'اعلم, ها نحن ذا', 'لقد نجحت يا اودري', 'وزارة النقل', 'أنتما في \"باريس\"، أنا ..', 'حسابات الرشوة', 'هل تساعدينني؟', 'كلام فارغ', 'تعني شبح أبي، حق؟', 'لقد وصل حقا؟', '-فراشة! فراشة !', '-أنت رجل صغير فظيع .', 'ربما ليس علينا بعد الآن.', 'ناتالي ، ناتالي هنا ماحدث', 'لماذا تخبرني هذا ؟', '-أنا بسيطة حقا ', 'أنتم تفسدون الجو تماما.', 'أحلم عندما تكون السماء زرقاء', 'هيا إرفعهما ، تذوق هذه', '-هاري)، اسمعي، لقد حدثت حادثة)', 'لم لا تهتمين بشؤونك فقط؟', 'كم عمرها؟', 'لا .. لكن لا تكفي عن البحث', 'نعم, أيا  كان', 'لقد عاش خارج نطاق الزمن.', 'ذلك \"كاغامي\", في الصف الأول.', 'هل أنت؟', 'هذا ما اتحدث عنه', 'والدكم سيعطيكم البعض أيضا', 'وأمك تعلم أن شيئا ما يحدث.', 'يالها من هبة !', 'لقد علموا انني هنا', 'لقد صنعت الكثير من الساعات', 'اطفالنا متحايلين', '\"طهر هذا الوعاء الدموي\".', 'والدا الطفله بيغي اتما تسويه', 'حسنا، أوتعلمين؟', '...إذا تسطتيع أن نعيش فقط', 'تلك القذارة ليست بقذارة', 'أنها عاملة جادة', 'انا عندي واحدة.', '- وداعا، ليام!', '(لا تقولي شيئا (زيفا', 'كل الحق؟', 'أحبس نفسي في الغرفة؟', '(ويل)، هذا السيد...', 'حسنا، أنا خارج هذه الأعمال.', 'أنا لا أحس بانها لعبة', 'و في كل جزيء في حمضنا النووي.', 'الاحتياجات من الموارد', 'افعل ما تريد', '.أنت ! ، نحن لم نقصد إيذائك', 'واحدة مضحكة ...', 'لم تقصد شيئا يا عزيزتي.', 'إنه ميت', 'هذا مستحيل', '-و أنت تعرف فايدا', '-وما هو؟', 'ماذا حدث هنا هذا الصباح ؟', 'جميع المليونين منهم', 'الكريم... أوه!', 'تعرف كيف كفاك', 'هناك واحد أنا رأيته أولا', '-أحضرت لك ماء دافئا', 'الرئيسية، إنها ترتبط بالبقية.', 'هل يمكنني أن أجلب لك شيئا؟', '-هل يعرفني؟', '(أيها القائد (بودين', 'أتود المجيء لتناول العشاء ؟', 'هذه هي المشكلة', '... كانت تعيش هناك', 'هل كانت التكنولوجيا ممتازة؟', 'أكثر من أي شيء في العالم حقا؟', 'ربما ليس إذا كان هذا رأيك', 'قل لي ماهو', 'إذا نحن نفوقهم عددا', 'و عملية بطيئة', 'أراك غدا', '-لقد أحضر لك هدية', 'انتظروا أوامري!', 'دون سبب', 'يا إلهي', 'نوعا ما ألقيت خطابي الخاص.', 'نحن ظلال سريعة الزوال', 'سنذهب في جولة', '-شكرا لك .', 'مرفوض غريب الاطوار', '(كايتو) ونوافذه', 'هو لم يفعل هذا', 'أمكنك التعرف عليه؟', 'لا أفهم ما تقول', 'سوف احتاج مساعدتك بتذكر هذا', 'فظيع جدا.', '-تعرفين الكثير عن هذه الأشياء', 'لا,أنها كانت الحقيقة -', 'كنت أعرف أنني مريض.', '! انت خدعتها كليا', '-أورنالد) سيبق معي) .', 'فأيهما تكون؟', 'لا تذهب .', 'هل تعمقنا ميلين؟', 'يختار اللون من', 'عزيزتي، عزيزتي!', '- عملية جدا', '-وبعد ذلك؟', '-يجدنا قبيحتان', 'أنه ملكك', 'سيكون لدينا محكمة ضد بعضنا', 'آه ،هل ذلك مرتب ،لا اعرف، آه', '(كيني) معك (راندي)', 'هذا ليس نوع من الحياة', '-كيف لي أن أعرف؟', 'صباح الخير ,أيتهـا الرئيسة!', 'ما رأيكم ؟', 'ماذا أيضا لدينا حوله؟', 'و لا تصدقين هذا الآن؟', 'ـ كلا، انظر، إنه بالغ الروعة.', '- ما الثمن ؟', 'يدمر كرسي الترفيه فقط.', 'من أين جلبت أسلحتك ؟', 'والذي يفرض علينا الغوص مع رفيق', 'لماذا لا تستقرين بحياتك ؟', 'لقد كرهت (كوينز بولفارد)', 'أتوسل إليك, أن لا تتركيني.', 'هل كنت تراقب تحركاتي؟', 'إنها ميتة', 'لا تقودي السيارة بغباء', 'أقلها اشرب كأسا معي', '-لقد سقط من السلالم .', 'إنها جميلة', 'ربما أتملك قلبك في يوم ما', 'كنا أقوياء.', '- وقح.', '- نعم.', 'أبتعدي عني', 'لقد قرأت مكتبة الكونغرس كاملة', 'هيا ، هيا', 'وأين هذا؟', 'أرادت أن تريني شيء ما', 'حسنا, من الجيد معرفة ذلك', 'نعم, منذ سنوات', 'خدمة غرف.')]\n"
          ]
        }
      ],
      "source": [
        "for batch_num, batch in enumerate(iterator):\n",
        "    print(batch)\n",
        "    if batch_num > 3:\n",
        "        break"
      ]
    },
    {
      "cell_type": "markdown",
      "id": "8e84391e",
      "metadata": {
        "id": "8e84391e"
      },
      "source": [
        "## Training"
      ]
    },
    {
      "cell_type": "code",
      "execution_count": 42,
      "id": "ae719142",
      "metadata": {
        "id": "ae719142"
      },
      "outputs": [],
      "source": [
        "transformer = Transformer(d_model, ffn_hidden,num_heads, dropout_rate, num_layers, max_seq_len,len(index_to_arabic),english_to_index,arabic_to_index,\n",
        "                          START_TOKEN, END_TOKEN, PADDING_TOKEN)"
      ]
    },
    {
      "cell_type": "code",
      "execution_count": 43,
      "id": "0dd54461",
      "metadata": {
        "id": "0dd54461"
      },
      "outputs": [],
      "source": [
        "criterian = nn.CrossEntropyLoss(ignore_index = arabic_to_index[PADDING_TOKEN], reduction='none')\n",
        "\n",
        "for params in transformer.parameters():\n",
        "    if params.dim() > 1:\n",
        "        nn.init.xavier_uniform_(params)\n",
        "\n",
        "optim = torch.optim.Adam(transformer.parameters(), lr=learning_rate)\n",
        "device = torch.device('cuda') if torch.cuda.is_available() else torch.device('cpu')"
      ]
    },
    {
      "cell_type": "code",
      "execution_count": 44,
      "id": "f33db8dc",
      "metadata": {
        "colab": {
          "base_uri": "https://localhost:8080/"
        },
        "id": "f33db8dc",
        "outputId": "071fd088-8501-492a-d224-bcc8815d9220"
      },
      "outputs": [
        {
          "name": "stdout",
          "output_type": "stream",
          "text": [
            "Epoch 0\n",
            "1369\n",
            "Iteration num: 0 , training loss: 6.036006450653076\n",
            "English: and this\n",
            "Arabic Translation: و هذه؟\n",
            "Arabic Prediction: ۀۀۀۀۀۀۀۀۀ~ۀۀۀۀۀۀۀۀۀۀۀۀۀۀۀۀۀۀۀۀۀۀۀۀۀۀۀ٤ۀس*ۋس~ۀ\n",
            "Iteration num: 100 , training loss: 3.305302381515503\n",
            "English: you gotta keep going\n",
            "Arabic Translation: عليك أن تستمر بالهرب\n",
            "Arabic Prediction:        ا ل  ل  ل                        ا  ا \n",
            "Iteration num: 200 , training loss: 3.289287805557251\n",
            "English: i did\n",
            "Arabic Translation: نعم فعلت\n",
            "Arabic Prediction:                      اا     ا  ا             \n",
            "Iteration num: 300 , training loss: 3.3027591705322266\n",
            "English: its here its here\n",
            "Arabic Translation: \"إنها هنا، إنها هنا\"\n",
            "Arabic Prediction:    ا     ا         ا             ا    ا   ا  \n",
            "Iteration num: 400 , training loss: 3.1072630882263184\n",
            "English: garrett was a madman\n",
            "Arabic Translation: \"غاريت\" كان مجنونا\n",
            "Arabic Prediction:       ا       ا ا\n",
            "Iteration num: 500 , training loss: 3.0382425785064697\n",
            "English:  youre sorry\n",
            "Arabic Translation: -أنت آسف؟\n",
            "Arabic Prediction: --      .\n",
            "Iteration num: 600 , training loss: 2.948789596557617\n",
            "English: what is he after\n",
            "Arabic Translation: . ما الذي يخطط له ايضا\n",
            "Arabic Prediction: -ا            ا\n",
            "Iteration num: 700 , training loss: 2.85663104057312\n",
            "English:  put out the fire in your head \n",
            "Arabic Translation: ؟ ضع خارجا النار في رأسك؟\n",
            "Arabic Prediction: للل      ا           ااا؟\n",
            "Iteration num: 800 , training loss: 2.65134596824646\n",
            "English: yours or uh your wifes\n",
            "Arabic Translation: أهي لك أم لزوجتك؟\n",
            "Arabic Prediction: أل  أأ أأأأ  ل ي.\n",
            "Iteration num: 900 , training loss: 2.2550885677337646\n",
            "English: small arms control\n",
            "Arabic Translation: تحديد الأسلحة الصغيرة\n",
            "Arabic Prediction: سسسس  اللتا   الليل\n",
            "Iteration num: 1000 , training loss: 1.6744388341903687\n",
            "English: c keeping of official registers\n",
            "Arabic Translation: (ج) وضع سجلات رسمية\n",
            "Arabic Prediction: ()) (دة موااء باااة\n",
            "Iteration num: 1100 , training loss: 1.3519893884658813\n",
            "English: e transport law\n",
            "Arabic Translation: هاء- قانون النقل\n",
            "Arabic Prediction: هاء- تنننن النقايااااااااامااااااااااااممااما\n",
            "Iteration num: 1200 , training loss: 1.0716540813446045\n",
            "English: see further section e below\n",
            "Arabic Translation: وانظر كذلك القسم هاء أدناه.\n",
            "Arabic Prediction: كاننر كذلك الووذ هك  أكاا..\n",
            "Iteration num: 1300 , training loss: 1.1203678846359253\n",
            "English: our future doesnt have to be imagined\n",
            "Arabic Translation: مستقبلنا لا يجب أن متخيلا\n",
            "Arabic Prediction: إستطبلاا يي سسس أن تتلللا\n"
          ]
        }
      ],
      "source": [
        "transformer.train()\n",
        "transformer.to(device)\n",
        "total_loss = 0\n",
        "\n",
        "for epoch in range(num_epochs):\n",
        "    print(f\"Epoch {epoch}\")\n",
        "    iterator = iter(train_loader)\n",
        "    print(len(iterator))\n",
        "    for batch_num, batch in enumerate(iterator):\n",
        "        transformer.train()\n",
        "        eng_batch, ar_batch = batch\n",
        "        optim.zero_grad()\n",
        "        if(len(ar_batch)!=batch_size): break\n",
        "        ar_predictions = transformer(eng_batch,ar_batch)\n",
        "        labels = transformer.dec_sentence_embedding.batch_tokenize(ar_batch, start_token=False, end_token=True)\n",
        "        loss = criterian(\n",
        "            ar_predictions.view(-1, len(arabic_voc)).to(device),\n",
        "            labels.view(-1).to(device)\n",
        "        ).to(device)\n",
        "        valid_indicies = torch.where(labels.view(-1) == arabic_to_index[PADDING_TOKEN], False, True)\n",
        "        loss = loss.sum() / valid_indicies.sum()\n",
        "        loss.backward()\n",
        "        optim.step()\n",
        "        #train_losses.append(loss.item())\n",
        "        if batch_num % 100 == 0:\n",
        "            print(f\"Iteration num: {batch_num} , training loss: {loss.item()}\")\n",
        "            print(f\"English: {eng_batch[0]}\")\n",
        "            print(f\"Arabic Translation: {ar_batch[0]}\")\n",
        "            ar_sentence_predicted = torch.argmax(ar_predictions[0], axis=1)\n",
        "            predicted_sentence = \"\"\n",
        "            for idx in ar_sentence_predicted:\n",
        "              if idx == arabic_to_index[END_TOKEN]:\n",
        "                break\n",
        "              predicted_sentence += index_to_arabic[idx.item()]\n",
        "            print(f\"Arabic Prediction: {predicted_sentence}\")\n",
        "\n",
        "            transformer.eval()\n"
      ]
    },
    {
      "cell_type": "code",
      "execution_count": null,
      "id": "ZsxvwO74NlNO",
      "metadata": {
        "colab": {
          "base_uri": "https://localhost:8080/"
        },
        "id": "ZsxvwO74NlNO",
        "outputId": "8f17af36-b174-4494-a5f3-df46cc828ba2"
      },
      "outputs": [
        {
          "name": "stdout",
          "output_type": "stream",
          "text": [
            "Epoch 0\n",
            "1369\n",
            "Iteration num: 0 , training loss: 1.03951096534729\n",
            "English: and this\n",
            "Arabic Translation: و هذه؟\n",
            "Arabic Prediction: و هذها\n",
            "Iteration num: 100 , training loss: 0.8189812302589417\n",
            "English: you gotta keep going\n",
            "Arabic Translation: عليك أن تستمر بالهرب\n",
            "Arabic Prediction: علكك أن تتتار بالجرب\n",
            "Iteration num: 200 , training loss: 0.7353418469429016\n",
            "English: i did\n",
            "Arabic Translation: نعم فعلت\n",
            "Arabic Prediction: نعم ف\n",
            "Iteration num: 300 , training loss: 0.7282065153121948\n",
            "English: its here its here\n",
            "Arabic Translation: \"إنها هنا، إنها هنا\"\n",
            "Arabic Prediction: .إنها هنا، إنهذ هل  اهه-ههاهههههمههه-هههههههه\n",
            "Iteration num: 400 , training loss: 0.6034501194953918\n",
            "English: garrett was a madman\n",
            "Arabic Translation: \"غاريت\" كان مجنونا\n",
            "Arabic Prediction: \"حاريت\" كان مجنونا\n",
            "Iteration num: 500 , training loss: 0.6089304089546204\n",
            "English:  youre sorry\n",
            "Arabic Translation: -أنت آسف؟\n",
            "Arabic Prediction: -أنا آسف؟\n",
            "Iteration num: 600 , training loss: 0.5646094083786011\n",
            "English: what is he after\n",
            "Arabic Translation: . ما الذي يخطط له ايضا\n",
            "Arabic Prediction: . ما الذي يخط  لي\n",
            "Iteration num: 700 , training loss: 0.541989803314209\n",
            "English:  put out the fire in your head \n",
            "Arabic Translation: ؟ ضع خارجا النار في رأسك؟\n",
            "Arabic Prediction: ه عع خارها الاا  في سأبك؟\n",
            "Iteration num: 800 , training loss: 0.5373777151107788\n",
            "English: yours or uh your wifes\n",
            "Arabic Translation: أهي لك أم لزوجتك؟\n",
            "Arabic Prediction: أهي لك أم لدوثتك؟\n",
            "Iteration num: 900 , training loss: 0.5340385437011719\n",
            "English: small arms control\n",
            "Arabic Translation: تحديد الأسلحة الصغيرة\n",
            "Arabic Prediction: تجدية الأسلحة الصغيةة\n",
            "Iteration num: 1000 , training loss: 0.4428241550922394\n",
            "English: c keeping of official registers\n",
            "Arabic Translation: (ج) وضع سجلات رسمية\n",
            "Arabic Prediction: (ج) وعع سجلا  رحمية\n",
            "Iteration num: 1100 , training loss: 0.45009374618530273\n",
            "English: e transport law\n",
            "Arabic Translation: هاء- قانون النقل\n",
            "Arabic Prediction: هاء- قانون النقيياااااااااااااااااااااااااااا\n",
            "Iteration num: 1200 , training loss: 0.3567756116390228\n",
            "English: see further section e below\n",
            "Arabic Translation: وانظر كذلك القسم هاء أدناه.\n",
            "Arabic Prediction: وانرر كذلل القبم هاه أكنهه.\n",
            "Iteration num: 1300 , training loss: 0.4379473030567169\n",
            "English: our future doesnt have to be imagined\n",
            "Arabic Translation: مستقبلنا لا يجب أن متخيلا\n",
            "Arabic Prediction: خستببباا اا غجب أن تتنيلا\n",
            "Epoch 1\n",
            "1369\n",
            "Iteration num: 0 , training loss: 0.46752840280532837\n",
            "English: and this\n",
            "Arabic Translation: و هذه؟\n",
            "Arabic Prediction: و هذه؟\n",
            "Iteration num: 100 , training loss: 0.40256595611572266\n",
            "English: you gotta keep going\n",
            "Arabic Translation: عليك أن تستمر بالهرب\n",
            "Arabic Prediction: عليك أن تستمر بالهرب\n",
            "Iteration num: 200 , training loss: 0.40851718187332153\n",
            "English: i did\n",
            "Arabic Translation: نعم فعلت\n",
            "Arabic Prediction: نعم فن\n",
            "Iteration num: 300 , training loss: 0.41839298605918884\n",
            "English: its here its here\n",
            "Arabic Translation: \"إنها هنا، إنها هنا\"\n",
            "Arabic Prediction: \"إنها هنا، إنها هل \n",
            "Iteration num: 400 , training loss: 0.37473374605178833\n",
            "English: garrett was a madman\n",
            "Arabic Translation: \"غاريت\" كان مجنونا\n",
            "Arabic Prediction: (غاريتي كان مجنونا\n",
            "Iteration num: 500 , training loss: 0.39519351720809937\n",
            "English:  youre sorry\n",
            "Arabic Translation: -أنت آسف؟\n",
            "Arabic Prediction: -أنت آسف؟\n",
            "Iteration num: 600 , training loss: 0.3529302775859833\n",
            "English: what is he after\n",
            "Arabic Translation: . ما الذي يخطط له ايضا\n",
            "Arabic Prediction: . ما الذي يخطط لللاللا\n",
            "Iteration num: 700 , training loss: 0.34037551283836365\n",
            "English:  put out the fire in your head \n",
            "Arabic Translation: ؟ ضع خارجا النار في رأسك؟\n",
            "Arabic Prediction: ؟ ضع ااراا النار فيرفأكك؟\n",
            "Iteration num: 800 , training loss: 0.3479725420475006\n",
            "English: yours or uh your wifes\n",
            "Arabic Translation: أهي لك أم لزوجتك؟\n",
            "Arabic Prediction: أهي لك ,م لزوجتك؟\n",
            "Iteration num: 900 , training loss: 0.33895641565322876\n",
            "English: small arms control\n",
            "Arabic Translation: تحديد الأسلحة الصغيرة\n",
            "Arabic Prediction: تحديد الأسلحة الصف\n",
            "Iteration num: 1000 , training loss: 0.3027274012565613\n",
            "English: c keeping of official registers\n",
            "Arabic Translation: (ج) وضع سجلات رسمية\n",
            "Arabic Prediction: (ج) وضع (جلات رسمية\n",
            "Iteration num: 1100 , training loss: 0.2977748513221741\n",
            "English: e transport law\n",
            "Arabic Translation: هاء- قانون النقل\n",
            "Arabic Prediction: هاء- قانون النقاا\n",
            "Iteration num: 1200 , training loss: 0.24393011629581451\n",
            "English: see further section e below\n",
            "Arabic Translation: وانظر كذلك القسم هاء أدناه.\n",
            "Arabic Prediction: وانظر ذذلك القحم هال أهناه.\n",
            "Iteration num: 1300 , training loss: 0.2635910212993622\n",
            "English: our future doesnt have to be imagined\n",
            "Arabic Translation: مستقبلنا لا يجب أن متخيلا\n",
            "Arabic Prediction: مستببلكا اا يجب أن ختخيلا\n",
            "Epoch 2\n",
            "1369\n",
            "Iteration num: 0 , training loss: 0.3829876482486725\n",
            "English: and this\n",
            "Arabic Translation: و هذه؟\n",
            "Arabic Prediction: و هذه؟\n",
            "Iteration num: 100 , training loss: 0.28612592816352844\n",
            "English: you gotta keep going\n",
            "Arabic Translation: عليك أن تستمر بالهرب\n",
            "Arabic Prediction: عليك أن تستمر بالهربي\n",
            "Iteration num: 200 , training loss: 0.293411523103714\n",
            "English: i did\n",
            "Arabic Translation: نعم فعلت\n",
            "Arabic Prediction: نعم فعل\n",
            "Iteration num: 300 , training loss: 0.3103214502334595\n",
            "English: its here its here\n",
            "Arabic Translation: \"إنها هنا، إنها هنا\"\n",
            "Arabic Prediction: \"إنها هنا، إنها هنا\n",
            "Iteration num: 400 , training loss: 0.3039594888687134\n",
            "English: garrett was a madman\n",
            "Arabic Translation: \"غاريت\" كان مجنونا\n",
            "Arabic Prediction: \"غاريت\" كان مجنونا\n",
            "Iteration num: 500 , training loss: 0.3061317205429077\n",
            "English:  youre sorry\n",
            "Arabic Translation: -أنت آسف؟\n",
            "Arabic Prediction: -أنت آسف؟\n"
          ]
        }
      ],
      "source": [
        "transformer.train()\n",
        "transformer.to(device)\n",
        "total_loss = 0\n",
        "\n",
        "for epoch in range(num_epochs):\n",
        "    print(f\"Epoch {epoch}\")\n",
        "    iterator = iter(train_loader)\n",
        "    print(len(iterator))\n",
        "    for batch_num, batch in enumerate(iterator):\n",
        "        transformer.train()\n",
        "        eng_batch, ar_batch = batch\n",
        "        optim.zero_grad()\n",
        "        if(len(ar_batch)!=batch_size): break\n",
        "        ar_predictions = transformer(eng_batch,ar_batch)\n",
        "        labels = transformer.dec_sentence_embedding.batch_tokenize(ar_batch, start_token=False, end_token=True)\n",
        "        loss = criterian(\n",
        "            ar_predictions.view(-1, len(arabic_voc)).to(device),\n",
        "            labels.view(-1).to(device)\n",
        "        ).to(device)\n",
        "        valid_indicies = torch.where(labels.view(-1) == arabic_to_index[PADDING_TOKEN], False, True)\n",
        "        loss = loss.sum() / valid_indicies.sum()\n",
        "        loss.backward()\n",
        "        optim.step()\n",
        "        #train_losses.append(loss.item())\n",
        "        if batch_num % 100 == 0:\n",
        "            print(f\"Iteration num: {batch_num} , training loss: {loss.item()}\")\n",
        "            print(f\"English: {eng_batch[0]}\")\n",
        "            print(f\"Arabic Translation: {ar_batch[0]}\")\n",
        "            ar_sentence_predicted = torch.argmax(ar_predictions[0], axis=1)\n",
        "            predicted_sentence = \"\"\n",
        "            for idx in ar_sentence_predicted:\n",
        "              if idx == arabic_to_index[END_TOKEN]:\n",
        "                break\n",
        "              predicted_sentence += index_to_arabic[idx.item()]\n",
        "            print(f\"Arabic Prediction: {predicted_sentence}\")\n",
        "\n",
        "            transformer.eval()\n"
      ]
    }
  ],
  "metadata": {
    "accelerator": "GPU",
    "colab": {
      "gpuType": "T4",
      "provenance": []
    },
    "kernelspec": {
      "display_name": "Python 3",
      "name": "python3"
    },
    "language_info": {
      "codemirror_mode": {
        "name": "ipython",
        "version": 3
      },
      "file_extension": ".py",
      "mimetype": "text/x-python",
      "name": "python",
      "nbconvert_exporter": "python",
      "pygments_lexer": "ipython3",
      "version": "3.11.7"
    }
  },
  "nbformat": 4,
  "nbformat_minor": 5
>>>>>>> 3af5beeed4bf7319106c0e06f3e762a63215cba1
}
