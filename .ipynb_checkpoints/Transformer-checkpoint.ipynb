{
 "cells": [
  {
   "cell_type": "code",
   "execution_count": null,
   "id": "298035d4-5673-4977-8393-262f92cc7265",
   "metadata": {},
   "outputs": [],
   "source": []
  }
 ],
 "metadata": {
  "kernelspec": {
   "display_name": "",
   "name": ""
  },
  "language_info": {
   "name": ""
  }
 },
 "nbformat": 4,
 "nbformat_minor": 5
}
